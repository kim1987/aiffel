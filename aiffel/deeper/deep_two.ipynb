{
  "nbformat": 4,
  "nbformat_minor": 0,
  "metadata": {
    "colab": {
      "name": "Untitled0.ipynb",
      "provenance": [],
      "authorship_tag": "ABX9TyMxsMRYyF24JBkflIaR33N2",
      "include_colab_link": true
    },
    "kernelspec": {
      "name": "python3",
      "display_name": "Python 3"
    },
    "language_info": {
      "name": "python"
    },
    "accelerator": "GPU",
    "widgets": {
      "application/vnd.jupyter.widget-state+json": {
        "57009cd3ab9040df9d79efe4b00fac4a": {
          "model_module": "@jupyter-widgets/controls",
          "model_name": "HBoxModel",
          "model_module_version": "1.5.0",
          "state": {
            "_view_name": "HBoxView",
            "_dom_classes": [],
            "_model_name": "HBoxModel",
            "_view_module": "@jupyter-widgets/controls",
            "_model_module_version": "1.5.0",
            "_view_count": null,
            "_view_module_version": "1.5.0",
            "box_style": "",
            "layout": "IPY_MODEL_ba641d5931704eb691e1ffab82e77b71",
            "_model_module": "@jupyter-widgets/controls",
            "children": [
              "IPY_MODEL_e939762e9c8a4b5689e38743efa205a0",
              "IPY_MODEL_6ef90f71f5fb4498925f7bfe38b9e570",
              "IPY_MODEL_3bad82298dd04e9580b840a6182d9748"
            ]
          }
        },
        "ba641d5931704eb691e1ffab82e77b71": {
          "model_module": "@jupyter-widgets/base",
          "model_name": "LayoutModel",
          "model_module_version": "1.2.0",
          "state": {
            "_view_name": "LayoutView",
            "grid_template_rows": null,
            "right": null,
            "justify_content": null,
            "_view_module": "@jupyter-widgets/base",
            "overflow": null,
            "_model_module_version": "1.2.0",
            "_view_count": null,
            "flex_flow": null,
            "width": null,
            "min_width": null,
            "border": null,
            "align_items": null,
            "bottom": null,
            "_model_module": "@jupyter-widgets/base",
            "top": null,
            "grid_column": null,
            "overflow_y": null,
            "overflow_x": null,
            "grid_auto_flow": null,
            "grid_area": null,
            "grid_template_columns": null,
            "flex": null,
            "_model_name": "LayoutModel",
            "justify_items": null,
            "grid_row": null,
            "max_height": null,
            "align_content": null,
            "visibility": null,
            "align_self": null,
            "height": null,
            "min_height": null,
            "padding": null,
            "grid_auto_rows": null,
            "grid_gap": null,
            "max_width": null,
            "order": null,
            "_view_module_version": "1.2.0",
            "grid_template_areas": null,
            "object_position": null,
            "object_fit": null,
            "grid_auto_columns": null,
            "margin": null,
            "display": null,
            "left": null
          }
        },
        "e939762e9c8a4b5689e38743efa205a0": {
          "model_module": "@jupyter-widgets/controls",
          "model_name": "HTMLModel",
          "model_module_version": "1.5.0",
          "state": {
            "_view_name": "HTMLView",
            "style": "IPY_MODEL_7226ffa161e64da9a791b80cae8ce2b1",
            "_dom_classes": [],
            "description": "",
            "_model_name": "HTMLModel",
            "placeholder": "​",
            "_view_module": "@jupyter-widgets/controls",
            "_model_module_version": "1.5.0",
            "value": "100%",
            "_view_count": null,
            "_view_module_version": "1.5.0",
            "description_tooltip": null,
            "_model_module": "@jupyter-widgets/controls",
            "layout": "IPY_MODEL_7e6389ab2d2b4ac8bf6b26c8ae012d14"
          }
        },
        "6ef90f71f5fb4498925f7bfe38b9e570": {
          "model_module": "@jupyter-widgets/controls",
          "model_name": "FloatProgressModel",
          "model_module_version": "1.5.0",
          "state": {
            "_view_name": "ProgressView",
            "style": "IPY_MODEL_58833323cf3c4e5d9effe94104c79da3",
            "_dom_classes": [],
            "description": "",
            "_model_name": "FloatProgressModel",
            "bar_style": "success",
            "max": 1172,
            "_view_module": "@jupyter-widgets/controls",
            "_model_module_version": "1.5.0",
            "value": 1172,
            "_view_count": null,
            "_view_module_version": "1.5.0",
            "orientation": "horizontal",
            "min": 0,
            "description_tooltip": null,
            "_model_module": "@jupyter-widgets/controls",
            "layout": "IPY_MODEL_bfe52e62d5c546598bfa194f726bc897"
          }
        },
        "3bad82298dd04e9580b840a6182d9748": {
          "model_module": "@jupyter-widgets/controls",
          "model_name": "HTMLModel",
          "model_module_version": "1.5.0",
          "state": {
            "_view_name": "HTMLView",
            "style": "IPY_MODEL_0b0b81e38abc4ef5814c1a586de075ab",
            "_dom_classes": [],
            "description": "",
            "_model_name": "HTMLModel",
            "placeholder": "​",
            "_view_module": "@jupyter-widgets/controls",
            "_model_module_version": "1.5.0",
            "value": " 1172/1172 [00:31&lt;00:00, 37.56it/s]",
            "_view_count": null,
            "_view_module_version": "1.5.0",
            "description_tooltip": null,
            "_model_module": "@jupyter-widgets/controls",
            "layout": "IPY_MODEL_fa03ed89728b48ff92403282a6353569"
          }
        },
        "7226ffa161e64da9a791b80cae8ce2b1": {
          "model_module": "@jupyter-widgets/controls",
          "model_name": "DescriptionStyleModel",
          "model_module_version": "1.5.0",
          "state": {
            "_view_name": "StyleView",
            "_model_name": "DescriptionStyleModel",
            "description_width": "",
            "_view_module": "@jupyter-widgets/base",
            "_model_module_version": "1.5.0",
            "_view_count": null,
            "_view_module_version": "1.2.0",
            "_model_module": "@jupyter-widgets/controls"
          }
        },
        "7e6389ab2d2b4ac8bf6b26c8ae012d14": {
          "model_module": "@jupyter-widgets/base",
          "model_name": "LayoutModel",
          "model_module_version": "1.2.0",
          "state": {
            "_view_name": "LayoutView",
            "grid_template_rows": null,
            "right": null,
            "justify_content": null,
            "_view_module": "@jupyter-widgets/base",
            "overflow": null,
            "_model_module_version": "1.2.0",
            "_view_count": null,
            "flex_flow": null,
            "width": null,
            "min_width": null,
            "border": null,
            "align_items": null,
            "bottom": null,
            "_model_module": "@jupyter-widgets/base",
            "top": null,
            "grid_column": null,
            "overflow_y": null,
            "overflow_x": null,
            "grid_auto_flow": null,
            "grid_area": null,
            "grid_template_columns": null,
            "flex": null,
            "_model_name": "LayoutModel",
            "justify_items": null,
            "grid_row": null,
            "max_height": null,
            "align_content": null,
            "visibility": null,
            "align_self": null,
            "height": null,
            "min_height": null,
            "padding": null,
            "grid_auto_rows": null,
            "grid_gap": null,
            "max_width": null,
            "order": null,
            "_view_module_version": "1.2.0",
            "grid_template_areas": null,
            "object_position": null,
            "object_fit": null,
            "grid_auto_columns": null,
            "margin": null,
            "display": null,
            "left": null
          }
        },
        "58833323cf3c4e5d9effe94104c79da3": {
          "model_module": "@jupyter-widgets/controls",
          "model_name": "ProgressStyleModel",
          "model_module_version": "1.5.0",
          "state": {
            "_view_name": "StyleView",
            "_model_name": "ProgressStyleModel",
            "description_width": "",
            "_view_module": "@jupyter-widgets/base",
            "_model_module_version": "1.5.0",
            "_view_count": null,
            "_view_module_version": "1.2.0",
            "bar_color": null,
            "_model_module": "@jupyter-widgets/controls"
          }
        },
        "bfe52e62d5c546598bfa194f726bc897": {
          "model_module": "@jupyter-widgets/base",
          "model_name": "LayoutModel",
          "model_module_version": "1.2.0",
          "state": {
            "_view_name": "LayoutView",
            "grid_template_rows": null,
            "right": null,
            "justify_content": null,
            "_view_module": "@jupyter-widgets/base",
            "overflow": null,
            "_model_module_version": "1.2.0",
            "_view_count": null,
            "flex_flow": null,
            "width": null,
            "min_width": null,
            "border": null,
            "align_items": null,
            "bottom": null,
            "_model_module": "@jupyter-widgets/base",
            "top": null,
            "grid_column": null,
            "overflow_y": null,
            "overflow_x": null,
            "grid_auto_flow": null,
            "grid_area": null,
            "grid_template_columns": null,
            "flex": null,
            "_model_name": "LayoutModel",
            "justify_items": null,
            "grid_row": null,
            "max_height": null,
            "align_content": null,
            "visibility": null,
            "align_self": null,
            "height": null,
            "min_height": null,
            "padding": null,
            "grid_auto_rows": null,
            "grid_gap": null,
            "max_width": null,
            "order": null,
            "_view_module_version": "1.2.0",
            "grid_template_areas": null,
            "object_position": null,
            "object_fit": null,
            "grid_auto_columns": null,
            "margin": null,
            "display": null,
            "left": null
          }
        },
        "0b0b81e38abc4ef5814c1a586de075ab": {
          "model_module": "@jupyter-widgets/controls",
          "model_name": "DescriptionStyleModel",
          "model_module_version": "1.5.0",
          "state": {
            "_view_name": "StyleView",
            "_model_name": "DescriptionStyleModel",
            "description_width": "",
            "_view_module": "@jupyter-widgets/base",
            "_model_module_version": "1.5.0",
            "_view_count": null,
            "_view_module_version": "1.2.0",
            "_model_module": "@jupyter-widgets/controls"
          }
        },
        "fa03ed89728b48ff92403282a6353569": {
          "model_module": "@jupyter-widgets/base",
          "model_name": "LayoutModel",
          "model_module_version": "1.2.0",
          "state": {
            "_view_name": "LayoutView",
            "grid_template_rows": null,
            "right": null,
            "justify_content": null,
            "_view_module": "@jupyter-widgets/base",
            "overflow": null,
            "_model_module_version": "1.2.0",
            "_view_count": null,
            "flex_flow": null,
            "width": null,
            "min_width": null,
            "border": null,
            "align_items": null,
            "bottom": null,
            "_model_module": "@jupyter-widgets/base",
            "top": null,
            "grid_column": null,
            "overflow_y": null,
            "overflow_x": null,
            "grid_auto_flow": null,
            "grid_area": null,
            "grid_template_columns": null,
            "flex": null,
            "_model_name": "LayoutModel",
            "justify_items": null,
            "grid_row": null,
            "max_height": null,
            "align_content": null,
            "visibility": null,
            "align_self": null,
            "height": null,
            "min_height": null,
            "padding": null,
            "grid_auto_rows": null,
            "grid_gap": null,
            "max_width": null,
            "order": null,
            "_view_module_version": "1.2.0",
            "grid_template_areas": null,
            "object_position": null,
            "object_fit": null,
            "grid_auto_columns": null,
            "margin": null,
            "display": null,
            "left": null
          }
        },
        "7fa686fc5ac4499e82597be8a1c1720d": {
          "model_module": "@jupyter-widgets/controls",
          "model_name": "HBoxModel",
          "model_module_version": "1.5.0",
          "state": {
            "_view_name": "HBoxView",
            "_dom_classes": [],
            "_model_name": "HBoxModel",
            "_view_module": "@jupyter-widgets/controls",
            "_model_module_version": "1.5.0",
            "_view_count": null,
            "_view_module_version": "1.5.0",
            "box_style": "",
            "layout": "IPY_MODEL_51ce5dc4e19b48cf98035496e1da0108",
            "_model_module": "@jupyter-widgets/controls",
            "children": [
              "IPY_MODEL_d72cffd10b474f44b05e80f61a201901",
              "IPY_MODEL_258a5ad0db8c4d5a8207dd0f2cb4d966",
              "IPY_MODEL_2705a4c56ab64f27bb09342747aa9c2c"
            ]
          }
        },
        "51ce5dc4e19b48cf98035496e1da0108": {
          "model_module": "@jupyter-widgets/base",
          "model_name": "LayoutModel",
          "model_module_version": "1.2.0",
          "state": {
            "_view_name": "LayoutView",
            "grid_template_rows": null,
            "right": null,
            "justify_content": null,
            "_view_module": "@jupyter-widgets/base",
            "overflow": null,
            "_model_module_version": "1.2.0",
            "_view_count": null,
            "flex_flow": null,
            "width": null,
            "min_width": null,
            "border": null,
            "align_items": null,
            "bottom": null,
            "_model_module": "@jupyter-widgets/base",
            "top": null,
            "grid_column": null,
            "overflow_y": null,
            "overflow_x": null,
            "grid_auto_flow": null,
            "grid_area": null,
            "grid_template_columns": null,
            "flex": null,
            "_model_name": "LayoutModel",
            "justify_items": null,
            "grid_row": null,
            "max_height": null,
            "align_content": null,
            "visibility": null,
            "align_self": null,
            "height": null,
            "min_height": null,
            "padding": null,
            "grid_auto_rows": null,
            "grid_gap": null,
            "max_width": null,
            "order": null,
            "_view_module_version": "1.2.0",
            "grid_template_areas": null,
            "object_position": null,
            "object_fit": null,
            "grid_auto_columns": null,
            "margin": null,
            "display": null,
            "left": null
          }
        },
        "d72cffd10b474f44b05e80f61a201901": {
          "model_module": "@jupyter-widgets/controls",
          "model_name": "HTMLModel",
          "model_module_version": "1.5.0",
          "state": {
            "_view_name": "HTMLView",
            "style": "IPY_MODEL_b15a146ad481440580539c2a18746086",
            "_dom_classes": [],
            "description": "",
            "_model_name": "HTMLModel",
            "placeholder": "​",
            "_view_module": "@jupyter-widgets/controls",
            "_model_module_version": "1.5.0",
            "value": "100%",
            "_view_count": null,
            "_view_module_version": "1.5.0",
            "description_tooltip": null,
            "_model_module": "@jupyter-widgets/controls",
            "layout": "IPY_MODEL_bc71bdf9ecfb46ef9bec29758373c4b8"
          }
        },
        "258a5ad0db8c4d5a8207dd0f2cb4d966": {
          "model_module": "@jupyter-widgets/controls",
          "model_name": "FloatProgressModel",
          "model_module_version": "1.5.0",
          "state": {
            "_view_name": "ProgressView",
            "style": "IPY_MODEL_374822015ef44276a334b9cc7fe62397",
            "_dom_classes": [],
            "description": "",
            "_model_name": "FloatProgressModel",
            "bar_style": "success",
            "max": 1172,
            "_view_module": "@jupyter-widgets/controls",
            "_model_module_version": "1.5.0",
            "value": 1172,
            "_view_count": null,
            "_view_module_version": "1.5.0",
            "orientation": "horizontal",
            "min": 0,
            "description_tooltip": null,
            "_model_module": "@jupyter-widgets/controls",
            "layout": "IPY_MODEL_f428cc4cf8a04f7f85ec64d5e9c76fee"
          }
        },
        "2705a4c56ab64f27bb09342747aa9c2c": {
          "model_module": "@jupyter-widgets/controls",
          "model_name": "HTMLModel",
          "model_module_version": "1.5.0",
          "state": {
            "_view_name": "HTMLView",
            "style": "IPY_MODEL_f55a697cbc48439bbb0999edfe6d6788",
            "_dom_classes": [],
            "description": "",
            "_model_name": "HTMLModel",
            "placeholder": "​",
            "_view_module": "@jupyter-widgets/controls",
            "_model_module_version": "1.5.0",
            "value": " 1172/1172 [00:30&lt;00:00, 38.15it/s]",
            "_view_count": null,
            "_view_module_version": "1.5.0",
            "description_tooltip": null,
            "_model_module": "@jupyter-widgets/controls",
            "layout": "IPY_MODEL_8ab7c9d17664411d90694c5b36be92e4"
          }
        },
        "b15a146ad481440580539c2a18746086": {
          "model_module": "@jupyter-widgets/controls",
          "model_name": "DescriptionStyleModel",
          "model_module_version": "1.5.0",
          "state": {
            "_view_name": "StyleView",
            "_model_name": "DescriptionStyleModel",
            "description_width": "",
            "_view_module": "@jupyter-widgets/base",
            "_model_module_version": "1.5.0",
            "_view_count": null,
            "_view_module_version": "1.2.0",
            "_model_module": "@jupyter-widgets/controls"
          }
        },
        "bc71bdf9ecfb46ef9bec29758373c4b8": {
          "model_module": "@jupyter-widgets/base",
          "model_name": "LayoutModel",
          "model_module_version": "1.2.0",
          "state": {
            "_view_name": "LayoutView",
            "grid_template_rows": null,
            "right": null,
            "justify_content": null,
            "_view_module": "@jupyter-widgets/base",
            "overflow": null,
            "_model_module_version": "1.2.0",
            "_view_count": null,
            "flex_flow": null,
            "width": null,
            "min_width": null,
            "border": null,
            "align_items": null,
            "bottom": null,
            "_model_module": "@jupyter-widgets/base",
            "top": null,
            "grid_column": null,
            "overflow_y": null,
            "overflow_x": null,
            "grid_auto_flow": null,
            "grid_area": null,
            "grid_template_columns": null,
            "flex": null,
            "_model_name": "LayoutModel",
            "justify_items": null,
            "grid_row": null,
            "max_height": null,
            "align_content": null,
            "visibility": null,
            "align_self": null,
            "height": null,
            "min_height": null,
            "padding": null,
            "grid_auto_rows": null,
            "grid_gap": null,
            "max_width": null,
            "order": null,
            "_view_module_version": "1.2.0",
            "grid_template_areas": null,
            "object_position": null,
            "object_fit": null,
            "grid_auto_columns": null,
            "margin": null,
            "display": null,
            "left": null
          }
        },
        "374822015ef44276a334b9cc7fe62397": {
          "model_module": "@jupyter-widgets/controls",
          "model_name": "ProgressStyleModel",
          "model_module_version": "1.5.0",
          "state": {
            "_view_name": "StyleView",
            "_model_name": "ProgressStyleModel",
            "description_width": "",
            "_view_module": "@jupyter-widgets/base",
            "_model_module_version": "1.5.0",
            "_view_count": null,
            "_view_module_version": "1.2.0",
            "bar_color": null,
            "_model_module": "@jupyter-widgets/controls"
          }
        },
        "f428cc4cf8a04f7f85ec64d5e9c76fee": {
          "model_module": "@jupyter-widgets/base",
          "model_name": "LayoutModel",
          "model_module_version": "1.2.0",
          "state": {
            "_view_name": "LayoutView",
            "grid_template_rows": null,
            "right": null,
            "justify_content": null,
            "_view_module": "@jupyter-widgets/base",
            "overflow": null,
            "_model_module_version": "1.2.0",
            "_view_count": null,
            "flex_flow": null,
            "width": null,
            "min_width": null,
            "border": null,
            "align_items": null,
            "bottom": null,
            "_model_module": "@jupyter-widgets/base",
            "top": null,
            "grid_column": null,
            "overflow_y": null,
            "overflow_x": null,
            "grid_auto_flow": null,
            "grid_area": null,
            "grid_template_columns": null,
            "flex": null,
            "_model_name": "LayoutModel",
            "justify_items": null,
            "grid_row": null,
            "max_height": null,
            "align_content": null,
            "visibility": null,
            "align_self": null,
            "height": null,
            "min_height": null,
            "padding": null,
            "grid_auto_rows": null,
            "grid_gap": null,
            "max_width": null,
            "order": null,
            "_view_module_version": "1.2.0",
            "grid_template_areas": null,
            "object_position": null,
            "object_fit": null,
            "grid_auto_columns": null,
            "margin": null,
            "display": null,
            "left": null
          }
        },
        "f55a697cbc48439bbb0999edfe6d6788": {
          "model_module": "@jupyter-widgets/controls",
          "model_name": "DescriptionStyleModel",
          "model_module_version": "1.5.0",
          "state": {
            "_view_name": "StyleView",
            "_model_name": "DescriptionStyleModel",
            "description_width": "",
            "_view_module": "@jupyter-widgets/base",
            "_model_module_version": "1.5.0",
            "_view_count": null,
            "_view_module_version": "1.2.0",
            "_model_module": "@jupyter-widgets/controls"
          }
        },
        "8ab7c9d17664411d90694c5b36be92e4": {
          "model_module": "@jupyter-widgets/base",
          "model_name": "LayoutModel",
          "model_module_version": "1.2.0",
          "state": {
            "_view_name": "LayoutView",
            "grid_template_rows": null,
            "right": null,
            "justify_content": null,
            "_view_module": "@jupyter-widgets/base",
            "overflow": null,
            "_model_module_version": "1.2.0",
            "_view_count": null,
            "flex_flow": null,
            "width": null,
            "min_width": null,
            "border": null,
            "align_items": null,
            "bottom": null,
            "_model_module": "@jupyter-widgets/base",
            "top": null,
            "grid_column": null,
            "overflow_y": null,
            "overflow_x": null,
            "grid_auto_flow": null,
            "grid_area": null,
            "grid_template_columns": null,
            "flex": null,
            "_model_name": "LayoutModel",
            "justify_items": null,
            "grid_row": null,
            "max_height": null,
            "align_content": null,
            "visibility": null,
            "align_self": null,
            "height": null,
            "min_height": null,
            "padding": null,
            "grid_auto_rows": null,
            "grid_gap": null,
            "max_width": null,
            "order": null,
            "_view_module_version": "1.2.0",
            "grid_template_areas": null,
            "object_position": null,
            "object_fit": null,
            "grid_auto_columns": null,
            "margin": null,
            "display": null,
            "left": null
          }
        },
        "8ba3e87cb9574ca88b8943ce3b69692d": {
          "model_module": "@jupyter-widgets/controls",
          "model_name": "HBoxModel",
          "model_module_version": "1.5.0",
          "state": {
            "_view_name": "HBoxView",
            "_dom_classes": [],
            "_model_name": "HBoxModel",
            "_view_module": "@jupyter-widgets/controls",
            "_model_module_version": "1.5.0",
            "_view_count": null,
            "_view_module_version": "1.5.0",
            "box_style": "",
            "layout": "IPY_MODEL_a5a04bc51786443fb2b993e9ec674328",
            "_model_module": "@jupyter-widgets/controls",
            "children": [
              "IPY_MODEL_a5f72c6a19224bc1b9d56efbbc5b2082",
              "IPY_MODEL_50e646abdabd439d9557138e55a08b63",
              "IPY_MODEL_9857cf8fccf841fab76375076a37d345"
            ]
          }
        },
        "a5a04bc51786443fb2b993e9ec674328": {
          "model_module": "@jupyter-widgets/base",
          "model_name": "LayoutModel",
          "model_module_version": "1.2.0",
          "state": {
            "_view_name": "LayoutView",
            "grid_template_rows": null,
            "right": null,
            "justify_content": null,
            "_view_module": "@jupyter-widgets/base",
            "overflow": null,
            "_model_module_version": "1.2.0",
            "_view_count": null,
            "flex_flow": null,
            "width": null,
            "min_width": null,
            "border": null,
            "align_items": null,
            "bottom": null,
            "_model_module": "@jupyter-widgets/base",
            "top": null,
            "grid_column": null,
            "overflow_y": null,
            "overflow_x": null,
            "grid_auto_flow": null,
            "grid_area": null,
            "grid_template_columns": null,
            "flex": null,
            "_model_name": "LayoutModel",
            "justify_items": null,
            "grid_row": null,
            "max_height": null,
            "align_content": null,
            "visibility": null,
            "align_self": null,
            "height": null,
            "min_height": null,
            "padding": null,
            "grid_auto_rows": null,
            "grid_gap": null,
            "max_width": null,
            "order": null,
            "_view_module_version": "1.2.0",
            "grid_template_areas": null,
            "object_position": null,
            "object_fit": null,
            "grid_auto_columns": null,
            "margin": null,
            "display": null,
            "left": null
          }
        },
        "a5f72c6a19224bc1b9d56efbbc5b2082": {
          "model_module": "@jupyter-widgets/controls",
          "model_name": "HTMLModel",
          "model_module_version": "1.5.0",
          "state": {
            "_view_name": "HTMLView",
            "style": "IPY_MODEL_37ff6372de0e404bb3d9573b8f0f0c67",
            "_dom_classes": [],
            "description": "",
            "_model_name": "HTMLModel",
            "placeholder": "​",
            "_view_module": "@jupyter-widgets/controls",
            "_model_module_version": "1.5.0",
            "value": "100%",
            "_view_count": null,
            "_view_module_version": "1.5.0",
            "description_tooltip": null,
            "_model_module": "@jupyter-widgets/controls",
            "layout": "IPY_MODEL_3a9d6373f5694fe29397d61cdb72a75c"
          }
        },
        "50e646abdabd439d9557138e55a08b63": {
          "model_module": "@jupyter-widgets/controls",
          "model_name": "FloatProgressModel",
          "model_module_version": "1.5.0",
          "state": {
            "_view_name": "ProgressView",
            "style": "IPY_MODEL_cc229892485143b1ad5b8e3c7d921fe5",
            "_dom_classes": [],
            "description": "",
            "_model_name": "FloatProgressModel",
            "bar_style": "success",
            "max": 1172,
            "_view_module": "@jupyter-widgets/controls",
            "_model_module_version": "1.5.0",
            "value": 1172,
            "_view_count": null,
            "_view_module_version": "1.5.0",
            "orientation": "horizontal",
            "min": 0,
            "description_tooltip": null,
            "_model_module": "@jupyter-widgets/controls",
            "layout": "IPY_MODEL_f3d42b8b21864c99a9288874374e128f"
          }
        },
        "9857cf8fccf841fab76375076a37d345": {
          "model_module": "@jupyter-widgets/controls",
          "model_name": "HTMLModel",
          "model_module_version": "1.5.0",
          "state": {
            "_view_name": "HTMLView",
            "style": "IPY_MODEL_29c77324dbc246cd9e2feee57dbd2e72",
            "_dom_classes": [],
            "description": "",
            "_model_name": "HTMLModel",
            "placeholder": "​",
            "_view_module": "@jupyter-widgets/controls",
            "_model_module_version": "1.5.0",
            "value": " 1172/1172 [00:31&lt;00:00, 37.63it/s]",
            "_view_count": null,
            "_view_module_version": "1.5.0",
            "description_tooltip": null,
            "_model_module": "@jupyter-widgets/controls",
            "layout": "IPY_MODEL_cbef5661c56c457295e9634d9288ec6f"
          }
        },
        "37ff6372de0e404bb3d9573b8f0f0c67": {
          "model_module": "@jupyter-widgets/controls",
          "model_name": "DescriptionStyleModel",
          "model_module_version": "1.5.0",
          "state": {
            "_view_name": "StyleView",
            "_model_name": "DescriptionStyleModel",
            "description_width": "",
            "_view_module": "@jupyter-widgets/base",
            "_model_module_version": "1.5.0",
            "_view_count": null,
            "_view_module_version": "1.2.0",
            "_model_module": "@jupyter-widgets/controls"
          }
        },
        "3a9d6373f5694fe29397d61cdb72a75c": {
          "model_module": "@jupyter-widgets/base",
          "model_name": "LayoutModel",
          "model_module_version": "1.2.0",
          "state": {
            "_view_name": "LayoutView",
            "grid_template_rows": null,
            "right": null,
            "justify_content": null,
            "_view_module": "@jupyter-widgets/base",
            "overflow": null,
            "_model_module_version": "1.2.0",
            "_view_count": null,
            "flex_flow": null,
            "width": null,
            "min_width": null,
            "border": null,
            "align_items": null,
            "bottom": null,
            "_model_module": "@jupyter-widgets/base",
            "top": null,
            "grid_column": null,
            "overflow_y": null,
            "overflow_x": null,
            "grid_auto_flow": null,
            "grid_area": null,
            "grid_template_columns": null,
            "flex": null,
            "_model_name": "LayoutModel",
            "justify_items": null,
            "grid_row": null,
            "max_height": null,
            "align_content": null,
            "visibility": null,
            "align_self": null,
            "height": null,
            "min_height": null,
            "padding": null,
            "grid_auto_rows": null,
            "grid_gap": null,
            "max_width": null,
            "order": null,
            "_view_module_version": "1.2.0",
            "grid_template_areas": null,
            "object_position": null,
            "object_fit": null,
            "grid_auto_columns": null,
            "margin": null,
            "display": null,
            "left": null
          }
        },
        "cc229892485143b1ad5b8e3c7d921fe5": {
          "model_module": "@jupyter-widgets/controls",
          "model_name": "ProgressStyleModel",
          "model_module_version": "1.5.0",
          "state": {
            "_view_name": "StyleView",
            "_model_name": "ProgressStyleModel",
            "description_width": "",
            "_view_module": "@jupyter-widgets/base",
            "_model_module_version": "1.5.0",
            "_view_count": null,
            "_view_module_version": "1.2.0",
            "bar_color": null,
            "_model_module": "@jupyter-widgets/controls"
          }
        },
        "f3d42b8b21864c99a9288874374e128f": {
          "model_module": "@jupyter-widgets/base",
          "model_name": "LayoutModel",
          "model_module_version": "1.2.0",
          "state": {
            "_view_name": "LayoutView",
            "grid_template_rows": null,
            "right": null,
            "justify_content": null,
            "_view_module": "@jupyter-widgets/base",
            "overflow": null,
            "_model_module_version": "1.2.0",
            "_view_count": null,
            "flex_flow": null,
            "width": null,
            "min_width": null,
            "border": null,
            "align_items": null,
            "bottom": null,
            "_model_module": "@jupyter-widgets/base",
            "top": null,
            "grid_column": null,
            "overflow_y": null,
            "overflow_x": null,
            "grid_auto_flow": null,
            "grid_area": null,
            "grid_template_columns": null,
            "flex": null,
            "_model_name": "LayoutModel",
            "justify_items": null,
            "grid_row": null,
            "max_height": null,
            "align_content": null,
            "visibility": null,
            "align_self": null,
            "height": null,
            "min_height": null,
            "padding": null,
            "grid_auto_rows": null,
            "grid_gap": null,
            "max_width": null,
            "order": null,
            "_view_module_version": "1.2.0",
            "grid_template_areas": null,
            "object_position": null,
            "object_fit": null,
            "grid_auto_columns": null,
            "margin": null,
            "display": null,
            "left": null
          }
        },
        "29c77324dbc246cd9e2feee57dbd2e72": {
          "model_module": "@jupyter-widgets/controls",
          "model_name": "DescriptionStyleModel",
          "model_module_version": "1.5.0",
          "state": {
            "_view_name": "StyleView",
            "_model_name": "DescriptionStyleModel",
            "description_width": "",
            "_view_module": "@jupyter-widgets/base",
            "_model_module_version": "1.5.0",
            "_view_count": null,
            "_view_module_version": "1.2.0",
            "_model_module": "@jupyter-widgets/controls"
          }
        },
        "cbef5661c56c457295e9634d9288ec6f": {
          "model_module": "@jupyter-widgets/base",
          "model_name": "LayoutModel",
          "model_module_version": "1.2.0",
          "state": {
            "_view_name": "LayoutView",
            "grid_template_rows": null,
            "right": null,
            "justify_content": null,
            "_view_module": "@jupyter-widgets/base",
            "overflow": null,
            "_model_module_version": "1.2.0",
            "_view_count": null,
            "flex_flow": null,
            "width": null,
            "min_width": null,
            "border": null,
            "align_items": null,
            "bottom": null,
            "_model_module": "@jupyter-widgets/base",
            "top": null,
            "grid_column": null,
            "overflow_y": null,
            "overflow_x": null,
            "grid_auto_flow": null,
            "grid_area": null,
            "grid_template_columns": null,
            "flex": null,
            "_model_name": "LayoutModel",
            "justify_items": null,
            "grid_row": null,
            "max_height": null,
            "align_content": null,
            "visibility": null,
            "align_self": null,
            "height": null,
            "min_height": null,
            "padding": null,
            "grid_auto_rows": null,
            "grid_gap": null,
            "max_width": null,
            "order": null,
            "_view_module_version": "1.2.0",
            "grid_template_areas": null,
            "object_position": null,
            "object_fit": null,
            "grid_auto_columns": null,
            "margin": null,
            "display": null,
            "left": null
          }
        },
        "0b296e86e7aa4479962579308c17a4cc": {
          "model_module": "@jupyter-widgets/controls",
          "model_name": "HBoxModel",
          "model_module_version": "1.5.0",
          "state": {
            "_view_name": "HBoxView",
            "_dom_classes": [],
            "_model_name": "HBoxModel",
            "_view_module": "@jupyter-widgets/controls",
            "_model_module_version": "1.5.0",
            "_view_count": null,
            "_view_module_version": "1.5.0",
            "box_style": "",
            "layout": "IPY_MODEL_c4c11e7f72274648aad814523c1919dd",
            "_model_module": "@jupyter-widgets/controls",
            "children": [
              "IPY_MODEL_9c6dbe428511415cb753a250cfc399a4",
              "IPY_MODEL_c980d5f8a75e423cb02bc75d5e3e7dd6",
              "IPY_MODEL_4e723998d2ed4f2b8e7df79106572ed7"
            ]
          }
        },
        "c4c11e7f72274648aad814523c1919dd": {
          "model_module": "@jupyter-widgets/base",
          "model_name": "LayoutModel",
          "model_module_version": "1.2.0",
          "state": {
            "_view_name": "LayoutView",
            "grid_template_rows": null,
            "right": null,
            "justify_content": null,
            "_view_module": "@jupyter-widgets/base",
            "overflow": null,
            "_model_module_version": "1.2.0",
            "_view_count": null,
            "flex_flow": null,
            "width": null,
            "min_width": null,
            "border": null,
            "align_items": null,
            "bottom": null,
            "_model_module": "@jupyter-widgets/base",
            "top": null,
            "grid_column": null,
            "overflow_y": null,
            "overflow_x": null,
            "grid_auto_flow": null,
            "grid_area": null,
            "grid_template_columns": null,
            "flex": null,
            "_model_name": "LayoutModel",
            "justify_items": null,
            "grid_row": null,
            "max_height": null,
            "align_content": null,
            "visibility": null,
            "align_self": null,
            "height": null,
            "min_height": null,
            "padding": null,
            "grid_auto_rows": null,
            "grid_gap": null,
            "max_width": null,
            "order": null,
            "_view_module_version": "1.2.0",
            "grid_template_areas": null,
            "object_position": null,
            "object_fit": null,
            "grid_auto_columns": null,
            "margin": null,
            "display": null,
            "left": null
          }
        },
        "9c6dbe428511415cb753a250cfc399a4": {
          "model_module": "@jupyter-widgets/controls",
          "model_name": "HTMLModel",
          "model_module_version": "1.5.0",
          "state": {
            "_view_name": "HTMLView",
            "style": "IPY_MODEL_99612fffd50e46ff97e4c063cf40fad9",
            "_dom_classes": [],
            "description": "",
            "_model_name": "HTMLModel",
            "placeholder": "​",
            "_view_module": "@jupyter-widgets/controls",
            "_model_module_version": "1.5.0",
            "value": "100%",
            "_view_count": null,
            "_view_module_version": "1.5.0",
            "description_tooltip": null,
            "_model_module": "@jupyter-widgets/controls",
            "layout": "IPY_MODEL_902c50c710454a2c99b531407d321f7f"
          }
        },
        "c980d5f8a75e423cb02bc75d5e3e7dd6": {
          "model_module": "@jupyter-widgets/controls",
          "model_name": "FloatProgressModel",
          "model_module_version": "1.5.0",
          "state": {
            "_view_name": "ProgressView",
            "style": "IPY_MODEL_3cd78ff4f6074d67a7d968668491d817",
            "_dom_classes": [],
            "description": "",
            "_model_name": "FloatProgressModel",
            "bar_style": "success",
            "max": 391,
            "_view_module": "@jupyter-widgets/controls",
            "_model_module_version": "1.5.0",
            "value": 391,
            "_view_count": null,
            "_view_module_version": "1.5.0",
            "orientation": "horizontal",
            "min": 0,
            "description_tooltip": null,
            "_model_module": "@jupyter-widgets/controls",
            "layout": "IPY_MODEL_4b64547d13e24a17aa7bc5346940fe99"
          }
        },
        "4e723998d2ed4f2b8e7df79106572ed7": {
          "model_module": "@jupyter-widgets/controls",
          "model_name": "HTMLModel",
          "model_module_version": "1.5.0",
          "state": {
            "_view_name": "HTMLView",
            "style": "IPY_MODEL_82a561ea967846c482c776a230638f1d",
            "_dom_classes": [],
            "description": "",
            "_model_name": "HTMLModel",
            "placeholder": "​",
            "_view_module": "@jupyter-widgets/controls",
            "_model_module_version": "1.5.0",
            "value": " 391/391 [00:04&lt;00:00, 75.54it/s]",
            "_view_count": null,
            "_view_module_version": "1.5.0",
            "description_tooltip": null,
            "_model_module": "@jupyter-widgets/controls",
            "layout": "IPY_MODEL_8486cab2c82b44578681f4cc11933767"
          }
        },
        "99612fffd50e46ff97e4c063cf40fad9": {
          "model_module": "@jupyter-widgets/controls",
          "model_name": "DescriptionStyleModel",
          "model_module_version": "1.5.0",
          "state": {
            "_view_name": "StyleView",
            "_model_name": "DescriptionStyleModel",
            "description_width": "",
            "_view_module": "@jupyter-widgets/base",
            "_model_module_version": "1.5.0",
            "_view_count": null,
            "_view_module_version": "1.2.0",
            "_model_module": "@jupyter-widgets/controls"
          }
        },
        "902c50c710454a2c99b531407d321f7f": {
          "model_module": "@jupyter-widgets/base",
          "model_name": "LayoutModel",
          "model_module_version": "1.2.0",
          "state": {
            "_view_name": "LayoutView",
            "grid_template_rows": null,
            "right": null,
            "justify_content": null,
            "_view_module": "@jupyter-widgets/base",
            "overflow": null,
            "_model_module_version": "1.2.0",
            "_view_count": null,
            "flex_flow": null,
            "width": null,
            "min_width": null,
            "border": null,
            "align_items": null,
            "bottom": null,
            "_model_module": "@jupyter-widgets/base",
            "top": null,
            "grid_column": null,
            "overflow_y": null,
            "overflow_x": null,
            "grid_auto_flow": null,
            "grid_area": null,
            "grid_template_columns": null,
            "flex": null,
            "_model_name": "LayoutModel",
            "justify_items": null,
            "grid_row": null,
            "max_height": null,
            "align_content": null,
            "visibility": null,
            "align_self": null,
            "height": null,
            "min_height": null,
            "padding": null,
            "grid_auto_rows": null,
            "grid_gap": null,
            "max_width": null,
            "order": null,
            "_view_module_version": "1.2.0",
            "grid_template_areas": null,
            "object_position": null,
            "object_fit": null,
            "grid_auto_columns": null,
            "margin": null,
            "display": null,
            "left": null
          }
        },
        "3cd78ff4f6074d67a7d968668491d817": {
          "model_module": "@jupyter-widgets/controls",
          "model_name": "ProgressStyleModel",
          "model_module_version": "1.5.0",
          "state": {
            "_view_name": "StyleView",
            "_model_name": "ProgressStyleModel",
            "description_width": "",
            "_view_module": "@jupyter-widgets/base",
            "_model_module_version": "1.5.0",
            "_view_count": null,
            "_view_module_version": "1.2.0",
            "bar_color": null,
            "_model_module": "@jupyter-widgets/controls"
          }
        },
        "4b64547d13e24a17aa7bc5346940fe99": {
          "model_module": "@jupyter-widgets/base",
          "model_name": "LayoutModel",
          "model_module_version": "1.2.0",
          "state": {
            "_view_name": "LayoutView",
            "grid_template_rows": null,
            "right": null,
            "justify_content": null,
            "_view_module": "@jupyter-widgets/base",
            "overflow": null,
            "_model_module_version": "1.2.0",
            "_view_count": null,
            "flex_flow": null,
            "width": null,
            "min_width": null,
            "border": null,
            "align_items": null,
            "bottom": null,
            "_model_module": "@jupyter-widgets/base",
            "top": null,
            "grid_column": null,
            "overflow_y": null,
            "overflow_x": null,
            "grid_auto_flow": null,
            "grid_area": null,
            "grid_template_columns": null,
            "flex": null,
            "_model_name": "LayoutModel",
            "justify_items": null,
            "grid_row": null,
            "max_height": null,
            "align_content": null,
            "visibility": null,
            "align_self": null,
            "height": null,
            "min_height": null,
            "padding": null,
            "grid_auto_rows": null,
            "grid_gap": null,
            "max_width": null,
            "order": null,
            "_view_module_version": "1.2.0",
            "grid_template_areas": null,
            "object_position": null,
            "object_fit": null,
            "grid_auto_columns": null,
            "margin": null,
            "display": null,
            "left": null
          }
        },
        "82a561ea967846c482c776a230638f1d": {
          "model_module": "@jupyter-widgets/controls",
          "model_name": "DescriptionStyleModel",
          "model_module_version": "1.5.0",
          "state": {
            "_view_name": "StyleView",
            "_model_name": "DescriptionStyleModel",
            "description_width": "",
            "_view_module": "@jupyter-widgets/base",
            "_model_module_version": "1.5.0",
            "_view_count": null,
            "_view_module_version": "1.2.0",
            "_model_module": "@jupyter-widgets/controls"
          }
        },
        "8486cab2c82b44578681f4cc11933767": {
          "model_module": "@jupyter-widgets/base",
          "model_name": "LayoutModel",
          "model_module_version": "1.2.0",
          "state": {
            "_view_name": "LayoutView",
            "grid_template_rows": null,
            "right": null,
            "justify_content": null,
            "_view_module": "@jupyter-widgets/base",
            "overflow": null,
            "_model_module_version": "1.2.0",
            "_view_count": null,
            "flex_flow": null,
            "width": null,
            "min_width": null,
            "border": null,
            "align_items": null,
            "bottom": null,
            "_model_module": "@jupyter-widgets/base",
            "top": null,
            "grid_column": null,
            "overflow_y": null,
            "overflow_x": null,
            "grid_auto_flow": null,
            "grid_area": null,
            "grid_template_columns": null,
            "flex": null,
            "_model_name": "LayoutModel",
            "justify_items": null,
            "grid_row": null,
            "max_height": null,
            "align_content": null,
            "visibility": null,
            "align_self": null,
            "height": null,
            "min_height": null,
            "padding": null,
            "grid_auto_rows": null,
            "grid_gap": null,
            "max_width": null,
            "order": null,
            "_view_module_version": "1.2.0",
            "grid_template_areas": null,
            "object_position": null,
            "object_fit": null,
            "grid_auto_columns": null,
            "margin": null,
            "display": null,
            "left": null
          }
        }
      }
    }
  },
  "cells": [
    {
      "cell_type": "markdown",
      "metadata": {
        "id": "view-in-github",
        "colab_type": "text"
      },
      "source": [
        "<a href=\"https://colab.research.google.com/github/kim1987/aiffel/blob/main/aiffel/deeper/deep_two.ipynb\" target=\"_parent\"><img src=\"https://colab.research.google.com/assets/colab-badge.svg\" alt=\"Open In Colab\"/></a>"
      ]
    },
    {
      "cell_type": "code",
      "source": [
        "!pip install sentencepiece"
      ],
      "metadata": {
        "colab": {
          "base_uri": "https://localhost:8080/"
        },
        "id": "5gA4U54RpKwD",
        "outputId": "2a142aa2-cbce-4d2e-c49b-f751b0b500d4"
      },
      "execution_count": 1,
      "outputs": [
        {
          "output_type": "stream",
          "name": "stdout",
          "text": [
            "Collecting sentencepiece\n",
            "  Downloading sentencepiece-0.1.96-cp37-cp37m-manylinux_2_17_x86_64.manylinux2014_x86_64.whl (1.2 MB)\n",
            "\u001b[?25l\r\u001b[K     |▎                               | 10 kB 27.7 MB/s eta 0:00:01\r\u001b[K     |▌                               | 20 kB 32.3 MB/s eta 0:00:01\r\u001b[K     |▉                               | 30 kB 33.8 MB/s eta 0:00:01\r\u001b[K     |█                               | 40 kB 21.8 MB/s eta 0:00:01\r\u001b[K     |█▍                              | 51 kB 15.8 MB/s eta 0:00:01\r\u001b[K     |█▋                              | 61 kB 16.1 MB/s eta 0:00:01\r\u001b[K     |██                              | 71 kB 14.0 MB/s eta 0:00:01\r\u001b[K     |██▏                             | 81 kB 15.4 MB/s eta 0:00:01\r\u001b[K     |██▍                             | 92 kB 13.0 MB/s eta 0:00:01\r\u001b[K     |██▊                             | 102 kB 14.0 MB/s eta 0:00:01\r\u001b[K     |███                             | 112 kB 14.0 MB/s eta 0:00:01\r\u001b[K     |███▎                            | 122 kB 14.0 MB/s eta 0:00:01\r\u001b[K     |███▌                            | 133 kB 14.0 MB/s eta 0:00:01\r\u001b[K     |███▉                            | 143 kB 14.0 MB/s eta 0:00:01\r\u001b[K     |████                            | 153 kB 14.0 MB/s eta 0:00:01\r\u001b[K     |████▎                           | 163 kB 14.0 MB/s eta 0:00:01\r\u001b[K     |████▋                           | 174 kB 14.0 MB/s eta 0:00:01\r\u001b[K     |████▉                           | 184 kB 14.0 MB/s eta 0:00:01\r\u001b[K     |█████▏                          | 194 kB 14.0 MB/s eta 0:00:01\r\u001b[K     |█████▍                          | 204 kB 14.0 MB/s eta 0:00:01\r\u001b[K     |█████▊                          | 215 kB 14.0 MB/s eta 0:00:01\r\u001b[K     |██████                          | 225 kB 14.0 MB/s eta 0:00:01\r\u001b[K     |██████▏                         | 235 kB 14.0 MB/s eta 0:00:01\r\u001b[K     |██████▌                         | 245 kB 14.0 MB/s eta 0:00:01\r\u001b[K     |██████▊                         | 256 kB 14.0 MB/s eta 0:00:01\r\u001b[K     |███████                         | 266 kB 14.0 MB/s eta 0:00:01\r\u001b[K     |███████▎                        | 276 kB 14.0 MB/s eta 0:00:01\r\u001b[K     |███████▋                        | 286 kB 14.0 MB/s eta 0:00:01\r\u001b[K     |███████▉                        | 296 kB 14.0 MB/s eta 0:00:01\r\u001b[K     |████████                        | 307 kB 14.0 MB/s eta 0:00:01\r\u001b[K     |████████▍                       | 317 kB 14.0 MB/s eta 0:00:01\r\u001b[K     |████████▋                       | 327 kB 14.0 MB/s eta 0:00:01\r\u001b[K     |█████████                       | 337 kB 14.0 MB/s eta 0:00:01\r\u001b[K     |█████████▏                      | 348 kB 14.0 MB/s eta 0:00:01\r\u001b[K     |█████████▌                      | 358 kB 14.0 MB/s eta 0:00:01\r\u001b[K     |█████████▊                      | 368 kB 14.0 MB/s eta 0:00:01\r\u001b[K     |██████████                      | 378 kB 14.0 MB/s eta 0:00:01\r\u001b[K     |██████████▎                     | 389 kB 14.0 MB/s eta 0:00:01\r\u001b[K     |██████████▌                     | 399 kB 14.0 MB/s eta 0:00:01\r\u001b[K     |██████████▉                     | 409 kB 14.0 MB/s eta 0:00:01\r\u001b[K     |███████████                     | 419 kB 14.0 MB/s eta 0:00:01\r\u001b[K     |███████████▍                    | 430 kB 14.0 MB/s eta 0:00:01\r\u001b[K     |███████████▋                    | 440 kB 14.0 MB/s eta 0:00:01\r\u001b[K     |███████████▉                    | 450 kB 14.0 MB/s eta 0:00:01\r\u001b[K     |████████████▏                   | 460 kB 14.0 MB/s eta 0:00:01\r\u001b[K     |████████████▍                   | 471 kB 14.0 MB/s eta 0:00:01\r\u001b[K     |████████████▊                   | 481 kB 14.0 MB/s eta 0:00:01\r\u001b[K     |█████████████                   | 491 kB 14.0 MB/s eta 0:00:01\r\u001b[K     |█████████████▎                  | 501 kB 14.0 MB/s eta 0:00:01\r\u001b[K     |█████████████▌                  | 512 kB 14.0 MB/s eta 0:00:01\r\u001b[K     |█████████████▊                  | 522 kB 14.0 MB/s eta 0:00:01\r\u001b[K     |██████████████                  | 532 kB 14.0 MB/s eta 0:00:01\r\u001b[K     |██████████████▎                 | 542 kB 14.0 MB/s eta 0:00:01\r\u001b[K     |██████████████▋                 | 552 kB 14.0 MB/s eta 0:00:01\r\u001b[K     |██████████████▉                 | 563 kB 14.0 MB/s eta 0:00:01\r\u001b[K     |███████████████▏                | 573 kB 14.0 MB/s eta 0:00:01\r\u001b[K     |███████████████▍                | 583 kB 14.0 MB/s eta 0:00:01\r\u001b[K     |███████████████▋                | 593 kB 14.0 MB/s eta 0:00:01\r\u001b[K     |████████████████                | 604 kB 14.0 MB/s eta 0:00:01\r\u001b[K     |████████████████▏               | 614 kB 14.0 MB/s eta 0:00:01\r\u001b[K     |████████████████▌               | 624 kB 14.0 MB/s eta 0:00:01\r\u001b[K     |████████████████▊               | 634 kB 14.0 MB/s eta 0:00:01\r\u001b[K     |█████████████████               | 645 kB 14.0 MB/s eta 0:00:01\r\u001b[K     |█████████████████▎              | 655 kB 14.0 MB/s eta 0:00:01\r\u001b[K     |█████████████████▌              | 665 kB 14.0 MB/s eta 0:00:01\r\u001b[K     |█████████████████▉              | 675 kB 14.0 MB/s eta 0:00:01\r\u001b[K     |██████████████████              | 686 kB 14.0 MB/s eta 0:00:01\r\u001b[K     |██████████████████▍             | 696 kB 14.0 MB/s eta 0:00:01\r\u001b[K     |██████████████████▋             | 706 kB 14.0 MB/s eta 0:00:01\r\u001b[K     |███████████████████             | 716 kB 14.0 MB/s eta 0:00:01\r\u001b[K     |███████████████████▏            | 727 kB 14.0 MB/s eta 0:00:01\r\u001b[K     |███████████████████▍            | 737 kB 14.0 MB/s eta 0:00:01\r\u001b[K     |███████████████████▊            | 747 kB 14.0 MB/s eta 0:00:01\r\u001b[K     |████████████████████            | 757 kB 14.0 MB/s eta 0:00:01\r\u001b[K     |████████████████████▎           | 768 kB 14.0 MB/s eta 0:00:01\r\u001b[K     |████████████████████▌           | 778 kB 14.0 MB/s eta 0:00:01\r\u001b[K     |████████████████████▉           | 788 kB 14.0 MB/s eta 0:00:01\r\u001b[K     |█████████████████████           | 798 kB 14.0 MB/s eta 0:00:01\r\u001b[K     |█████████████████████▎          | 808 kB 14.0 MB/s eta 0:00:01\r\u001b[K     |█████████████████████▋          | 819 kB 14.0 MB/s eta 0:00:01\r\u001b[K     |█████████████████████▉          | 829 kB 14.0 MB/s eta 0:00:01\r\u001b[K     |██████████████████████▏         | 839 kB 14.0 MB/s eta 0:00:01\r\u001b[K     |██████████████████████▍         | 849 kB 14.0 MB/s eta 0:00:01\r\u001b[K     |██████████████████████▊         | 860 kB 14.0 MB/s eta 0:00:01\r\u001b[K     |███████████████████████         | 870 kB 14.0 MB/s eta 0:00:01\r\u001b[K     |███████████████████████▏        | 880 kB 14.0 MB/s eta 0:00:01\r\u001b[K     |███████████████████████▌        | 890 kB 14.0 MB/s eta 0:00:01\r\u001b[K     |███████████████████████▊        | 901 kB 14.0 MB/s eta 0:00:01\r\u001b[K     |████████████████████████        | 911 kB 14.0 MB/s eta 0:00:01\r\u001b[K     |████████████████████████▎       | 921 kB 14.0 MB/s eta 0:00:01\r\u001b[K     |████████████████████████▋       | 931 kB 14.0 MB/s eta 0:00:01\r\u001b[K     |████████████████████████▉       | 942 kB 14.0 MB/s eta 0:00:01\r\u001b[K     |█████████████████████████       | 952 kB 14.0 MB/s eta 0:00:01\r\u001b[K     |█████████████████████████▍      | 962 kB 14.0 MB/s eta 0:00:01\r\u001b[K     |█████████████████████████▋      | 972 kB 14.0 MB/s eta 0:00:01\r\u001b[K     |██████████████████████████      | 983 kB 14.0 MB/s eta 0:00:01\r\u001b[K     |██████████████████████████▏     | 993 kB 14.0 MB/s eta 0:00:01\r\u001b[K     |██████████████████████████▌     | 1.0 MB 14.0 MB/s eta 0:00:01\r\u001b[K     |██████████████████████████▊     | 1.0 MB 14.0 MB/s eta 0:00:01\r\u001b[K     |███████████████████████████     | 1.0 MB 14.0 MB/s eta 0:00:01\r\u001b[K     |███████████████████████████▎    | 1.0 MB 14.0 MB/s eta 0:00:01\r\u001b[K     |███████████████████████████▌    | 1.0 MB 14.0 MB/s eta 0:00:01\r\u001b[K     |███████████████████████████▉    | 1.1 MB 14.0 MB/s eta 0:00:01\r\u001b[K     |████████████████████████████    | 1.1 MB 14.0 MB/s eta 0:00:01\r\u001b[K     |████████████████████████████▍   | 1.1 MB 14.0 MB/s eta 0:00:01\r\u001b[K     |████████████████████████████▋   | 1.1 MB 14.0 MB/s eta 0:00:01\r\u001b[K     |████████████████████████████▉   | 1.1 MB 14.0 MB/s eta 0:00:01\r\u001b[K     |█████████████████████████████▏  | 1.1 MB 14.0 MB/s eta 0:00:01\r\u001b[K     |█████████████████████████████▍  | 1.1 MB 14.0 MB/s eta 0:00:01\r\u001b[K     |█████████████████████████████▊  | 1.1 MB 14.0 MB/s eta 0:00:01\r\u001b[K     |██████████████████████████████  | 1.1 MB 14.0 MB/s eta 0:00:01\r\u001b[K     |██████████████████████████████▎ | 1.1 MB 14.0 MB/s eta 0:00:01\r\u001b[K     |██████████████████████████████▌ | 1.2 MB 14.0 MB/s eta 0:00:01\r\u001b[K     |██████████████████████████████▊ | 1.2 MB 14.0 MB/s eta 0:00:01\r\u001b[K     |███████████████████████████████ | 1.2 MB 14.0 MB/s eta 0:00:01\r\u001b[K     |███████████████████████████████▎| 1.2 MB 14.0 MB/s eta 0:00:01\r\u001b[K     |███████████████████████████████▋| 1.2 MB 14.0 MB/s eta 0:00:01\r\u001b[K     |███████████████████████████████▉| 1.2 MB 14.0 MB/s eta 0:00:01\r\u001b[K     |████████████████████████████████| 1.2 MB 14.0 MB/s \n",
            "\u001b[?25hInstalling collected packages: sentencepiece\n",
            "Successfully installed sentencepiece-0.1.96\n"
          ]
        }
      ]
    },
    {
      "cell_type": "code",
      "source": [
        "!pip install torchinfo"
      ],
      "metadata": {
        "colab": {
          "base_uri": "https://localhost:8080/"
        },
        "id": "_y7NoaF-RIPO",
        "outputId": "d1b1d62f-3119-4b89-9e99-444631e08f25"
      },
      "execution_count": 37,
      "outputs": [
        {
          "output_type": "stream",
          "name": "stdout",
          "text": [
            "Collecting torchinfo\n",
            "  Downloading torchinfo-1.5.4-py3-none-any.whl (19 kB)\n",
            "Installing collected packages: torchinfo\n",
            "Successfully installed torchinfo-1.5.4\n"
          ]
        }
      ]
    },
    {
      "cell_type": "code",
      "source": [
        "import os\n",
        "\n",
        "import matplotlib.pyplot as plt\n",
        "import torch\n",
        "import torch.nn as nn\n",
        "import numpy as np\n",
        "\n",
        "%matplotlib inline"
      ],
      "metadata": {
        "id": "mQMADv7Jkfry"
      },
      "execution_count": 2,
      "outputs": []
    },
    {
      "cell_type": "code",
      "source": [
        "import tensorflow as tf\n",
        "from tqdm.notebook import tqdm"
      ],
      "metadata": {
        "id": "rrJk6Fv6ynPp"
      },
      "execution_count": 3,
      "outputs": []
    },
    {
      "cell_type": "code",
      "source": [
        "import sentencepiece as spm\n",
        "import pandas as pd"
      ],
      "metadata": {
        "id": "lDMzaxybkfuj"
      },
      "execution_count": 4,
      "outputs": []
    },
    {
      "cell_type": "code",
      "source": [
        "from torchinfo import summary"
      ],
      "metadata": {
        "id": "iRTb5TIRRK6X"
      },
      "execution_count": 38,
      "outputs": []
    },
    {
      "cell_type": "code",
      "source": [
        "!wget https://raw.githubusercontent.com/e9t/nsmc/master/ratings_train.txt\n",
        "!wget https://raw.githubusercontent.com/e9t/nsmc/master/ratings_test.txt"
      ],
      "metadata": {
        "colab": {
          "base_uri": "https://localhost:8080/"
        },
        "id": "G4lskKqse4sV",
        "outputId": "09e585f7-f8c7-4145-c330-06c487661db4"
      },
      "execution_count": 5,
      "outputs": [
        {
          "output_type": "stream",
          "name": "stdout",
          "text": [
            "--2021-12-08 08:48:37--  https://raw.githubusercontent.com/e9t/nsmc/master/ratings_train.txt\n",
            "Resolving raw.githubusercontent.com (raw.githubusercontent.com)... 185.199.108.133, 185.199.109.133, 185.199.110.133, ...\n",
            "Connecting to raw.githubusercontent.com (raw.githubusercontent.com)|185.199.108.133|:443... connected.\n",
            "HTTP request sent, awaiting response... 200 OK\n",
            "Length: 14628807 (14M) [text/plain]\n",
            "Saving to: ‘ratings_train.txt’\n",
            "\n",
            "ratings_train.txt   100%[===================>]  13.95M  --.-KB/s    in 0.07s   \n",
            "\n",
            "2021-12-08 08:48:39 (198 MB/s) - ‘ratings_train.txt’ saved [14628807/14628807]\n",
            "\n",
            "--2021-12-08 08:48:39--  https://raw.githubusercontent.com/e9t/nsmc/master/ratings_test.txt\n",
            "Resolving raw.githubusercontent.com (raw.githubusercontent.com)... 185.199.108.133, 185.199.109.133, 185.199.110.133, ...\n",
            "Connecting to raw.githubusercontent.com (raw.githubusercontent.com)|185.199.108.133|:443... connected.\n",
            "HTTP request sent, awaiting response... 200 OK\n",
            "Length: 4893335 (4.7M) [text/plain]\n",
            "Saving to: ‘ratings_test.txt’\n",
            "\n",
            "ratings_test.txt    100%[===================>]   4.67M  --.-KB/s    in 0.04s   \n",
            "\n",
            "2021-12-08 08:48:39 (130 MB/s) - ‘ratings_test.txt’ saved [4893335/4893335]\n",
            "\n"
          ]
        }
      ]
    },
    {
      "cell_type": "code",
      "source": [
        "train_pd = pd.read_table('/content/ratings_train.txt')\n",
        "test_pd = pd.read_table('/content/ratings_test.txt')"
      ],
      "metadata": {
        "id": "wm1AUWfzix7Z"
      },
      "execution_count": 6,
      "outputs": []
    },
    {
      "cell_type": "code",
      "source": [
        "train_pd['document'].to_csv('/content/corpus', sep=' ', index=False,header=False)"
      ],
      "metadata": {
        "id": "0SvQej3wn5nI"
      },
      "execution_count": 7,
      "outputs": []
    },
    {
      "cell_type": "markdown",
      "source": [
        "        bos_token=\"<s>\",\n",
        "        eos_token=\"</s>\",\n",
        "        unk_token=\"<unk>\",\n",
        "        sep_token=\"<sep>\",\n",
        "        pad_token=\"<pad>\",\n",
        "        cls_token=\"<cls>\",\n",
        "        mask_token=\"<mask>\",\n",
        "        additional_special_tokens=[\"<eop>\", \"<eod>\"]"
      ],
      "metadata": {
        "id": "3eIk2MsefabY"
      }
    },
    {
      "cell_type": "markdown",
      "source": [
        "f\"--input={corpus} --model_prefix={prefix} --vocab_size={vocab_size + 7}\" + \n",
        "    \" --model_type=bpe\" +\n",
        "    \" --max_sentence_length=999999\" +\n",
        "    \" --pad_id=0 --pad_piece=[PAD]\" +\n",
        "    \" --unk_id=1 --unk_piece=[UNK]\" +\n",
        "    \" --bos_id=2 --bos_piece=[BOS]\" +\n",
        "    \" --eos_id=3 --eos_piece=[EOS]\" +\n",
        "    \" --user_defined_symbols=[SEP],[CLS],[MASK]\")"
      ],
      "metadata": {
        "id": "G0caIjx6goCB"
      }
    },
    {
      "cell_type": "code",
      "source": [
        "spm.SentencePieceTrainer.train(input='/content/corpus', model_prefix='m', vocab_size=10000, model_type='bpe',\n",
        "                               user_defined_symbols=['<sep>', '<cls>, <mask>'],\n",
        "                               pad_id=0, pad_piece='<pad>',\n",
        "                               unk_id=1, unk_piece='<unk>',\n",
        "                               bos_id=2, bos_piece='<bos>',\n",
        "                               eos_id=3, eos_piece='<eos>'                               \n",
        "                               )"
      ],
      "metadata": {
        "id": "BV24j_zYkfxB"
      },
      "execution_count": 8,
      "outputs": []
    },
    {
      "cell_type": "code",
      "source": [
        "s = spm.SentencePieceProcessor()\n",
        "s.Load('/content/m.model')"
      ],
      "metadata": {
        "colab": {
          "base_uri": "https://localhost:8080/"
        },
        "id": "dLeh8hnykB19",
        "outputId": "c2769ab9-3607-4c6d-8230-ba08d8e8617d"
      },
      "execution_count": 9,
      "outputs": [
        {
          "output_type": "execute_result",
          "data": {
            "text/plain": [
              "True"
            ]
          },
          "metadata": {},
          "execution_count": 9
        }
      ]
    },
    {
      "cell_type": "code",
      "source": [
        "s.encode_as_ids(train_pd['document'][0])"
      ],
      "metadata": {
        "colab": {
          "base_uri": "https://localhost:8080/"
        },
        "id": "3hoOD87Pt2Wk",
        "outputId": "d0c86e23-910c-4eb3-c0a9-c317674557aa"
      },
      "execution_count": 10,
      "outputs": [
        {
          "output_type": "execute_result",
          "data": {
            "text/plain": [
              "[12, 1266, 7, 83, 2620, 36, 2188]"
            ]
          },
          "metadata": {},
          "execution_count": 10
        }
      ]
    },
    {
      "cell_type": "code",
      "source": [
        "train_pd['document'].apply(lambda x: type(x)!=str).sum()"
      ],
      "metadata": {
        "colab": {
          "base_uri": "https://localhost:8080/"
        },
        "id": "BmWJ1mXjvakn",
        "outputId": "b5cde302-f48a-490a-91a6-c2ac28bff3b5"
      },
      "execution_count": 11,
      "outputs": [
        {
          "output_type": "execute_result",
          "data": {
            "text/plain": [
              "5"
            ]
          },
          "metadata": {},
          "execution_count": 11
        }
      ]
    },
    {
      "cell_type": "code",
      "source": [
        "train_pd['ids']=train_pd['document'].apply(lambda x : s.encode_as_ids(str(x)))\n",
        "test_pd['ids']=test_pd['document'].apply(lambda x : s.encode_as_ids(str(x)))"
      ],
      "metadata": {
        "id": "Z4fJJdzWvW4K"
      },
      "execution_count": 12,
      "outputs": []
    },
    {
      "cell_type": "code",
      "source": [
        "print(train_pd['ids'].apply(len).max())\n",
        "print(test_pd['ids'].apply(len).max())"
      ],
      "metadata": {
        "colab": {
          "base_uri": "https://localhost:8080/"
        },
        "id": "m3BSkEq1xrcG",
        "outputId": "62c4cfc4-531d-4c95-c031-5393648ef9ef"
      },
      "execution_count": 13,
      "outputs": [
        {
          "output_type": "stream",
          "name": "stdout",
          "text": [
            "123\n",
            "112\n"
          ]
        }
      ]
    },
    {
      "cell_type": "code",
      "source": [
        "max_len=130"
      ],
      "metadata": {
        "id": "YJbfpYmYydxy"
      },
      "execution_count": 14,
      "outputs": []
    },
    {
      "cell_type": "code",
      "source": [
        "train_pd['ids']=pd.Series(tf.keras.preprocessing.sequence.pad_sequences(train_pd['ids'],\n",
        "                                                        value=0,\n",
        "                                                        padding='post',\n",
        "                                                        maxlen=max_len).tolist())\n",
        "test_pd['ids']=pd.Series(tf.keras.preprocessing.sequence.pad_sequences(test_pd['ids'],\n",
        "                                                        value=0,\n",
        "                                                        padding='post',\n",
        "                                                        maxlen=max_len).tolist())"
      ],
      "metadata": {
        "id": "9Qsn1KPHyJxz"
      },
      "execution_count": 15,
      "outputs": []
    },
    {
      "cell_type": "markdown",
      "source": [
        "데이터셋, 모델"
      ],
      "metadata": {
        "id": "hsp4m5OxC2qu"
      }
    },
    {
      "cell_type": "code",
      "source": [
        "class MyDataset(torch.utils.data.Dataset):\n",
        "  def __init__(self,data):\n",
        "    self.ids = data['ids']\n",
        "    self.label = data['label']\n",
        "  \n",
        "  def __len__(self):\n",
        "    return len(self.ids)\n",
        "\n",
        "  def __getitem__(self,idx):\n",
        "    return torch.tensor(self.ids[idx]),torch.tensor(self.label[idx])\n",
        "\n",
        "\n"
      ],
      "metadata": {
        "id": "vGnLrbWT3P3W"
      },
      "execution_count": 16,
      "outputs": []
    },
    {
      "cell_type": "code",
      "source": [
        "class MyModel(nn.Module):\n",
        "  def __init__(self,vocab_size,max_len):\n",
        "    super().__init__()\n",
        "    self.embed = nn.Embedding(num_embeddings = vocab_size,embedding_dim=128,padding_idx=0)\n",
        "    self.lstm = nn.LSTM(input_size=128,hidden_size=256,num_layers=2,batch_first=True,proj_size=8) #output 130*8\n",
        "    self.linear1 = nn.Linear(130*8,8)\n",
        "    self.linear2 = nn.Linear(8,2)\n",
        "\n",
        "  def forward(self,inputs):\n",
        "    x = self.embed(inputs)\n",
        "    x = self.lstm(x)\n",
        "    x = self.linear1(x[0].flatten(start_dim=1))\n",
        "    x = nn.ReLU()(x)\n",
        "    return self.linear2(x)"
      ],
      "metadata": {
        "id": "3IMLJrDT3P6e"
      },
      "execution_count": 17,
      "outputs": []
    },
    {
      "cell_type": "code",
      "source": [
        ""
      ],
      "metadata": {
        "id": "N6H8JgUyPoG-"
      },
      "execution_count": 30,
      "outputs": []
    },
    {
      "cell_type": "code",
      "source": [
        ""
      ],
      "metadata": {
        "id": "R99GnRhqP3gJ"
      },
      "execution_count": null,
      "outputs": []
    },
    {
      "cell_type": "code",
      "source": [
        "summary(MyModel(10000,max_len),input_type=torch.long,batch_size=128)"
      ],
      "metadata": {
        "colab": {
          "base_uri": "https://localhost:8080/"
        },
        "id": "0C3eeWwbPsyE",
        "outputId": "772dedc1-75d7-4a1b-c26c-57f4cf91179c"
      },
      "execution_count": 42,
      "outputs": [
        {
          "output_type": "execute_result",
          "data": {
            "text/plain": [
              "=================================================================\n",
              "Layer (type:depth-idx)                   Param #\n",
              "=================================================================\n",
              "MyModel                                  --\n",
              "├─Embedding: 1-1                         1,280,000\n",
              "├─LSTM: 1-2                              163,840\n",
              "├─Linear: 1-3                            8,328\n",
              "├─Linear: 1-4                            18\n",
              "=================================================================\n",
              "Total params: 1,452,186\n",
              "Trainable params: 1,452,186\n",
              "Non-trainable params: 0\n",
              "================================================================="
            ]
          },
          "metadata": {},
          "execution_count": 42
        }
      ]
    },
    {
      "cell_type": "markdown",
      "source": [
        "훈련준비"
      ],
      "metadata": {
        "id": "XUVXRpogD21-"
      }
    },
    {
      "cell_type": "code",
      "source": [
        "device = torch.device('cuda' if torch.cuda.is_available() else 'cpu')"
      ],
      "metadata": {
        "id": "eqeZxndMGfR5"
      },
      "execution_count": 43,
      "outputs": []
    },
    {
      "cell_type": "code",
      "source": [
        "model = MyModel(vocab_size=10000,max_len=max_len).to(device)"
      ],
      "metadata": {
        "id": "GVvxdb9KGXyF"
      },
      "execution_count": 44,
      "outputs": []
    },
    {
      "cell_type": "code",
      "source": [
        "train_set = MyDataset(train_pd)\n",
        "test_set = MyDataset(test_pd)"
      ],
      "metadata": {
        "id": "kQgNGG4VDDES"
      },
      "execution_count": 45,
      "outputs": []
    },
    {
      "cell_type": "code",
      "source": [
        "train_loader = torch.utils.data.DataLoader(train_set,shuffle=True,batch_size=128)\n",
        "test_loader = torch.utils.data.DataLoader(test_set,shuffle=True,batch_size=128)"
      ],
      "metadata": {
        "id": "kGNeslsUC4e9"
      },
      "execution_count": 46,
      "outputs": []
    },
    {
      "cell_type": "code",
      "source": [
        "loss_fn = nn.CrossEntropyLoss()\n",
        "optimizer = torch.optim.Adam(model.parameters(),lr=1e-3)"
      ],
      "metadata": {
        "id": "hyxt8VphF_VC"
      },
      "execution_count": 47,
      "outputs": []
    },
    {
      "cell_type": "code",
      "source": [
        "epochs = 3"
      ],
      "metadata": {
        "id": "mTVPGrtkIOuC"
      },
      "execution_count": 52,
      "outputs": []
    },
    {
      "cell_type": "code",
      "source": [
        "for epoch in range(epochs):\n",
        "  model.train()\n",
        "  total=0\n",
        "  correct = 0\n",
        "  for sen, label in tqdm(train_loader):\n",
        "    optimizer.zero_grad()\n",
        "    output = model(sen.to(device))\n",
        "    loss = loss_fn(output,label.to(device))\n",
        "    loss.backward()\n",
        "    optimizer.step()\n",
        "    total+=128\n",
        "    correct += (output.argmax(1)==label.to(device)).float().sum()\n",
        "  print('epoch accuracy = ', correct/total)"
      ],
      "metadata": {
        "colab": {
          "base_uri": "https://localhost:8080/",
          "height": 167,
          "referenced_widgets": [
            "57009cd3ab9040df9d79efe4b00fac4a",
            "ba641d5931704eb691e1ffab82e77b71",
            "e939762e9c8a4b5689e38743efa205a0",
            "6ef90f71f5fb4498925f7bfe38b9e570",
            "3bad82298dd04e9580b840a6182d9748",
            "7226ffa161e64da9a791b80cae8ce2b1",
            "7e6389ab2d2b4ac8bf6b26c8ae012d14",
            "58833323cf3c4e5d9effe94104c79da3",
            "bfe52e62d5c546598bfa194f726bc897",
            "0b0b81e38abc4ef5814c1a586de075ab",
            "fa03ed89728b48ff92403282a6353569",
            "7fa686fc5ac4499e82597be8a1c1720d",
            "51ce5dc4e19b48cf98035496e1da0108",
            "d72cffd10b474f44b05e80f61a201901",
            "258a5ad0db8c4d5a8207dd0f2cb4d966",
            "2705a4c56ab64f27bb09342747aa9c2c",
            "b15a146ad481440580539c2a18746086",
            "bc71bdf9ecfb46ef9bec29758373c4b8",
            "374822015ef44276a334b9cc7fe62397",
            "f428cc4cf8a04f7f85ec64d5e9c76fee",
            "f55a697cbc48439bbb0999edfe6d6788",
            "8ab7c9d17664411d90694c5b36be92e4",
            "8ba3e87cb9574ca88b8943ce3b69692d",
            "a5a04bc51786443fb2b993e9ec674328",
            "a5f72c6a19224bc1b9d56efbbc5b2082",
            "50e646abdabd439d9557138e55a08b63",
            "9857cf8fccf841fab76375076a37d345",
            "37ff6372de0e404bb3d9573b8f0f0c67",
            "3a9d6373f5694fe29397d61cdb72a75c",
            "cc229892485143b1ad5b8e3c7d921fe5",
            "f3d42b8b21864c99a9288874374e128f",
            "29c77324dbc246cd9e2feee57dbd2e72",
            "cbef5661c56c457295e9634d9288ec6f"
          ]
        },
        "id": "XUvAAUczD_0t",
        "outputId": "552dacf2-e6ec-4af2-fce2-23b5224b2753"
      },
      "execution_count": 53,
      "outputs": [
        {
          "output_type": "display_data",
          "data": {
            "application/vnd.jupyter.widget-view+json": {
              "model_id": "57009cd3ab9040df9d79efe4b00fac4a",
              "version_minor": 0,
              "version_major": 2
            },
            "text/plain": [
              "  0%|          | 0/1172 [00:00<?, ?it/s]"
            ]
          },
          "metadata": {}
        },
        {
          "output_type": "stream",
          "name": "stdout",
          "text": [
            "epoch accuracy =  tensor(0.8597, device='cuda:0')\n"
          ]
        },
        {
          "output_type": "display_data",
          "data": {
            "application/vnd.jupyter.widget-view+json": {
              "model_id": "7fa686fc5ac4499e82597be8a1c1720d",
              "version_minor": 0,
              "version_major": 2
            },
            "text/plain": [
              "  0%|          | 0/1172 [00:00<?, ?it/s]"
            ]
          },
          "metadata": {}
        },
        {
          "output_type": "stream",
          "name": "stdout",
          "text": [
            "epoch accuracy =  tensor(0.8781, device='cuda:0')\n"
          ]
        },
        {
          "output_type": "display_data",
          "data": {
            "application/vnd.jupyter.widget-view+json": {
              "model_id": "8ba3e87cb9574ca88b8943ce3b69692d",
              "version_minor": 0,
              "version_major": 2
            },
            "text/plain": [
              "  0%|          | 0/1172 [00:00<?, ?it/s]"
            ]
          },
          "metadata": {}
        },
        {
          "output_type": "stream",
          "name": "stdout",
          "text": [
            "epoch accuracy =  tensor(0.8914, device='cuda:0')\n"
          ]
        }
      ]
    },
    {
      "cell_type": "code",
      "source": [
        "model.eval()\n",
        "total=0\n",
        "correct = 0\n",
        "with torch.no_grad():\n",
        "  for sen, label in tqdm(test_loader):\n",
        "    output = model(sen.to(device))\n",
        "    total+=128\n",
        "    correct += (output.argmax(1)==label.to(device)).float().sum()\n",
        "print('epoch accuracy = ', correct/total)"
      ],
      "metadata": {
        "colab": {
          "base_uri": "https://localhost:8080/",
          "height": 67,
          "referenced_widgets": [
            "0b296e86e7aa4479962579308c17a4cc",
            "c4c11e7f72274648aad814523c1919dd",
            "9c6dbe428511415cb753a250cfc399a4",
            "c980d5f8a75e423cb02bc75d5e3e7dd6",
            "4e723998d2ed4f2b8e7df79106572ed7",
            "99612fffd50e46ff97e4c063cf40fad9",
            "902c50c710454a2c99b531407d321f7f",
            "3cd78ff4f6074d67a7d968668491d817",
            "4b64547d13e24a17aa7bc5346940fe99",
            "82a561ea967846c482c776a230638f1d",
            "8486cab2c82b44578681f4cc11933767"
          ]
        },
        "id": "9v8ojGXVD_3K",
        "outputId": "7fcadab2-5df1-4a12-f5b8-c034d1bb55ca"
      },
      "execution_count": 54,
      "outputs": [
        {
          "output_type": "display_data",
          "data": {
            "application/vnd.jupyter.widget-view+json": {
              "model_id": "0b296e86e7aa4479962579308c17a4cc",
              "version_minor": 0,
              "version_major": 2
            },
            "text/plain": [
              "  0%|          | 0/391 [00:00<?, ?it/s]"
            ]
          },
          "metadata": {}
        },
        {
          "output_type": "stream",
          "name": "stdout",
          "text": [
            "epoch accuracy =  tensor(0.8572, device='cuda:0')\n"
          ]
        }
      ]
    }
  ]
}