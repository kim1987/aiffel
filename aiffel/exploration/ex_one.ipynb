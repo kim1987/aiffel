{
  "nbformat": 4,
  "nbformat_minor": 0,
  "metadata": {
    "colab": {
      "name": "ex_one.ipynb",
      "provenance": [],
      "collapsed_sections": [],
      "authorship_tag": "ABX9TyOJPDA+pC5zyKU97mLNPnHQ",
      "include_colab_link": true
    },
    "kernelspec": {
      "name": "python3",
      "display_name": "Python 3"
    },
    "language_info": {
      "name": "python"
    }
  },
  "cells": [
    {
      "cell_type": "markdown",
      "metadata": {
        "id": "view-in-github",
        "colab_type": "text"
      },
      "source": [
        "<a href=\"https://colab.research.google.com/github/kim1987/aiffel/blob/main/aiffel/exploration/ex_one.ipynb\" target=\"_parent\"><img src=\"https://colab.research.google.com/assets/colab-badge.svg\" alt=\"Open In Colab\"/></a>"
      ]
    },
    {
      "cell_type": "code",
      "metadata": {
        "id": "FyC0iPcLDO6F"
      },
      "source": [
        "import numpy as np\n",
        "import tensorflow as tf\n",
        "from PIL import Image\n",
        "import os\n",
        "import matplotlib.pyplot as plt\n",
        "import torch"
      ],
      "execution_count": null,
      "outputs": []
    },
    {
      "cell_type": "code",
      "metadata": {
        "colab": {
          "base_uri": "https://localhost:8080/"
        },
        "id": "MNtaSnpqPhzM",
        "outputId": "439c0c13-cc7b-4ede-92d7-23e6982d15eb"
      },
      "source": [
        "print(torch.__version__)"
      ],
      "execution_count": null,
      "outputs": [
        {
          "output_type": "stream",
          "name": "stdout",
          "text": [
            "1.10.0+cu111\n"
          ]
        }
      ]
    },
    {
      "cell_type": "code",
      "metadata": {
        "colab": {
          "base_uri": "https://localhost:8080/"
        },
        "id": "Tgz-_-tiDTOP",
        "outputId": "ce406f15-3095-45c0-844e-bdf19b00e5fc"
      },
      "source": [
        "from google.colab import drive\n",
        "drive.mount('/content/drive')\n"
      ],
      "execution_count": null,
      "outputs": [
        {
          "output_type": "stream",
          "name": "stdout",
          "text": [
            "Mounted at /content/drive\n"
          ]
        }
      ]
    },
    {
      "cell_type": "markdown",
      "metadata": {
        "id": "O8wL6y2b5bqO"
      },
      "source": [
        "전처리(데이터 로드)"
      ]
    },
    {
      "cell_type": "code",
      "metadata": {
        "id": "Xu5U7i-LDa30"
      },
      "source": [
        "!cp /content/drive/MyDrive/colabdata/aiffel/ex_one/data.zip /content"
      ],
      "execution_count": null,
      "outputs": []
    },
    {
      "cell_type": "code",
      "metadata": {
        "id": "n0xFYqUHDa6Z",
        "colab": {
          "base_uri": "https://localhost:8080/"
        },
        "outputId": "7202d048-d465-4bf7-f110-f33fdf1553f3"
      },
      "source": [
        "!unzip /content/data.zip"
      ],
      "execution_count": null,
      "outputs": [
        {
          "output_type": "stream",
          "name": "stdout",
          "text": [
            "Archive:  /content/data.zip\n",
            "   creating: paper/\n",
            "  inflating: paper/73.jpg            \n",
            "  inflating: paper/56.jpg            \n",
            "  inflating: paper/35.jpg            \n",
            "  inflating: paper/86.jpg            \n",
            "  inflating: paper/61.jpg            \n",
            "  inflating: paper/14.jpg            \n",
            "  inflating: paper/54.jpg            \n",
            "  inflating: paper/57.jpg            \n",
            "  inflating: paper/84.jpg            \n",
            "  inflating: paper/94.jpg            \n",
            "  inflating: paper/47.jpg            \n",
            "  inflating: paper/88.jpg            \n",
            "  inflating: paper/67.jpg            \n",
            "  inflating: paper/51.jpg            \n",
            "  inflating: paper/21.jpg            \n",
            "  inflating: paper/48.jpg            \n",
            "  inflating: paper/1.jpg             \n",
            "  inflating: paper/43.jpg            \n",
            "  inflating: paper/13.jpg            \n",
            "  inflating: paper/69.jpg            \n",
            "  inflating: paper/28.jpg            \n",
            "  inflating: paper/17.jpg            \n",
            "  inflating: paper/81.jpg            \n",
            "  inflating: paper/62.jpg            \n",
            "  inflating: paper/45.jpg            \n",
            "  inflating: paper/7.jpg             \n",
            "  inflating: paper/32.jpg            \n",
            "  inflating: paper/55.jpg            \n",
            "  inflating: paper/40.jpg            \n",
            "  inflating: paper/30.jpg            \n",
            "  inflating: paper/8.jpg             \n",
            "  inflating: paper/38.jpg            \n",
            "  inflating: paper/37.jpg            \n",
            "  inflating: paper/39.jpg            \n",
            "  inflating: paper/27.jpg            \n",
            "  inflating: paper/0.jpg             \n",
            "  inflating: paper/93.jpg            \n",
            "  inflating: paper/18.jpg            \n",
            "  inflating: paper/65.jpg            \n",
            "  inflating: paper/2.jpg             \n",
            "  inflating: paper/68.jpg            \n",
            "  inflating: paper/49.jpg            \n",
            "  inflating: paper/23.jpg            \n",
            "  inflating: paper/91.jpg            \n",
            "  inflating: paper/50.jpg            \n",
            "  inflating: paper/46.jpg            \n",
            "  inflating: paper/72.jpg            \n",
            "  inflating: paper/70.jpg            \n",
            "  inflating: paper/52.jpg            \n",
            "  inflating: paper/82.jpg            \n",
            "  inflating: paper/44.jpg            \n",
            "  inflating: paper/96.jpg            \n",
            "  inflating: paper/36.jpg            \n",
            "  inflating: paper/60.jpg            \n",
            "  inflating: paper/90.jpg            \n",
            "  inflating: paper/4.jpg             \n",
            "  inflating: paper/75.jpg            \n",
            "  inflating: paper/3.jpg             \n",
            "  inflating: paper/64.jpg            \n",
            "  inflating: paper/19.jpg            \n",
            "  inflating: paper/22.jpg            \n",
            "  inflating: paper/77.jpg            \n",
            "  inflating: paper/95.jpg            \n",
            "  inflating: paper/76.jpg            \n",
            "  inflating: paper/6.jpg             \n",
            "  inflating: paper/33.jpg            \n",
            "  inflating: paper/26.jpg            \n",
            "  inflating: paper/99.jpg            \n",
            "  inflating: paper/11.jpg            \n",
            "  inflating: paper/9.jpg             \n",
            "  inflating: paper/89.jpg            \n",
            "  inflating: paper/66.jpg            \n",
            "  inflating: paper/42.jpg            \n",
            "  inflating: paper/12.jpg            \n",
            "  inflating: paper/92.jpg            \n",
            "  inflating: paper/20.jpg            \n",
            "  inflating: paper/10.jpg            \n",
            "  inflating: paper/97.jpg            \n",
            "  inflating: paper/29.jpg            \n",
            "  inflating: paper/83.jpg            \n",
            "  inflating: paper/24.jpg            \n",
            "  inflating: paper/5.jpg             \n",
            "  inflating: paper/80.jpg            \n",
            "  inflating: paper/31.jpg            \n",
            "  inflating: paper/71.jpg            \n",
            "  inflating: paper/15.jpg            \n",
            "  inflating: paper/53.jpg            \n",
            "  inflating: paper/74.jpg            \n",
            "  inflating: paper/85.jpg            \n",
            "  inflating: paper/63.jpg            \n",
            "  inflating: paper/78.jpg            \n",
            "  inflating: paper/98.jpg            \n",
            "  inflating: paper/59.jpg            \n",
            "  inflating: paper/58.jpg            \n",
            "  inflating: paper/16.jpg            \n",
            "  inflating: paper/87.jpg            \n",
            "  inflating: paper/25.jpg            \n",
            "  inflating: paper/34.jpg            \n",
            "  inflating: paper/41.jpg            \n",
            "  inflating: paper/79.jpg            \n",
            "   creating: rock/\n",
            "  inflating: rock/73.jpg             \n",
            "  inflating: rock/56.jpg             \n",
            "  inflating: rock/35.jpg             \n",
            "  inflating: rock/86.jpg             \n",
            "  inflating: rock/61.jpg             \n",
            "  inflating: rock/14.jpg             \n",
            "  inflating: rock/54.jpg             \n",
            "  inflating: rock/57.jpg             \n",
            "  inflating: rock/84.jpg             \n",
            "  inflating: rock/94.jpg             \n",
            "  inflating: rock/47.jpg             \n",
            "  inflating: rock/88.jpg             \n",
            "  inflating: rock/67.jpg             \n",
            "  inflating: rock/51.jpg             \n",
            "  inflating: rock/21.jpg             \n",
            "  inflating: rock/48.jpg             \n",
            "  inflating: rock/1.jpg              \n",
            "  inflating: rock/43.jpg             \n",
            "  inflating: rock/13.jpg             \n",
            "  inflating: rock/69.jpg             \n",
            "  inflating: rock/28.jpg             \n",
            "  inflating: rock/17.jpg             \n",
            "  inflating: rock/81.jpg             \n",
            "  inflating: rock/62.jpg             \n",
            "  inflating: rock/45.jpg             \n",
            "  inflating: rock/7.jpg              \n",
            "  inflating: rock/32.jpg             \n",
            "  inflating: rock/55.jpg             \n",
            "  inflating: rock/40.jpg             \n",
            "  inflating: rock/30.jpg             \n",
            "  inflating: rock/8.jpg              \n",
            "  inflating: rock/38.jpg             \n",
            "  inflating: rock/37.jpg             \n",
            "  inflating: rock/39.jpg             \n",
            "  inflating: rock/27.jpg             \n",
            "  inflating: rock/0.jpg              \n",
            "  inflating: rock/93.jpg             \n",
            "  inflating: rock/18.jpg             \n",
            "  inflating: rock/65.jpg             \n",
            "  inflating: rock/2.jpg              \n",
            "  inflating: rock/68.jpg             \n",
            "  inflating: rock/49.jpg             \n",
            "  inflating: rock/23.jpg             \n",
            "  inflating: rock/91.jpg             \n",
            "  inflating: rock/50.jpg             \n",
            "  inflating: rock/46.jpg             \n",
            "  inflating: rock/72.jpg             \n",
            "  inflating: rock/70.jpg             \n",
            "  inflating: rock/52.jpg             \n",
            "  inflating: rock/82.jpg             \n",
            "  inflating: rock/44.jpg             \n",
            "  inflating: rock/96.jpg             \n",
            "  inflating: rock/36.jpg             \n",
            "  inflating: rock/60.jpg             \n",
            "  inflating: rock/90.jpg             \n",
            "  inflating: rock/4.jpg              \n",
            "  inflating: rock/75.jpg             \n",
            "  inflating: rock/3.jpg              \n",
            "  inflating: rock/64.jpg             \n",
            "  inflating: rock/19.jpg             \n",
            "  inflating: rock/22.jpg             \n",
            "  inflating: rock/77.jpg             \n",
            "  inflating: rock/95.jpg             \n",
            "  inflating: rock/76.jpg             \n",
            "  inflating: rock/6.jpg              \n",
            "  inflating: rock/33.jpg             \n",
            "  inflating: rock/26.jpg             \n",
            "  inflating: rock/99.jpg             \n",
            "  inflating: rock/11.jpg             \n",
            "  inflating: rock/9.jpg              \n",
            "  inflating: rock/89.jpg             \n",
            "  inflating: rock/66.jpg             \n",
            "  inflating: rock/42.jpg             \n",
            "  inflating: rock/12.jpg             \n",
            "  inflating: rock/92.jpg             \n",
            "  inflating: rock/20.jpg             \n",
            "  inflating: rock/10.jpg             \n",
            "  inflating: rock/97.jpg             \n",
            "  inflating: rock/29.jpg             \n",
            "  inflating: rock/83.jpg             \n",
            "  inflating: rock/24.jpg             \n",
            "  inflating: rock/5.jpg              \n",
            "  inflating: rock/80.jpg             \n",
            "  inflating: rock/31.jpg             \n",
            "  inflating: rock/71.jpg             \n",
            "  inflating: rock/15.jpg             \n",
            "  inflating: rock/53.jpg             \n",
            "  inflating: rock/74.jpg             \n",
            "  inflating: rock/85.jpg             \n",
            "  inflating: rock/63.jpg             \n",
            "  inflating: rock/78.jpg             \n",
            "  inflating: rock/98.jpg             \n",
            "  inflating: rock/59.jpg             \n",
            "  inflating: rock/58.jpg             \n",
            "  inflating: rock/16.jpg             \n",
            "  inflating: rock/87.jpg             \n",
            "  inflating: rock/25.jpg             \n",
            "  inflating: rock/34.jpg             \n",
            "  inflating: rock/41.jpg             \n",
            "  inflating: rock/79.jpg             \n",
            "   creating: scissor/\n",
            "  inflating: scissor/73.jpg          \n",
            "  inflating: scissor/56.jpg          \n",
            "  inflating: scissor/35.jpg          \n",
            "  inflating: scissor/86.jpg          \n",
            "  inflating: scissor/61.jpg          \n",
            "  inflating: scissor/14.jpg          \n",
            "  inflating: scissor/54.jpg          \n",
            "  inflating: scissor/57.jpg          \n",
            "  inflating: scissor/84.jpg          \n",
            "  inflating: scissor/94.jpg          \n",
            "  inflating: scissor/47.jpg          \n",
            "  inflating: scissor/88.jpg          \n",
            "  inflating: scissor/67.jpg          \n",
            "  inflating: scissor/51.jpg          \n",
            "  inflating: scissor/21.jpg          \n",
            "  inflating: scissor/48.jpg          \n",
            "  inflating: scissor/1.jpg           \n",
            "  inflating: scissor/43.jpg          \n",
            "  inflating: scissor/13.jpg          \n",
            "  inflating: scissor/69.jpg          \n",
            "  inflating: scissor/28.jpg          \n",
            "  inflating: scissor/17.jpg          \n",
            "  inflating: scissor/81.jpg          \n",
            "  inflating: scissor/62.jpg          \n",
            "  inflating: scissor/45.jpg          \n",
            "  inflating: scissor/7.jpg           \n",
            "  inflating: scissor/32.jpg          \n",
            "  inflating: scissor/55.jpg          \n",
            "  inflating: scissor/40.jpg          \n",
            "  inflating: scissor/30.jpg          \n",
            "  inflating: scissor/8.jpg           \n",
            "  inflating: scissor/38.jpg          \n",
            "  inflating: scissor/37.jpg          \n",
            "  inflating: scissor/39.jpg          \n",
            "  inflating: scissor/27.jpg          \n",
            "  inflating: scissor/0.jpg           \n",
            "  inflating: scissor/93.jpg          \n",
            "  inflating: scissor/18.jpg          \n",
            "  inflating: scissor/65.jpg          \n",
            "  inflating: scissor/2.jpg           \n",
            "  inflating: scissor/68.jpg          \n",
            "  inflating: scissor/49.jpg          \n",
            "  inflating: scissor/23.jpg          \n",
            "  inflating: scissor/91.jpg          \n",
            "  inflating: scissor/50.jpg          \n",
            "  inflating: scissor/46.jpg          \n",
            "  inflating: scissor/72.jpg          \n",
            "  inflating: scissor/70.jpg          \n",
            "  inflating: scissor/52.jpg          \n",
            "  inflating: scissor/82.jpg          \n",
            "  inflating: scissor/44.jpg          \n",
            "  inflating: scissor/96.jpg          \n",
            "  inflating: scissor/36.jpg          \n",
            "  inflating: scissor/60.jpg          \n",
            "  inflating: scissor/90.jpg          \n",
            "  inflating: scissor/4.jpg           \n",
            "  inflating: scissor/75.jpg          \n",
            "  inflating: scissor/3.jpg           \n",
            "  inflating: scissor/64.jpg          \n",
            "  inflating: scissor/19.jpg          \n",
            "  inflating: scissor/22.jpg          \n",
            "  inflating: scissor/77.jpg          \n",
            "  inflating: scissor/95.jpg          \n",
            "  inflating: scissor/76.jpg          \n",
            "  inflating: scissor/6.jpg           \n",
            "  inflating: scissor/33.jpg          \n",
            "  inflating: scissor/26.jpg          \n",
            "  inflating: scissor/99.jpg          \n",
            "  inflating: scissor/11.jpg          \n",
            "  inflating: scissor/9.jpg           \n",
            "  inflating: scissor/89.jpg          \n",
            "  inflating: scissor/66.jpg          \n",
            "  inflating: scissor/42.jpg          \n",
            "  inflating: scissor/12.jpg          \n",
            "  inflating: scissor/92.jpg          \n",
            "  inflating: scissor/20.jpg          \n",
            "  inflating: scissor/10.jpg          \n",
            "  inflating: scissor/97.jpg          \n",
            "  inflating: scissor/29.jpg          \n",
            "  inflating: scissor/83.jpg          \n",
            "  inflating: scissor/24.jpg          \n",
            "  inflating: scissor/5.jpg           \n",
            "  inflating: scissor/80.jpg          \n",
            "  inflating: scissor/31.jpg          \n",
            "  inflating: scissor/71.jpg          \n",
            "  inflating: scissor/15.jpg          \n",
            "  inflating: scissor/53.jpg          \n",
            "  inflating: scissor/74.jpg          \n",
            "  inflating: scissor/85.jpg          \n",
            "  inflating: scissor/63.jpg          \n",
            "  inflating: scissor/78.jpg          \n",
            "  inflating: scissor/98.jpg          \n",
            "  inflating: scissor/59.jpg          \n",
            "  inflating: scissor/58.jpg          \n",
            "  inflating: scissor/16.jpg          \n",
            "  inflating: scissor/87.jpg          \n",
            "  inflating: scissor/25.jpg          \n",
            "  inflating: scissor/34.jpg          \n",
            "  inflating: scissor/41.jpg          \n",
            "  inflating: scissor/79.jpg          \n",
            "   creating: test/\n",
            "   creating: test/scissor/\n",
            "  inflating: test/scissor/73.jpg     \n",
            "  inflating: test/scissor/56.jpg     \n",
            "  inflating: test/scissor/35.jpg     \n",
            "  inflating: test/scissor/86.jpg     \n",
            "  inflating: test/scissor/61.jpg     \n",
            "  inflating: test/scissor/14.jpg     \n",
            "  inflating: test/scissor/54.jpg     \n",
            "  inflating: test/scissor/57.jpg     \n",
            "  inflating: test/scissor/84.jpg     \n",
            "  inflating: test/scissor/94.jpg     \n",
            "  inflating: test/scissor/47.jpg     \n",
            "  inflating: test/scissor/88.jpg     \n",
            "  inflating: test/scissor/67.jpg     \n",
            "  inflating: test/scissor/51.jpg     \n",
            "  inflating: test/scissor/21.jpg     \n",
            "  inflating: test/scissor/48.jpg     \n",
            "  inflating: test/scissor/1.jpg      \n",
            "  inflating: test/scissor/43.jpg     \n",
            "  inflating: test/scissor/13.jpg     \n",
            "  inflating: test/scissor/69.jpg     \n",
            "  inflating: test/scissor/28.jpg     \n",
            "  inflating: test/scissor/17.jpg     \n",
            "  inflating: test/scissor/81.jpg     \n",
            "  inflating: test/scissor/62.jpg     \n",
            "  inflating: test/scissor/45.jpg     \n",
            "  inflating: test/scissor/7.jpg      \n",
            "  inflating: test/scissor/32.jpg     \n",
            "  inflating: test/scissor/55.jpg     \n",
            "  inflating: test/scissor/40.jpg     \n",
            "  inflating: test/scissor/30.jpg     \n",
            "  inflating: test/scissor/8.jpg      \n",
            "  inflating: test/scissor/38.jpg     \n",
            "  inflating: test/scissor/37.jpg     \n",
            "  inflating: test/scissor/39.jpg     \n",
            "  inflating: test/scissor/27.jpg     \n",
            "  inflating: test/scissor/0.jpg      \n",
            "  inflating: test/scissor/93.jpg     \n",
            "  inflating: test/scissor/18.jpg     \n",
            "  inflating: test/scissor/65.jpg     \n",
            "  inflating: test/scissor/2.jpg      \n",
            "  inflating: test/scissor/68.jpg     \n",
            "  inflating: test/scissor/49.jpg     \n",
            "  inflating: test/scissor/23.jpg     \n",
            "  inflating: test/scissor/91.jpg     \n",
            "  inflating: test/scissor/50.jpg     \n",
            "  inflating: test/scissor/46.jpg     \n",
            "  inflating: test/scissor/72.jpg     \n",
            "  inflating: test/scissor/70.jpg     \n",
            "  inflating: test/scissor/52.jpg     \n",
            "  inflating: test/scissor/82.jpg     \n",
            "  inflating: test/scissor/44.jpg     \n",
            "  inflating: test/scissor/96.jpg     \n",
            "  inflating: test/scissor/36.jpg     \n",
            "  inflating: test/scissor/60.jpg     \n",
            "  inflating: test/scissor/90.jpg     \n",
            "  inflating: test/scissor/4.jpg      \n",
            "  inflating: test/scissor/75.jpg     \n",
            "  inflating: test/scissor/3.jpg      \n",
            "  inflating: test/scissor/64.jpg     \n",
            "  inflating: test/scissor/19.jpg     \n",
            "  inflating: test/scissor/22.jpg     \n",
            "  inflating: test/scissor/77.jpg     \n",
            "  inflating: test/scissor/95.jpg     \n",
            "  inflating: test/scissor/76.jpg     \n",
            "  inflating: test/scissor/6.jpg      \n",
            "  inflating: test/scissor/33.jpg     \n",
            "  inflating: test/scissor/26.jpg     \n",
            "  inflating: test/scissor/99.jpg     \n",
            "  inflating: test/scissor/11.jpg     \n",
            "  inflating: test/scissor/9.jpg      \n",
            "  inflating: test/scissor/89.jpg     \n",
            "  inflating: test/scissor/66.jpg     \n",
            "  inflating: test/scissor/42.jpg     \n",
            "  inflating: test/scissor/12.jpg     \n",
            "  inflating: test/scissor/92.jpg     \n",
            "  inflating: test/scissor/20.jpg     \n",
            "  inflating: test/scissor/10.jpg     \n",
            "  inflating: test/scissor/97.jpg     \n",
            "  inflating: test/scissor/29.jpg     \n",
            "  inflating: test/scissor/83.jpg     \n",
            "  inflating: test/scissor/24.jpg     \n",
            "  inflating: test/scissor/5.jpg      \n",
            "  inflating: test/scissor/80.jpg     \n",
            "  inflating: test/scissor/31.jpg     \n",
            "  inflating: test/scissor/71.jpg     \n",
            "  inflating: test/scissor/15.jpg     \n",
            "  inflating: test/scissor/53.jpg     \n",
            "  inflating: test/scissor/74.jpg     \n",
            "  inflating: test/scissor/85.jpg     \n",
            "  inflating: test/scissor/63.jpg     \n",
            "  inflating: test/scissor/78.jpg     \n",
            "  inflating: test/scissor/98.jpg     \n",
            "  inflating: test/scissor/59.jpg     \n",
            "  inflating: test/scissor/58.jpg     \n",
            "  inflating: test/scissor/16.jpg     \n",
            "  inflating: test/scissor/87.jpg     \n",
            "  inflating: test/scissor/25.jpg     \n",
            "  inflating: test/scissor/34.jpg     \n",
            "  inflating: test/scissor/41.jpg     \n",
            "  inflating: test/scissor/79.jpg     \n",
            "   creating: test/rock/\n",
            "  inflating: test/rock/73.jpg        \n",
            "  inflating: test/rock/56.jpg        \n",
            "  inflating: test/rock/35.jpg        \n",
            "  inflating: test/rock/86.jpg        \n",
            "  inflating: test/rock/61.jpg        \n",
            "  inflating: test/rock/14.jpg        \n",
            "  inflating: test/rock/54.jpg        \n",
            "  inflating: test/rock/57.jpg        \n",
            "  inflating: test/rock/84.jpg        \n",
            "  inflating: test/rock/94.jpg        \n",
            "  inflating: test/rock/47.jpg        \n",
            "  inflating: test/rock/88.jpg        \n",
            "  inflating: test/rock/67.jpg        \n",
            "  inflating: test/rock/51.jpg        \n",
            "  inflating: test/rock/21.jpg        \n",
            "  inflating: test/rock/48.jpg        \n",
            "  inflating: test/rock/1.jpg         \n",
            "  inflating: test/rock/43.jpg        \n",
            "  inflating: test/rock/13.jpg        \n",
            "  inflating: test/rock/69.jpg        \n",
            "  inflating: test/rock/28.jpg        \n",
            "  inflating: test/rock/17.jpg        \n",
            "  inflating: test/rock/81.jpg        \n",
            "  inflating: test/rock/62.jpg        \n",
            "  inflating: test/rock/45.jpg        \n",
            "  inflating: test/rock/7.jpg         \n",
            "  inflating: test/rock/32.jpg        \n",
            "  inflating: test/rock/55.jpg        \n",
            "  inflating: test/rock/40.jpg        \n",
            "  inflating: test/rock/30.jpg        \n",
            "  inflating: test/rock/8.jpg         \n",
            "  inflating: test/rock/38.jpg        \n",
            "  inflating: test/rock/37.jpg        \n",
            "  inflating: test/rock/39.jpg        \n",
            "  inflating: test/rock/27.jpg        \n",
            "  inflating: test/rock/0.jpg         \n",
            "  inflating: test/rock/93.jpg        \n",
            "  inflating: test/rock/18.jpg        \n",
            "  inflating: test/rock/65.jpg        \n",
            "  inflating: test/rock/2.jpg         \n",
            "  inflating: test/rock/68.jpg        \n",
            "  inflating: test/rock/49.jpg        \n",
            "  inflating: test/rock/23.jpg        \n",
            "  inflating: test/rock/91.jpg        \n",
            "  inflating: test/rock/50.jpg        \n",
            "  inflating: test/rock/46.jpg        \n",
            "  inflating: test/rock/72.jpg        \n",
            "  inflating: test/rock/70.jpg        \n",
            "  inflating: test/rock/52.jpg        \n",
            "  inflating: test/rock/82.jpg        \n",
            "  inflating: test/rock/44.jpg        \n",
            "  inflating: test/rock/96.jpg        \n",
            "  inflating: test/rock/36.jpg        \n",
            "  inflating: test/rock/60.jpg        \n",
            "  inflating: test/rock/90.jpg        \n",
            "  inflating: test/rock/4.jpg         \n",
            "  inflating: test/rock/75.jpg        \n",
            "  inflating: test/rock/3.jpg         \n",
            "  inflating: test/rock/64.jpg        \n",
            "  inflating: test/rock/19.jpg        \n",
            "  inflating: test/rock/22.jpg        \n",
            "  inflating: test/rock/77.jpg        \n",
            "  inflating: test/rock/95.jpg        \n",
            "  inflating: test/rock/76.jpg        \n",
            "  inflating: test/rock/6.jpg         \n",
            "  inflating: test/rock/33.jpg        \n",
            "  inflating: test/rock/26.jpg        \n",
            "  inflating: test/rock/99.jpg        \n",
            "  inflating: test/rock/11.jpg        \n",
            "  inflating: test/rock/9.jpg         \n",
            "  inflating: test/rock/89.jpg        \n",
            "  inflating: test/rock/66.jpg        \n",
            "  inflating: test/rock/42.jpg        \n",
            "  inflating: test/rock/12.jpg        \n",
            "  inflating: test/rock/92.jpg        \n",
            "  inflating: test/rock/20.jpg        \n",
            "  inflating: test/rock/10.jpg        \n",
            "  inflating: test/rock/97.jpg        \n",
            "  inflating: test/rock/29.jpg        \n",
            "  inflating: test/rock/83.jpg        \n",
            "  inflating: test/rock/24.jpg        \n",
            "  inflating: test/rock/5.jpg         \n",
            "  inflating: test/rock/80.jpg        \n",
            "  inflating: test/rock/31.jpg        \n",
            "  inflating: test/rock/71.jpg        \n",
            "  inflating: test/rock/15.jpg        \n",
            "  inflating: test/rock/53.jpg        \n",
            "  inflating: test/rock/74.jpg        \n",
            "  inflating: test/rock/85.jpg        \n",
            "  inflating: test/rock/63.jpg        \n",
            "  inflating: test/rock/78.jpg        \n",
            "  inflating: test/rock/98.jpg        \n",
            "  inflating: test/rock/59.jpg        \n",
            "  inflating: test/rock/58.jpg        \n",
            "  inflating: test/rock/16.jpg        \n",
            "  inflating: test/rock/87.jpg        \n",
            "  inflating: test/rock/25.jpg        \n",
            "  inflating: test/rock/34.jpg        \n",
            "  inflating: test/rock/41.jpg        \n",
            "  inflating: test/rock/79.jpg        \n",
            "   creating: test/paper/\n",
            "  inflating: test/paper/73.jpg       \n",
            "  inflating: test/paper/56.jpg       \n",
            "  inflating: test/paper/35.jpg       \n",
            "  inflating: test/paper/86.jpg       \n",
            "  inflating: test/paper/61.jpg       \n",
            "  inflating: test/paper/14.jpg       \n",
            "  inflating: test/paper/54.jpg       \n",
            "  inflating: test/paper/57.jpg       \n",
            "  inflating: test/paper/84.jpg       \n",
            "  inflating: test/paper/94.jpg       \n",
            "  inflating: test/paper/47.jpg       \n",
            "  inflating: test/paper/88.jpg       \n",
            "  inflating: test/paper/67.jpg       \n",
            "  inflating: test/paper/51.jpg       \n",
            "  inflating: test/paper/21.jpg       \n",
            "  inflating: test/paper/48.jpg       \n",
            "  inflating: test/paper/1.jpg        \n",
            "  inflating: test/paper/43.jpg       \n",
            "  inflating: test/paper/13.jpg       \n",
            "  inflating: test/paper/69.jpg       \n",
            "  inflating: test/paper/28.jpg       \n",
            "  inflating: test/paper/17.jpg       \n",
            "  inflating: test/paper/81.jpg       \n",
            "  inflating: test/paper/62.jpg       \n",
            "  inflating: test/paper/45.jpg       \n",
            "  inflating: test/paper/7.jpg        \n",
            "  inflating: test/paper/32.jpg       \n",
            "  inflating: test/paper/55.jpg       \n",
            "  inflating: test/paper/40.jpg       \n",
            "  inflating: test/paper/30.jpg       \n",
            "  inflating: test/paper/8.jpg        \n",
            "  inflating: test/paper/38.jpg       \n",
            "  inflating: test/paper/37.jpg       \n",
            "  inflating: test/paper/39.jpg       \n",
            "  inflating: test/paper/27.jpg       \n",
            "  inflating: test/paper/0.jpg        \n",
            "  inflating: test/paper/93.jpg       \n",
            "  inflating: test/paper/18.jpg       \n",
            "  inflating: test/paper/65.jpg       \n",
            "  inflating: test/paper/2.jpg        \n",
            "  inflating: test/paper/68.jpg       \n",
            "  inflating: test/paper/49.jpg       \n",
            "  inflating: test/paper/23.jpg       \n",
            "  inflating: test/paper/91.jpg       \n",
            "  inflating: test/paper/50.jpg       \n",
            "  inflating: test/paper/46.jpg       \n",
            "  inflating: test/paper/72.jpg       \n",
            "  inflating: test/paper/70.jpg       \n",
            "  inflating: test/paper/52.jpg       \n",
            "  inflating: test/paper/82.jpg       \n",
            "  inflating: test/paper/44.jpg       \n",
            "  inflating: test/paper/96.jpg       \n",
            "  inflating: test/paper/36.jpg       \n",
            "  inflating: test/paper/60.jpg       \n",
            "  inflating: test/paper/90.jpg       \n",
            "  inflating: test/paper/4.jpg        \n",
            "  inflating: test/paper/75.jpg       \n",
            "  inflating: test/paper/3.jpg        \n",
            "  inflating: test/paper/64.jpg       \n",
            "  inflating: test/paper/19.jpg       \n",
            "  inflating: test/paper/22.jpg       \n",
            "  inflating: test/paper/77.jpg       \n",
            "  inflating: test/paper/95.jpg       \n",
            "  inflating: test/paper/76.jpg       \n",
            "  inflating: test/paper/6.jpg        \n",
            "  inflating: test/paper/33.jpg       \n",
            "  inflating: test/paper/26.jpg       \n",
            "  inflating: test/paper/99.jpg       \n",
            "  inflating: test/paper/11.jpg       \n",
            "  inflating: test/paper/9.jpg        \n",
            "  inflating: test/paper/89.jpg       \n",
            "  inflating: test/paper/66.jpg       \n",
            "  inflating: test/paper/42.jpg       \n",
            "  inflating: test/paper/12.jpg       \n",
            "  inflating: test/paper/92.jpg       \n",
            "  inflating: test/paper/20.jpg       \n",
            "  inflating: test/paper/10.jpg       \n",
            "  inflating: test/paper/97.jpg       \n",
            "  inflating: test/paper/29.jpg       \n",
            "  inflating: test/paper/83.jpg       \n",
            "  inflating: test/paper/24.jpg       \n",
            "  inflating: test/paper/5.jpg        \n",
            "  inflating: test/paper/80.jpg       \n",
            "  inflating: test/paper/31.jpg       \n",
            "  inflating: test/paper/71.jpg       \n",
            "  inflating: test/paper/15.jpg       \n",
            "  inflating: test/paper/53.jpg       \n",
            "  inflating: test/paper/74.jpg       \n",
            "  inflating: test/paper/85.jpg       \n",
            "  inflating: test/paper/63.jpg       \n",
            "  inflating: test/paper/78.jpg       \n",
            "  inflating: test/paper/98.jpg       \n",
            "  inflating: test/paper/59.jpg       \n",
            "  inflating: test/paper/58.jpg       \n",
            "  inflating: test/paper/16.jpg       \n",
            "  inflating: test/paper/87.jpg       \n",
            "  inflating: test/paper/25.jpg       \n",
            "  inflating: test/paper/34.jpg       \n",
            "  inflating: test/paper/41.jpg       \n",
            "  inflating: test/paper/79.jpg       \n"
          ]
        }
      ]
    },
    {
      "cell_type": "code",
      "metadata": {
        "id": "0rT10VnjDa9k"
      },
      "source": [
        "datapath = \"/content/\"\n",
        "list_path=[\"paper\",\"scissor\",\"rock\"]"
      ],
      "execution_count": null,
      "outputs": []
    },
    {
      "cell_type": "code",
      "metadata": {
        "id": "1eipUmyRFclg"
      },
      "source": [
        "imgs = np.array([])\n",
        "labels = np.array([])"
      ],
      "execution_count": null,
      "outputs": []
    },
    {
      "cell_type": "code",
      "metadata": {
        "id": "PCx8Rv0tMzao"
      },
      "source": [
        "rgb_weights = [0.2989, 0.5870, 0.1140]"
      ],
      "execution_count": null,
      "outputs": []
    },
    {
      "cell_type": "code",
      "metadata": {
        "id": "b3PPbOEdDbFH"
      },
      "source": [
        "for choice in list_path:\n",
        "  with os.scandir(datapath + choice) as img_path:\n",
        "    label_dic = {'rock':0,'paper':1,'scissor':2}\n",
        "    label = label_dic[choice]\n",
        "    for idx,img in enumerate(img_path):\n",
        "\n",
        "      read_img = np.array(Image.open(os.path.join(datapath+choice,img)).resize((28,28),Image.ANTIALIAS))\n",
        "      read_img = np.dot(read_img[...,:3],rgb_weights).reshape((1,1,28,28))\n",
        "      if len(imgs) != 0:\n",
        "        imgs = np.append(imgs,read_img,axis=0)\n",
        "      else:\n",
        "        imgs = np.array(read_img)\n",
        "        labels = np.array([label])"
      ],
      "execution_count": null,
      "outputs": []
    },
    {
      "cell_type": "code",
      "metadata": {
        "colab": {
          "base_uri": "https://localhost:8080/",
          "height": 283
        },
        "id": "w6V8iuPRDbHb",
        "outputId": "94477300-be64-45d3-84c2-59c1ec60a733"
      },
      "source": [
        "plt.imshow(imgs[0][0,:],cmap = plt.get_cmap(\"gray\"))"
      ],
      "execution_count": null,
      "outputs": [
        {
          "output_type": "execute_result",
          "data": {
            "text/plain": [
              "<matplotlib.image.AxesImage at 0x7f53ce389cd0>"
            ]
          },
          "metadata": {},
          "execution_count": 77
        },
        {
          "output_type": "display_data",
          "data": {
            "image/png": "[encoded data removed]",
            "text/plain": [
              "<Figure size 432x288 with 1 Axes>"
            ]
          },
          "metadata": {
            "needs_background": "light"
          }
        }
      ]
    },
    {
      "cell_type": "code",
      "metadata": {
        "id": "gBPLyM8e30dp"
      },
      "source": [
        "import torchvision.transforms as transforms\n",
        "class CustomDataset(torch.utils.data.Dataset):\n",
        "    \n",
        "    def __init__(self,datapath,list_path,transform=None ):\n",
        "      self.datapath = datapath\n",
        "      self.list_path = list_path\n",
        "      self.label_dic = {'rock':0,'paper':1,'scissor':2}\n",
        "      self.rgb_weights = [0.2989, 0.5870, 0.1140]\n",
        "      self.transform = transform\n",
        "      self.img_path_list=[]\n",
        "      for choice in self.list_path:\n",
        "          self.img_path_list.extend([self.datapath+choice+'/'+x for x in os.listdir(self.datapath + choice)])\n",
        "    def __len__(self):\n",
        "      return len(self.img_path_list)\n",
        "\n",
        "    def __getitem__(self, idx):\n",
        "      path = img_path_list[idx]\n",
        "      #label=torch.Tensor([self.label_dic[path.split('/')[-2]]]).type(torch.long)\n",
        "      label = self.label_dic[path.split('/')[-2]]\n",
        "      if self.transform == None:\n",
        "          read_img = Image.open(path)\n",
        "          transform = transforms.Compose([transforms.PILToTensor(),transforms.ConvertImageDtype(torch.float),transforms.Resize((28,28),antialias=False)#,transforms.Grayscale(num_output_channels=1),\n",
        "                                         #transforms.Normalize((0.5,0.5,0.5),(1,1,1))\n",
        "                                         ])\n",
        "          read_img = transform(read_img)\n",
        "      else:\n",
        "          self.transform(Image.open(path))\n",
        "      \n",
        "\n",
        "      return read_img, label"
      ],
      "execution_count": null,
      "outputs": []
    },
    {
      "cell_type": "code",
      "metadata": {
        "id": "izRRwoobdkgZ"
      },
      "source": [
        "datapath = \"/content/\"\n",
        "list_path=[\"paper\",\"scissor\",\"rock\"]"
      ],
      "execution_count": null,
      "outputs": []
    },
    {
      "cell_type": "code",
      "metadata": {
        "id": "WTRNZW75ZToH"
      },
      "source": [
        "train_set = CustomDataset(datapath,list_path)"
      ],
      "execution_count": null,
      "outputs": []
    },
    {
      "cell_type": "code",
      "metadata": {
        "id": "yWHZJQS7Z1y0"
      },
      "source": [
        "test_set = CustomDataset(datapath+'test/',list_path)"
      ],
      "execution_count": null,
      "outputs": []
    },
    {
      "cell_type": "code",
      "metadata": {
        "id": "CTGydRpOUlAJ"
      },
      "source": [
        "from torch.utils.data import DataLoader\n",
        "train_load = DataLoader(train_set,batch_size=20,shuffle=True)\n",
        "test_load = DataLoader(test_set,batch_size=20,shuffle=True)"
      ],
      "execution_count": null,
      "outputs": []
    },
    {
      "cell_type": "code",
      "metadata": {
        "colab": {
          "base_uri": "https://localhost:8080/",
          "height": 264
        },
        "id": "qUqx4AYqlIK5",
        "outputId": "2b49d855-7955-44ea-b7a8-8b0668b02ae8"
      },
      "source": [
        "plt.imshow((train_set[2][0]).permute(1,2,0))\n",
        "plt.show()"
      ],
      "execution_count": null,
      "outputs": [
        {
          "output_type": "display_data",
          "data": {
            "image/png": "[encoded data removed]",
            "text/plain": [
              "<Figure size 432x288 with 1 Axes>"
            ]
          },
          "metadata": {
            "needs_background": "light"
          }
        }
      ]
    },
    {
      "cell_type": "code",
      "metadata": {
        "colab": {
          "base_uri": "https://localhost:8080/"
        },
        "id": "m92j0lxx5dbu",
        "outputId": "2abcde37-e0e1-45f3-e810-89070cd6e42e"
      },
      "source": [
        "train_set[0][0]"
      ],
      "execution_count": null,
      "outputs": [
        {
          "output_type": "execute_result",
          "data": {
            "text/plain": [
              "tensor([[[-0.1137, -0.1333, -0.1618,  ...,  0.1441,  0.0324,  0.0863],\n",
              "         [-0.1206, -0.1510, -0.1520,  ...,  0.0657,  0.0971,  0.0833],\n",
              "         [-0.0941, -0.1343, -0.1745,  ...,  0.1225,  0.0882,  0.1167],\n",
              "         ...,\n",
              "         [-0.0627, -0.1980, -0.3069,  ..., -0.0784, -0.0627, -0.0461],\n",
              "         [-0.0480, -0.2284,  0.2520,  ..., -0.0657, -0.0931, -0.0225],\n",
              "         [-0.0725,  0.2441,  0.3255,  ..., -0.0549, -0.0157, -0.0196]],\n",
              "\n",
              "        [[-0.0784, -0.1039, -0.1343,  ...,  0.1402,  0.0304,  0.0863],\n",
              "         [-0.0814, -0.1235, -0.1343,  ...,  0.0618,  0.1029,  0.0794],\n",
              "         [-0.0627, -0.1029, -0.1471,  ...,  0.1186,  0.0765,  0.1147],\n",
              "         ...,\n",
              "         [-0.0657, -0.2020, -0.3598,  ..., -0.0794, -0.0588, -0.0480],\n",
              "         [-0.0804, -0.2480,  0.0931,  ..., -0.0618, -0.0951, -0.0363],\n",
              "         [-0.1049,  0.0647,  0.1088,  ..., -0.0627, -0.0235, -0.0284]],\n",
              "\n",
              "        [[-0.0510, -0.0863, -0.1069,  ...,  0.1206,  0.0098,  0.0549],\n",
              "         [-0.0363, -0.0745, -0.1049,  ...,  0.0461,  0.0833,  0.0676],\n",
              "         [-0.0275, -0.0814, -0.1157,  ...,  0.0990,  0.0578,  0.1020],\n",
              "         ...,\n",
              "         [-0.0882, -0.2098, -0.3559,  ..., -0.0873, -0.0392, -0.0510],\n",
              "         [-0.1127, -0.2657, -0.0549,  ..., -0.0500, -0.0814, -0.0225],\n",
              "         [-0.1167, -0.0578, -0.0480,  ..., -0.0510, -0.0078, -0.0069]]])"
            ]
          },
          "metadata": {},
          "execution_count": 627
        }
      ]
    },
    {
      "cell_type": "code",
      "metadata": {
        "colab": {
          "base_uri": "https://localhost:8080/"
        },
        "id": "11IiwF3Cnogs",
        "outputId": "0529e734-f966-4e39-da82-bf9c94fd4e35"
      },
      "source": [
        "test_set[0][0].shape"
      ],
      "execution_count": null,
      "outputs": [
        {
          "output_type": "execute_result",
          "data": {
            "text/plain": [
              "torch.Size([3, 28, 28])"
            ]
          },
          "metadata": {},
          "execution_count": 564
        }
      ]
    },
    {
      "cell_type": "code",
      "metadata": {
        "colab": {
          "base_uri": "https://localhost:8080/"
        },
        "id": "6a_F40_hpqza",
        "outputId": "d6329512-72a4-4307-c124-0780dc03bd59"
      },
      "source": [
        "test_set[0][1]"
      ],
      "execution_count": null,
      "outputs": [
        {
          "output_type": "execute_result",
          "data": {
            "text/plain": [
              "1"
            ]
          },
          "metadata": {},
          "execution_count": 565
        }
      ]
    },
    {
      "cell_type": "markdown",
      "metadata": {
        "id": "x1wbdoQZ5hdS"
      },
      "source": [
        "모델"
      ]
    },
    {
      "cell_type": "code",
      "metadata": {
        "id": "HOjTyd005gjR"
      },
      "source": [
        "import torch\n",
        "import torch.nn as nn"
      ],
      "execution_count": null,
      "outputs": []
    },
    {
      "cell_type": "code",
      "metadata": {
        "id": "kgJX-msB5gnn"
      },
      "source": [
        "class RSPModel(nn.Module):\n",
        "\n",
        "\n",
        "    def __init__(self):\n",
        "        super().__init__()\n",
        "        self.conv1 = nn.Conv2d(3,32,kernel_size=(4,4),padding='same')\n",
        "        self.conv2 = nn.Conv2d(32,256,kernel_size=(4,4),padding='same')\n",
        "        \n",
        "        self.max_pool1 = nn.MaxPool2d((2,2))\n",
        "        self.max_pool2 = nn.MaxPool2d((2,2))\n",
        "\n",
        "        self.relu1 = nn.ReLU()\n",
        "        self.relu2 = nn.ReLU()\n",
        "        self.relu3 = nn.ReLU()\n",
        "\n",
        "        self.flatten = nn.Flatten()\n",
        "        self.linear1 = nn.Linear(256*7*7,128)\n",
        "        self.linear2 = nn.Linear(128,3)\n",
        "\n",
        "        self.softm = nn.Softmax(dim=1)\n",
        "\n",
        "    def forward(self,inputs):\n",
        "      x = self.conv1(inputs)\n",
        "      x = self.relu1(x)\n",
        "      x = self.max_pool1(x)\n",
        "    \n",
        "      x = self.conv2(x)\n",
        "      x = self.relu2(x)\n",
        "      x = self.max_pool2(x)\n",
        "\n",
        "      x = self.flatten(x)\n",
        "\n",
        "      x = self.linear1(x)\n",
        "      x = self.relu3(x)\n",
        "      x = self.linear2(x)\n",
        "      x = self.softm(x)\n",
        "      return x"
      ],
      "execution_count": null,
      "outputs": []
    },
    {
      "cell_type": "code",
      "metadata": {
        "id": "cRxj7zk_Taoc"
      },
      "source": [
        "from torchsummary import summary"
      ],
      "execution_count": null,
      "outputs": []
    },
    {
      "cell_type": "code",
      "metadata": {
        "colab": {
          "base_uri": "https://localhost:8080/"
        },
        "id": "FP8VodC2SABp",
        "outputId": "d7e2666a-79ac-426a-8538-f403d70ff8c7"
      },
      "source": [
        "summary(RSPModel(),(3,28,28))"
      ],
      "execution_count": null,
      "outputs": [
        {
          "output_type": "stream",
          "name": "stdout",
          "text": [
            "----------------------------------------------------------------\n",
            "        Layer (type)               Output Shape         Param #\n",
            "================================================================\n",
            "            Conv2d-1           [-1, 32, 28, 28]           1,568\n",
            "              ReLU-2           [-1, 32, 28, 28]               0\n",
            "         MaxPool2d-3           [-1, 32, 14, 14]               0\n",
            "            Conv2d-4          [-1, 256, 14, 14]         131,328\n",
            "              ReLU-5          [-1, 256, 14, 14]               0\n",
            "         MaxPool2d-6            [-1, 256, 7, 7]               0\n",
            "           Flatten-7                [-1, 12544]               0\n",
            "            Linear-8                  [-1, 128]       1,605,760\n",
            "              ReLU-9                  [-1, 128]               0\n",
            "           Linear-10                    [-1, 3]             387\n",
            "          Softmax-11                    [-1, 3]               0\n",
            "================================================================\n",
            "Total params: 1,739,043\n",
            "Trainable params: 1,739,043\n",
            "Non-trainable params: 0\n",
            "----------------------------------------------------------------\n",
            "Input size (MB): 0.01\n",
            "Forward/backward pass size (MB): 1.39\n",
            "Params size (MB): 6.63\n",
            "Estimated Total Size (MB): 8.03\n",
            "----------------------------------------------------------------\n"
          ]
        }
      ]
    },
    {
      "cell_type": "code",
      "metadata": {
        "id": "MkEmS41HwcuK"
      },
      "source": [
        ""
      ],
      "execution_count": null,
      "outputs": []
    },
    {
      "cell_type": "markdown",
      "metadata": {
        "id": "OyFgMZoqwdXT"
      },
      "source": [
        "훈련"
      ]
    },
    {
      "cell_type": "code",
      "metadata": {
        "id": "mDiNMf9ihjjk"
      },
      "source": [
        "device = \"cuda\" if torch.cuda.is_available() else \"cpu\""
      ],
      "execution_count": null,
      "outputs": []
    },
    {
      "cell_type": "code",
      "metadata": {
        "id": "92L2jZ2R3bF7"
      },
      "source": [
        ""
      ],
      "execution_count": null,
      "outputs": []
    },
    {
      "cell_type": "code",
      "metadata": {
        "id": "H2tH4VVMTowI"
      },
      "source": [
        "def train(dataloader, model, loss_fn, optimizer):\n",
        "    size = len(dataloader.dataset)\n",
        "    model.train()\n",
        "    for batch, (X, y) in enumerate(dataloader):\n",
        "        X, y = X.to(device), y.to(device)\n",
        "\n",
        "        pred = model(X)\n",
        "        loss = loss_fn(pred, y)\n",
        "\n",
        "        optimizer.zero_grad()\n",
        "        loss.backward()\n",
        "        optimizer.step()\n",
        "\n",
        "        if batch % 30 == 0:\n",
        "            loss, current = loss.item(), batch * len(X)\n",
        "            print(f\"loss: {loss:>7f}  [{current:>5d}/{size:>5d}]\")"
      ],
      "execution_count": null,
      "outputs": []
    },
    {
      "cell_type": "code",
      "metadata": {
        "id": "qwfofsQO5ov9"
      },
      "source": [
        "#end='\\r', flush=True)"
      ],
      "execution_count": null,
      "outputs": []
    },
    {
      "cell_type": "code",
      "metadata": {
        "id": "HnWecdQJToyz"
      },
      "source": [
        "def test(dataloader, model, loss_fn):\n",
        "    size = len(dataloader.dataset)\n",
        "    num_batches = len(dataloader)\n",
        "    model.eval()\n",
        "    test_loss, correct = 0, 0\n",
        "    with torch.no_grad():\n",
        "        for X, y in dataloader:\n",
        "            X, y = X.to(device), y.to(device)\n",
        "            pred = model(X)\n",
        "            test_loss += loss_fn(pred, y).item()\n",
        "            correct += (pred.argmax(1) == y).type(torch.float).sum().item()\n",
        "    test_loss /= num_batches\n",
        "    correct /= size\n",
        "    print(f\"Test Error: \\n Accuracy: {(100*correct):>0.1f}%, Avg loss: {test_loss:>8f} \\n\")"
      ],
      "execution_count": null,
      "outputs": []
    },
    {
      "cell_type": "code",
      "metadata": {
        "id": "DJlHy5HA_Ck3"
      },
      "source": [
        "def initialize_weights(m):\n",
        "  if isinstance(m, nn.Conv2d):\n",
        "      nn.init.kaiming_uniform_(m.weight.data,nonlinearity='relu')\n",
        "      if m.bias is not None:\n",
        "          nn.init.constant_(m.bias.data, 0)\n",
        "#  elif isinstance(m, nn.BatchNorm2d):\n",
        "#      nn.init.constant_(m.weight.data, 1)\n",
        "#      nn.init.constant_(m.bias.data, 0)\n",
        "  elif isinstance(m, nn.Linear):\n",
        "      nn.init.kaiming_uniform_(m.weight.data)\n",
        "      nn.init.constant_(m.bias.data, 0)\n",
        "#  classname = m.__class__.__name__\n",
        "#      if classname.find('Conv') != -1:"
      ],
      "execution_count": null,
      "outputs": []
    },
    {
      "cell_type": "code",
      "metadata": {
        "id": "eeKBq94xhgYS"
      },
      "source": [
        "model = RSPModel().to(device)"
      ],
      "execution_count": null,
      "outputs": []
    },
    {
      "cell_type": "code",
      "metadata": {
        "colab": {
          "base_uri": "https://localhost:8080/"
        },
        "id": "ABE6zqQU_AFd",
        "outputId": "3f671739-2e9a-403d-b3ad-af6ebf71b1df"
      },
      "source": [
        "model.apply(initialize_weights)"
      ],
      "execution_count": null,
      "outputs": [
        {
          "output_type": "execute_result",
          "data": {
            "text/plain": [
              "RSPModel(\n",
              "  (conv1): Conv2d(3, 32, kernel_size=(4, 4), stride=(1, 1), padding=same)\n",
              "  (conv2): Conv2d(32, 256, kernel_size=(4, 4), stride=(1, 1), padding=same)\n",
              "  (max_pool1): MaxPool2d(kernel_size=(2, 2), stride=(2, 2), padding=0, dilation=1, ceil_mode=False)\n",
              "  (max_pool2): MaxPool2d(kernel_size=(2, 2), stride=(2, 2), padding=0, dilation=1, ceil_mode=False)\n",
              "  (relu1): ReLU()\n",
              "  (relu2): ReLU()\n",
              "  (relu3): ReLU()\n",
              "  (flatten): Flatten(start_dim=1, end_dim=-1)\n",
              "  (linear1): Linear(in_features=12544, out_features=128, bias=True)\n",
              "  (linear2): Linear(in_features=128, out_features=3, bias=True)\n",
              "  (softm): Softmax(dim=1)\n",
              ")"
            ]
          },
          "metadata": {},
          "execution_count": 686
        }
      ]
    },
    {
      "cell_type": "code",
      "metadata": {
        "id": "KOscj690BEc6"
      },
      "source": [
        "#원 핫 인코딩일시 sse 등 이용\n",
        "loss_fn = nn.CrossEntropyLoss()\n",
        "\n",
        "optimizer = torch.optim.SGD(model.parameters(), lr=1e-4, momentum=0.8)"
      ],
      "execution_count": null,
      "outputs": []
    },
    {
      "cell_type": "code",
      "metadata": {
        "id": "8wXHOqqd8WjR"
      },
      "source": [
        ""
      ],
      "execution_count": null,
      "outputs": []
    },
    {
      "cell_type": "code",
      "metadata": {
        "id": "mcXdzLE6TotM"
      },
      "source": [
        ""
      ],
      "execution_count": null,
      "outputs": []
    },
    {
      "cell_type": "code",
      "metadata": {
        "colab": {
          "base_uri": "https://localhost:8080/"
        },
        "id": "jNIhUuTUTo1j",
        "outputId": "522c7658-1d26-45e6-cff2-4867d612d1eb"
      },
      "source": [
        "epochs = 20 # 100 before.\n",
        "for t in range(epochs):\n",
        "    print(f\"Epoch {t+1}\\n-------------------------------\")\n",
        "    train(train_load, model, loss_fn, optimizer)\n",
        "\n",
        "\n",
        "\n",
        "print(\"Done!\")"
      ],
      "execution_count": null,
      "outputs": [
        {
          "output_type": "stream",
          "name": "stdout",
          "text": [
            "Epoch 1\n",
            "-------------------------------\n",
            "loss: 0.690237  [    0/  300]\n",
            "Epoch 2\n",
            "-------------------------------\n",
            "loss: 0.699108  [    0/  300]\n",
            "Epoch 3\n",
            "-------------------------------\n",
            "loss: 0.701858  [    0/  300]\n",
            "Epoch 4\n",
            "-------------------------------\n",
            "loss: 0.695202  [    0/  300]\n",
            "Epoch 5\n",
            "-------------------------------\n",
            "loss: 0.691370  [    0/  300]\n",
            "Epoch 6\n",
            "-------------------------------\n",
            "loss: 0.726126  [    0/  300]\n",
            "Epoch 7\n",
            "-------------------------------\n",
            "loss: 0.693208  [    0/  300]\n",
            "Epoch 8\n",
            "-------------------------------\n",
            "loss: 0.719257  [    0/  300]\n",
            "Epoch 9\n",
            "-------------------------------\n",
            "loss: 0.778880  [    0/  300]\n",
            "Epoch 10\n",
            "-------------------------------\n",
            "loss: 0.637828  [    0/  300]\n",
            "Epoch 11\n",
            "-------------------------------\n",
            "loss: 0.734966  [    0/  300]\n",
            "Epoch 12\n",
            "-------------------------------\n",
            "loss: 0.727820  [    0/  300]\n",
            "Epoch 13\n",
            "-------------------------------\n",
            "loss: 0.636246  [    0/  300]\n",
            "Epoch 14\n",
            "-------------------------------\n",
            "loss: 0.681537  [    0/  300]\n",
            "Epoch 15\n",
            "-------------------------------\n",
            "loss: 0.728415  [    0/  300]\n",
            "Epoch 16\n",
            "-------------------------------\n",
            "loss: 0.665458  [    0/  300]\n",
            "Epoch 17\n",
            "-------------------------------\n",
            "loss: 0.683982  [    0/  300]\n",
            "Epoch 18\n",
            "-------------------------------\n",
            "loss: 0.629564  [    0/  300]\n",
            "Epoch 19\n",
            "-------------------------------\n",
            "loss: 0.665845  [    0/  300]\n",
            "Epoch 20\n",
            "-------------------------------\n",
            "loss: 0.689998  [    0/  300]\n",
            "Done!\n"
          ]
        }
      ]
    },
    {
      "cell_type": "code",
      "metadata": {
        "colab": {
          "base_uri": "https://localhost:8080/"
        },
        "id": "hLMG-hv23fV7",
        "outputId": "0aa8cb3d-36cd-419b-d7d1-6e29533f61b4"
      },
      "source": [
        "test(test_load, model, loss_fn)"
      ],
      "execution_count": null,
      "outputs": [
        {
          "output_type": "stream",
          "name": "stdout",
          "text": [
            "Test Error: \n",
            " Accuracy: 94.0%, Avg loss: 0.685838 \n",
            "\n"
          ]
        }
      ]
    },
    {
      "cell_type": "code",
      "metadata": {
        "colab": {
          "base_uri": "https://localhost:8080/"
        },
        "id": "0M_acH53To39",
        "outputId": "5e352879-6132-4c55-8414-5b2bbb1ce4bb"
      },
      "source": [
        "model(test_set[200][0].unsqueeze(0)).argmax(1) == test_set[200][1]"
      ],
      "execution_count": null,
      "outputs": [
        {
          "output_type": "execute_result",
          "data": {
            "text/plain": [
              "tensor([True])"
            ]
          },
          "metadata": {},
          "execution_count": 690
        }
      ]
    },
    {
      "cell_type": "code",
      "metadata": {
        "colab": {
          "base_uri": "https://localhost:8080/"
        },
        "id": "6ivQhya1zL6-",
        "outputId": "bc450f3d-7240-4127-bbc8-6aea04c4642c"
      },
      "source": [
        "model(test_set[105][0].unsqueeze(0))"
      ],
      "execution_count": null,
      "outputs": [
        {
          "output_type": "execute_result",
          "data": {
            "text/plain": [
              "tensor([[3.8708e-12, 1.0000e+00, 8.5816e-10]], grad_fn=<SoftmaxBackward0>)"
            ]
          },
          "metadata": {},
          "execution_count": 683
        }
      ]
    },
    {
      "cell_type": "code",
      "metadata": {
        "colab": {
          "base_uri": "https://localhost:8080/"
        },
        "id": "VVgTuVSqy2me",
        "outputId": "c9b95322-7ab2-4395-cf4e-8bdc67e8f71e"
      },
      "source": [
        "test_set[101][1]"
      ],
      "execution_count": null,
      "outputs": [
        {
          "output_type": "execute_result",
          "data": {
            "text/plain": [
              "2"
            ]
          },
          "metadata": {},
          "execution_count": 680
        }
      ]
    },
    {
      "cell_type": "code",
      "metadata": {
        "colab": {
          "base_uri": "https://localhost:8080/",
          "height": 283
        },
        "id": "--CdVOYeNbQg",
        "outputId": "b5d75f8e-7155-4160-ae3f-1d895b0adc28"
      },
      "source": [
        "plt.imshow(test_set[101][0].permute(1,2,0))"
      ],
      "execution_count": null,
      "outputs": [
        {
          "output_type": "execute_result",
          "data": {
            "text/plain": [
              "<matplotlib.image.AxesImage at 0x7f53c6f56310>"
            ]
          },
          "metadata": {},
          "execution_count": 681
        },
        {
          "output_type": "display_data",
          "data": {
            "image/png": "[encoded data removed]",
            "text/plain": [
              "<Figure size 432x288 with 1 Axes>"
            ]
          },
          "metadata": {
            "needs_background": "light"
          }
        }
      ]
    },
    {
      "cell_type": "code",
      "metadata": {
        "colab": {
          "base_uri": "https://localhost:8080/"
        },
        "id": "q4mB0fakB7jp",
        "outputId": "e7f41428-e1eb-4ef0-825e-b0c735b99866"
      },
      "source": [
        "model(test_set[101][0].unsqueeze(0))\n",
        "print(loss_fn(model(test_set[101][0].unsqueeze(0)),torch.Tensor([test_set[101][1]]).type(torch.long)))"
      ],
      "execution_count": null,
      "outputs": [
        {
          "output_type": "stream",
          "name": "stdout",
          "text": [
            "tensor(0.5664, grad_fn=<NllLossBackward0>)\n"
          ]
        }
      ]
    },
    {
      "cell_type": "code",
      "metadata": {
        "colab": {
          "base_uri": "https://localhost:8080/"
        },
        "id": "NZCoMV_fH4BH",
        "outputId": "862feedd-2dca-46af-8c0f-088a62189463"
      },
      "source": [
        "nn.functional.softmax(model(test_set[100][0].unsqueeze(0))).argmax(1)"
      ],
      "execution_count": null,
      "outputs": [
        {
          "output_type": "stream",
          "name": "stderr",
          "text": [
            "/usr/local/lib/python3.7/dist-packages/ipykernel_launcher.py:1: UserWarning: Implicit dimension choice for softmax has been deprecated. Change the call to include dim=X as an argument.\n",
            "  \"\"\"Entry point for launching an IPython kernel.\n"
          ]
        },
        {
          "output_type": "execute_result",
          "data": {
            "text/plain": [
              "tensor([2])"
            ]
          },
          "metadata": {},
          "execution_count": 694
        }
      ]
    }
  ]
}