{
  "nbformat": 4,
  "nbformat_minor": 0,
  "metadata": {
    "colab": {
      "name": "ex_dudrn_first.ipynb",
      "provenance": [],
      "collapsed_sections": [],
      "mount_file_id": "1LIq6VX17ecvLVZF9tWKPrf2pIL-1dSQl",
      "authorship_tag": "ABX9TyNspFK3g3mcwypKAd58BAdA",
      "include_colab_link": true
    },
    "kernelspec": {
      "name": "python3",
      "display_name": "Python 3"
    },
    "language_info": {
      "name": "python"
    },
    "accelerator": "GPU",
    "widgets": {
      "application/vnd.jupyter.widget-state+json": {
        "eb383e8420b84cd9888eee1a96986471": {
          "model_module": "@jupyter-widgets/controls",
          "model_name": "HBoxModel",
          "model_module_version": "1.5.0",
          "state": {
            "_view_name": "HBoxView",
            "_dom_classes": [],
            "_model_name": "HBoxModel",
            "_view_module": "@jupyter-widgets/controls",
            "_model_module_version": "1.5.0",
            "_view_count": null,
            "_view_module_version": "1.5.0",
            "box_style": "",
            "layout": "IPY_MODEL_34e12986287b4f1f9215c62757d54b1a",
            "_model_module": "@jupyter-widgets/controls",
            "children": [
              "IPY_MODEL_a52e5aa67b9c4014af4e15b5d4d8aa10",
              "IPY_MODEL_9de340ac60fa4355855b90d43a2e8438",
              "IPY_MODEL_ba2f3912ade84f4daf866b519b4fafd2"
            ]
          }
        },
        "34e12986287b4f1f9215c62757d54b1a": {
          "model_module": "@jupyter-widgets/base",
          "model_name": "LayoutModel",
          "model_module_version": "1.2.0",
          "state": {
            "_view_name": "LayoutView",
            "grid_template_rows": null,
            "right": null,
            "justify_content": null,
            "_view_module": "@jupyter-widgets/base",
            "overflow": null,
            "_model_module_version": "1.2.0",
            "_view_count": null,
            "flex_flow": null,
            "width": null,
            "min_width": null,
            "border": null,
            "align_items": null,
            "bottom": null,
            "_model_module": "@jupyter-widgets/base",
            "top": null,
            "grid_column": null,
            "overflow_y": null,
            "overflow_x": null,
            "grid_auto_flow": null,
            "grid_area": null,
            "grid_template_columns": null,
            "flex": null,
            "_model_name": "LayoutModel",
            "justify_items": null,
            "grid_row": null,
            "max_height": null,
            "align_content": null,
            "visibility": null,
            "align_self": null,
            "height": null,
            "min_height": null,
            "padding": null,
            "grid_auto_rows": null,
            "grid_gap": null,
            "max_width": null,
            "order": null,
            "_view_module_version": "1.2.0",
            "grid_template_areas": null,
            "object_position": null,
            "object_fit": null,
            "grid_auto_columns": null,
            "margin": null,
            "display": null,
            "left": null
          }
        },
        "a52e5aa67b9c4014af4e15b5d4d8aa10": {
          "model_module": "@jupyter-widgets/controls",
          "model_name": "HTMLModel",
          "model_module_version": "1.5.0",
          "state": {
            "_view_name": "HTMLView",
            "style": "IPY_MODEL_8464d1cbf1cd4c47a0378bac2bd0b266",
            "_dom_classes": [],
            "description": "",
            "_model_name": "HTMLModel",
            "placeholder": "​",
            "_view_module": "@jupyter-widgets/controls",
            "_model_module_version": "1.5.0",
            "value": "100%",
            "_view_count": null,
            "_view_module_version": "1.5.0",
            "description_tooltip": null,
            "_model_module": "@jupyter-widgets/controls",
            "layout": "IPY_MODEL_a01768e40fe34feeba639bf9b3c518de"
          }
        },
        "9de340ac60fa4355855b90d43a2e8438": {
          "model_module": "@jupyter-widgets/controls",
          "model_name": "FloatProgressModel",
          "model_module_version": "1.5.0",
          "state": {
            "_view_name": "ProgressView",
            "style": "IPY_MODEL_ddc31aefbc244d7ca7cd9e44a1634538",
            "_dom_classes": [],
            "description": "",
            "_model_name": "FloatProgressModel",
            "bar_style": "success",
            "max": 15,
            "_view_module": "@jupyter-widgets/controls",
            "_model_module_version": "1.5.0",
            "value": 15,
            "_view_count": null,
            "_view_module_version": "1.5.0",
            "orientation": "horizontal",
            "min": 0,
            "description_tooltip": null,
            "_model_module": "@jupyter-widgets/controls",
            "layout": "IPY_MODEL_555dfeff259a4bc58b9003c1c43676ea"
          }
        },
        "ba2f3912ade84f4daf866b519b4fafd2": {
          "model_module": "@jupyter-widgets/controls",
          "model_name": "HTMLModel",
          "model_module_version": "1.5.0",
          "state": {
            "_view_name": "HTMLView",
            "style": "IPY_MODEL_f21aec4908244b8ba0350c082c41e440",
            "_dom_classes": [],
            "description": "",
            "_model_name": "HTMLModel",
            "placeholder": "​",
            "_view_module": "@jupyter-widgets/controls",
            "_model_module_version": "1.5.0",
            "value": " 15/15 [00:09&lt;00:00,  1.52it/s]",
            "_view_count": null,
            "_view_module_version": "1.5.0",
            "description_tooltip": null,
            "_model_module": "@jupyter-widgets/controls",
            "layout": "IPY_MODEL_b47f9c03279d41d28eebcf6813666d86"
          }
        },
        "8464d1cbf1cd4c47a0378bac2bd0b266": {
          "model_module": "@jupyter-widgets/controls",
          "model_name": "DescriptionStyleModel",
          "model_module_version": "1.5.0",
          "state": {
            "_view_name": "StyleView",
            "_model_name": "DescriptionStyleModel",
            "description_width": "",
            "_view_module": "@jupyter-widgets/base",
            "_model_module_version": "1.5.0",
            "_view_count": null,
            "_view_module_version": "1.2.0",
            "_model_module": "@jupyter-widgets/controls"
          }
        },
        "a01768e40fe34feeba639bf9b3c518de": {
          "model_module": "@jupyter-widgets/base",
          "model_name": "LayoutModel",
          "model_module_version": "1.2.0",
          "state": {
            "_view_name": "LayoutView",
            "grid_template_rows": null,
            "right": null,
            "justify_content": null,
            "_view_module": "@jupyter-widgets/base",
            "overflow": null,
            "_model_module_version": "1.2.0",
            "_view_count": null,
            "flex_flow": null,
            "width": null,
            "min_width": null,
            "border": null,
            "align_items": null,
            "bottom": null,
            "_model_module": "@jupyter-widgets/base",
            "top": null,
            "grid_column": null,
            "overflow_y": null,
            "overflow_x": null,
            "grid_auto_flow": null,
            "grid_area": null,
            "grid_template_columns": null,
            "flex": null,
            "_model_name": "LayoutModel",
            "justify_items": null,
            "grid_row": null,
            "max_height": null,
            "align_content": null,
            "visibility": null,
            "align_self": null,
            "height": null,
            "min_height": null,
            "padding": null,
            "grid_auto_rows": null,
            "grid_gap": null,
            "max_width": null,
            "order": null,
            "_view_module_version": "1.2.0",
            "grid_template_areas": null,
            "object_position": null,
            "object_fit": null,
            "grid_auto_columns": null,
            "margin": null,
            "display": null,
            "left": null
          }
        },
        "ddc31aefbc244d7ca7cd9e44a1634538": {
          "model_module": "@jupyter-widgets/controls",
          "model_name": "ProgressStyleModel",
          "model_module_version": "1.5.0",
          "state": {
            "_view_name": "StyleView",
            "_model_name": "ProgressStyleModel",
            "description_width": "",
            "_view_module": "@jupyter-widgets/base",
            "_model_module_version": "1.5.0",
            "_view_count": null,
            "_view_module_version": "1.2.0",
            "bar_color": null,
            "_model_module": "@jupyter-widgets/controls"
          }
        },
        "555dfeff259a4bc58b9003c1c43676ea": {
          "model_module": "@jupyter-widgets/base",
          "model_name": "LayoutModel",
          "model_module_version": "1.2.0",
          "state": {
            "_view_name": "LayoutView",
            "grid_template_rows": null,
            "right": null,
            "justify_content": null,
            "_view_module": "@jupyter-widgets/base",
            "overflow": null,
            "_model_module_version": "1.2.0",
            "_view_count": null,
            "flex_flow": null,
            "width": null,
            "min_width": null,
            "border": null,
            "align_items": null,
            "bottom": null,
            "_model_module": "@jupyter-widgets/base",
            "top": null,
            "grid_column": null,
            "overflow_y": null,
            "overflow_x": null,
            "grid_auto_flow": null,
            "grid_area": null,
            "grid_template_columns": null,
            "flex": null,
            "_model_name": "LayoutModel",
            "justify_items": null,
            "grid_row": null,
            "max_height": null,
            "align_content": null,
            "visibility": null,
            "align_self": null,
            "height": null,
            "min_height": null,
            "padding": null,
            "grid_auto_rows": null,
            "grid_gap": null,
            "max_width": null,
            "order": null,
            "_view_module_version": "1.2.0",
            "grid_template_areas": null,
            "object_position": null,
            "object_fit": null,
            "grid_auto_columns": null,
            "margin": null,
            "display": null,
            "left": null
          }
        },
        "f21aec4908244b8ba0350c082c41e440": {
          "model_module": "@jupyter-widgets/controls",
          "model_name": "DescriptionStyleModel",
          "model_module_version": "1.5.0",
          "state": {
            "_view_name": "StyleView",
            "_model_name": "DescriptionStyleModel",
            "description_width": "",
            "_view_module": "@jupyter-widgets/base",
            "_model_module_version": "1.5.0",
            "_view_count": null,
            "_view_module_version": "1.2.0",
            "_model_module": "@jupyter-widgets/controls"
          }
        },
        "b47f9c03279d41d28eebcf6813666d86": {
          "model_module": "@jupyter-widgets/base",
          "model_name": "LayoutModel",
          "model_module_version": "1.2.0",
          "state": {
            "_view_name": "LayoutView",
            "grid_template_rows": null,
            "right": null,
            "justify_content": null,
            "_view_module": "@jupyter-widgets/base",
            "overflow": null,
            "_model_module_version": "1.2.0",
            "_view_count": null,
            "flex_flow": null,
            "width": null,
            "min_width": null,
            "border": null,
            "align_items": null,
            "bottom": null,
            "_model_module": "@jupyter-widgets/base",
            "top": null,
            "grid_column": null,
            "overflow_y": null,
            "overflow_x": null,
            "grid_auto_flow": null,
            "grid_area": null,
            "grid_template_columns": null,
            "flex": null,
            "_model_name": "LayoutModel",
            "justify_items": null,
            "grid_row": null,
            "max_height": null,
            "align_content": null,
            "visibility": null,
            "align_self": null,
            "height": null,
            "min_height": null,
            "padding": null,
            "grid_auto_rows": null,
            "grid_gap": null,
            "max_width": null,
            "order": null,
            "_view_module_version": "1.2.0",
            "grid_template_areas": null,
            "object_position": null,
            "object_fit": null,
            "grid_auto_columns": null,
            "margin": null,
            "display": null,
            "left": null
          }
        },
        "9f3a7197e87840eba533169b9a397743": {
          "model_module": "@jupyter-widgets/controls",
          "model_name": "HBoxModel",
          "model_module_version": "1.5.0",
          "state": {
            "_view_name": "HBoxView",
            "_dom_classes": [],
            "_model_name": "HBoxModel",
            "_view_module": "@jupyter-widgets/controls",
            "_model_module_version": "1.5.0",
            "_view_count": null,
            "_view_module_version": "1.5.0",
            "box_style": "",
            "layout": "IPY_MODEL_e78a87d840f54b2a921001618d7b63de",
            "_model_module": "@jupyter-widgets/controls",
            "children": [
              "IPY_MODEL_3ca59251fbcd4bb4a7963ffa70a0ca35",
              "IPY_MODEL_716de8ce77e4432abd060eaff7d2c303",
              "IPY_MODEL_333fca4b687740d7a3a4365227b20659"
            ]
          }
        },
        "e78a87d840f54b2a921001618d7b63de": {
          "model_module": "@jupyter-widgets/base",
          "model_name": "LayoutModel",
          "model_module_version": "1.2.0",
          "state": {
            "_view_name": "LayoutView",
            "grid_template_rows": null,
            "right": null,
            "justify_content": null,
            "_view_module": "@jupyter-widgets/base",
            "overflow": null,
            "_model_module_version": "1.2.0",
            "_view_count": null,
            "flex_flow": null,
            "width": null,
            "min_width": null,
            "border": null,
            "align_items": null,
            "bottom": null,
            "_model_module": "@jupyter-widgets/base",
            "top": null,
            "grid_column": null,
            "overflow_y": null,
            "overflow_x": null,
            "grid_auto_flow": null,
            "grid_area": null,
            "grid_template_columns": null,
            "flex": null,
            "_model_name": "LayoutModel",
            "justify_items": null,
            "grid_row": null,
            "max_height": null,
            "align_content": null,
            "visibility": null,
            "align_self": null,
            "height": null,
            "min_height": null,
            "padding": null,
            "grid_auto_rows": null,
            "grid_gap": null,
            "max_width": null,
            "order": null,
            "_view_module_version": "1.2.0",
            "grid_template_areas": null,
            "object_position": null,
            "object_fit": null,
            "grid_auto_columns": null,
            "margin": null,
            "display": null,
            "left": null
          }
        },
        "3ca59251fbcd4bb4a7963ffa70a0ca35": {
          "model_module": "@jupyter-widgets/controls",
          "model_name": "HTMLModel",
          "model_module_version": "1.5.0",
          "state": {
            "_view_name": "HTMLView",
            "style": "IPY_MODEL_75669cc3c5a84dc1ad705c0fbd4ffae4",
            "_dom_classes": [],
            "description": "",
            "_model_name": "HTMLModel",
            "placeholder": "​",
            "_view_module": "@jupyter-widgets/controls",
            "_model_module_version": "1.5.0",
            "value": "100%",
            "_view_count": null,
            "_view_module_version": "1.5.0",
            "description_tooltip": null,
            "_model_module": "@jupyter-widgets/controls",
            "layout": "IPY_MODEL_ffb4657d9d8345eca3df8931e89f0b51"
          }
        },
        "716de8ce77e4432abd060eaff7d2c303": {
          "model_module": "@jupyter-widgets/controls",
          "model_name": "FloatProgressModel",
          "model_module_version": "1.5.0",
          "state": {
            "_view_name": "ProgressView",
            "style": "IPY_MODEL_ca8d0aa1f724403db502d6023d41c39d",
            "_dom_classes": [],
            "description": "",
            "_model_name": "FloatProgressModel",
            "bar_style": "success",
            "max": 20,
            "_view_module": "@jupyter-widgets/controls",
            "_model_module_version": "1.5.0",
            "value": 20,
            "_view_count": null,
            "_view_module_version": "1.5.0",
            "orientation": "horizontal",
            "min": 0,
            "description_tooltip": null,
            "_model_module": "@jupyter-widgets/controls",
            "layout": "IPY_MODEL_11d726d3dee24abaab952a211c3da3c5"
          }
        },
        "333fca4b687740d7a3a4365227b20659": {
          "model_module": "@jupyter-widgets/controls",
          "model_name": "HTMLModel",
          "model_module_version": "1.5.0",
          "state": {
            "_view_name": "HTMLView",
            "style": "IPY_MODEL_44a36783882d476a8a427a592e293ca5",
            "_dom_classes": [],
            "description": "",
            "_model_name": "HTMLModel",
            "placeholder": "​",
            "_view_module": "@jupyter-widgets/controls",
            "_model_module_version": "1.5.0",
            "value": " 20/20 [00:00&lt;00:00, 30.29it/s]",
            "_view_count": null,
            "_view_module_version": "1.5.0",
            "description_tooltip": null,
            "_model_module": "@jupyter-widgets/controls",
            "layout": "IPY_MODEL_d2897b6666094ce08f6aa9d7c613b25a"
          }
        },
        "75669cc3c5a84dc1ad705c0fbd4ffae4": {
          "model_module": "@jupyter-widgets/controls",
          "model_name": "DescriptionStyleModel",
          "model_module_version": "1.5.0",
          "state": {
            "_view_name": "StyleView",
            "_model_name": "DescriptionStyleModel",
            "description_width": "",
            "_view_module": "@jupyter-widgets/base",
            "_model_module_version": "1.5.0",
            "_view_count": null,
            "_view_module_version": "1.2.0",
            "_model_module": "@jupyter-widgets/controls"
          }
        },
        "ffb4657d9d8345eca3df8931e89f0b51": {
          "model_module": "@jupyter-widgets/base",
          "model_name": "LayoutModel",
          "model_module_version": "1.2.0",
          "state": {
            "_view_name": "LayoutView",
            "grid_template_rows": null,
            "right": null,
            "justify_content": null,
            "_view_module": "@jupyter-widgets/base",
            "overflow": null,
            "_model_module_version": "1.2.0",
            "_view_count": null,
            "flex_flow": null,
            "width": null,
            "min_width": null,
            "border": null,
            "align_items": null,
            "bottom": null,
            "_model_module": "@jupyter-widgets/base",
            "top": null,
            "grid_column": null,
            "overflow_y": null,
            "overflow_x": null,
            "grid_auto_flow": null,
            "grid_area": null,
            "grid_template_columns": null,
            "flex": null,
            "_model_name": "LayoutModel",
            "justify_items": null,
            "grid_row": null,
            "max_height": null,
            "align_content": null,
            "visibility": null,
            "align_self": null,
            "height": null,
            "min_height": null,
            "padding": null,
            "grid_auto_rows": null,
            "grid_gap": null,
            "max_width": null,
            "order": null,
            "_view_module_version": "1.2.0",
            "grid_template_areas": null,
            "object_position": null,
            "object_fit": null,
            "grid_auto_columns": null,
            "margin": null,
            "display": null,
            "left": null
          }
        },
        "ca8d0aa1f724403db502d6023d41c39d": {
          "model_module": "@jupyter-widgets/controls",
          "model_name": "ProgressStyleModel",
          "model_module_version": "1.5.0",
          "state": {
            "_view_name": "StyleView",
            "_model_name": "ProgressStyleModel",
            "description_width": "",
            "_view_module": "@jupyter-widgets/base",
            "_model_module_version": "1.5.0",
            "_view_count": null,
            "_view_module_version": "1.2.0",
            "bar_color": null,
            "_model_module": "@jupyter-widgets/controls"
          }
        },
        "11d726d3dee24abaab952a211c3da3c5": {
          "model_module": "@jupyter-widgets/base",
          "model_name": "LayoutModel",
          "model_module_version": "1.2.0",
          "state": {
            "_view_name": "LayoutView",
            "grid_template_rows": null,
            "right": null,
            "justify_content": null,
            "_view_module": "@jupyter-widgets/base",
            "overflow": null,
            "_model_module_version": "1.2.0",
            "_view_count": null,
            "flex_flow": null,
            "width": null,
            "min_width": null,
            "border": null,
            "align_items": null,
            "bottom": null,
            "_model_module": "@jupyter-widgets/base",
            "top": null,
            "grid_column": null,
            "overflow_y": null,
            "overflow_x": null,
            "grid_auto_flow": null,
            "grid_area": null,
            "grid_template_columns": null,
            "flex": null,
            "_model_name": "LayoutModel",
            "justify_items": null,
            "grid_row": null,
            "max_height": null,
            "align_content": null,
            "visibility": null,
            "align_self": null,
            "height": null,
            "min_height": null,
            "padding": null,
            "grid_auto_rows": null,
            "grid_gap": null,
            "max_width": null,
            "order": null,
            "_view_module_version": "1.2.0",
            "grid_template_areas": null,
            "object_position": null,
            "object_fit": null,
            "grid_auto_columns": null,
            "margin": null,
            "display": null,
            "left": null
          }
        },
        "44a36783882d476a8a427a592e293ca5": {
          "model_module": "@jupyter-widgets/controls",
          "model_name": "DescriptionStyleModel",
          "model_module_version": "1.5.0",
          "state": {
            "_view_name": "StyleView",
            "_model_name": "DescriptionStyleModel",
            "description_width": "",
            "_view_module": "@jupyter-widgets/base",
            "_model_module_version": "1.5.0",
            "_view_count": null,
            "_view_module_version": "1.2.0",
            "_model_module": "@jupyter-widgets/controls"
          }
        },
        "d2897b6666094ce08f6aa9d7c613b25a": {
          "model_module": "@jupyter-widgets/base",
          "model_name": "LayoutModel",
          "model_module_version": "1.2.0",
          "state": {
            "_view_name": "LayoutView",
            "grid_template_rows": null,
            "right": null,
            "justify_content": null,
            "_view_module": "@jupyter-widgets/base",
            "overflow": null,
            "_model_module_version": "1.2.0",
            "_view_count": null,
            "flex_flow": null,
            "width": null,
            "min_width": null,
            "border": null,
            "align_items": null,
            "bottom": null,
            "_model_module": "@jupyter-widgets/base",
            "top": null,
            "grid_column": null,
            "overflow_y": null,
            "overflow_x": null,
            "grid_auto_flow": null,
            "grid_area": null,
            "grid_template_columns": null,
            "flex": null,
            "_model_name": "LayoutModel",
            "justify_items": null,
            "grid_row": null,
            "max_height": null,
            "align_content": null,
            "visibility": null,
            "align_self": null,
            "height": null,
            "min_height": null,
            "padding": null,
            "grid_auto_rows": null,
            "grid_gap": null,
            "max_width": null,
            "order": null,
            "_view_module_version": "1.2.0",
            "grid_template_areas": null,
            "object_position": null,
            "object_fit": null,
            "grid_auto_columns": null,
            "margin": null,
            "display": null,
            "left": null
          }
        }
      }
    }
  },
  "cells": [
    {
      "cell_type": "markdown",
      "metadata": {
        "id": "view-in-github",
        "colab_type": "text"
      },
      "source": [
        "<a href=\"https://colab.research.google.com/github/kim1987/aiffel/blob/main/exploration/ex_dudrn_first.ipynb\" target=\"_parent\"><img src=\"https://colab.research.google.com/assets/colab-badge.svg\" alt=\"Open In Colab\"/></a>"
      ]
    },
    {
      "cell_type": "code",
      "metadata": {
        "id": "Sb_RcNpg-r0q"
      },
      "source": [
        "#from google.colab import files\n",
        "#file_uploaded = files.upload()"
      ],
      "execution_count": 1,
      "outputs": []
    },
    {
      "cell_type": "code",
      "metadata": {
        "colab": {
          "base_uri": "https://localhost:8080/"
        },
        "id": "OLVlFVXuBdFv",
        "outputId": "a3108b5e-5af3-4240-be9e-a5aa55e0829d"
      },
      "source": [
        "from google.colab import drive\n",
        "drive.mount('/content/drive')"
      ],
      "execution_count": 2,
      "outputs": [
        {
          "output_type": "stream",
          "name": "stdout",
          "text": [
            "Drive already mounted at /content/drive; to attempt to forcibly remount, call drive.mount(\"/content/drive\", force_remount=True).\n"
          ]
        }
      ]
    },
    {
      "cell_type": "code",
      "metadata": {
        "id": "2Cm5bqVhMQeo"
      },
      "source": [
        "!cp /content/drive/MyDrive/colabdata/aiffel/ex_dudrn/lastfm-dataset-360K.tar.gz /content/lastfm-dataset-360K.tar.gz"
      ],
      "execution_count": 3,
      "outputs": []
    },
    {
      "cell_type": "code",
      "metadata": {
        "colab": {
          "base_uri": "https://localhost:8080/"
        },
        "id": "Mpl3UuOZBy09",
        "outputId": "42fb0f98-40ec-4ebb-becb-145a4c7de284"
      },
      "source": [
        "!tar -xvzf /content/lastfm-dataset-360K.tar.gz -C /content/"
      ],
      "execution_count": 4,
      "outputs": [
        {
          "output_type": "stream",
          "name": "stdout",
          "text": [
            "lastfm-dataset-360K/\n",
            "lastfm-dataset-360K/usersha1-artmbid-artname-plays.tsv\n",
            "lastfm-dataset-360K/README.txt\n",
            "lastfm-dataset-360K/mbox_sha1sum.py\n",
            "lastfm-dataset-360K/usersha1-profile.tsv\n"
          ]
        }
      ]
    },
    {
      "cell_type": "code",
      "metadata": {
        "id": "K6b3gq8_MNj3"
      },
      "source": [
        ""
      ],
      "execution_count": 4,
      "outputs": []
    },
    {
      "cell_type": "code",
      "metadata": {
        "colab": {
          "base_uri": "https://localhost:8080/",
          "height": 355
        },
        "id": "O6Hu8d9nDDHz",
        "outputId": "0f833f16-3e31-4679-ab42-f00681e70c6b"
      },
      "source": [
        "import pandas as pd\n",
        "import os\n",
        "\n",
        "file_path = '/content/lastfm-dataset-360K/usersha1-artmbid-artname-plays.tsv'\n",
        "col_names = ['user_id', 'artist_MBID', 'artist', 'play']\n",
        "data = pd.read_csv(file_path, sep='\\t', names= col_names) \n",
        "data.head(10)"
      ],
      "execution_count": 5,
      "outputs": [
        {
          "output_type": "execute_result",
          "data": {
            "text/html": [
              "<div>\n",
              "<style scoped>\n",
              "    .dataframe tbody tr th:only-of-type {\n",
              "        vertical-align: middle;\n",
              "    }\n",
              "\n",
              "    .dataframe tbody tr th {\n",
              "        vertical-align: top;\n",
              "    }\n",
              "\n",
              "    .dataframe thead th {\n",
              "        text-align: right;\n",
              "    }\n",
              "</style>\n",
              "<table border=\"1\" class=\"dataframe\">\n",
              "  <thead>\n",
              "    <tr style=\"text-align: right;\">\n",
              "      <th></th>\n",
              "      <th>user_id</th>\n",
              "      <th>artist_MBID</th>\n",
              "      <th>artist</th>\n",
              "      <th>play</th>\n",
              "    </tr>\n",
              "  </thead>\n",
              "  <tbody>\n",
              "    <tr>\n",
              "      <th>0</th>\n",
              "      <td>00000c289a1829a808ac09c00daf10bc3c4e223b</td>\n",
              "      <td>3bd73256-3905-4f3a-97e2-8b341527f805</td>\n",
              "      <td>betty blowtorch</td>\n",
              "      <td>2137</td>\n",
              "    </tr>\n",
              "    <tr>\n",
              "      <th>1</th>\n",
              "      <td>00000c289a1829a808ac09c00daf10bc3c4e223b</td>\n",
              "      <td>f2fb0ff0-5679-42ec-a55c-15109ce6e320</td>\n",
              "      <td>die Ärzte</td>\n",
              "      <td>1099</td>\n",
              "    </tr>\n",
              "    <tr>\n",
              "      <th>2</th>\n",
              "      <td>00000c289a1829a808ac09c00daf10bc3c4e223b</td>\n",
              "      <td>b3ae82c2-e60b-4551-a76d-6620f1b456aa</td>\n",
              "      <td>melissa etheridge</td>\n",
              "      <td>897</td>\n",
              "    </tr>\n",
              "    <tr>\n",
              "      <th>3</th>\n",
              "      <td>00000c289a1829a808ac09c00daf10bc3c4e223b</td>\n",
              "      <td>3d6bbeb7-f90e-4d10-b440-e153c0d10b53</td>\n",
              "      <td>elvenking</td>\n",
              "      <td>717</td>\n",
              "    </tr>\n",
              "    <tr>\n",
              "      <th>4</th>\n",
              "      <td>00000c289a1829a808ac09c00daf10bc3c4e223b</td>\n",
              "      <td>bbd2ffd7-17f4-4506-8572-c1ea58c3f9a8</td>\n",
              "      <td>juliette &amp; the licks</td>\n",
              "      <td>706</td>\n",
              "    </tr>\n",
              "    <tr>\n",
              "      <th>5</th>\n",
              "      <td>00000c289a1829a808ac09c00daf10bc3c4e223b</td>\n",
              "      <td>8bfac288-ccc5-448d-9573-c33ea2aa5c30</td>\n",
              "      <td>red hot chili peppers</td>\n",
              "      <td>691</td>\n",
              "    </tr>\n",
              "    <tr>\n",
              "      <th>6</th>\n",
              "      <td>00000c289a1829a808ac09c00daf10bc3c4e223b</td>\n",
              "      <td>6531c8b1-76ea-4141-b270-eb1ac5b41375</td>\n",
              "      <td>magica</td>\n",
              "      <td>545</td>\n",
              "    </tr>\n",
              "    <tr>\n",
              "      <th>7</th>\n",
              "      <td>00000c289a1829a808ac09c00daf10bc3c4e223b</td>\n",
              "      <td>21f3573f-10cf-44b3-aeaa-26cccd8448b5</td>\n",
              "      <td>the black dahlia murder</td>\n",
              "      <td>507</td>\n",
              "    </tr>\n",
              "    <tr>\n",
              "      <th>8</th>\n",
              "      <td>00000c289a1829a808ac09c00daf10bc3c4e223b</td>\n",
              "      <td>c5db90c4-580d-4f33-b364-fbaa5a3a58b5</td>\n",
              "      <td>the murmurs</td>\n",
              "      <td>424</td>\n",
              "    </tr>\n",
              "    <tr>\n",
              "      <th>9</th>\n",
              "      <td>00000c289a1829a808ac09c00daf10bc3c4e223b</td>\n",
              "      <td>0639533a-0402-40ba-b6e0-18b067198b73</td>\n",
              "      <td>lunachicks</td>\n",
              "      <td>403</td>\n",
              "    </tr>\n",
              "  </tbody>\n",
              "</table>\n",
              "</div>"
            ],
            "text/plain": [
              "                                    user_id  ...  play\n",
              "0  00000c289a1829a808ac09c00daf10bc3c4e223b  ...  2137\n",
              "1  00000c289a1829a808ac09c00daf10bc3c4e223b  ...  1099\n",
              "2  00000c289a1829a808ac09c00daf10bc3c4e223b  ...   897\n",
              "3  00000c289a1829a808ac09c00daf10bc3c4e223b  ...   717\n",
              "4  00000c289a1829a808ac09c00daf10bc3c4e223b  ...   706\n",
              "5  00000c289a1829a808ac09c00daf10bc3c4e223b  ...   691\n",
              "6  00000c289a1829a808ac09c00daf10bc3c4e223b  ...   545\n",
              "7  00000c289a1829a808ac09c00daf10bc3c4e223b  ...   507\n",
              "8  00000c289a1829a808ac09c00daf10bc3c4e223b  ...   424\n",
              "9  00000c289a1829a808ac09c00daf10bc3c4e223b  ...   403\n",
              "\n",
              "[10 rows x 4 columns]"
            ]
          },
          "metadata": {},
          "execution_count": 5
        }
      ]
    },
    {
      "cell_type": "code",
      "metadata": {
        "colab": {
          "base_uri": "https://localhost:8080/",
          "height": 355
        },
        "id": "o5QF1ukWDDK-",
        "outputId": "b41aa93c-310e-4baa-a0c5-1691a8150e60"
      },
      "source": [
        "using_cols = ['user_id', 'artist', 'play']\n",
        "data = data[using_cols]\n",
        "data.head(10)"
      ],
      "execution_count": 6,
      "outputs": [
        {
          "output_type": "execute_result",
          "data": {
            "text/html": [
              "<div>\n",
              "<style scoped>\n",
              "    .dataframe tbody tr th:only-of-type {\n",
              "        vertical-align: middle;\n",
              "    }\n",
              "\n",
              "    .dataframe tbody tr th {\n",
              "        vertical-align: top;\n",
              "    }\n",
              "\n",
              "    .dataframe thead th {\n",
              "        text-align: right;\n",
              "    }\n",
              "</style>\n",
              "<table border=\"1\" class=\"dataframe\">\n",
              "  <thead>\n",
              "    <tr style=\"text-align: right;\">\n",
              "      <th></th>\n",
              "      <th>user_id</th>\n",
              "      <th>artist</th>\n",
              "      <th>play</th>\n",
              "    </tr>\n",
              "  </thead>\n",
              "  <tbody>\n",
              "    <tr>\n",
              "      <th>0</th>\n",
              "      <td>00000c289a1829a808ac09c00daf10bc3c4e223b</td>\n",
              "      <td>betty blowtorch</td>\n",
              "      <td>2137</td>\n",
              "    </tr>\n",
              "    <tr>\n",
              "      <th>1</th>\n",
              "      <td>00000c289a1829a808ac09c00daf10bc3c4e223b</td>\n",
              "      <td>die Ärzte</td>\n",
              "      <td>1099</td>\n",
              "    </tr>\n",
              "    <tr>\n",
              "      <th>2</th>\n",
              "      <td>00000c289a1829a808ac09c00daf10bc3c4e223b</td>\n",
              "      <td>melissa etheridge</td>\n",
              "      <td>897</td>\n",
              "    </tr>\n",
              "    <tr>\n",
              "      <th>3</th>\n",
              "      <td>00000c289a1829a808ac09c00daf10bc3c4e223b</td>\n",
              "      <td>elvenking</td>\n",
              "      <td>717</td>\n",
              "    </tr>\n",
              "    <tr>\n",
              "      <th>4</th>\n",
              "      <td>00000c289a1829a808ac09c00daf10bc3c4e223b</td>\n",
              "      <td>juliette &amp; the licks</td>\n",
              "      <td>706</td>\n",
              "    </tr>\n",
              "    <tr>\n",
              "      <th>5</th>\n",
              "      <td>00000c289a1829a808ac09c00daf10bc3c4e223b</td>\n",
              "      <td>red hot chili peppers</td>\n",
              "      <td>691</td>\n",
              "    </tr>\n",
              "    <tr>\n",
              "      <th>6</th>\n",
              "      <td>00000c289a1829a808ac09c00daf10bc3c4e223b</td>\n",
              "      <td>magica</td>\n",
              "      <td>545</td>\n",
              "    </tr>\n",
              "    <tr>\n",
              "      <th>7</th>\n",
              "      <td>00000c289a1829a808ac09c00daf10bc3c4e223b</td>\n",
              "      <td>the black dahlia murder</td>\n",
              "      <td>507</td>\n",
              "    </tr>\n",
              "    <tr>\n",
              "      <th>8</th>\n",
              "      <td>00000c289a1829a808ac09c00daf10bc3c4e223b</td>\n",
              "      <td>the murmurs</td>\n",
              "      <td>424</td>\n",
              "    </tr>\n",
              "    <tr>\n",
              "      <th>9</th>\n",
              "      <td>00000c289a1829a808ac09c00daf10bc3c4e223b</td>\n",
              "      <td>lunachicks</td>\n",
              "      <td>403</td>\n",
              "    </tr>\n",
              "  </tbody>\n",
              "</table>\n",
              "</div>"
            ],
            "text/plain": [
              "                                    user_id                   artist  play\n",
              "0  00000c289a1829a808ac09c00daf10bc3c4e223b          betty blowtorch  2137\n",
              "1  00000c289a1829a808ac09c00daf10bc3c4e223b                die Ärzte  1099\n",
              "2  00000c289a1829a808ac09c00daf10bc3c4e223b        melissa etheridge   897\n",
              "3  00000c289a1829a808ac09c00daf10bc3c4e223b                elvenking   717\n",
              "4  00000c289a1829a808ac09c00daf10bc3c4e223b     juliette & the licks   706\n",
              "5  00000c289a1829a808ac09c00daf10bc3c4e223b    red hot chili peppers   691\n",
              "6  00000c289a1829a808ac09c00daf10bc3c4e223b                   magica   545\n",
              "7  00000c289a1829a808ac09c00daf10bc3c4e223b  the black dahlia murder   507\n",
              "8  00000c289a1829a808ac09c00daf10bc3c4e223b              the murmurs   424\n",
              "9  00000c289a1829a808ac09c00daf10bc3c4e223b               lunachicks   403"
            ]
          },
          "metadata": {},
          "execution_count": 6
        }
      ]
    },
    {
      "cell_type": "code",
      "metadata": {
        "colab": {
          "base_uri": "https://localhost:8080/",
          "height": 355
        },
        "id": "YRzFq9_aDg9Y",
        "outputId": "ab299eec-8d0f-48bc-ba30-9cb9b5ea1eaf"
      },
      "source": [
        "data['artist'] = data['artist'].str.lower()\n",
        "data.head(10)"
      ],
      "execution_count": 7,
      "outputs": [
        {
          "output_type": "execute_result",
          "data": {
            "text/html": [
              "<div>\n",
              "<style scoped>\n",
              "    .dataframe tbody tr th:only-of-type {\n",
              "        vertical-align: middle;\n",
              "    }\n",
              "\n",
              "    .dataframe tbody tr th {\n",
              "        vertical-align: top;\n",
              "    }\n",
              "\n",
              "    .dataframe thead th {\n",
              "        text-align: right;\n",
              "    }\n",
              "</style>\n",
              "<table border=\"1\" class=\"dataframe\">\n",
              "  <thead>\n",
              "    <tr style=\"text-align: right;\">\n",
              "      <th></th>\n",
              "      <th>user_id</th>\n",
              "      <th>artist</th>\n",
              "      <th>play</th>\n",
              "    </tr>\n",
              "  </thead>\n",
              "  <tbody>\n",
              "    <tr>\n",
              "      <th>0</th>\n",
              "      <td>00000c289a1829a808ac09c00daf10bc3c4e223b</td>\n",
              "      <td>betty blowtorch</td>\n",
              "      <td>2137</td>\n",
              "    </tr>\n",
              "    <tr>\n",
              "      <th>1</th>\n",
              "      <td>00000c289a1829a808ac09c00daf10bc3c4e223b</td>\n",
              "      <td>die ärzte</td>\n",
              "      <td>1099</td>\n",
              "    </tr>\n",
              "    <tr>\n",
              "      <th>2</th>\n",
              "      <td>00000c289a1829a808ac09c00daf10bc3c4e223b</td>\n",
              "      <td>melissa etheridge</td>\n",
              "      <td>897</td>\n",
              "    </tr>\n",
              "    <tr>\n",
              "      <th>3</th>\n",
              "      <td>00000c289a1829a808ac09c00daf10bc3c4e223b</td>\n",
              "      <td>elvenking</td>\n",
              "      <td>717</td>\n",
              "    </tr>\n",
              "    <tr>\n",
              "      <th>4</th>\n",
              "      <td>00000c289a1829a808ac09c00daf10bc3c4e223b</td>\n",
              "      <td>juliette &amp; the licks</td>\n",
              "      <td>706</td>\n",
              "    </tr>\n",
              "    <tr>\n",
              "      <th>5</th>\n",
              "      <td>00000c289a1829a808ac09c00daf10bc3c4e223b</td>\n",
              "      <td>red hot chili peppers</td>\n",
              "      <td>691</td>\n",
              "    </tr>\n",
              "    <tr>\n",
              "      <th>6</th>\n",
              "      <td>00000c289a1829a808ac09c00daf10bc3c4e223b</td>\n",
              "      <td>magica</td>\n",
              "      <td>545</td>\n",
              "    </tr>\n",
              "    <tr>\n",
              "      <th>7</th>\n",
              "      <td>00000c289a1829a808ac09c00daf10bc3c4e223b</td>\n",
              "      <td>the black dahlia murder</td>\n",
              "      <td>507</td>\n",
              "    </tr>\n",
              "    <tr>\n",
              "      <th>8</th>\n",
              "      <td>00000c289a1829a808ac09c00daf10bc3c4e223b</td>\n",
              "      <td>the murmurs</td>\n",
              "      <td>424</td>\n",
              "    </tr>\n",
              "    <tr>\n",
              "      <th>9</th>\n",
              "      <td>00000c289a1829a808ac09c00daf10bc3c4e223b</td>\n",
              "      <td>lunachicks</td>\n",
              "      <td>403</td>\n",
              "    </tr>\n",
              "  </tbody>\n",
              "</table>\n",
              "</div>"
            ],
            "text/plain": [
              "                                    user_id                   artist  play\n",
              "0  00000c289a1829a808ac09c00daf10bc3c4e223b          betty blowtorch  2137\n",
              "1  00000c289a1829a808ac09c00daf10bc3c4e223b                die ärzte  1099\n",
              "2  00000c289a1829a808ac09c00daf10bc3c4e223b        melissa etheridge   897\n",
              "3  00000c289a1829a808ac09c00daf10bc3c4e223b                elvenking   717\n",
              "4  00000c289a1829a808ac09c00daf10bc3c4e223b     juliette & the licks   706\n",
              "5  00000c289a1829a808ac09c00daf10bc3c4e223b    red hot chili peppers   691\n",
              "6  00000c289a1829a808ac09c00daf10bc3c4e223b                   magica   545\n",
              "7  00000c289a1829a808ac09c00daf10bc3c4e223b  the black dahlia murder   507\n",
              "8  00000c289a1829a808ac09c00daf10bc3c4e223b              the murmurs   424\n",
              "9  00000c289a1829a808ac09c00daf10bc3c4e223b               lunachicks   403"
            ]
          },
          "metadata": {},
          "execution_count": 7
        }
      ]
    },
    {
      "cell_type": "code",
      "metadata": {
        "colab": {
          "base_uri": "https://localhost:8080/",
          "height": 1000
        },
        "id": "BpYSXs90DhAX",
        "outputId": "9bda9a96-fb65-44c3-b996-007572180d26"
      },
      "source": [
        "condition = (data['user_id']== data.loc[0, 'user_id'])\n",
        "data.loc[condition]"
      ],
      "execution_count": 8,
      "outputs": [
        {
          "output_type": "execute_result",
          "data": {
            "text/html": [
              "<div>\n",
              "<style scoped>\n",
              "    .dataframe tbody tr th:only-of-type {\n",
              "        vertical-align: middle;\n",
              "    }\n",
              "\n",
              "    .dataframe tbody tr th {\n",
              "        vertical-align: top;\n",
              "    }\n",
              "\n",
              "    .dataframe thead th {\n",
              "        text-align: right;\n",
              "    }\n",
              "</style>\n",
              "<table border=\"1\" class=\"dataframe\">\n",
              "  <thead>\n",
              "    <tr style=\"text-align: right;\">\n",
              "      <th></th>\n",
              "      <th>user_id</th>\n",
              "      <th>artist</th>\n",
              "      <th>play</th>\n",
              "    </tr>\n",
              "  </thead>\n",
              "  <tbody>\n",
              "    <tr>\n",
              "      <th>0</th>\n",
              "      <td>00000c289a1829a808ac09c00daf10bc3c4e223b</td>\n",
              "      <td>betty blowtorch</td>\n",
              "      <td>2137</td>\n",
              "    </tr>\n",
              "    <tr>\n",
              "      <th>1</th>\n",
              "      <td>00000c289a1829a808ac09c00daf10bc3c4e223b</td>\n",
              "      <td>die ärzte</td>\n",
              "      <td>1099</td>\n",
              "    </tr>\n",
              "    <tr>\n",
              "      <th>2</th>\n",
              "      <td>00000c289a1829a808ac09c00daf10bc3c4e223b</td>\n",
              "      <td>melissa etheridge</td>\n",
              "      <td>897</td>\n",
              "    </tr>\n",
              "    <tr>\n",
              "      <th>3</th>\n",
              "      <td>00000c289a1829a808ac09c00daf10bc3c4e223b</td>\n",
              "      <td>elvenking</td>\n",
              "      <td>717</td>\n",
              "    </tr>\n",
              "    <tr>\n",
              "      <th>4</th>\n",
              "      <td>00000c289a1829a808ac09c00daf10bc3c4e223b</td>\n",
              "      <td>juliette &amp; the licks</td>\n",
              "      <td>706</td>\n",
              "    </tr>\n",
              "    <tr>\n",
              "      <th>5</th>\n",
              "      <td>00000c289a1829a808ac09c00daf10bc3c4e223b</td>\n",
              "      <td>red hot chili peppers</td>\n",
              "      <td>691</td>\n",
              "    </tr>\n",
              "    <tr>\n",
              "      <th>6</th>\n",
              "      <td>00000c289a1829a808ac09c00daf10bc3c4e223b</td>\n",
              "      <td>magica</td>\n",
              "      <td>545</td>\n",
              "    </tr>\n",
              "    <tr>\n",
              "      <th>7</th>\n",
              "      <td>00000c289a1829a808ac09c00daf10bc3c4e223b</td>\n",
              "      <td>the black dahlia murder</td>\n",
              "      <td>507</td>\n",
              "    </tr>\n",
              "    <tr>\n",
              "      <th>8</th>\n",
              "      <td>00000c289a1829a808ac09c00daf10bc3c4e223b</td>\n",
              "      <td>the murmurs</td>\n",
              "      <td>424</td>\n",
              "    </tr>\n",
              "    <tr>\n",
              "      <th>9</th>\n",
              "      <td>00000c289a1829a808ac09c00daf10bc3c4e223b</td>\n",
              "      <td>lunachicks</td>\n",
              "      <td>403</td>\n",
              "    </tr>\n",
              "    <tr>\n",
              "      <th>10</th>\n",
              "      <td>00000c289a1829a808ac09c00daf10bc3c4e223b</td>\n",
              "      <td>walls of jericho</td>\n",
              "      <td>393</td>\n",
              "    </tr>\n",
              "    <tr>\n",
              "      <th>11</th>\n",
              "      <td>00000c289a1829a808ac09c00daf10bc3c4e223b</td>\n",
              "      <td>letzte instanz</td>\n",
              "      <td>387</td>\n",
              "    </tr>\n",
              "    <tr>\n",
              "      <th>12</th>\n",
              "      <td>00000c289a1829a808ac09c00daf10bc3c4e223b</td>\n",
              "      <td>goldfrapp</td>\n",
              "      <td>361</td>\n",
              "    </tr>\n",
              "    <tr>\n",
              "      <th>13</th>\n",
              "      <td>00000c289a1829a808ac09c00daf10bc3c4e223b</td>\n",
              "      <td>horrorpops</td>\n",
              "      <td>358</td>\n",
              "    </tr>\n",
              "    <tr>\n",
              "      <th>14</th>\n",
              "      <td>00000c289a1829a808ac09c00daf10bc3c4e223b</td>\n",
              "      <td>the butchies</td>\n",
              "      <td>329</td>\n",
              "    </tr>\n",
              "    <tr>\n",
              "      <th>15</th>\n",
              "      <td>00000c289a1829a808ac09c00daf10bc3c4e223b</td>\n",
              "      <td>jack off jill</td>\n",
              "      <td>316</td>\n",
              "    </tr>\n",
              "    <tr>\n",
              "      <th>16</th>\n",
              "      <td>00000c289a1829a808ac09c00daf10bc3c4e223b</td>\n",
              "      <td>babes in toyland</td>\n",
              "      <td>310</td>\n",
              "    </tr>\n",
              "    <tr>\n",
              "      <th>17</th>\n",
              "      <td>00000c289a1829a808ac09c00daf10bc3c4e223b</td>\n",
              "      <td>dropkick murphys</td>\n",
              "      <td>302</td>\n",
              "    </tr>\n",
              "    <tr>\n",
              "      <th>18</th>\n",
              "      <td>00000c289a1829a808ac09c00daf10bc3c4e223b</td>\n",
              "      <td>all:my:faults</td>\n",
              "      <td>288</td>\n",
              "    </tr>\n",
              "    <tr>\n",
              "      <th>19</th>\n",
              "      <td>00000c289a1829a808ac09c00daf10bc3c4e223b</td>\n",
              "      <td>le tigre</td>\n",
              "      <td>281</td>\n",
              "    </tr>\n",
              "    <tr>\n",
              "      <th>20</th>\n",
              "      <td>00000c289a1829a808ac09c00daf10bc3c4e223b</td>\n",
              "      <td>schandmaul</td>\n",
              "      <td>244</td>\n",
              "    </tr>\n",
              "    <tr>\n",
              "      <th>21</th>\n",
              "      <td>00000c289a1829a808ac09c00daf10bc3c4e223b</td>\n",
              "      <td>edguy</td>\n",
              "      <td>232</td>\n",
              "    </tr>\n",
              "    <tr>\n",
              "      <th>22</th>\n",
              "      <td>00000c289a1829a808ac09c00daf10bc3c4e223b</td>\n",
              "      <td>maximum the hormone</td>\n",
              "      <td>231</td>\n",
              "    </tr>\n",
              "    <tr>\n",
              "      <th>23</th>\n",
              "      <td>00000c289a1829a808ac09c00daf10bc3c4e223b</td>\n",
              "      <td>all ends</td>\n",
              "      <td>229</td>\n",
              "    </tr>\n",
              "    <tr>\n",
              "      <th>24</th>\n",
              "      <td>00000c289a1829a808ac09c00daf10bc3c4e223b</td>\n",
              "      <td>jack johnson</td>\n",
              "      <td>227</td>\n",
              "    </tr>\n",
              "    <tr>\n",
              "      <th>25</th>\n",
              "      <td>00000c289a1829a808ac09c00daf10bc3c4e223b</td>\n",
              "      <td>eluveitie</td>\n",
              "      <td>222</td>\n",
              "    </tr>\n",
              "    <tr>\n",
              "      <th>26</th>\n",
              "      <td>00000c289a1829a808ac09c00daf10bc3c4e223b</td>\n",
              "      <td>rasputina</td>\n",
              "      <td>220</td>\n",
              "    </tr>\n",
              "    <tr>\n",
              "      <th>27</th>\n",
              "      <td>00000c289a1829a808ac09c00daf10bc3c4e223b</td>\n",
              "      <td>london after midnight</td>\n",
              "      <td>210</td>\n",
              "    </tr>\n",
              "    <tr>\n",
              "      <th>28</th>\n",
              "      <td>00000c289a1829a808ac09c00daf10bc3c4e223b</td>\n",
              "      <td>the killers</td>\n",
              "      <td>208</td>\n",
              "    </tr>\n",
              "    <tr>\n",
              "      <th>29</th>\n",
              "      <td>00000c289a1829a808ac09c00daf10bc3c4e223b</td>\n",
              "      <td>mutyumu</td>\n",
              "      <td>205</td>\n",
              "    </tr>\n",
              "    <tr>\n",
              "      <th>30</th>\n",
              "      <td>00000c289a1829a808ac09c00daf10bc3c4e223b</td>\n",
              "      <td>judas priest</td>\n",
              "      <td>198</td>\n",
              "    </tr>\n",
              "    <tr>\n",
              "      <th>31</th>\n",
              "      <td>00000c289a1829a808ac09c00daf10bc3c4e223b</td>\n",
              "      <td>rob zombie</td>\n",
              "      <td>198</td>\n",
              "    </tr>\n",
              "    <tr>\n",
              "      <th>32</th>\n",
              "      <td>00000c289a1829a808ac09c00daf10bc3c4e223b</td>\n",
              "      <td>the bosshoss</td>\n",
              "      <td>189</td>\n",
              "    </tr>\n",
              "    <tr>\n",
              "      <th>33</th>\n",
              "      <td>00000c289a1829a808ac09c00daf10bc3c4e223b</td>\n",
              "      <td>blue öyster cult</td>\n",
              "      <td>185</td>\n",
              "    </tr>\n",
              "    <tr>\n",
              "      <th>34</th>\n",
              "      <td>00000c289a1829a808ac09c00daf10bc3c4e223b</td>\n",
              "      <td>sandra nasic</td>\n",
              "      <td>183</td>\n",
              "    </tr>\n",
              "    <tr>\n",
              "      <th>35</th>\n",
              "      <td>00000c289a1829a808ac09c00daf10bc3c4e223b</td>\n",
              "      <td>john mayer</td>\n",
              "      <td>182</td>\n",
              "    </tr>\n",
              "    <tr>\n",
              "      <th>36</th>\n",
              "      <td>00000c289a1829a808ac09c00daf10bc3c4e223b</td>\n",
              "      <td>sleater-kinney</td>\n",
              "      <td>175</td>\n",
              "    </tr>\n",
              "    <tr>\n",
              "      <th>37</th>\n",
              "      <td>00000c289a1829a808ac09c00daf10bc3c4e223b</td>\n",
              "      <td>the who</td>\n",
              "      <td>168</td>\n",
              "    </tr>\n",
              "    <tr>\n",
              "      <th>38</th>\n",
              "      <td>00000c289a1829a808ac09c00daf10bc3c4e223b</td>\n",
              "      <td>disciple</td>\n",
              "      <td>154</td>\n",
              "    </tr>\n",
              "    <tr>\n",
              "      <th>39</th>\n",
              "      <td>00000c289a1829a808ac09c00daf10bc3c4e223b</td>\n",
              "      <td>tanzwut</td>\n",
              "      <td>153</td>\n",
              "    </tr>\n",
              "    <tr>\n",
              "      <th>40</th>\n",
              "      <td>00000c289a1829a808ac09c00daf10bc3c4e223b</td>\n",
              "      <td>guano apes</td>\n",
              "      <td>151</td>\n",
              "    </tr>\n",
              "    <tr>\n",
              "      <th>41</th>\n",
              "      <td>00000c289a1829a808ac09c00daf10bc3c4e223b</td>\n",
              "      <td>the rolling stones</td>\n",
              "      <td>150</td>\n",
              "    </tr>\n",
              "    <tr>\n",
              "      <th>42</th>\n",
              "      <td>00000c289a1829a808ac09c00daf10bc3c4e223b</td>\n",
              "      <td>little big town</td>\n",
              "      <td>145</td>\n",
              "    </tr>\n",
              "    <tr>\n",
              "      <th>43</th>\n",
              "      <td>00000c289a1829a808ac09c00daf10bc3c4e223b</td>\n",
              "      <td>team dresch</td>\n",
              "      <td>137</td>\n",
              "    </tr>\n",
              "    <tr>\n",
              "      <th>44</th>\n",
              "      <td>00000c289a1829a808ac09c00daf10bc3c4e223b</td>\n",
              "      <td>betty</td>\n",
              "      <td>135</td>\n",
              "    </tr>\n",
              "    <tr>\n",
              "      <th>45</th>\n",
              "      <td>00000c289a1829a808ac09c00daf10bc3c4e223b</td>\n",
              "      <td>l7</td>\n",
              "      <td>135</td>\n",
              "    </tr>\n",
              "    <tr>\n",
              "      <th>46</th>\n",
              "      <td>00000c289a1829a808ac09c00daf10bc3c4e223b</td>\n",
              "      <td>bif naked</td>\n",
              "      <td>134</td>\n",
              "    </tr>\n",
              "    <tr>\n",
              "      <th>47</th>\n",
              "      <td>00000c289a1829a808ac09c00daf10bc3c4e223b</td>\n",
              "      <td>girlschool</td>\n",
              "      <td>134</td>\n",
              "    </tr>\n",
              "    <tr>\n",
              "      <th>48</th>\n",
              "      <td>00000c289a1829a808ac09c00daf10bc3c4e223b</td>\n",
              "      <td>the wallflowers</td>\n",
              "      <td>131</td>\n",
              "    </tr>\n",
              "  </tbody>\n",
              "</table>\n",
              "</div>"
            ],
            "text/plain": [
              "                                     user_id                   artist  play\n",
              "0   00000c289a1829a808ac09c00daf10bc3c4e223b          betty blowtorch  2137\n",
              "1   00000c289a1829a808ac09c00daf10bc3c4e223b                die ärzte  1099\n",
              "2   00000c289a1829a808ac09c00daf10bc3c4e223b        melissa etheridge   897\n",
              "3   00000c289a1829a808ac09c00daf10bc3c4e223b                elvenking   717\n",
              "4   00000c289a1829a808ac09c00daf10bc3c4e223b     juliette & the licks   706\n",
              "5   00000c289a1829a808ac09c00daf10bc3c4e223b    red hot chili peppers   691\n",
              "6   00000c289a1829a808ac09c00daf10bc3c4e223b                   magica   545\n",
              "7   00000c289a1829a808ac09c00daf10bc3c4e223b  the black dahlia murder   507\n",
              "8   00000c289a1829a808ac09c00daf10bc3c4e223b              the murmurs   424\n",
              "9   00000c289a1829a808ac09c00daf10bc3c4e223b               lunachicks   403\n",
              "10  00000c289a1829a808ac09c00daf10bc3c4e223b         walls of jericho   393\n",
              "11  00000c289a1829a808ac09c00daf10bc3c4e223b           letzte instanz   387\n",
              "12  00000c289a1829a808ac09c00daf10bc3c4e223b                goldfrapp   361\n",
              "13  00000c289a1829a808ac09c00daf10bc3c4e223b               horrorpops   358\n",
              "14  00000c289a1829a808ac09c00daf10bc3c4e223b             the butchies   329\n",
              "15  00000c289a1829a808ac09c00daf10bc3c4e223b            jack off jill   316\n",
              "16  00000c289a1829a808ac09c00daf10bc3c4e223b         babes in toyland   310\n",
              "17  00000c289a1829a808ac09c00daf10bc3c4e223b         dropkick murphys   302\n",
              "18  00000c289a1829a808ac09c00daf10bc3c4e223b            all:my:faults   288\n",
              "19  00000c289a1829a808ac09c00daf10bc3c4e223b                 le tigre   281\n",
              "20  00000c289a1829a808ac09c00daf10bc3c4e223b               schandmaul   244\n",
              "21  00000c289a1829a808ac09c00daf10bc3c4e223b                    edguy   232\n",
              "22  00000c289a1829a808ac09c00daf10bc3c4e223b      maximum the hormone   231\n",
              "23  00000c289a1829a808ac09c00daf10bc3c4e223b                 all ends   229\n",
              "24  00000c289a1829a808ac09c00daf10bc3c4e223b             jack johnson   227\n",
              "25  00000c289a1829a808ac09c00daf10bc3c4e223b                eluveitie   222\n",
              "26  00000c289a1829a808ac09c00daf10bc3c4e223b                rasputina   220\n",
              "27  00000c289a1829a808ac09c00daf10bc3c4e223b    london after midnight   210\n",
              "28  00000c289a1829a808ac09c00daf10bc3c4e223b              the killers   208\n",
              "29  00000c289a1829a808ac09c00daf10bc3c4e223b                  mutyumu   205\n",
              "30  00000c289a1829a808ac09c00daf10bc3c4e223b             judas priest   198\n",
              "31  00000c289a1829a808ac09c00daf10bc3c4e223b               rob zombie   198\n",
              "32  00000c289a1829a808ac09c00daf10bc3c4e223b             the bosshoss   189\n",
              "33  00000c289a1829a808ac09c00daf10bc3c4e223b         blue öyster cult   185\n",
              "34  00000c289a1829a808ac09c00daf10bc3c4e223b             sandra nasic   183\n",
              "35  00000c289a1829a808ac09c00daf10bc3c4e223b               john mayer   182\n",
              "36  00000c289a1829a808ac09c00daf10bc3c4e223b           sleater-kinney   175\n",
              "37  00000c289a1829a808ac09c00daf10bc3c4e223b                  the who   168\n",
              "38  00000c289a1829a808ac09c00daf10bc3c4e223b                 disciple   154\n",
              "39  00000c289a1829a808ac09c00daf10bc3c4e223b                  tanzwut   153\n",
              "40  00000c289a1829a808ac09c00daf10bc3c4e223b               guano apes   151\n",
              "41  00000c289a1829a808ac09c00daf10bc3c4e223b       the rolling stones   150\n",
              "42  00000c289a1829a808ac09c00daf10bc3c4e223b          little big town   145\n",
              "43  00000c289a1829a808ac09c00daf10bc3c4e223b              team dresch   137\n",
              "44  00000c289a1829a808ac09c00daf10bc3c4e223b                    betty   135\n",
              "45  00000c289a1829a808ac09c00daf10bc3c4e223b                       l7   135\n",
              "46  00000c289a1829a808ac09c00daf10bc3c4e223b                bif naked   134\n",
              "47  00000c289a1829a808ac09c00daf10bc3c4e223b               girlschool   134\n",
              "48  00000c289a1829a808ac09c00daf10bc3c4e223b          the wallflowers   131"
            ]
          },
          "metadata": {},
          "execution_count": 8
        }
      ]
    },
    {
      "cell_type": "code",
      "metadata": {
        "id": "XvD4984PDhCc"
      },
      "source": [
        "my_favorite =['beyonce', 'james blunt','park hyo sin','elton john','bruno mars']"
      ],
      "execution_count": 9,
      "outputs": []
    },
    {
      "cell_type": "code",
      "metadata": {
        "id": "5D0EMsJQDhEh"
      },
      "source": [
        "my_playlist = pd.DataFrame({'user_id': ['zimin']*5, 'artist': my_favorite, 'play':[30]*5})\n",
        "if not data.isin({'user_id':['zimin']})['user_id'].any():\n",
        "    data = data.append(my_playlist)"
      ],
      "execution_count": 10,
      "outputs": []
    },
    {
      "cell_type": "code",
      "metadata": {
        "id": "mi2tItYWDhG-"
      },
      "source": [
        "user_unique = data['user_id'].unique()\n",
        "artist_unique = data['artist'].unique()\n",
        "user_to_idx = {v:k for k,v in enumerate(user_unique)}\n",
        "artist_to_idx = {v:k for k,v in enumerate(artist_unique)}"
      ],
      "execution_count": 11,
      "outputs": []
    },
    {
      "cell_type": "code",
      "metadata": {
        "colab": {
          "base_uri": "https://localhost:8080/"
        },
        "id": "bMVxv8oJGWWL",
        "outputId": "a1be28f6-1029-4420-cf21-762d3bcdb254"
      },
      "source": [
        "temp_user_data = data['user_id'].map(user_to_idx.get).dropna()\n",
        "if len(temp_user_data) == len(data):\n",
        "    print('user_id column indexing OK!!')\n",
        "    data['user_id'] = temp_user_data\n",
        "else:\n",
        "    print('user_id column indexing Fail!!')"
      ],
      "execution_count": 12,
      "outputs": [
        {
          "output_type": "stream",
          "name": "stdout",
          "text": [
            "user_id column indexing OK!!\n"
          ]
        }
      ]
    },
    {
      "cell_type": "code",
      "metadata": {
        "colab": {
          "base_uri": "https://localhost:8080/",
          "height": 432
        },
        "id": "svzulEDSGWZA",
        "outputId": "533f7efe-7fc8-4070-b4f6-dcbb6cccfe9d"
      },
      "source": [
        "temp_artist_data = data['artist'].map(artist_to_idx.get).dropna()\n",
        "if len(temp_artist_data) == len(data):\n",
        "    print('artist column indexing OK!!')\n",
        "    data['artist'] = temp_artist_data\n",
        "else:\n",
        "    print('artist column indexing Fail!!')\n",
        "\n",
        "data"
      ],
      "execution_count": 13,
      "outputs": [
        {
          "output_type": "stream",
          "name": "stdout",
          "text": [
            "artist column indexing OK!!\n"
          ]
        },
        {
          "output_type": "execute_result",
          "data": {
            "text/html": [
              "<div>\n",
              "<style scoped>\n",
              "    .dataframe tbody tr th:only-of-type {\n",
              "        vertical-align: middle;\n",
              "    }\n",
              "\n",
              "    .dataframe tbody tr th {\n",
              "        vertical-align: top;\n",
              "    }\n",
              "\n",
              "    .dataframe thead th {\n",
              "        text-align: right;\n",
              "    }\n",
              "</style>\n",
              "<table border=\"1\" class=\"dataframe\">\n",
              "  <thead>\n",
              "    <tr style=\"text-align: right;\">\n",
              "      <th></th>\n",
              "      <th>user_id</th>\n",
              "      <th>artist</th>\n",
              "      <th>play</th>\n",
              "    </tr>\n",
              "  </thead>\n",
              "  <tbody>\n",
              "    <tr>\n",
              "      <th>0</th>\n",
              "      <td>0</td>\n",
              "      <td>0</td>\n",
              "      <td>2137</td>\n",
              "    </tr>\n",
              "    <tr>\n",
              "      <th>1</th>\n",
              "      <td>0</td>\n",
              "      <td>1</td>\n",
              "      <td>1099</td>\n",
              "    </tr>\n",
              "    <tr>\n",
              "      <th>2</th>\n",
              "      <td>0</td>\n",
              "      <td>2</td>\n",
              "      <td>897</td>\n",
              "    </tr>\n",
              "    <tr>\n",
              "      <th>3</th>\n",
              "      <td>0</td>\n",
              "      <td>3</td>\n",
              "      <td>717</td>\n",
              "    </tr>\n",
              "    <tr>\n",
              "      <th>4</th>\n",
              "      <td>0</td>\n",
              "      <td>4</td>\n",
              "      <td>706</td>\n",
              "    </tr>\n",
              "    <tr>\n",
              "      <th>...</th>\n",
              "      <td>...</td>\n",
              "      <td>...</td>\n",
              "      <td>...</td>\n",
              "    </tr>\n",
              "    <tr>\n",
              "      <th>0</th>\n",
              "      <td>358868</td>\n",
              "      <td>76347</td>\n",
              "      <td>30</td>\n",
              "    </tr>\n",
              "    <tr>\n",
              "      <th>1</th>\n",
              "      <td>358868</td>\n",
              "      <td>2902</td>\n",
              "      <td>30</td>\n",
              "    </tr>\n",
              "    <tr>\n",
              "      <th>2</th>\n",
              "      <td>358868</td>\n",
              "      <td>291347</td>\n",
              "      <td>30</td>\n",
              "    </tr>\n",
              "    <tr>\n",
              "      <th>3</th>\n",
              "      <td>358868</td>\n",
              "      <td>326</td>\n",
              "      <td>30</td>\n",
              "    </tr>\n",
              "    <tr>\n",
              "      <th>4</th>\n",
              "      <td>358868</td>\n",
              "      <td>291348</td>\n",
              "      <td>30</td>\n",
              "    </tr>\n",
              "  </tbody>\n",
              "</table>\n",
              "<p>17535660 rows × 3 columns</p>\n",
              "</div>"
            ],
            "text/plain": [
              "    user_id  artist  play\n",
              "0         0       0  2137\n",
              "1         0       1  1099\n",
              "2         0       2   897\n",
              "3         0       3   717\n",
              "4         0       4   706\n",
              "..      ...     ...   ...\n",
              "0    358868   76347    30\n",
              "1    358868    2902    30\n",
              "2    358868  291347    30\n",
              "3    358868     326    30\n",
              "4    358868  291348    30\n",
              "\n",
              "[17535660 rows x 3 columns]"
            ]
          },
          "metadata": {},
          "execution_count": 13
        }
      ]
    },
    {
      "cell_type": "code",
      "metadata": {
        "colab": {
          "base_uri": "https://localhost:8080/"
        },
        "id": "REG1u1XHG2hr",
        "outputId": "1ef7e05e-b37f-4c8a-ff3e-f2d80b5023dd"
      },
      "source": [
        "only_one = data[data['play']<2]\n",
        "one, all_data = len(only_one), len(data)\n",
        "print(f'{one},{all_data}')\n",
        "print(f'Ratio of only_one over all data is {one/all_data:.2%}')"
      ],
      "execution_count": 14,
      "outputs": [
        {
          "output_type": "stream",
          "name": "stdout",
          "text": [
            "147740,17535660\n",
            "Ratio of only_one over all data is 0.84%\n"
          ]
        }
      ]
    },
    {
      "cell_type": "code",
      "metadata": {
        "colab": {
          "base_uri": "https://localhost:8080/"
        },
        "id": "xpDcq3woG2lu",
        "outputId": "d95ea8dc-fee1-499a-898e-867a1d4fb69a"
      },
      "source": [
        "from scipy.sparse import csr_matrix\n",
        "\n",
        "num_user = data['user_id'].nunique()\n",
        "num_artist = data['artist'].nunique()\n",
        "\n",
        "csr_data = csr_matrix((data.play, (data.user_id, data.artist)), shape= (num_user, num_artist))\n",
        "csr_data"
      ],
      "execution_count": 15,
      "outputs": [
        {
          "output_type": "execute_result",
          "data": {
            "text/plain": [
              "<358869x291349 sparse matrix of type '<class 'numpy.longlong'>'\n",
              "\twith 17535578 stored elements in Compressed Sparse Row format>"
            ]
          },
          "metadata": {},
          "execution_count": 15
        }
      ]
    },
    {
      "cell_type": "code",
      "metadata": {
        "colab": {
          "base_uri": "https://localhost:8080/"
        },
        "id": "LuzR6py8OijZ",
        "outputId": "d895eab4-40b6-4159-ee42-11c6e91b0cc0"
      },
      "source": [
        "!nvcc --version"
      ],
      "execution_count": 16,
      "outputs": [
        {
          "output_type": "stream",
          "name": "stdout",
          "text": [
            "nvcc: NVIDIA (R) Cuda compiler driver\n",
            "Copyright (c) 2005-2020 NVIDIA Corporation\n",
            "Built on Mon_Oct_12_20:09:46_PDT_2020\n",
            "Cuda compilation tools, release 11.1, V11.1.105\n",
            "Build cuda_11.1.TC455_06.29190527_0\n"
          ]
        }
      ]
    },
    {
      "cell_type": "code",
      "metadata": {
        "colab": {
          "base_uri": "https://localhost:8080/"
        },
        "id": "1Vk9pnTIdpr1",
        "outputId": "40b89fad-f262-469f-9134-1bbdc60dc449"
      },
      "source": [
        "!nvcc --version"
      ],
      "execution_count": 17,
      "outputs": [
        {
          "output_type": "stream",
          "name": "stdout",
          "text": [
            "nvcc: NVIDIA (R) Cuda compiler driver\n",
            "Copyright (c) 2005-2020 NVIDIA Corporation\n",
            "Built on Mon_Oct_12_20:09:46_PDT_2020\n",
            "Cuda compilation tools, release 11.1, V11.1.105\n",
            "Build cuda_11.1.TC455_06.29190527_0\n"
          ]
        }
      ]
    },
    {
      "cell_type": "code",
      "metadata": {
        "colab": {
          "base_uri": "https://localhost:8080/"
        },
        "id": "gNZTXUJELJEW",
        "outputId": "8fc06d83-fa57-4038-b3cb-9cbe6eae3837"
      },
      "source": [
        "!pip install implicit"
      ],
      "execution_count": 18,
      "outputs": [
        {
          "output_type": "stream",
          "name": "stdout",
          "text": [
            "Requirement already satisfied: implicit in /usr/local/lib/python3.7/dist-packages (0.4.8)\n",
            "Requirement already satisfied: scipy>=0.16 in /usr/local/lib/python3.7/dist-packages (from implicit) (1.4.1)\n",
            "Requirement already satisfied: numpy in /usr/local/lib/python3.7/dist-packages (from implicit) (1.19.5)\n",
            "Requirement already satisfied: tqdm>=4.27 in /usr/local/lib/python3.7/dist-packages (from implicit) (4.62.3)\n"
          ]
        }
      ]
    },
    {
      "cell_type": "code",
      "metadata": {
        "id": "DZ9DKpDBK0gx"
      },
      "source": [
        "from implicit.als import AlternatingLeastSquares\n",
        "import numpy as np"
      ],
      "execution_count": 19,
      "outputs": []
    },
    {
      "cell_type": "code",
      "metadata": {
        "id": "2Zm8p1gJK0j0"
      },
      "source": [
        "os.environ['OPENBLAS_NUM_THREADS']='1'\n",
        "os.environ['KMP_DUPLICATE_LIB_OK']='True'\n",
        "os.environ['MKL_NUM_THREADS']='1'"
      ],
      "execution_count": 20,
      "outputs": []
    },
    {
      "cell_type": "code",
      "metadata": {
        "id": "waCId-TUK0ln"
      },
      "source": [
        "als_model = AlternatingLeastSquares(factors=100, regularization=0.01, use_gpu=True, iterations=15, dtype=np.float32)"
      ],
      "execution_count": 21,
      "outputs": []
    },
    {
      "cell_type": "code",
      "metadata": {
        "id": "L6M03brcK0rw",
        "colab": {
          "base_uri": "https://localhost:8080/"
        },
        "outputId": "eb028c3c-6354-41d1-f256-2ddc8ba816d2"
      },
      "source": [
        "csr_data_transpose = csr_data.T\n",
        "csr_data_transpose"
      ],
      "execution_count": 22,
      "outputs": [
        {
          "output_type": "execute_result",
          "data": {
            "text/plain": [
              "<291349x358869 sparse matrix of type '<class 'numpy.longlong'>'\n",
              "\twith 17535578 stored elements in Compressed Sparse Column format>"
            ]
          },
          "metadata": {},
          "execution_count": 22
        }
      ]
    },
    {
      "cell_type": "code",
      "metadata": {
        "id": "dVTVHTO0K0uR",
        "colab": {
          "base_uri": "https://localhost:8080/",
          "height": 48,
          "referenced_widgets": [
            "eb383e8420b84cd9888eee1a96986471",
            "34e12986287b4f1f9215c62757d54b1a",
            "a52e5aa67b9c4014af4e15b5d4d8aa10",
            "9de340ac60fa4355855b90d43a2e8438",
            "ba2f3912ade84f4daf866b519b4fafd2",
            "8464d1cbf1cd4c47a0378bac2bd0b266",
            "a01768e40fe34feeba639bf9b3c518de",
            "ddc31aefbc244d7ca7cd9e44a1634538",
            "555dfeff259a4bc58b9003c1c43676ea",
            "f21aec4908244b8ba0350c082c41e440",
            "b47f9c03279d41d28eebcf6813666d86"
          ]
        },
        "outputId": "abb6a2aa-e9fb-40a1-82f6-216151ef3cc0"
      },
      "source": [
        "als_model.fit(csr_data_transpose)"
      ],
      "execution_count": 23,
      "outputs": [
        {
          "output_type": "display_data",
          "data": {
            "application/vnd.jupyter.widget-view+json": {
              "model_id": "eb383e8420b84cd9888eee1a96986471",
              "version_minor": 0,
              "version_major": 2
            },
            "text/plain": [
              "  0%|          | 0/15 [00:00<?, ?it/s]"
            ]
          },
          "metadata": {}
        }
      ]
    },
    {
      "cell_type": "code",
      "metadata": {
        "id": "jSzLfu-2dB_u"
      },
      "source": [
        "zimin, black_eyed_peas = user_to_idx['zimin'], artist_to_idx['black eyed peas']\n",
        "zimin_vector, black_eyed_peas_vector = als_model.user_factors[zimin], als_model.item_factors[black_eyed_peas]\n"
      ],
      "execution_count": 24,
      "outputs": []
    },
    {
      "cell_type": "code",
      "metadata": {
        "colab": {
          "base_uri": "https://localhost:8080/"
        },
        "id": "-LhEwmXZdCCX",
        "outputId": "3f723cdb-4f83-42ac-f924-3efe8edd3915"
      },
      "source": [
        "zimin_vector"
      ],
      "execution_count": 25,
      "outputs": [
        {
          "output_type": "execute_result",
          "data": {
            "text/plain": [
              "Matrix([[ 0.7950918  -0.7932122  -0.17168385  0.300137   -1.162179   -0.68149114\n",
              "   0.39786762 -0.93060595  0.1470855   0.02252837  0.16811983 -0.13226184\n",
              "   0.49210528 -0.0593853   0.7083029  -0.15159217 -0.20976695  0.72699374\n",
              "  -0.18834436 -0.10739595  0.4241316  -0.3229457   0.00857365  0.820267\n",
              "  -0.5703106   0.94885415 -0.6142628  -0.56862855 -0.7167638  -0.13645433\n",
              "   0.2559515   0.11394554 -0.45911902 -0.14878646 -0.67711604  0.38693285\n",
              "  -1.0664217   0.43146473  0.46317267 -1.2470394  -0.34550527 -0.18813244\n",
              "   0.16452827  0.0796449   1.0772667  -0.67494667 -0.72858256  0.51587933\n",
              "  -0.35927638 -0.66381544 -0.4244493   0.1929021  -0.6523883   0.5069464\n",
              "  -0.21733162  0.70820814  0.25963414 -0.38699353  0.61573756 -0.42648098\n",
              "  -0.34977764 -0.64077604 -0.03978865  0.7267655  -0.24069418 -0.359844\n",
              "   0.05773778  0.05485783  1.0467051   0.52557826  0.6608835   0.28723562\n",
              "   0.42237645  0.2506733  -0.3396919  -0.5401142  -0.4774067   0.01116414\n",
              "  -0.37437317  0.420308    0.12319614 -0.47305778  0.53944236 -0.3270571\n",
              "   0.07077534  0.20735241 -0.53461754  0.34604335  0.37711188 -0.24639855\n",
              "   0.03491136 -0.00835545 -0.27041385 -0.19958588 -0.75635874  0.63784206\n",
              "  -0.3903559  -0.681859    0.5428505  -0.19571757]])"
            ]
          },
          "metadata": {},
          "execution_count": 25
        }
      ]
    },
    {
      "cell_type": "code",
      "metadata": {
        "colab": {
          "base_uri": "https://localhost:8080/"
        },
        "id": "s63i9q4AdXMb",
        "outputId": "1de217e8-edf4-4675-913e-8e399f46c957"
      },
      "source": [
        "black_eyed_peas_vector"
      ],
      "execution_count": 26,
      "outputs": [
        {
          "output_type": "execute_result",
          "data": {
            "text/plain": [
              "Matrix([[ 1.82610787e-02 -7.94716273e-03  9.15338099e-03  1.21647771e-02\n",
              "   1.84638193e-03 -8.73525999e-03 -8.79465509e-03 -1.12575311e-02\n",
              "  -5.20509528e-03  1.94135141e-02 -1.15577020e-02 -9.05178953e-03\n",
              "  -5.17117372e-03  6.65596453e-03 -1.25051783e-02  1.15269292e-02\n",
              "  -1.06405094e-02 -3.80101171e-03 -2.60122027e-02 -2.23440919e-02\n",
              "  -1.19791813e-02  3.81894852e-03  9.59933456e-03 -7.37648457e-03\n",
              "   9.00104991e-04 -6.73422311e-03 -1.77834053e-02  1.53153134e-03\n",
              "  -1.02063725e-02 -5.17884782e-03  4.96158982e-03  1.31592378e-02\n",
              "   1.12878140e-02 -1.59551390e-02 -6.44350005e-03  2.39749495e-02\n",
              "   2.31238571e-03 -4.16272305e-05  1.41510470e-02  4.31313645e-03\n",
              "  -1.67488761e-03  1.03510404e-02  7.98553519e-05  1.03861447e-02\n",
              "   2.00509820e-02 -3.25212197e-04 -1.55772492e-02  9.24038142e-03\n",
              "  -1.07109249e-02  8.14721640e-03  1.48679428e-02  1.29071455e-02\n",
              "   6.07744465e-03 -3.17834155e-03  6.95312815e-03  6.23517262e-04\n",
              "   1.82233993e-02  1.96839236e-02 -1.92088005e-03 -6.87058922e-03\n",
              "   1.20566161e-02 -8.30277149e-03 -1.64908753e-03 -1.23998784e-02\n",
              "   1.51222665e-02 -1.56228803e-02 -1.13184808e-03 -7.42953317e-03\n",
              "  -2.66076881e-03  2.85081007e-03  2.79007945e-02  7.94539787e-03\n",
              "   5.13084978e-03  2.12411005e-02  4.93839523e-03 -7.75353983e-04\n",
              "  -1.11735836e-02  1.22882063e-02 -6.65004773e-04  9.19523835e-03\n",
              "   3.13635101e-03 -8.49531777e-03 -5.09814499e-03 -3.71128786e-04\n",
              "   3.00892838e-03 -1.50544783e-02  6.98921131e-03 -9.52182617e-03\n",
              "  -2.79327761e-03 -4.46118851e-04  3.26865935e-03  1.05845137e-02\n",
              "   4.94205812e-03  2.22880044e-04 -5.72703313e-03  6.24734163e-03\n",
              "   8.99684150e-03 -3.92011553e-03  7.38033699e-03 -7.35147111e-03]])"
            ]
          },
          "metadata": {},
          "execution_count": 26
        }
      ]
    },
    {
      "cell_type": "code",
      "metadata": {
        "id": "-6rtFZT-e6_s"
      },
      "source": [
        "user_items = csr_data_transpose.T.tocsr()\n",
        "recommendations = als_model.recommend(zimin, user_items)"
      ],
      "execution_count": 27,
      "outputs": []
    },
    {
      "cell_type": "code",
      "metadata": {
        "colab": {
          "base_uri": "https://localhost:8080/"
        },
        "id": "jZCmb7gMdXO5",
        "outputId": "882e79f1-dc05-49d4-e7f1-5d13b7398d2b"
      },
      "source": [
        "recommendations"
      ],
      "execution_count": 28,
      "outputs": [
        {
          "output_type": "execute_result",
          "data": {
            "text/plain": [
              "[(1048, 0.25869307),\n",
              " (375, 0.25166765),\n",
              " (295, 0.24868706),\n",
              " (627, 0.23445024),\n",
              " (382, 0.22572175),\n",
              " (274, 0.2187007),\n",
              " (605, 0.21542937),\n",
              " (1034, 0.21501711),\n",
              " (416, 0.2148422),\n",
              " (1090, 0.21382815)]"
            ]
          },
          "metadata": {},
          "execution_count": 28
        }
      ]
    },
    {
      "cell_type": "code",
      "metadata": {
        "colab": {
          "base_uri": "https://localhost:8080/",
          "height": 34
        },
        "id": "XNZo_PbsdXS8",
        "outputId": "ada9fdb5-a626-44c2-a6a9-22d4c3f2488d"
      },
      "source": [
        "next(v for v,i in artist_to_idx.items() if i ==3746)"
      ],
      "execution_count": 29,
      "outputs": [
        {
          "output_type": "execute_result",
          "data": {
            "application/vnd.google.colaboratory.intrinsic+json": {
              "type": "string"
            },
            "text/plain": [
              "'jason mraz'"
            ]
          },
          "metadata": {},
          "execution_count": 29
        }
      ]
    },
    {
      "cell_type": "code",
      "metadata": {
        "colab": {
          "base_uri": "https://localhost:8080/",
          "height": 34
        },
        "id": "lAic8I-fu62c",
        "outputId": "f0671d61-83f5-4572-ed15-a091b6fbce91"
      },
      "source": [
        "list(artist_to_idx.keys())[list(artist_to_idx.values()).index(3746)]\n"
      ],
      "execution_count": 30,
      "outputs": [
        {
          "output_type": "execute_result",
          "data": {
            "application/vnd.google.colaboratory.intrinsic+json": {
              "type": "string"
            },
            "text/plain": [
              "'jason mraz'"
            ]
          },
          "metadata": {},
          "execution_count": 30
        }
      ]
    },
    {
      "cell_type": "code",
      "metadata": {
        "colab": {
          "base_uri": "https://localhost:8080/"
        },
        "id": "PFwLlPuHu7Ca",
        "outputId": "ce9d1f5a-6f67-4736-c8f4-f1855aef78cf"
      },
      "source": [
        "for v , i in artist_to_idx.items():\n",
        "  if i == 3746:\n",
        "    print(v)\n",
        "    break"
      ],
      "execution_count": 31,
      "outputs": [
        {
          "output_type": "stream",
          "name": "stdout",
          "text": [
            "jason mraz\n"
          ]
        }
      ]
    },
    {
      "cell_type": "code",
      "metadata": {
        "colab": {
          "base_uri": "https://localhost:8080/"
        },
        "id": "jhMQy976dXUv",
        "outputId": "89b29003-e21c-47cb-c1ac-c153a870b4d9"
      },
      "source": [
        "favorite_artist = 'coldplay'\n",
        "artist_id = artist_to_idx[favorite_artist]\n",
        "similar_artist = als_model.similar_items(artist_id, N=15)\n",
        "similar_artist"
      ],
      "execution_count": 32,
      "outputs": [
        {
          "output_type": "execute_result",
          "data": {
            "text/plain": [
              "[(62, 0.99999994),\n",
              " (277, 0.96617925),\n",
              " (5, 0.94096655),\n",
              " (28, 0.92837477),\n",
              " (217, 0.9224477),\n",
              " (247, 0.9085828),\n",
              " (910, 0.8792922),\n",
              " (490, 0.8403977),\n",
              " (1018, 0.83788437),\n",
              " (473, 0.82855505),\n",
              " (418, 0.8207746),\n",
              " (268, 0.8165047),\n",
              " (782, 0.8124784),\n",
              " (55, 0.81156707),\n",
              " (694, 0.80588263)]"
            ]
          },
          "metadata": {},
          "execution_count": 32
        }
      ]
    },
    {
      "cell_type": "code",
      "metadata": {
        "colab": {
          "base_uri": "https://localhost:8080/"
        },
        "id": "dKak1rIPdXWs",
        "outputId": "4e78c6e6-daa2-473f-a11b-c12d69bd7832"
      },
      "source": [
        "idx_to_artist = {v:k for k,v in artist_to_idx.items()}\n",
        "[idx_to_artist[i[0]] for i in similar_artist]"
      ],
      "execution_count": 33,
      "outputs": [
        {
          "output_type": "execute_result",
          "data": {
            "text/plain": [
              "['coldplay',\n",
              " 'muse',\n",
              " 'red hot chili peppers',\n",
              " 'the killers',\n",
              " 'radiohead',\n",
              " 'the beatles',\n",
              " 'nirvana',\n",
              " 'oasis',\n",
              " 'the smashing pumpkins',\n",
              " 'placebo',\n",
              " 'u2',\n",
              " 'pink floyd',\n",
              " 'the white stripes',\n",
              " 'arctic monkeys',\n",
              " 'foo fighters']"
            ]
          },
          "metadata": {},
          "execution_count": 33
        }
      ]
    },
    {
      "cell_type": "code",
      "metadata": {
        "id": "NrzpQUOmxyT5"
      },
      "source": [
        "def get_similar_artist(artist_name: str):\n",
        "    artist_id = artist_to_idx[artist_name]\n",
        "    similar_artist = als_model.similar_items(artist_id)\n",
        "    similar_artist = [idx_to_artist[i[0]] for i in similar_artist]\n",
        "    return similar_artist"
      ],
      "execution_count": 34,
      "outputs": []
    },
    {
      "cell_type": "code",
      "metadata": {
        "colab": {
          "base_uri": "https://localhost:8080/"
        },
        "id": "TF9Ko-Syx-_i",
        "outputId": "87932c60-0189-4d2f-cbb0-0145e0e199ca"
      },
      "source": [
        "get_similar_artist('2pac')"
      ],
      "execution_count": 35,
      "outputs": [
        {
          "output_type": "execute_result",
          "data": {
            "text/plain": [
              "['2pac',\n",
              " 'ric-a-che',\n",
              " 'big quez',\n",
              " 'impact repertory theatre group',\n",
              " 'sikiru adepoju',\n",
              " 'dr. dre',\n",
              " 'notorious b.i.g.',\n",
              " 'nas',\n",
              " 'cutt calhoun',\n",
              " 'the game']"
            ]
          },
          "metadata": {},
          "execution_count": 35
        }
      ]
    },
    {
      "cell_type": "code",
      "metadata": {
        "colab": {
          "base_uri": "https://localhost:8080/"
        },
        "id": "ye7Ue0vdyEpU",
        "outputId": "dfee2bd1-3257-41c8-fc28-32e0cca09845"
      },
      "source": [
        "user = user_to_idx['zimin']\n",
        "artist_recommended = als_model.recommend(user, csr_data, N=20, filter_already_liked_items=True)\n",
        "artist_recommended"
      ],
      "execution_count": 36,
      "outputs": [
        {
          "output_type": "execute_result",
          "data": {
            "text/plain": [
              "[(1048, 0.25869307),\n",
              " (375, 0.25166765),\n",
              " (295, 0.24868706),\n",
              " (627, 0.23445024),\n",
              " (382, 0.22572175),\n",
              " (274, 0.2187007),\n",
              " (605, 0.21542937),\n",
              " (1034, 0.21501711),\n",
              " (416, 0.2148422),\n",
              " (1090, 0.21382815),\n",
              " (757, 0.21086502),\n",
              " (3746, 0.208499),\n",
              " (1055, 0.20173255),\n",
              " (1035, 0.20142892),\n",
              " (624, 0.19944602),\n",
              " (8328, 0.19478244),\n",
              " (2123, 0.19368842),\n",
              " (159, 0.18977489),\n",
              " (1039, 0.18848073),\n",
              " (1607, 0.18817706)]"
            ]
          },
          "metadata": {},
          "execution_count": 36
        }
      ]
    },
    {
      "cell_type": "code",
      "metadata": {
        "colab": {
          "base_uri": "https://localhost:8080/"
        },
        "id": "Zu_wPoo6yZRB",
        "outputId": "2fbbc691-6c0b-407c-f363-8db4c336b9cf"
      },
      "source": [
        "[idx_to_artist[i[0]] for i in artist_recommended]"
      ],
      "execution_count": 37,
      "outputs": [
        {
          "output_type": "execute_result",
          "data": {
            "text/plain": [
              "['sting',\n",
              " 'robbie williams',\n",
              " 'bon jovi',\n",
              " 'maroon 5',\n",
              " 'mika',\n",
              " 'michael jackson',\n",
              " 'bryan adams',\n",
              " 'billy joel',\n",
              " 'phil collins',\n",
              " 'abba',\n",
              " 'aerosmith',\n",
              " 'jason mraz',\n",
              " 'simon & garfunkel',\n",
              " 'eric clapton',\n",
              " 'frank sinatra',\n",
              " 'rod stewart',\n",
              " 'travis',\n",
              " 'dido',\n",
              " 'dire straits',\n",
              " 'james morrison']"
            ]
          },
          "metadata": {},
          "execution_count": 37
        }
      ]
    },
    {
      "cell_type": "code",
      "metadata": {
        "id": "pHRs46ufyZTb"
      },
      "source": [
        "rating_file_path = '/content/drive/MyDrive/colabdata/aiffel/ex_dudrn/data/ratings.dat'\n",
        "ratings_cols = ['user_id','movie_id','ratings','timestamp']\n",
        "ratings = pd.read_csv(rating_file_path,sep='::',\n",
        "                      names = ratings_cols,engine='python',\n",
        "                      encoding=\"ISO-8859-1\"\n",
        "                      )\n",
        "original_data_size = len(ratings)\n",
        "ratings = ratings.drop(columns=['timestamp'])\n",
        "ratings.head()\n",
        "num_user = ratings['user_id'].nunique()"
      ],
      "execution_count": 38,
      "outputs": []
    },
    {
      "cell_type": "code",
      "metadata": {
        "id": "jOMOzZ3IyZVR",
        "colab": {
          "base_uri": "https://localhost:8080/"
        },
        "outputId": "63ec202a-5a53-49cc-ad0b-954dbb9a67f7"
      },
      "source": [
        "ratings = ratings[ratings['ratings']>=3]\n",
        "filtered_data_size = len(ratings)\n",
        "\n",
        "print(f'original_data_size: {original_data_size}, filtered_data_size: {filtered_data_size}')\n",
        "print(f'Ratio of Remaining Data is {filtered_data_size / original_data_size:.2%}')"
      ],
      "execution_count": 39,
      "outputs": [
        {
          "output_type": "stream",
          "name": "stdout",
          "text": [
            "original_data_size: 1000209, filtered_data_size: 836478\n",
            "Ratio of Remaining Data is 83.63%\n"
          ]
        }
      ]
    },
    {
      "cell_type": "code",
      "metadata": {
        "id": "mZ0OxU3kyZXq"
      },
      "source": [
        "ratings.rename(columns={'ratings':'counts'}, inplace=True)"
      ],
      "execution_count": 40,
      "outputs": []
    },
    {
      "cell_type": "code",
      "metadata": {
        "id": "CaEK-qJrHkkz"
      },
      "source": [
        "#new_ratings = ratings.drop_duplicates(['user_id','movie_id'])\n",
        "#len(new_ratings)"
      ],
      "execution_count": 41,
      "outputs": []
    },
    {
      "cell_type": "code",
      "metadata": {
        "id": "UHlxQtyxZIyI"
      },
      "source": [
        ""
      ],
      "execution_count": 41,
      "outputs": []
    },
    {
      "cell_type": "code",
      "metadata": {
        "colab": {
          "base_uri": "https://localhost:8080/",
          "height": 202
        },
        "id": "nsULGAtcZIR1",
        "outputId": "451daf38-68f0-4cbe-bbca-5f2007417a91"
      },
      "source": [
        "ratings.tail()"
      ],
      "execution_count": 42,
      "outputs": [
        {
          "output_type": "execute_result",
          "data": {
            "text/html": [
              "<div>\n",
              "<style scoped>\n",
              "    .dataframe tbody tr th:only-of-type {\n",
              "        vertical-align: middle;\n",
              "    }\n",
              "\n",
              "    .dataframe tbody tr th {\n",
              "        vertical-align: top;\n",
              "    }\n",
              "\n",
              "    .dataframe thead th {\n",
              "        text-align: right;\n",
              "    }\n",
              "</style>\n",
              "<table border=\"1\" class=\"dataframe\">\n",
              "  <thead>\n",
              "    <tr style=\"text-align: right;\">\n",
              "      <th></th>\n",
              "      <th>user_id</th>\n",
              "      <th>movie_id</th>\n",
              "      <th>counts</th>\n",
              "    </tr>\n",
              "  </thead>\n",
              "  <tbody>\n",
              "    <tr>\n",
              "      <th>1000203</th>\n",
              "      <td>6040</td>\n",
              "      <td>1090</td>\n",
              "      <td>3</td>\n",
              "    </tr>\n",
              "    <tr>\n",
              "      <th>1000205</th>\n",
              "      <td>6040</td>\n",
              "      <td>1094</td>\n",
              "      <td>5</td>\n",
              "    </tr>\n",
              "    <tr>\n",
              "      <th>1000206</th>\n",
              "      <td>6040</td>\n",
              "      <td>562</td>\n",
              "      <td>5</td>\n",
              "    </tr>\n",
              "    <tr>\n",
              "      <th>1000207</th>\n",
              "      <td>6040</td>\n",
              "      <td>1096</td>\n",
              "      <td>4</td>\n",
              "    </tr>\n",
              "    <tr>\n",
              "      <th>1000208</th>\n",
              "      <td>6040</td>\n",
              "      <td>1097</td>\n",
              "      <td>4</td>\n",
              "    </tr>\n",
              "  </tbody>\n",
              "</table>\n",
              "</div>"
            ],
            "text/plain": [
              "         user_id  movie_id  counts\n",
              "1000203     6040      1090       3\n",
              "1000205     6040      1094       5\n",
              "1000206     6040       562       5\n",
              "1000207     6040      1096       4\n",
              "1000208     6040      1097       4"
            ]
          },
          "metadata": {},
          "execution_count": 42
        }
      ]
    },
    {
      "cell_type": "code",
      "metadata": {
        "id": "n26uVTTvyZZW",
        "colab": {
          "base_uri": "https://localhost:8080/",
          "height": 202
        },
        "outputId": "f26aa6ea-5400-410f-e626-3416b47bf2ec"
      },
      "source": [
        "movie_file_path='/content/drive/MyDrive/colabdata/aiffel/ex_dudrn/data/movies.dat'\n",
        "cols = ['movie_id', 'title', 'genre'] \n",
        "movies = pd.read_csv(movie_file_path, sep='::', names=cols, engine='python', encoding='ISO-8859-1')\n",
        "movies.head()"
      ],
      "execution_count": 43,
      "outputs": [
        {
          "output_type": "execute_result",
          "data": {
            "text/html": [
              "<div>\n",
              "<style scoped>\n",
              "    .dataframe tbody tr th:only-of-type {\n",
              "        vertical-align: middle;\n",
              "    }\n",
              "\n",
              "    .dataframe tbody tr th {\n",
              "        vertical-align: top;\n",
              "    }\n",
              "\n",
              "    .dataframe thead th {\n",
              "        text-align: right;\n",
              "    }\n",
              "</style>\n",
              "<table border=\"1\" class=\"dataframe\">\n",
              "  <thead>\n",
              "    <tr style=\"text-align: right;\">\n",
              "      <th></th>\n",
              "      <th>movie_id</th>\n",
              "      <th>title</th>\n",
              "      <th>genre</th>\n",
              "    </tr>\n",
              "  </thead>\n",
              "  <tbody>\n",
              "    <tr>\n",
              "      <th>0</th>\n",
              "      <td>1</td>\n",
              "      <td>Toy Story (1995)</td>\n",
              "      <td>Animation|Children's|Comedy</td>\n",
              "    </tr>\n",
              "    <tr>\n",
              "      <th>1</th>\n",
              "      <td>2</td>\n",
              "      <td>Jumanji (1995)</td>\n",
              "      <td>Adventure|Children's|Fantasy</td>\n",
              "    </tr>\n",
              "    <tr>\n",
              "      <th>2</th>\n",
              "      <td>3</td>\n",
              "      <td>Grumpier Old Men (1995)</td>\n",
              "      <td>Comedy|Romance</td>\n",
              "    </tr>\n",
              "    <tr>\n",
              "      <th>3</th>\n",
              "      <td>4</td>\n",
              "      <td>Waiting to Exhale (1995)</td>\n",
              "      <td>Comedy|Drama</td>\n",
              "    </tr>\n",
              "    <tr>\n",
              "      <th>4</th>\n",
              "      <td>5</td>\n",
              "      <td>Father of the Bride Part II (1995)</td>\n",
              "      <td>Comedy</td>\n",
              "    </tr>\n",
              "  </tbody>\n",
              "</table>\n",
              "</div>"
            ],
            "text/plain": [
              "   movie_id                               title                         genre\n",
              "0         1                    Toy Story (1995)   Animation|Children's|Comedy\n",
              "1         2                      Jumanji (1995)  Adventure|Children's|Fantasy\n",
              "2         3             Grumpier Old Men (1995)                Comedy|Romance\n",
              "3         4            Waiting to Exhale (1995)                  Comedy|Drama\n",
              "4         5  Father of the Bride Part II (1995)                        Comedy"
            ]
          },
          "metadata": {},
          "execution_count": 43
        }
      ]
    },
    {
      "cell_type": "code",
      "metadata": {
        "colab": {
          "base_uri": "https://localhost:8080/",
          "height": 48
        },
        "id": "hT8ilmR1nyeV",
        "outputId": "0ccbe6b0-a4df-48d6-d2a2-64cb8db709d8"
      },
      "source": [
        "movies[movies['title'].str.lower().str.contains('memento')]"
      ],
      "execution_count": 44,
      "outputs": [
        {
          "output_type": "execute_result",
          "data": {
            "text/html": [
              "<div>\n",
              "<style scoped>\n",
              "    .dataframe tbody tr th:only-of-type {\n",
              "        vertical-align: middle;\n",
              "    }\n",
              "\n",
              "    .dataframe tbody tr th {\n",
              "        vertical-align: top;\n",
              "    }\n",
              "\n",
              "    .dataframe thead th {\n",
              "        text-align: right;\n",
              "    }\n",
              "</style>\n",
              "<table border=\"1\" class=\"dataframe\">\n",
              "  <thead>\n",
              "    <tr style=\"text-align: right;\">\n",
              "      <th></th>\n",
              "      <th>movie_id</th>\n",
              "      <th>title</th>\n",
              "      <th>genre</th>\n",
              "    </tr>\n",
              "  </thead>\n",
              "  <tbody>\n",
              "  </tbody>\n",
              "</table>\n",
              "</div>"
            ],
            "text/plain": [
              "Empty DataFrame\n",
              "Columns: [movie_id, title, genre]\n",
              "Index: []"
            ]
          },
          "metadata": {},
          "execution_count": 44
        }
      ]
    },
    {
      "cell_type": "code",
      "metadata": {
        "id": "3Ks3ZZ11pTYt"
      },
      "source": [
        "ratings = pd.concat([ratings,pd.DataFrame([[6041,1,4],[6041,3114,4],[6041,1221,4],[6041,1721,4],[6041,1214,4]],\n",
        "                                columns=['user_id','movie_id','counts'])\n",
        "          ])"
      ],
      "execution_count": 45,
      "outputs": []
    },
    {
      "cell_type": "code",
      "metadata": {
        "colab": {
          "base_uri": "https://localhost:8080/",
          "height": 202
        },
        "id": "RcqzZZSKL1Yj",
        "outputId": "3a5788d0-8b6a-440c-9170-ecb08943a47c"
      },
      "source": [
        "movies.tail()"
      ],
      "execution_count": 46,
      "outputs": [
        {
          "output_type": "execute_result",
          "data": {
            "text/html": [
              "<div>\n",
              "<style scoped>\n",
              "    .dataframe tbody tr th:only-of-type {\n",
              "        vertical-align: middle;\n",
              "    }\n",
              "\n",
              "    .dataframe tbody tr th {\n",
              "        vertical-align: top;\n",
              "    }\n",
              "\n",
              "    .dataframe thead th {\n",
              "        text-align: right;\n",
              "    }\n",
              "</style>\n",
              "<table border=\"1\" class=\"dataframe\">\n",
              "  <thead>\n",
              "    <tr style=\"text-align: right;\">\n",
              "      <th></th>\n",
              "      <th>movie_id</th>\n",
              "      <th>title</th>\n",
              "      <th>genre</th>\n",
              "    </tr>\n",
              "  </thead>\n",
              "  <tbody>\n",
              "    <tr>\n",
              "      <th>3878</th>\n",
              "      <td>3948</td>\n",
              "      <td>Meet the Parents (2000)</td>\n",
              "      <td>Comedy</td>\n",
              "    </tr>\n",
              "    <tr>\n",
              "      <th>3879</th>\n",
              "      <td>3949</td>\n",
              "      <td>Requiem for a Dream (2000)</td>\n",
              "      <td>Drama</td>\n",
              "    </tr>\n",
              "    <tr>\n",
              "      <th>3880</th>\n",
              "      <td>3950</td>\n",
              "      <td>Tigerland (2000)</td>\n",
              "      <td>Drama</td>\n",
              "    </tr>\n",
              "    <tr>\n",
              "      <th>3881</th>\n",
              "      <td>3951</td>\n",
              "      <td>Two Family House (2000)</td>\n",
              "      <td>Drama</td>\n",
              "    </tr>\n",
              "    <tr>\n",
              "      <th>3882</th>\n",
              "      <td>3952</td>\n",
              "      <td>Contender, The (2000)</td>\n",
              "      <td>Drama|Thriller</td>\n",
              "    </tr>\n",
              "  </tbody>\n",
              "</table>\n",
              "</div>"
            ],
            "text/plain": [
              "      movie_id                       title           genre\n",
              "3878      3948     Meet the Parents (2000)          Comedy\n",
              "3879      3949  Requiem for a Dream (2000)           Drama\n",
              "3880      3950            Tigerland (2000)           Drama\n",
              "3881      3951     Two Family House (2000)           Drama\n",
              "3882      3952       Contender, The (2000)  Drama|Thriller"
            ]
          },
          "metadata": {},
          "execution_count": 46
        }
      ]
    },
    {
      "cell_type": "code",
      "metadata": {
        "id": "PzGkeCqjCOVb"
      },
      "source": [
        "movie_csr = csr_matrix((ratings.counts,(ratings.user_id,ratings.movie_id)),shape =(num_user+2,len(movies)+100) )"
      ],
      "execution_count": 47,
      "outputs": []
    },
    {
      "cell_type": "code",
      "metadata": {
        "id": "s5SBWsdmCOYR"
      },
      "source": [
        "movie_als_model = AlternatingLeastSquares(factors=100, regularization=0.05, use_gpu=True, iterations=20, dtype=np.float32)"
      ],
      "execution_count": 48,
      "outputs": []
    },
    {
      "cell_type": "code",
      "metadata": {
        "colab": {
          "base_uri": "https://localhost:8080/",
          "height": 48,
          "referenced_widgets": [
            "9f3a7197e87840eba533169b9a397743",
            "e78a87d840f54b2a921001618d7b63de",
            "3ca59251fbcd4bb4a7963ffa70a0ca35",
            "716de8ce77e4432abd060eaff7d2c303",
            "333fca4b687740d7a3a4365227b20659",
            "75669cc3c5a84dc1ad705c0fbd4ffae4",
            "ffb4657d9d8345eca3df8931e89f0b51",
            "ca8d0aa1f724403db502d6023d41c39d",
            "11d726d3dee24abaab952a211c3da3c5",
            "44a36783882d476a8a427a592e293ca5",
            "d2897b6666094ce08f6aa9d7c613b25a"
          ]
        },
        "id": "4w1GLi1hRB76",
        "outputId": "5dbab168-e957-467d-abb3-01af76e4a222"
      },
      "source": [
        "movie_als_model.fit(movie_csr.T)"
      ],
      "execution_count": 49,
      "outputs": [
        {
          "output_type": "display_data",
          "data": {
            "application/vnd.jupyter.widget-view+json": {
              "model_id": "9f3a7197e87840eba533169b9a397743",
              "version_minor": 0,
              "version_major": 2
            },
            "text/plain": [
              "  0%|          | 0/20 [00:00<?, ?it/s]"
            ]
          },
          "metadata": {}
        }
      ]
    },
    {
      "cell_type": "code",
      "metadata": {
        "colab": {
          "base_uri": "https://localhost:8080/"
        },
        "id": "6QxC_126RCAn",
        "outputId": "20f0f21c-6c9a-4618-9694-e3e2a838e3b8"
      },
      "source": [
        "movie_als_model.similar_items(1)"
      ],
      "execution_count": 50,
      "outputs": [
        {
          "output_type": "execute_result",
          "data": {
            "text/plain": [
              "[(1, 1.0000001),\n",
              " (3114, 0.8030517),\n",
              " (34, 0.62936765),\n",
              " (2355, 0.58048016),\n",
              " (588, 0.5706258),\n",
              " (1265, 0.5485038),\n",
              " (2321, 0.44936752),\n",
              " (364, 0.43835932),\n",
              " (595, 0.42933995),\n",
              " (1923, 0.40064335)]"
            ]
          },
          "metadata": {},
          "execution_count": 50
        }
      ]
    },
    {
      "cell_type": "code",
      "metadata": {
        "colab": {
          "base_uri": "https://localhost:8080/",
          "height": 78
        },
        "id": "eiM0uju6RCFF",
        "outputId": "b683398b-1245-49ec-d145-5b66627b8c8e"
      },
      "source": [
        "movies[movies['movie_id']==1193]"
      ],
      "execution_count": 51,
      "outputs": [
        {
          "output_type": "execute_result",
          "data": {
            "text/html": [
              "<div>\n",
              "<style scoped>\n",
              "    .dataframe tbody tr th:only-of-type {\n",
              "        vertical-align: middle;\n",
              "    }\n",
              "\n",
              "    .dataframe tbody tr th {\n",
              "        vertical-align: top;\n",
              "    }\n",
              "\n",
              "    .dataframe thead th {\n",
              "        text-align: right;\n",
              "    }\n",
              "</style>\n",
              "<table border=\"1\" class=\"dataframe\">\n",
              "  <thead>\n",
              "    <tr style=\"text-align: right;\">\n",
              "      <th></th>\n",
              "      <th>movie_id</th>\n",
              "      <th>title</th>\n",
              "      <th>genre</th>\n",
              "    </tr>\n",
              "  </thead>\n",
              "  <tbody>\n",
              "    <tr>\n",
              "      <th>1176</th>\n",
              "      <td>1193</td>\n",
              "      <td>One Flew Over the Cuckoo's Nest (1975)</td>\n",
              "      <td>Drama</td>\n",
              "    </tr>\n",
              "  </tbody>\n",
              "</table>\n",
              "</div>"
            ],
            "text/plain": [
              "      movie_id                                   title  genre\n",
              "1176      1193  One Flew Over the Cuckoo's Nest (1975)  Drama"
            ]
          },
          "metadata": {},
          "execution_count": 51
        }
      ]
    },
    {
      "cell_type": "code",
      "metadata": {
        "id": "4EfW1y8WRCIt"
      },
      "source": [
        "def model_user_factor(model_name,user_id):\n",
        "  temp = str(model_name.user_factors[user_id]).replace('\\n',\"\").lstrip('[[').rstrip(']]')\n",
        "  temp = temp.split(' ')\n",
        "  temp = np.array([float(x) for x in temp if x !=''],dtype='float32')\n",
        "  return temp"
      ],
      "execution_count": 52,
      "outputs": []
    },
    {
      "cell_type": "code",
      "metadata": {
        "id": "nqzNUsNsYgcG"
      },
      "source": [
        "def model_movie_factor(model_name,movie_id):\n",
        "  temp = str(model_name.item_factors[movie_id]).replace('\\n',\"\").lstrip('[[').rstrip(']]')\n",
        "  temp = temp.split(' ')\n",
        "  temp = np.array([float(x) for x in temp if x !=''],dtype='float32')\n",
        "  return temp"
      ],
      "execution_count": 53,
      "outputs": []
    },
    {
      "cell_type": "code",
      "metadata": {
        "colab": {
          "base_uri": "https://localhost:8080/"
        },
        "id": "Ja2WGN3sUwx7",
        "outputId": "5704f851-f0fc-43c4-ea5d-2b21b9f0c1e0"
      },
      "source": [
        "model_user_factor(movie_als_model,1).dot(model_movie_factor(movie_als_model,1))"
      ],
      "execution_count": 54,
      "outputs": [
        {
          "output_type": "execute_result",
          "data": {
            "text/plain": [
              "1.0287265"
            ]
          },
          "metadata": {},
          "execution_count": 54
        }
      ]
    },
    {
      "cell_type": "code",
      "metadata": {
        "colab": {
          "base_uri": "https://localhost:8080/"
        },
        "id": "E4G55kOnUw0p",
        "outputId": "4e6a5819-f529-4ca0-9709-756ac7447260"
      },
      "source": [
        "movie_als_model.recommend(1,movie_csr,N=20, filter_already_liked_items=True)"
      ],
      "execution_count": 55,
      "outputs": [
        {
          "output_type": "execute_result",
          "data": {
            "text/plain": [
              "[(364, 1.0534282),\n",
              " (318, 0.8024885),\n",
              " (1225, 0.7555568),\n",
              " (2078, 0.7495969),\n",
              " (2081, 0.74811155),\n",
              " (2858, 0.7367013),\n",
              " (1282, 0.7171494),\n",
              " (2096, 0.712584),\n",
              " (3147, 0.6881568),\n",
              " (1704, 0.6682962),\n",
              " (2087, 0.6632904),\n",
              " (1198, 0.6388429),\n",
              " (34, 0.6106736),\n",
              " (1196, 0.59735286),\n",
              " (596, 0.59675735),\n",
              " (1032, 0.5702418),\n",
              " (593, 0.5648665),\n",
              " (920, 0.56230503),\n",
              " (110, 0.5448906),\n",
              " (2085, 0.53663737)]"
            ]
          },
          "metadata": {},
          "execution_count": 55
        }
      ]
    },
    {
      "cell_type": "code",
      "metadata": {
        "colab": {
          "base_uri": "https://localhost:8080/"
        },
        "id": "0_OYuPEzaIRU",
        "outputId": "2f667904-c4de-4861-e606-39586d36cf37"
      },
      "source": [
        "model_user_factor(movie_als_model,1).dot(model_movie_factor(movie_als_model,364))"
      ],
      "execution_count": 56,
      "outputs": [
        {
          "output_type": "execute_result",
          "data": {
            "text/plain": [
              "1.0534282"
            ]
          },
          "metadata": {},
          "execution_count": 56
        }
      ]
    },
    {
      "cell_type": "code",
      "metadata": {
        "id": "iRHNiE9taPnV"
      },
      "source": [
        "def get_recommend(model_name,user_id):\n",
        "  recommend_list = model_name.recommend(user_id,movie_csr,N=20,filter_already_liked_items=True)\n",
        "  for idx,(movie_id,_) in enumerate(recommend_list):\n",
        "    if idx == 0:\n",
        "      answer = movies[movies['movie_id']==movie_id]\n",
        "    else:\n",
        "      answer = pd.concat([answer,movies[movies['movie_id']==movie_id]])\n",
        "  return answer\n",
        "\n"
      ],
      "execution_count": 57,
      "outputs": []
    },
    {
      "cell_type": "code",
      "metadata": {
        "id": "0b9nipLFcVOH"
      },
      "source": [
        "def get_user_movie(user_id,head_value):\n",
        "  list_movie = ratings[ratings['user_id']==user_id][['movie_id','counts']].head(head_value)\n",
        "\n",
        "  for idx,(movie_id,counts) in enumerate(zip(list_movie['movie_id'],list_movie['counts'])):\n",
        "    if idx == 0:\n",
        "      answer = movies[movies['movie_id']==movie_id]\n",
        "      answer['counts']=counts\n",
        "    else:\n",
        "      answer = pd.concat([answer,\n",
        "                          movies[movies['movie_id']==movie_id].assign(counts = [counts])\n",
        "                          ])\n",
        "\n",
        "  return answer"
      ],
      "execution_count": 58,
      "outputs": []
    },
    {
      "cell_type": "code",
      "metadata": {
        "id": "cR0f4gfWt49p"
      },
      "source": [
        "def get_similar_movie(model_name,movie_id):\n",
        "  simil_list = model_name.similar_items(movie_id)\n",
        "  for idx,(movie_id,_) in enumerate(simil_list):\n",
        "    if idx == 0:\n",
        "      answer = movies[movies['movie_id']==movie_id]\n",
        "    else:\n",
        "      answer = pd.concat([answer,movies[movies['movie_id']==movie_id]])\n",
        "  return answer"
      ],
      "execution_count": 59,
      "outputs": []
    },
    {
      "cell_type": "code",
      "metadata": {
        "colab": {
          "base_uri": "https://localhost:8080/",
          "height": 462
        },
        "id": "bN2TtPLBclkm",
        "outputId": "bcb0f45f-115f-4584-e3a4-45501641f2c3"
      },
      "source": [
        "get_user_movie(1,10)"
      ],
      "execution_count": 60,
      "outputs": [
        {
          "output_type": "stream",
          "name": "stderr",
          "text": [
            "/usr/local/lib/python3.7/dist-packages/ipykernel_launcher.py:7: SettingWithCopyWarning: \n",
            "A value is trying to be set on a copy of a slice from a DataFrame.\n",
            "Try using .loc[row_indexer,col_indexer] = value instead\n",
            "\n",
            "See the caveats in the documentation: https://pandas.pydata.org/pandas-docs/stable/user_guide/indexing.html#returning-a-view-versus-a-copy\n",
            "  import sys\n"
          ]
        },
        {
          "output_type": "execute_result",
          "data": {
            "text/html": [
              "<div>\n",
              "<style scoped>\n",
              "    .dataframe tbody tr th:only-of-type {\n",
              "        vertical-align: middle;\n",
              "    }\n",
              "\n",
              "    .dataframe tbody tr th {\n",
              "        vertical-align: top;\n",
              "    }\n",
              "\n",
              "    .dataframe thead th {\n",
              "        text-align: right;\n",
              "    }\n",
              "</style>\n",
              "<table border=\"1\" class=\"dataframe\">\n",
              "  <thead>\n",
              "    <tr style=\"text-align: right;\">\n",
              "      <th></th>\n",
              "      <th>movie_id</th>\n",
              "      <th>title</th>\n",
              "      <th>genre</th>\n",
              "      <th>counts</th>\n",
              "    </tr>\n",
              "  </thead>\n",
              "  <tbody>\n",
              "    <tr>\n",
              "      <th>1176</th>\n",
              "      <td>1193</td>\n",
              "      <td>One Flew Over the Cuckoo's Nest (1975)</td>\n",
              "      <td>Drama</td>\n",
              "      <td>5</td>\n",
              "    </tr>\n",
              "    <tr>\n",
              "      <th>655</th>\n",
              "      <td>661</td>\n",
              "      <td>James and the Giant Peach (1996)</td>\n",
              "      <td>Animation|Children's|Musical</td>\n",
              "      <td>3</td>\n",
              "    </tr>\n",
              "    <tr>\n",
              "      <th>902</th>\n",
              "      <td>914</td>\n",
              "      <td>My Fair Lady (1964)</td>\n",
              "      <td>Musical|Romance</td>\n",
              "      <td>3</td>\n",
              "    </tr>\n",
              "    <tr>\n",
              "      <th>3339</th>\n",
              "      <td>3408</td>\n",
              "      <td>Erin Brockovich (2000)</td>\n",
              "      <td>Drama</td>\n",
              "      <td>4</td>\n",
              "    </tr>\n",
              "    <tr>\n",
              "      <th>2286</th>\n",
              "      <td>2355</td>\n",
              "      <td>Bug's Life, A (1998)</td>\n",
              "      <td>Animation|Children's|Comedy</td>\n",
              "      <td>5</td>\n",
              "    </tr>\n",
              "    <tr>\n",
              "      <th>1179</th>\n",
              "      <td>1197</td>\n",
              "      <td>Princess Bride, The (1987)</td>\n",
              "      <td>Action|Adventure|Comedy|Romance</td>\n",
              "      <td>3</td>\n",
              "    </tr>\n",
              "    <tr>\n",
              "      <th>1267</th>\n",
              "      <td>1287</td>\n",
              "      <td>Ben-Hur (1959)</td>\n",
              "      <td>Action|Adventure|Drama</td>\n",
              "      <td>5</td>\n",
              "    </tr>\n",
              "    <tr>\n",
              "      <th>2735</th>\n",
              "      <td>2804</td>\n",
              "      <td>Christmas Story, A (1983)</td>\n",
              "      <td>Comedy|Drama</td>\n",
              "      <td>5</td>\n",
              "    </tr>\n",
              "    <tr>\n",
              "      <th>590</th>\n",
              "      <td>594</td>\n",
              "      <td>Snow White and the Seven Dwarfs (1937)</td>\n",
              "      <td>Animation|Children's|Musical</td>\n",
              "      <td>4</td>\n",
              "    </tr>\n",
              "    <tr>\n",
              "      <th>907</th>\n",
              "      <td>919</td>\n",
              "      <td>Wizard of Oz, The (1939)</td>\n",
              "      <td>Adventure|Children's|Drama|Musical</td>\n",
              "      <td>4</td>\n",
              "    </tr>\n",
              "  </tbody>\n",
              "</table>\n",
              "</div>"
            ],
            "text/plain": [
              "      movie_id  ... counts\n",
              "1176      1193  ...      5\n",
              "655        661  ...      3\n",
              "902        914  ...      3\n",
              "3339      3408  ...      4\n",
              "2286      2355  ...      5\n",
              "1179      1197  ...      3\n",
              "1267      1287  ...      5\n",
              "2735      2804  ...      5\n",
              "590        594  ...      4\n",
              "907        919  ...      4\n",
              "\n",
              "[10 rows x 4 columns]"
            ]
          },
          "metadata": {},
          "execution_count": 60
        }
      ]
    },
    {
      "cell_type": "code",
      "metadata": {
        "id": "aLNdeBC5eFjV"
      },
      "source": [
        ""
      ],
      "execution_count": 60,
      "outputs": []
    },
    {
      "cell_type": "code",
      "metadata": {
        "colab": {
          "base_uri": "https://localhost:8080/",
          "height": 662
        },
        "id": "kFp4hq2Pb0pH",
        "outputId": "cce05dbe-4f61-47a9-e73d-6de4c5892328"
      },
      "source": [
        "get_recommend(movie_als_model,1)"
      ],
      "execution_count": 61,
      "outputs": [
        {
          "output_type": "execute_result",
          "data": {
            "text/html": [
              "<div>\n",
              "<style scoped>\n",
              "    .dataframe tbody tr th:only-of-type {\n",
              "        vertical-align: middle;\n",
              "    }\n",
              "\n",
              "    .dataframe tbody tr th {\n",
              "        vertical-align: top;\n",
              "    }\n",
              "\n",
              "    .dataframe thead th {\n",
              "        text-align: right;\n",
              "    }\n",
              "</style>\n",
              "<table border=\"1\" class=\"dataframe\">\n",
              "  <thead>\n",
              "    <tr style=\"text-align: right;\">\n",
              "      <th></th>\n",
              "      <th>movie_id</th>\n",
              "      <th>title</th>\n",
              "      <th>genre</th>\n",
              "    </tr>\n",
              "  </thead>\n",
              "  <tbody>\n",
              "    <tr>\n",
              "      <th>360</th>\n",
              "      <td>364</td>\n",
              "      <td>Lion King, The (1994)</td>\n",
              "      <td>Animation|Children's|Musical</td>\n",
              "    </tr>\n",
              "    <tr>\n",
              "      <th>315</th>\n",
              "      <td>318</td>\n",
              "      <td>Shawshank Redemption, The (1994)</td>\n",
              "      <td>Drama</td>\n",
              "    </tr>\n",
              "    <tr>\n",
              "      <th>1207</th>\n",
              "      <td>1225</td>\n",
              "      <td>Amadeus (1984)</td>\n",
              "      <td>Drama</td>\n",
              "    </tr>\n",
              "    <tr>\n",
              "      <th>2009</th>\n",
              "      <td>2078</td>\n",
              "      <td>Jungle Book, The (1967)</td>\n",
              "      <td>Animation|Children's|Comedy|Musical</td>\n",
              "    </tr>\n",
              "    <tr>\n",
              "      <th>2012</th>\n",
              "      <td>2081</td>\n",
              "      <td>Little Mermaid, The (1989)</td>\n",
              "      <td>Animation|Children's|Comedy|Musical|Romance</td>\n",
              "    </tr>\n",
              "    <tr>\n",
              "      <th>2789</th>\n",
              "      <td>2858</td>\n",
              "      <td>American Beauty (1999)</td>\n",
              "      <td>Comedy|Drama</td>\n",
              "    </tr>\n",
              "    <tr>\n",
              "      <th>1262</th>\n",
              "      <td>1282</td>\n",
              "      <td>Fantasia (1940)</td>\n",
              "      <td>Animation|Children's|Musical</td>\n",
              "    </tr>\n",
              "    <tr>\n",
              "      <th>2027</th>\n",
              "      <td>2096</td>\n",
              "      <td>Sleeping Beauty (1959)</td>\n",
              "      <td>Animation|Children's|Musical</td>\n",
              "    </tr>\n",
              "    <tr>\n",
              "      <th>3078</th>\n",
              "      <td>3147</td>\n",
              "      <td>Green Mile, The (1999)</td>\n",
              "      <td>Drama|Thriller</td>\n",
              "    </tr>\n",
              "    <tr>\n",
              "      <th>1656</th>\n",
              "      <td>1704</td>\n",
              "      <td>Good Will Hunting (1997)</td>\n",
              "      <td>Drama</td>\n",
              "    </tr>\n",
              "    <tr>\n",
              "      <th>2018</th>\n",
              "      <td>2087</td>\n",
              "      <td>Peter Pan (1953)</td>\n",
              "      <td>Animation|Children's|Fantasy|Musical</td>\n",
              "    </tr>\n",
              "    <tr>\n",
              "      <th>1180</th>\n",
              "      <td>1198</td>\n",
              "      <td>Raiders of the Lost Ark (1981)</td>\n",
              "      <td>Action|Adventure</td>\n",
              "    </tr>\n",
              "    <tr>\n",
              "      <th>33</th>\n",
              "      <td>34</td>\n",
              "      <td>Babe (1995)</td>\n",
              "      <td>Children's|Comedy|Drama</td>\n",
              "    </tr>\n",
              "    <tr>\n",
              "      <th>1178</th>\n",
              "      <td>1196</td>\n",
              "      <td>Star Wars: Episode V - The Empire Strikes Back...</td>\n",
              "      <td>Action|Adventure|Drama|Sci-Fi|War</td>\n",
              "    </tr>\n",
              "    <tr>\n",
              "      <th>592</th>\n",
              "      <td>596</td>\n",
              "      <td>Pinocchio (1940)</td>\n",
              "      <td>Animation|Children's</td>\n",
              "    </tr>\n",
              "    <tr>\n",
              "      <th>1019</th>\n",
              "      <td>1032</td>\n",
              "      <td>Alice in Wonderland (1951)</td>\n",
              "      <td>Animation|Children's|Musical</td>\n",
              "    </tr>\n",
              "    <tr>\n",
              "      <th>589</th>\n",
              "      <td>593</td>\n",
              "      <td>Silence of the Lambs, The (1991)</td>\n",
              "      <td>Drama|Thriller</td>\n",
              "    </tr>\n",
              "    <tr>\n",
              "      <th>908</th>\n",
              "      <td>920</td>\n",
              "      <td>Gone with the Wind (1939)</td>\n",
              "      <td>Drama|Romance|War</td>\n",
              "    </tr>\n",
              "    <tr>\n",
              "      <th>108</th>\n",
              "      <td>110</td>\n",
              "      <td>Braveheart (1995)</td>\n",
              "      <td>Action|Drama|War</td>\n",
              "    </tr>\n",
              "    <tr>\n",
              "      <th>2016</th>\n",
              "      <td>2085</td>\n",
              "      <td>101 Dalmatians (1961)</td>\n",
              "      <td>Animation|Children's</td>\n",
              "    </tr>\n",
              "  </tbody>\n",
              "</table>\n",
              "</div>"
            ],
            "text/plain": [
              "      movie_id  ...                                        genre\n",
              "360        364  ...                 Animation|Children's|Musical\n",
              "315        318  ...                                        Drama\n",
              "1207      1225  ...                                        Drama\n",
              "2009      2078  ...          Animation|Children's|Comedy|Musical\n",
              "2012      2081  ...  Animation|Children's|Comedy|Musical|Romance\n",
              "2789      2858  ...                                 Comedy|Drama\n",
              "1262      1282  ...                 Animation|Children's|Musical\n",
              "2027      2096  ...                 Animation|Children's|Musical\n",
              "3078      3147  ...                               Drama|Thriller\n",
              "1656      1704  ...                                        Drama\n",
              "2018      2087  ...         Animation|Children's|Fantasy|Musical\n",
              "1180      1198  ...                             Action|Adventure\n",
              "33          34  ...                      Children's|Comedy|Drama\n",
              "1178      1196  ...            Action|Adventure|Drama|Sci-Fi|War\n",
              "592        596  ...                         Animation|Children's\n",
              "1019      1032  ...                 Animation|Children's|Musical\n",
              "589        593  ...                               Drama|Thriller\n",
              "908        920  ...                            Drama|Romance|War\n",
              "108        110  ...                             Action|Drama|War\n",
              "2016      2085  ...                         Animation|Children's\n",
              "\n",
              "[20 rows x 3 columns]"
            ]
          },
          "metadata": {},
          "execution_count": 61
        }
      ]
    },
    {
      "cell_type": "code",
      "metadata": {
        "colab": {
          "base_uri": "https://localhost:8080/"
        },
        "id": "Iu9Tulvkb0sD",
        "outputId": "9604f781-c634-4d0f-c27f-bf8015895f46"
      },
      "source": [
        "model_user_factor(movie_als_model,6041).dot(model_movie_factor(movie_als_model,3114))"
      ],
      "execution_count": 62,
      "outputs": [
        {
          "output_type": "execute_result",
          "data": {
            "text/plain": [
              "0.6718849"
            ]
          },
          "metadata": {},
          "execution_count": 62
        }
      ]
    },
    {
      "cell_type": "code",
      "metadata": {
        "colab": {
          "base_uri": "https://localhost:8080/"
        },
        "id": "uOM0v-vStSP9",
        "outputId": "b1146f40-0e6c-4624-8760-0c2bf163def4"
      },
      "source": [
        "model_user_factor(movie_als_model,6041).dot(model_movie_factor(movie_als_model,2114))"
      ],
      "execution_count": 63,
      "outputs": [
        {
          "output_type": "execute_result",
          "data": {
            "text/plain": [
              "0.0006268311"
            ]
          },
          "metadata": {},
          "execution_count": 63
        }
      ]
    },
    {
      "cell_type": "code",
      "metadata": {
        "colab": {
          "base_uri": "https://localhost:8080/",
          "height": 355
        },
        "id": "4-Z6Wb9wtt_R",
        "outputId": "47fb603a-aa83-451a-ac97-70c7c527f8b8"
      },
      "source": [
        "get_similar_movie(movie_als_model,3114)"
      ],
      "execution_count": 64,
      "outputs": [
        {
          "output_type": "execute_result",
          "data": {
            "text/html": [
              "<div>\n",
              "<style scoped>\n",
              "    .dataframe tbody tr th:only-of-type {\n",
              "        vertical-align: middle;\n",
              "    }\n",
              "\n",
              "    .dataframe tbody tr th {\n",
              "        vertical-align: top;\n",
              "    }\n",
              "\n",
              "    .dataframe thead th {\n",
              "        text-align: right;\n",
              "    }\n",
              "</style>\n",
              "<table border=\"1\" class=\"dataframe\">\n",
              "  <thead>\n",
              "    <tr style=\"text-align: right;\">\n",
              "      <th></th>\n",
              "      <th>movie_id</th>\n",
              "      <th>title</th>\n",
              "      <th>genre</th>\n",
              "    </tr>\n",
              "  </thead>\n",
              "  <tbody>\n",
              "    <tr>\n",
              "      <th>3045</th>\n",
              "      <td>3114</td>\n",
              "      <td>Toy Story 2 (1999)</td>\n",
              "      <td>Animation|Children's|Comedy</td>\n",
              "    </tr>\n",
              "    <tr>\n",
              "      <th>0</th>\n",
              "      <td>1</td>\n",
              "      <td>Toy Story (1995)</td>\n",
              "      <td>Animation|Children's|Comedy</td>\n",
              "    </tr>\n",
              "    <tr>\n",
              "      <th>2286</th>\n",
              "      <td>2355</td>\n",
              "      <td>Bug's Life, A (1998)</td>\n",
              "      <td>Animation|Children's|Comedy</td>\n",
              "    </tr>\n",
              "    <tr>\n",
              "      <th>33</th>\n",
              "      <td>34</td>\n",
              "      <td>Babe (1995)</td>\n",
              "      <td>Children's|Comedy|Drama</td>\n",
              "    </tr>\n",
              "    <tr>\n",
              "      <th>2692</th>\n",
              "      <td>2761</td>\n",
              "      <td>Iron Giant, The (1999)</td>\n",
              "      <td>Animation|Children's</td>\n",
              "    </tr>\n",
              "    <tr>\n",
              "      <th>2327</th>\n",
              "      <td>2396</td>\n",
              "      <td>Shakespeare in Love (1998)</td>\n",
              "      <td>Comedy|Romance</td>\n",
              "    </tr>\n",
              "    <tr>\n",
              "      <th>3088</th>\n",
              "      <td>3157</td>\n",
              "      <td>Stuart Little (1999)</td>\n",
              "      <td>Children's|Comedy</td>\n",
              "    </tr>\n",
              "    <tr>\n",
              "      <th>584</th>\n",
              "      <td>588</td>\n",
              "      <td>Aladdin (1992)</td>\n",
              "      <td>Animation|Children's|Comedy|Musical</td>\n",
              "    </tr>\n",
              "    <tr>\n",
              "      <th>1245</th>\n",
              "      <td>1265</td>\n",
              "      <td>Groundhog Day (1993)</td>\n",
              "      <td>Comedy|Romance</td>\n",
              "    </tr>\n",
              "    <tr>\n",
              "      <th>2530</th>\n",
              "      <td>2599</td>\n",
              "      <td>Election (1999)</td>\n",
              "      <td>Comedy</td>\n",
              "    </tr>\n",
              "  </tbody>\n",
              "</table>\n",
              "</div>"
            ],
            "text/plain": [
              "      movie_id                       title                                genre\n",
              "3045      3114          Toy Story 2 (1999)          Animation|Children's|Comedy\n",
              "0            1            Toy Story (1995)          Animation|Children's|Comedy\n",
              "2286      2355        Bug's Life, A (1998)          Animation|Children's|Comedy\n",
              "33          34                 Babe (1995)              Children's|Comedy|Drama\n",
              "2692      2761      Iron Giant, The (1999)                 Animation|Children's\n",
              "2327      2396  Shakespeare in Love (1998)                       Comedy|Romance\n",
              "3088      3157        Stuart Little (1999)                    Children's|Comedy\n",
              "584        588              Aladdin (1992)  Animation|Children's|Comedy|Musical\n",
              "1245      1265        Groundhog Day (1993)                       Comedy|Romance\n",
              "2530      2599             Election (1999)                               Comedy"
            ]
          },
          "metadata": {},
          "execution_count": 64
        }
      ]
    },
    {
      "cell_type": "code",
      "metadata": {
        "colab": {
          "base_uri": "https://localhost:8080/",
          "height": 662
        },
        "id": "G2-CMtVQtuDE",
        "outputId": "18c90171-e89c-4931-cb4b-a22ab72b723d"
      },
      "source": [
        "get_recommend(movie_als_model,6041)"
      ],
      "execution_count": 65,
      "outputs": [
        {
          "output_type": "execute_result",
          "data": {
            "text/html": [
              "<div>\n",
              "<style scoped>\n",
              "    .dataframe tbody tr th:only-of-type {\n",
              "        vertical-align: middle;\n",
              "    }\n",
              "\n",
              "    .dataframe tbody tr th {\n",
              "        vertical-align: top;\n",
              "    }\n",
              "\n",
              "    .dataframe thead th {\n",
              "        text-align: right;\n",
              "    }\n",
              "</style>\n",
              "<table border=\"1\" class=\"dataframe\">\n",
              "  <thead>\n",
              "    <tr style=\"text-align: right;\">\n",
              "      <th></th>\n",
              "      <th>movie_id</th>\n",
              "      <th>title</th>\n",
              "      <th>genre</th>\n",
              "    </tr>\n",
              "  </thead>\n",
              "  <tbody>\n",
              "    <tr>\n",
              "      <th>847</th>\n",
              "      <td>858</td>\n",
              "      <td>Godfather, The (1972)</td>\n",
              "      <td>Action|Crime|Drama</td>\n",
              "    </tr>\n",
              "    <tr>\n",
              "      <th>33</th>\n",
              "      <td>34</td>\n",
              "      <td>Babe (1995)</td>\n",
              "      <td>Children's|Comedy|Drama</td>\n",
              "    </tr>\n",
              "    <tr>\n",
              "      <th>2286</th>\n",
              "      <td>2355</td>\n",
              "      <td>Bug's Life, A (1998)</td>\n",
              "      <td>Animation|Children's|Comedy</td>\n",
              "    </tr>\n",
              "    <tr>\n",
              "      <th>2327</th>\n",
              "      <td>2396</td>\n",
              "      <td>Shakespeare in Love (1998)</td>\n",
              "      <td>Comedy|Romance</td>\n",
              "    </tr>\n",
              "    <tr>\n",
              "      <th>1954</th>\n",
              "      <td>2023</td>\n",
              "      <td>Godfather: Part III, The (1990)</td>\n",
              "      <td>Action|Crime|Drama</td>\n",
              "    </tr>\n",
              "    <tr>\n",
              "      <th>1182</th>\n",
              "      <td>1200</td>\n",
              "      <td>Aliens (1986)</td>\n",
              "      <td>Action|Sci-Fi|Thriller|War</td>\n",
              "    </tr>\n",
              "    <tr>\n",
              "      <th>257</th>\n",
              "      <td>260</td>\n",
              "      <td>Star Wars: Episode IV - A New Hope (1977)</td>\n",
              "      <td>Action|Adventure|Fantasy|Sci-Fi</td>\n",
              "    </tr>\n",
              "    <tr>\n",
              "      <th>1192</th>\n",
              "      <td>1210</td>\n",
              "      <td>Star Wars: Episode VI - Return of the Jedi (1983)</td>\n",
              "      <td>Action|Adventure|Romance|Sci-Fi|War</td>\n",
              "    </tr>\n",
              "    <tr>\n",
              "      <th>1220</th>\n",
              "      <td>1240</td>\n",
              "      <td>Terminator, The (1984)</td>\n",
              "      <td>Action|Sci-Fi|Thriller</td>\n",
              "    </tr>\n",
              "    <tr>\n",
              "      <th>1178</th>\n",
              "      <td>1196</td>\n",
              "      <td>Star Wars: Episode V - The Empire Strikes Back...</td>\n",
              "      <td>Action|Adventure|Drama|Sci-Fi|War</td>\n",
              "    </tr>\n",
              "    <tr>\n",
              "      <th>1366</th>\n",
              "      <td>1387</td>\n",
              "      <td>Jaws (1975)</td>\n",
              "      <td>Action|Horror</td>\n",
              "    </tr>\n",
              "    <tr>\n",
              "      <th>1884</th>\n",
              "      <td>1953</td>\n",
              "      <td>French Connection, The (1971)</td>\n",
              "      <td>Action|Crime|Drama|Thriller</td>\n",
              "    </tr>\n",
              "    <tr>\n",
              "      <th>1959</th>\n",
              "      <td>2028</td>\n",
              "      <td>Saving Private Ryan (1998)</td>\n",
              "      <td>Action|Drama|War</td>\n",
              "    </tr>\n",
              "    <tr>\n",
              "      <th>1245</th>\n",
              "      <td>1265</td>\n",
              "      <td>Groundhog Day (1993)</td>\n",
              "      <td>Comedy|Romance</td>\n",
              "    </tr>\n",
              "    <tr>\n",
              "      <th>584</th>\n",
              "      <td>588</td>\n",
              "      <td>Aladdin (1992)</td>\n",
              "      <td>Animation|Children's|Comedy|Musical</td>\n",
              "    </tr>\n",
              "    <tr>\n",
              "      <th>1180</th>\n",
              "      <td>1198</td>\n",
              "      <td>Raiders of the Lost Ark (1981)</td>\n",
              "      <td>Action|Adventure</td>\n",
              "    </tr>\n",
              "    <tr>\n",
              "      <th>352</th>\n",
              "      <td>356</td>\n",
              "      <td>Forrest Gump (1994)</td>\n",
              "      <td>Comedy|Romance|War</td>\n",
              "    </tr>\n",
              "    <tr>\n",
              "      <th>912</th>\n",
              "      <td>924</td>\n",
              "      <td>2001: A Space Odyssey (1968)</td>\n",
              "      <td>Drama|Mystery|Sci-Fi|Thriller</td>\n",
              "    </tr>\n",
              "    <tr>\n",
              "      <th>1284</th>\n",
              "      <td>1304</td>\n",
              "      <td>Butch Cassidy and the Sundance Kid (1969)</td>\n",
              "      <td>Action|Comedy|Western</td>\n",
              "    </tr>\n",
              "    <tr>\n",
              "      <th>1256</th>\n",
              "      <td>1276</td>\n",
              "      <td>Cool Hand Luke (1967)</td>\n",
              "      <td>Comedy|Drama</td>\n",
              "    </tr>\n",
              "  </tbody>\n",
              "</table>\n",
              "</div>"
            ],
            "text/plain": [
              "      movie_id  ...                                genre\n",
              "847        858  ...                   Action|Crime|Drama\n",
              "33          34  ...              Children's|Comedy|Drama\n",
              "2286      2355  ...          Animation|Children's|Comedy\n",
              "2327      2396  ...                       Comedy|Romance\n",
              "1954      2023  ...                   Action|Crime|Drama\n",
              "1182      1200  ...           Action|Sci-Fi|Thriller|War\n",
              "257        260  ...      Action|Adventure|Fantasy|Sci-Fi\n",
              "1192      1210  ...  Action|Adventure|Romance|Sci-Fi|War\n",
              "1220      1240  ...               Action|Sci-Fi|Thriller\n",
              "1178      1196  ...    Action|Adventure|Drama|Sci-Fi|War\n",
              "1366      1387  ...                        Action|Horror\n",
              "1884      1953  ...          Action|Crime|Drama|Thriller\n",
              "1959      2028  ...                     Action|Drama|War\n",
              "1245      1265  ...                       Comedy|Romance\n",
              "584        588  ...  Animation|Children's|Comedy|Musical\n",
              "1180      1198  ...                     Action|Adventure\n",
              "352        356  ...                   Comedy|Romance|War\n",
              "912        924  ...        Drama|Mystery|Sci-Fi|Thriller\n",
              "1284      1304  ...                Action|Comedy|Western\n",
              "1256      1276  ...                         Comedy|Drama\n",
              "\n",
              "[20 rows x 3 columns]"
            ]
          },
          "metadata": {},
          "execution_count": 65
        }
      ]
    },
    {
      "cell_type": "code",
      "metadata": {
        "id": "oBFuYkAWtuGw"
      },
      "source": [
        ""
      ],
      "execution_count": 65,
      "outputs": []
    },
    {
      "cell_type": "code",
      "metadata": {
        "id": "ignCa24EtuSR"
      },
      "source": [
        ""
      ],
      "execution_count": 65,
      "outputs": []
    }
  ]
}