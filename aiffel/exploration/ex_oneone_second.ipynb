{
  "nbformat": 4,
  "nbformat_minor": 0,
  "metadata": {
    "accelerator": "GPU",
    "colab": {
      "name": "ex_oneone.ipynb",
      "provenance": [],
      "collapsed_sections": [],
      "machine_shape": "hm",
      "mount_file_id": "1p64K_hu41Q_oIN0tGf9CR25t7HTR5wVd",
      "authorship_tag": "ABX9TyP4gwEypGnr+op4x0Q8+MMG",
      "include_colab_link": true
    },
    "kernelspec": {
      "display_name": "Python 3",
      "name": "python3"
    },
    "language_info": {
      "name": "python"
    }
  },
  "cells": [
    {
      "cell_type": "markdown",
      "metadata": {
        "id": "view-in-github",
        "colab_type": "text"
      },
      "source": [
        "<a href=\"https://colab.research.google.com/github/kim1987/aiffel/blob/main/aiffel/exploration/ex_oneone_second.ipynb\" target=\"_parent\"><img src=\"https://colab.research.google.com/assets/colab-badge.svg\" alt=\"Open In Colab\"/></a>"
      ]
    },
    {
      "cell_type": "code",
      "metadata": {
        "id": "FoJ-LMY6UvXG"
      },
      "source": [
        "#!pip install cupy"
      ],
      "execution_count": 1,
      "outputs": []
    },
    {
      "cell_type": "code",
      "metadata": {
        "id": "Hc5r9Ak2s4mQ"
      },
      "source": [
        ""
      ],
      "execution_count": 1,
      "outputs": []
    },
    {
      "cell_type": "code",
      "metadata": {
        "id": "p2-F_w1QWlWU"
      },
      "source": [
        "!cp /content/drive/MyDrive/colabdata/aiffel/ex_oneone/data.tar /content/data.tar\n",
        "!tar xvf data.tar"
      ],
      "execution_count": null,
      "outputs": []
    },
    {
      "cell_type": "code",
      "metadata": {
        "id": "TKK4IcPJOOxe"
      },
      "source": [
        "import os, re\n",
        "import random, math\n",
        "import numpy as np\n",
        "import tensorflow as tf\n",
        "import matplotlib.pyplot as plt\n",
        "import warnings\n",
        "warnings.filterwarnings(action='ignore')"
      ],
      "execution_count": 3,
      "outputs": []
    },
    {
      "cell_type": "code",
      "metadata": {
        "id": "Ili-YklQzJom"
      },
      "source": [
        ""
      ],
      "execution_count": 3,
      "outputs": []
    },
    {
      "cell_type": "code",
      "metadata": {
        "id": "IXePD-oLUu58"
      },
      "source": [
        "AUTOTUNE = tf.data.experimental.AUTOTUNE\n",
        "IMAGE_SIZE = [540, 540]\n",
        "\n",
        "\n",
        "\n",
        "\n",
        "ROOT_PATH = '/content'\n",
        "TRAIN_PATH = ROOT_PATH + '/data/train/*/*'\n",
        "VAL_PATH = ROOT_PATH + '/data/val/*/*'\n",
        "TEST_PATH = ROOT_PATH + '/data/test/*/*'"
      ],
      "execution_count": 4,
      "outputs": []
    },
    {
      "cell_type": "code",
      "metadata": {
        "id": "ujDUCOd6WQmD"
      },
      "source": [
        "BATCH_SIZE = 16\n",
        "EPOCHS = 20"
      ],
      "execution_count": 5,
      "outputs": []
    },
    {
      "cell_type": "code",
      "metadata": {
        "id": "NUKmu7KkWQog"
      },
      "source": [
        "train_filenames = tf.io.gfile.glob(TRAIN_PATH)\n",
        "test_filenames = tf.io.gfile.glob(TEST_PATH)\n",
        "val_filenames = tf.io.gfile.glob(VAL_PATH)"
      ],
      "execution_count": 6,
      "outputs": []
    },
    {
      "cell_type": "code",
      "metadata": {
        "id": "M2WEZ2rvWQt0"
      },
      "source": [
        "filenames = tf.io.gfile.glob(TRAIN_PATH)\n",
        "filenames.extend(tf.io.gfile.glob(VAL_PATH))"
      ],
      "execution_count": 7,
      "outputs": []
    },
    {
      "cell_type": "code",
      "metadata": {
        "id": "pDF_uYxyWQwS"
      },
      "source": [
        "train_size = math.floor(len(filenames)*0.8)\n",
        "random.seed(8)\n",
        "random.shuffle(filenames)\n",
        "train_filenames = filenames[:train_size]\n",
        "val_filenames = filenames[train_size:]"
      ],
      "execution_count": 8,
      "outputs": []
    },
    {
      "cell_type": "code",
      "metadata": {
        "id": "vFVr53TlWQyL"
      },
      "source": [
        "train_list_ds = tf.data.Dataset.from_tensor_slices(train_filenames)\n",
        "val_list_ds = tf.data.Dataset.from_tensor_slices(val_filenames)"
      ],
      "execution_count": 9,
      "outputs": []
    },
    {
      "cell_type": "code",
      "metadata": {
        "id": "ZF7hs9xYWQ0m"
      },
      "source": [
        "def get_label(file_path):\n",
        "    parts = tf.strings.split(file_path, os.path.sep)\n",
        "    return parts[-2] == \"PNEUMONIA\""
      ],
      "execution_count": 10,
      "outputs": []
    },
    {
      "cell_type": "code",
      "metadata": {
        "id": "ziP_BTVwWQ3f"
      },
      "source": [
        "\n",
        "def decode_img(img,resize=True):\n",
        "    img = tf.image.decode_jpeg(img, channels=3)\n",
        "    img = tf.image.convert_image_dtype(img, tf.float32)\n",
        "    if resize == True:\n",
        "      img = tf.image.resize(img, IMAGE_SIZE)\n",
        "    return img\n",
        "\n",
        "def process_path(file_path):\n",
        "    label = get_label(file_path)\n",
        "    img = tf.io.read_file(file_path)\n",
        "    img = decode_img(img)\n",
        "    return img, label"
      ],
      "execution_count": 11,
      "outputs": []
    },
    {
      "cell_type": "code",
      "metadata": {
        "id": "lBfG1s7cou6k"
      },
      "source": [
        ""
      ],
      "execution_count": 11,
      "outputs": []
    },
    {
      "cell_type": "code",
      "metadata": {
        "id": "7POHqC42hHEI"
      },
      "source": [
        "train_ds = train_list_ds.map(process_path, num_parallel_calls=AUTOTUNE)\n",
        "val_ds = val_list_ds.map(process_path, num_parallel_calls=AUTOTUNE)"
      ],
      "execution_count": 12,
      "outputs": []
    },
    {
      "cell_type": "code",
      "metadata": {
        "id": "TyQ74lfppMrK"
      },
      "source": [
        ""
      ],
      "execution_count": 12,
      "outputs": []
    },
    {
      "cell_type": "code",
      "metadata": {
        "id": "1K6Hc4vUhHHV"
      },
      "source": [
        "test_list_ds = tf.data.Dataset.list_files(TEST_PATH)\n",
        "test_ds = test_list_ds.map(process_path, num_parallel_calls=AUTOTUNE)\n",
        "test_ds = test_ds.batch(BATCH_SIZE)"
      ],
      "execution_count": 13,
      "outputs": []
    },
    {
      "cell_type": "code",
      "metadata": {
        "id": "LbQM73R6hHJ_"
      },
      "source": [
        "def prepare_for_training(ds, shuffle_buffer_size=1000):\n",
        "    ds = ds.shuffle(buffer_size=shuffle_buffer_size)\n",
        "    ds = ds.repeat()\n",
        "    ds = ds.batch(BATCH_SIZE)\n",
        "    ds = ds.prefetch(buffer_size=AUTOTUNE)\n",
        "    return ds\n"
      ],
      "execution_count": 14,
      "outputs": []
    },
    {
      "cell_type": "code",
      "metadata": {
        "id": "ZMZI1LLEhHNB"
      },
      "source": [
        "train_ds = prepare_for_training(train_ds)\n",
        "val_ds = prepare_for_training(val_ds)"
      ],
      "execution_count": 15,
      "outputs": []
    },
    {
      "cell_type": "code",
      "metadata": {
        "colab": {
          "base_uri": "https://localhost:8080/",
          "height": 71
        },
        "id": "rolfswNchHPv",
        "outputId": "f1050bcf-5e07-44bc-9f27-ba61434eca8a"
      },
      "source": [
        "'''\n",
        "def show_batch(image_batch, label_batch):\n",
        "    plt.figure(figsize=(10,10))\n",
        "    for n in range(BATCH_SIZE):\n",
        "        ax = plt.subplot(5,math.ceil(BATCH_SIZE/5),n+1)\n",
        "        plt.imshow(image_batch[n])\n",
        "        if label_batch[n]:\n",
        "            plt.title(\"PNEUMONIA\")\n",
        "        else:\n",
        "            plt.title(\"NORMAL\")\n",
        "        plt.axis(\"off\")\n",
        "'''"
      ],
      "execution_count": 16,
      "outputs": [
        {
          "output_type": "execute_result",
          "data": {
            "application/vnd.google.colaboratory.intrinsic+json": {
              "type": "string"
            },
            "text/plain": [
              "'\\ndef show_batch(image_batch, label_batch):\\n    plt.figure(figsize=(10,10))\\n    for n in range(BATCH_SIZE):\\n        ax = plt.subplot(5,math.ceil(BATCH_SIZE/5),n+1)\\n        plt.imshow(image_batch[n])\\n        if label_batch[n]:\\n            plt.title(\"PNEUMONIA\")\\n        else:\\n            plt.title(\"NORMAL\")\\n        plt.axis(\"off\")\\n'"
            ]
          },
          "metadata": {},
          "execution_count": 16
        }
      ]
    },
    {
      "cell_type": "code",
      "metadata": {
        "colab": {
          "base_uri": "https://localhost:8080/",
          "height": 35
        },
        "id": "IWrOG5lulrvj",
        "outputId": "5fcace04-7545-4fb7-b342-4507d6da7442"
      },
      "source": [
        "'''\n",
        "image_batch, label_batch = next(iter(train_ds))\n",
        "show_batch(image_batch.numpy(), label_batch.numpy())\n",
        "'''"
      ],
      "execution_count": 17,
      "outputs": [
        {
          "output_type": "execute_result",
          "data": {
            "application/vnd.google.colaboratory.intrinsic+json": {
              "type": "string"
            },
            "text/plain": [
              "'\\nimage_batch, label_batch = next(iter(train_ds))\\nshow_batch(image_batch.numpy(), label_batch.numpy())\\n'"
            ]
          },
          "metadata": {},
          "execution_count": 17
        }
      ]
    },
    {
      "cell_type": "code",
      "metadata": {
        "id": "guRUWz7xlr0k"
      },
      "source": [
        "def conv_block(filters):\n",
        "    block = tf.keras.Sequential([\n",
        "        tf.keras.layers.SeparableConv2D(filters, 3, activation='relu', padding='same'),\n",
        "        tf.keras.layers.SeparableConv2D(filters, 3, activation='relu', padding='same'),\n",
        "        tf.keras.layers.BatchNormalization(),\n",
        "        tf.keras.layers.MaxPool2D()\n",
        "    ])\n",
        "    \n",
        "    return block"
      ],
      "execution_count": 18,
      "outputs": []
    },
    {
      "cell_type": "code",
      "metadata": {
        "id": "qbeKSnz2LfmY"
      },
      "source": [
        "def dense_block(units, dropout_rate):\n",
        "    block = tf.keras.Sequential([\n",
        "        tf.keras.layers.Dense(units, activation='relu'),\n",
        "        tf.keras.layers.BatchNormalization(),\n",
        "        tf.keras.layers.Dropout(dropout_rate)\n",
        "    ])\n",
        "    \n",
        "    return block"
      ],
      "execution_count": 19,
      "outputs": []
    },
    {
      "cell_type": "code",
      "metadata": {
        "id": "CaeUtwBXLfpH"
      },
      "source": [
        "def build_model():\n",
        "    model = tf.keras.Sequential([\n",
        "        tf.keras.Input(shape=(IMAGE_SIZE[0], IMAGE_SIZE[1], 3)),\n",
        "        \n",
        "        tf.keras.layers.Conv2D(32, 10, activation='relu', padding='same'),\n",
        "        tf.keras.layers.Conv2D(32, 10, activation='relu', padding='same'),\n",
        "        tf.keras.layers.BatchNormalization(),\n",
        "        tf.keras.layers.MaxPool2D(),\n",
        "        tf.keras.layers.Conv2D(32, 10, activation='relu', padding='same'),\n",
        "        tf.keras.layers.BatchNormalization(),\n",
        "        tf.keras.layers.MaxPool2D(),\n",
        "        \n",
        "        conv_block(32),\n",
        "        conv_block(64),\n",
        "        \n",
        "        conv_block(128),\n",
        "        tf.keras.layers.Dropout(0.2),\n",
        "        \n",
        "        conv_block(256),\n",
        "        tf.keras.layers.Dropout(0.2),\n",
        "        \n",
        "        tf.keras.layers.Flatten(),\n",
        "        dense_block(256, 0.7),\n",
        "        dense_block(128, 0.5),\n",
        "        dense_block(64, 0.3),\n",
        "        \n",
        "        tf.keras.layers.Dense(1, activation='sigmoid')\n",
        "    ])\n",
        "    \n",
        "    return model"
      ],
      "execution_count": 20,
      "outputs": []
    },
    {
      "cell_type": "code",
      "metadata": {
        "id": "CyxnUT-VMEah"
      },
      "source": [
        "COUNT_NORMAL = len([filename for filename in train_filenames if \"NORMAL\" in filename])\n",
        "COUNT_PNEUMONIA = len([filename for filename in train_filenames if \"PNEUMONIA\" in filename])\n",
        "\n",
        "TRAIN_IMG_COUNT = tf.data.experimental.cardinality(train_list_ds).numpy()\n",
        "VAL_IMG_COUNT = tf.data.experimental.cardinality(val_list_ds).numpy()"
      ],
      "execution_count": 21,
      "outputs": []
    },
    {
      "cell_type": "code",
      "metadata": {
        "id": "-SB8NLBoL5tF"
      },
      "source": [
        "weight_for_0 = (1 / COUNT_NORMAL)*(TRAIN_IMG_COUNT)/2.3\n",
        "weight_for_1 = (1 / COUNT_PNEUMONIA)*(TRAIN_IMG_COUNT)/2.0\n",
        "\n",
        "class_weight = {0: weight_for_0, 1: weight_for_1}"
      ],
      "execution_count": 22,
      "outputs": []
    },
    {
      "cell_type": "code",
      "metadata": {
        "id": "_ozpzLmGcEOQ"
      },
      "source": [
        "EPOCHS = 8\n",
        "BATCH_SIZE = 32"
      ],
      "execution_count": 23,
      "outputs": []
    },
    {
      "cell_type": "code",
      "metadata": {
        "id": "E_x7NI0GL5vx"
      },
      "source": [
        "with tf.device('/device:GPU:0'):\n",
        "    model = build_model()\n",
        "\n",
        "    METRICS = [\n",
        "        'accuracy',\n",
        "        tf.keras.metrics.Precision(name='precision'),\n",
        "        tf.keras.metrics.Recall(name='recall')\n",
        "    ]\n",
        "    \n",
        "    model.compile(\n",
        "        optimizer='adam',\n",
        "        loss='binary_crossentropy',\n",
        "        metrics=METRICS\n",
        "    )\n"
      ],
      "execution_count": 24,
      "outputs": []
    },
    {
      "cell_type": "code",
      "metadata": {
        "colab": {
          "base_uri": "https://localhost:8080/"
        },
        "id": "DUSj-LkFL5xi",
        "outputId": "9a22dcd0-e1d9-4f48-9e83-d7f92734345f"
      },
      "source": [
        "with tf.device('/device:GPU:0'):\n",
        "    history = model.fit(\n",
        "        train_ds,\n",
        "        steps_per_epoch=TRAIN_IMG_COUNT // BATCH_SIZE,\n",
        "        epochs=EPOCHS,\n",
        "        #validation_data=val_ds,\n",
        "        #validation_steps=VAL_IMG_COUNT // BATCH_SIZE,\n",
        "        class_weight=class_weight\n",
        "    )"
      ],
      "execution_count": 25,
      "outputs": [
        {
          "output_type": "stream",
          "name": "stdout",
          "text": [
            "Epoch 1/8\n",
            "130/130 [==============================] - 120s 615ms/step - loss: 0.4184 - accuracy: 0.7817 - precision: 0.9464 - recall: 0.7467\n",
            "Epoch 2/8\n",
            "130/130 [==============================] - 80s 613ms/step - loss: 0.2618 - accuracy: 0.8938 - precision: 0.9691 - recall: 0.8863\n",
            "Epoch 3/8\n",
            "130/130 [==============================] - 80s 615ms/step - loss: 0.2478 - accuracy: 0.9062 - precision: 0.9683 - recall: 0.9042\n",
            "Epoch 4/8\n",
            "130/130 [==============================] - 80s 616ms/step - loss: 0.1905 - accuracy: 0.9264 - precision: 0.9766 - recall: 0.9228\n",
            "Epoch 5/8\n",
            "130/130 [==============================] - 80s 613ms/step - loss: 0.2051 - accuracy: 0.9216 - precision: 0.9678 - recall: 0.9262\n",
            "Epoch 6/8\n",
            "130/130 [==============================] - 80s 614ms/step - loss: 0.1837 - accuracy: 0.9279 - precision: 0.9739 - recall: 0.9268\n",
            "Epoch 7/8\n",
            "130/130 [==============================] - 80s 613ms/step - loss: 0.1675 - accuracy: 0.9351 - precision: 0.9783 - recall: 0.9334\n",
            "Epoch 8/8\n",
            "130/130 [==============================] - 80s 615ms/step - loss: 0.1733 - accuracy: 0.9312 - precision: 0.9757 - recall: 0.9311\n"
          ]
        }
      ]
    },
    {
      "cell_type": "code",
      "metadata": {
        "colab": {
          "base_uri": "https://localhost:8080/",
          "height": 190
        },
        "id": "6kA_5rCcL5zz",
        "outputId": "4368d7e7-a0d7-40db-cfb4-a846d3f13603"
      },
      "source": [
        "fig, ax = plt.subplots(1, 4, figsize=(20, 3))\n",
        "ax = ax.ravel()\n",
        "\n",
        "for i, met in enumerate(['precision', 'recall', 'accuracy', 'loss']):\n",
        "    ax[i].plot(history.history[met])\n",
        "    #ax[i].plot(history.history['val_' + met])\n",
        "    ax[i].set_title('Model {}'.format(met))\n",
        "    ax[i].set_xlabel('epochs')\n",
        "    ax[i].set_ylabel(met)\n",
        "    #ax[i].legend(['train', 'val'])\n",
        "    ax[i].legend(['train'])"
      ],
      "execution_count": 26,
      "outputs": [
        {
          "output_type": "display_data",
          "data": {
            "image/png": "[encoded data removed]",
            "text/plain": [
              "<Figure size 1440x216 with 4 Axes>"
            ]
          },
          "metadata": {
            "needs_background": "light"
          }
        }
      ]
    },
    {
      "cell_type": "code",
      "metadata": {
        "colab": {
          "base_uri": "https://localhost:8080/"
        },
        "id": "Hp_-BxmsE8Ez",
        "outputId": "b474837f-cb29-467c-dbcd-28fac3de60df"
      },
      "source": [
        "model.summary()"
      ],
      "execution_count": 27,
      "outputs": [
        {
          "output_type": "stream",
          "name": "stdout",
          "text": [
            "Model: \"sequential_7\"\n",
            "_________________________________________________________________\n",
            "Layer (type)                 Output Shape              Param #   \n",
            "=================================================================\n",
            "conv2d (Conv2D)              (None, 540, 540, 32)      9632      \n",
            "_________________________________________________________________\n",
            "conv2d_1 (Conv2D)            (None, 540, 540, 32)      102432    \n",
            "_________________________________________________________________\n",
            "batch_normalization (BatchNo (None, 540, 540, 32)      128       \n",
            "_________________________________________________________________\n",
            "max_pooling2d (MaxPooling2D) (None, 270, 270, 32)      0         \n",
            "_________________________________________________________________\n",
            "conv2d_2 (Conv2D)            (None, 270, 270, 32)      102432    \n",
            "_________________________________________________________________\n",
            "batch_normalization_1 (Batch (None, 270, 270, 32)      128       \n",
            "_________________________________________________________________\n",
            "max_pooling2d_1 (MaxPooling2 (None, 135, 135, 32)      0         \n",
            "_________________________________________________________________\n",
            "sequential (Sequential)      (None, 67, 67, 32)        2816      \n",
            "_________________________________________________________________\n",
            "sequential_1 (Sequential)    (None, 33, 33, 64)        7392      \n",
            "_________________________________________________________________\n",
            "sequential_2 (Sequential)    (None, 16, 16, 128)       27072     \n",
            "_________________________________________________________________\n",
            "dropout (Dropout)            (None, 16, 16, 128)       0         \n",
            "_________________________________________________________________\n",
            "sequential_3 (Sequential)    (None, 8, 8, 256)         103296    \n",
            "_________________________________________________________________\n",
            "dropout_1 (Dropout)          (None, 8, 8, 256)         0         \n",
            "_________________________________________________________________\n",
            "flatten (Flatten)            (None, 16384)             0         \n",
            "_________________________________________________________________\n",
            "sequential_4 (Sequential)    (None, 256)               4195584   \n",
            "_________________________________________________________________\n",
            "sequential_5 (Sequential)    (None, 128)               33408     \n",
            "_________________________________________________________________\n",
            "sequential_6 (Sequential)    (None, 64)                8512      \n",
            "_________________________________________________________________\n",
            "dense_3 (Dense)              (None, 1)                 65        \n",
            "=================================================================\n",
            "Total params: 4,592,897\n",
            "Trainable params: 4,590,913\n",
            "Non-trainable params: 1,984\n",
            "_________________________________________________________________\n"
          ]
        }
      ]
    },
    {
      "cell_type": "code",
      "metadata": {
        "id": "Xu6sVrQuL532",
        "colab": {
          "base_uri": "https://localhost:8080/"
        },
        "outputId": "f577adaa-7fe4-4d61-ae1c-910c33ec5d56"
      },
      "source": [
        "loss, accuracy, precision, recall = model.evaluate(test_ds)\n",
        "print(f'Loss: {loss},\\nAccuracy: {accuracy},\\nPrecision: {precision},\\nRecall: {recall}')"
      ],
      "execution_count": 28,
      "outputs": [
        {
          "output_type": "stream",
          "name": "stdout",
          "text": [
            "39/39 [==============================] - 11s 252ms/step - loss: 0.5163 - accuracy: 0.7804 - precision: 0.7476 - recall: 0.9795\n",
            "Loss: 0.516341507434845,\n",
            "Accuracy: 0.7804487347602844,\n",
            "Precision: 0.747553825378418,\n",
            "Recall: 0.9794871807098389\n"
          ]
        }
      ]
    },
    {
      "cell_type": "code",
      "metadata": {
        "id": "A6t8XSeh3cUC"
      },
      "source": [
        ""
      ],
      "execution_count": 28,
      "outputs": []
    },
    {
      "cell_type": "code",
      "metadata": {
        "colab": {
          "base_uri": "https://localhost:8080/"
        },
        "id": "ep1NwH0H3ccX",
        "outputId": "62149b7d-d911-4957-a816-58d069a01b9e"
      },
      "source": [
        "\n",
        "with tf.device('/device:GPU:0'):\n",
        "\n",
        "\n",
        "    history = model.fit(\n",
        "        train_ds,\n",
        "        steps_per_epoch=TRAIN_IMG_COUNT // BATCH_SIZE,\n",
        "        epochs=4,\n",
        "        #validation_data=val_ds,\n",
        "        #validation_steps=VAL_IMG_COUNT // BATCH_SIZE,\n",
        "        class_weight=class_weight\n",
        "    )\n"
      ],
      "execution_count": 29,
      "outputs": [
        {
          "output_type": "stream",
          "name": "stdout",
          "text": [
            "Epoch 1/4\n",
            "130/130 [==============================] - 94s 614ms/step - loss: 0.1715 - accuracy: 0.9337 - precision: 0.9778 - recall: 0.9325\n",
            "Epoch 2/4\n",
            "130/130 [==============================] - 80s 614ms/step - loss: 0.1629 - accuracy: 0.9356 - precision: 0.9762 - recall: 0.9355\n",
            "Epoch 3/4\n",
            "130/130 [==============================] - 80s 614ms/step - loss: 0.1505 - accuracy: 0.9428 - precision: 0.9806 - recall: 0.9421\n",
            "Epoch 4/4\n",
            "130/130 [==============================] - 80s 616ms/step - loss: 0.1443 - accuracy: 0.9452 - precision: 0.9831 - recall: 0.9423\n"
          ]
        }
      ]
    },
    {
      "cell_type": "code",
      "metadata": {
        "colab": {
          "base_uri": "https://localhost:8080/"
        },
        "id": "mzMdjdKk3ccY",
        "outputId": "a8507d76-1922-4ca6-fb20-c262d58324ce"
      },
      "source": [
        "\n",
        "loss, accuracy, precision, recall = model.evaluate(test_ds)\n",
        "print(f'Loss: {loss},\\nAccuracy: {accuracy},\\nPrecision: {precision},\\nRecall: {recall}')\n"
      ],
      "execution_count": 30,
      "outputs": [
        {
          "output_type": "stream",
          "name": "stdout",
          "text": [
            "39/39 [==============================] - 10s 250ms/step - loss: 1.0845 - accuracy: 0.6891 - precision: 0.6678 - recall: 1.0000\n",
            "Loss: 1.0844873189926147,\n",
            "Accuracy: 0.6891025900840759,\n",
            "Precision: 0.6678082346916199,\n",
            "Recall: 1.0\n"
          ]
        }
      ]
    },
    {
      "cell_type": "code",
      "metadata": {
        "id": "6zWVagLtoK0L"
      },
      "source": [
        "#model.save('/content/lmsmodel_next')\n",
        "#!cp /content/lmsmodel_next /content/drive/MyDrive/colabdata/aiffel/ex_oneone/lmsmodel_next"
      ],
      "execution_count": 31,
      "outputs": []
    },
    {
      "cell_type": "code",
      "metadata": {
        "id": "8va4T6xh69SQ"
      },
      "source": [
        "#model.save('/content/lmsmodel_next_days')\n",
        "#!cp /content/lmsmodel_next_days /content/drive/MyDrive/colabdata/aiffel/ex_oneone/lmsmodel_next_days"
      ],
      "execution_count": 32,
      "outputs": []
    },
    {
      "cell_type": "code",
      "metadata": {
        "id": "Z-WVCcZ2sTGZ"
      },
      "source": [
        "#model.save('/content/lmsmodel_nine')\n",
        "#!mkdir /content/drive/MyDrive/colabdata/aiffel/ex_oneone/lmsmodel_nine\n",
        "#!cp /content/lmsmodel_nine /content/drive/MyDrive/colabdata/aiffel/ex_oneone/lmsmodel_nine"
      ],
      "execution_count": 33,
      "outputs": []
    },
    {
      "cell_type": "code",
      "metadata": {
        "id": "jK1DLP2ip4i5"
      },
      "source": [
        "weight_for_0 = (1 / COUNT_NORMAL)*(TRAIN_IMG_COUNT)/2.0\n",
        "weight_for_1 = (1 / COUNT_PNEUMONIA)*(TRAIN_IMG_COUNT)/2.0\n",
        "\n",
        "class_weight = {0: weight_for_0, 1: weight_for_1}"
      ],
      "execution_count": 34,
      "outputs": []
    },
    {
      "cell_type": "code",
      "metadata": {
        "colab": {
          "base_uri": "https://localhost:8080/"
        },
        "id": "6v0al-EKsmAN",
        "outputId": "71136a67-5d60-4a5c-b56c-635d5e0bbc43"
      },
      "source": [
        "with tf.device('/device:GPU:0'):\n",
        "\n",
        "    history = model.fit(\n",
        "        train_ds,\n",
        "        steps_per_epoch=TRAIN_IMG_COUNT // BATCH_SIZE,\n",
        "        epochs=4,\n",
        "        #validation_data=val_ds,\n",
        "        #validation_steps=VAL_IMG_COUNT // BATCH_SIZE,\n",
        "        class_weight=class_weight\n",
        "    )"
      ],
      "execution_count": 35,
      "outputs": [
        {
          "output_type": "stream",
          "name": "stdout",
          "text": [
            "Epoch 1/4\n",
            "130/130 [==============================] - 94s 617ms/step - loss: 0.1657 - accuracy: 0.9447 - precision: 0.9826 - recall: 0.9427\n",
            "Epoch 2/4\n",
            "130/130 [==============================] - 80s 616ms/step - loss: 0.1585 - accuracy: 0.9365 - precision: 0.9815 - recall: 0.9319\n",
            "Epoch 3/4\n",
            "130/130 [==============================] - 80s 612ms/step - loss: 0.1411 - accuracy: 0.9433 - precision: 0.9871 - recall: 0.9363\n",
            "Epoch 4/4\n",
            "130/130 [==============================] - 80s 614ms/step - loss: 0.1584 - accuracy: 0.9423 - precision: 0.9816 - recall: 0.9393\n"
          ]
        }
      ]
    },
    {
      "cell_type": "code",
      "metadata": {
        "id": "4VAEnzMbG7N5",
        "colab": {
          "base_uri": "https://localhost:8080/"
        },
        "outputId": "2128de67-affe-4b13-9df4-61794d0f39f6"
      },
      "source": [
        "loss, accuracy, precision, recall = model.evaluate(val_ds,steps=39)\n",
        "print(f'Loss: {loss},\\nAccuracy: {accuracy},\\nPrecision: {precision},\\nRecall: {recall}')"
      ],
      "execution_count": 40,
      "outputs": [
        {
          "output_type": "stream",
          "name": "stdout",
          "text": [
            "39/39 [==============================] - 26s 272ms/step - loss: 0.3630 - accuracy: 0.8718 - precision: 1.0000 - recall: 0.8226\n",
            "Loss: 0.3629777431488037,\n",
            "Accuracy: 0.8717948794364929,\n",
            "Precision: 1.0,\n",
            "Recall: 0.8226163983345032\n"
          ]
        }
      ]
    },
    {
      "cell_type": "code",
      "metadata": {
        "id": "OMdIcyUEp4nM",
        "colab": {
          "base_uri": "https://localhost:8080/"
        },
        "outputId": "9e83f521-a607-4cc4-90b1-b77264453f08"
      },
      "source": [
        "loss, accuracy, precision, recall = model.evaluate(test_ds)\n",
        "print(f'Loss: {loss},\\nAccuracy: {accuracy},\\nPrecision: {precision},\\nRecall: {recall}')"
      ],
      "execution_count": 41,
      "outputs": [
        {
          "output_type": "stream",
          "name": "stdout",
          "text": [
            "39/39 [==============================] - 10s 264ms/step - loss: 0.3274 - accuracy: 0.8814 - precision: 0.9158 - recall: 0.8923\n",
            "Loss: 0.32744452357292175,\n",
            "Accuracy: 0.8814102411270142,\n",
            "Precision: 0.9157894849777222,\n",
            "Recall: 0.892307698726654\n"
          ]
        }
      ]
    },
    {
      "cell_type": "code",
      "metadata": {
        "colab": {
          "base_uri": "https://localhost:8080/"
        },
        "id": "lidpCYjeyzsx",
        "outputId": "851ad846-deab-4afc-e734-b94f7820a2c3"
      },
      "source": [
        "model.save('/content/lmsmodel_88')\n",
        "!cp /content/lmsmodel_88 /content/drive/MyDrive/colabdata/aiffel/ex_oneone/lmsmodel_88"
      ],
      "execution_count": 42,
      "outputs": [
        {
          "output_type": "stream",
          "name": "stdout",
          "text": [
            "INFO:tensorflow:Assets written to: /content/lmsmodel_88/assets\n",
            "cp: -r not specified; omitting directory '/content/lmsmodel_88'\n"
          ]
        }
      ]
    }
  ]
}