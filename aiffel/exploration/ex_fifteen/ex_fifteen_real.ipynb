{
  "nbformat": 4,
  "nbformat_minor": 0,
  "metadata": {
    "colab": {
      "name": "ex_fifteen_real.ipynb",
      "provenance": [],
      "collapsed_sections": [],
      "mount_file_id": "1s5QRAFbVU779eX_vrq5J5fkWfD_HSNar",
      "authorship_tag": "ABX9TyMUhzCQ2AMor9/dEl6iRlim",
      "include_colab_link": true
    },
    "kernelspec": {
      "name": "python3",
      "display_name": "Python 3"
    },
    "language_info": {
      "name": "python"
    },
    "accelerator": "GPU"
  },
  "cells": [
    {
      "cell_type": "markdown",
      "metadata": {
        "id": "view-in-github",
        "colab_type": "text"
      },
      "source": [
        "<a href=\"https://colab.research.google.com/github/kim1987/aiffel/blob/main/aiffel/exploration/ex_fifteen/ex_fifteen_real.ipynb\" target=\"_parent\"><img src=\"https://colab.research.google.com/assets/colab-badge.svg\" alt=\"Open In Colab\"/></a>"
      ]
    },
    {
      "cell_type": "markdown",
      "metadata": {
        "id": "Io8SsicJQoa8"
      },
      "source": [
        "exploration_15  \n",
        "with pytorch transformer\n",
        "and https://tutorials.pytorch.kr/beginner/translation_transformer.html"
      ]
    },
    {
      "cell_type": "code",
      "metadata": {
        "id": "PJhQ6js8RXyV"
      },
      "source": [
        "import torch\n",
        "import torch.nn as nn\n",
        "import torch.nn.functional as F\n",
        "import math\n",
        "import tensorflow as tf"
      ],
      "execution_count": 1,
      "outputs": []
    },
    {
      "cell_type": "code",
      "metadata": {
        "id": "735DPq5AYqHq"
      },
      "source": [
        "import copy\n",
        "from typing import Optional, Any, Union, Callable, Tuple\n",
        "\n",
        "from torch import Tensor\n",
        "from torch.nn import functional as F\n",
        "#from torch.nn.module.module import Module\n",
        "#from torch.nn.module.activation import MultiheadAttention\n",
        "from torch.nn.modules.container import ModuleList\n",
        "from torch.nn.init import xavier_uniform_\n",
        "from torch.nn.modules.dropout import Dropout\n",
        "from torch.nn.modules.linear import Linear\n",
        "from torch.nn.modules.normalization import LayerNorm\n",
        "from torch.nn.parameter import Parameter"
      ],
      "execution_count": 2,
      "outputs": []
    },
    {
      "cell_type": "code",
      "metadata": {
        "id": "luXdS-jqhQ0x"
      },
      "source": [
        "from torch.nn import Transformer"
      ],
      "execution_count": 3,
      "outputs": []
    },
    {
      "cell_type": "code",
      "metadata": {
        "id": "APgonupsYqLm"
      },
      "source": [
        "DEVICE = torch.device('cuda:0' if torch.cuda.is_available() else 'cpu')"
      ],
      "execution_count": 4,
      "outputs": []
    },
    {
      "cell_type": "code",
      "metadata": {
        "id": "8CydWc_Nho9c"
      },
      "source": [
        ""
      ],
      "execution_count": 4,
      "outputs": []
    },
    {
      "cell_type": "markdown",
      "metadata": {
        "id": "hfS4N_iFQoH-"
      },
      "source": [
        "데이터 로드 및 전처리"
      ]
    },
    {
      "cell_type": "code",
      "metadata": {
        "id": "R9XRd13zO6Ex"
      },
      "source": [
        ""
      ],
      "execution_count": 4,
      "outputs": []
    },
    {
      "cell_type": "code",
      "metadata": {
        "id": "Q9maKAvG8yzz"
      },
      "source": [
        "import os\n",
        "import requests\n",
        "import pandas as pd\n",
        "import numpy as np\n",
        "import re\n",
        "import csv\n",
        "down_url = 'https://github.com/songys/Chatbot_data/blob/master/ChatbotData.csv'\n",
        "r = requests.get(down_url)\n"
      ],
      "execution_count": 5,
      "outputs": []
    },
    {
      "cell_type": "code",
      "metadata": {
        "colab": {
          "base_uri": "https://localhost:8080/"
        },
        "id": "pHFYlmfRcb5V",
        "outputId": "6e0b9b91-a51e-4635-db67-3f69af89e0ca"
      },
      "source": [
        "open('/content/data.csv', 'wb').write(r.content)"
      ],
      "execution_count": 6,
      "outputs": [
        {
          "output_type": "execute_result",
          "data": {
            "text/plain": [
              "3609128"
            ]
          },
          "metadata": {},
          "execution_count": 6
        }
      ]
    },
    {
      "cell_type": "code",
      "metadata": {
        "id": "8SYoDg3W8y5w"
      },
      "source": [
        "data = pd.read_html('/content/data.csv')"
      ],
      "execution_count": 7,
      "outputs": []
    },
    {
      "cell_type": "code",
      "metadata": {
        "id": "SQxxgtT68y_t"
      },
      "source": [
        "data_change = data[0][1].apply(lambda x : np.array(x.split(',')))"
      ],
      "execution_count": 8,
      "outputs": []
    },
    {
      "cell_type": "code",
      "metadata": {
        "id": "gG7G1cmXTBTa"
      },
      "source": [
        "data_test = pd.DataFrame([[data_change[i][0],data_change[i][1],data_change[i][2]] for i in range(1,data_change.count())],columns=data_change[0])"
      ],
      "execution_count": 9,
      "outputs": []
    },
    {
      "cell_type": "code",
      "metadata": {
        "id": "JX9nEZoC_TKc"
      },
      "source": [
        "data_frame = pd.DataFrame([[data_change.values[1:][i][j] for j in range(0,3)] for i in range(0,data_change.count()-1)],columns=data_change.values[0])"
      ],
      "execution_count": 10,
      "outputs": []
    },
    {
      "cell_type": "code",
      "metadata": {
        "id": "hRus8lrp_TPk"
      },
      "source": [
        "src_base = data_frame['Q']\n",
        "tgt_base = data_frame['A']"
      ],
      "execution_count": 11,
      "outputs": []
    },
    {
      "cell_type": "code",
      "metadata": {
        "colab": {
          "base_uri": "https://localhost:8080/"
        },
        "id": "Fkb02LZBl180",
        "outputId": "65d40f52-e8f7-4f2e-fcbd-4893e318f091"
      },
      "source": [
        "type(src_base)"
      ],
      "execution_count": 12,
      "outputs": [
        {
          "output_type": "execute_result",
          "data": {
            "text/plain": [
              "pandas.core.series.Series"
            ]
          },
          "metadata": {},
          "execution_count": 12
        }
      ]
    },
    {
      "cell_type": "code",
      "metadata": {
        "id": "RytgnL0K_TTs"
      },
      "source": [
        "def preprocess_sentence(sentence):\n",
        "\n",
        "    sentence = re.sub(r\"([?.!,])\", \" \", sentence)\n",
        "    sentence = re.sub(r'[\" \"]+', \" \", sentence)\n",
        "\n",
        "    sentence = sentence.strip()\n",
        "    return sentence"
      ],
      "execution_count": 13,
      "outputs": []
    },
    {
      "cell_type": "code",
      "metadata": {
        "id": "556DucJI_TY1"
      },
      "source": [
        "src_prepro = src_base.apply(preprocess_sentence)\n",
        "tgt_prepro = tgt_base.apply(preprocess_sentence)"
      ],
      "execution_count": 14,
      "outputs": []
    },
    {
      "cell_type": "code",
      "metadata": {
        "colab": {
          "base_uri": "https://localhost:8080/"
        },
        "id": "HBr8eo1n_Thj",
        "outputId": "a0871653-1b39-401c-869b-a1825ed6c623"
      },
      "source": [
        "for sen in  src_prepro:\n",
        "  print(sen)\n",
        "  break\n",
        "  "
      ],
      "execution_count": 15,
      "outputs": [
        {
          "output_type": "stream",
          "name": "stdout",
          "text": [
            "12시 땡\n"
          ]
        }
      ]
    },
    {
      "cell_type": "code",
      "metadata": {
        "id": "wDZp2fVHnKNE"
      },
      "source": [
        "import tensorflow_datasets as tfds"
      ],
      "execution_count": 16,
      "outputs": []
    },
    {
      "cell_type": "code",
      "metadata": {
        "id": "ETvA9RianKQf"
      },
      "source": [
        "tokenizer = tfds.deprecated.text.SubwordTextEncoder.build_from_corpus(src_prepro + tgt_prepro, target_vocab_size=2**13)"
      ],
      "execution_count": 17,
      "outputs": []
    },
    {
      "cell_type": "code",
      "metadata": {
        "id": "upJ4tin4nKT5"
      },
      "source": [
        "START_TOKEN, END_TOKEN = tokenizer.vocab_size, tokenizer.vocab_size + 1"
      ],
      "execution_count": 18,
      "outputs": []
    },
    {
      "cell_type": "code",
      "metadata": {
        "colab": {
          "base_uri": "https://localhost:8080/"
        },
        "id": "dw5sA54Fn7Qs",
        "outputId": "2937dd94-727c-4279-c65e-c0bcd31d57ab"
      },
      "source": [
        "print('END_TOKEN의 번호 :' ,[tokenizer.vocab_size + 1])"
      ],
      "execution_count": 19,
      "outputs": [
        {
          "output_type": "stream",
          "name": "stdout",
          "text": [
            "END_TOKEN의 번호 : [8476]\n"
          ]
        }
      ]
    },
    {
      "cell_type": "code",
      "metadata": {
        "id": "ATPdfpaJn7Uc"
      },
      "source": [
        "VOCAB_SIZE = tokenizer.vocab_size + 2"
      ],
      "execution_count": 20,
      "outputs": []
    },
    {
      "cell_type": "code",
      "metadata": {
        "id": "G_trkBejn7Xy"
      },
      "source": [
        "MAX_LENGTH = 40"
      ],
      "execution_count": 21,
      "outputs": []
    },
    {
      "cell_type": "code",
      "metadata": {
        "id": "BAc-dNELn7al",
        "colab": {
          "base_uri": "https://localhost:8080/",
          "height": 91
        },
        "outputId": "064ddda7-350b-4b42-f3e0-dada331f6ecd"
      },
      "source": [
        "'''\n",
        "from torch.nn.utils.rnn import pad_sequence\n",
        "def tokenize_and_filter(inputs, outputs):\n",
        "  tokenized_inputs, tokenized_outputs = [], []\n",
        "  for (sentence1, sentence2) in zip(inputs, outputs):\n",
        "    sentence1 = START_TOKEN + tokenizer.encode(sentence1) + END_TOKEN\n",
        "    sentence2 = START_TOKEN + tokenizer.encode(sentence2) + END_TOKEN\n",
        "\n",
        "    mask_1 = np.concatenate([np.zeros(len(sentence1),dtype=np.bool),np.ones(MAX_LENGTH-len(sentence1),dtype=np.bool)])\n",
        "    mask_2 = np.concatenate([np.zeros(len(sentence2),dtype=np.bool),np.ones(MAX_LENGTH-len(sentence2),dtype=np.bool)])\n",
        "\n",
        "    if len(sentence1) <= MAX_LENGTH and len(sentence2) <= MAX_LENGTH:\n",
        "      tokenized_inputs.append(sentence1)\n",
        "      tokenized_outputs.append(sentence2)\n",
        "  tokenized_inputs = tf.keras.preprocessing.sequence.pad_sequences(\n",
        "      tokenized_inputs, maxlen=MAX_LENGTH, padding='post')\n",
        "  tokenized_outputs = tf.keras.preprocessing.sequence.pad_sequences(\n",
        "      tokenized_outputs, maxlen=MAX_LENGTH, padding='post')\n",
        "  \n",
        "\n",
        "  return tokenized_inputs, tokenized_outputs\n",
        "  '''"
      ],
      "execution_count": 22,
      "outputs": [
        {
          "output_type": "execute_result",
          "data": {
            "application/vnd.google.colaboratory.intrinsic+json": {
              "type": "string"
            },
            "text/plain": [
              "\"\\nfrom torch.nn.utils.rnn import pad_sequence\\ndef tokenize_and_filter(inputs, outputs):\\n  tokenized_inputs, tokenized_outputs = [], []\\n  for (sentence1, sentence2) in zip(inputs, outputs):\\n    sentence1 = START_TOKEN + tokenizer.encode(sentence1) + END_TOKEN\\n    sentence2 = START_TOKEN + tokenizer.encode(sentence2) + END_TOKEN\\n\\n    mask_1 = np.concatenate([np.zeros(len(sentence1),dtype=np.bool),np.ones(MAX_LENGTH-len(sentence1),dtype=np.bool)])\\n    mask_2 = np.concatenate([np.zeros(len(sentence2),dtype=np.bool),np.ones(MAX_LENGTH-len(sentence2),dtype=np.bool)])\\n\\n    if len(sentence1) <= MAX_LENGTH and len(sentence2) <= MAX_LENGTH:\\n      tokenized_inputs.append(sentence1)\\n      tokenized_outputs.append(sentence2)\\n  tokenized_inputs = tf.keras.preprocessing.sequence.pad_sequences(\\n      tokenized_inputs, maxlen=MAX_LENGTH, padding='post')\\n  tokenized_outputs = tf.keras.preprocessing.sequence.pad_sequences(\\n      tokenized_outputs, maxlen=MAX_LENGTH, padding='post')\\n  \\n\\n  return tokenized_inputs, tokenized_outputs\\n  \""
            ]
          },
          "metadata": {},
          "execution_count": 22
        }
      ]
    },
    {
      "cell_type": "code",
      "metadata": {
        "id": "OBG9D95dn7dP"
      },
      "source": [
        "UNK_IDX, PAD_IDX, BOS_IDX, EOS_IDX = 0, 1, 2, 3"
      ],
      "execution_count": 33,
      "outputs": []
    },
    {
      "cell_type": "code",
      "metadata": {
        "id": "-3cP4dfEkk9D"
      },
      "source": [
        ""
      ],
      "execution_count": 22,
      "outputs": []
    },
    {
      "cell_type": "code",
      "metadata": {
        "id": "-LJJHARFEPu_"
      },
      "source": [
        "\n",
        "class MyDataset(torch.utils.data.Dataset):\n",
        "\n",
        "    def __init__(self, data):\n",
        "        \"\"\"\n",
        "        Args:\n",
        "            csv_file (string): Path to the csv file with annotations.\n",
        "            root_dir (string): Directory with all the images.\n",
        "            transform (callable, optional): Optional transform to be applied\n",
        "                on a sample.\n",
        "        \"\"\"\n",
        "        self.data = data\n",
        "\n",
        "\n",
        "    def __len__(self):\n",
        "        return len(self.data[0])\n",
        "\n",
        "    def __getitem__(self, idx):\n",
        "        return self.data[0][idx],self.data[1][idx]\n"
      ],
      "execution_count": 23,
      "outputs": []
    },
    {
      "cell_type": "code",
      "metadata": {
        "id": "XyY0SXIGFJJn"
      },
      "source": [
        "my_data = MyDataset((src_prepro,tgt_prepro))"
      ],
      "execution_count": 24,
      "outputs": []
    },
    {
      "cell_type": "code",
      "metadata": {
        "id": "_c1irRB3Gy2r"
      },
      "source": [
        "#len(my_data)"
      ],
      "execution_count": 25,
      "outputs": []
    },
    {
      "cell_type": "code",
      "metadata": {
        "id": "zw-VEk4Mmkz9"
      },
      "source": [
        ""
      ],
      "execution_count": 25,
      "outputs": []
    },
    {
      "cell_type": "code",
      "metadata": {
        "id": "hD1xZMqdhKPt"
      },
      "source": [
        ""
      ],
      "execution_count": 25,
      "outputs": []
    },
    {
      "cell_type": "code",
      "metadata": {
        "id": "rGqvX1n1hKSY"
      },
      "source": [
        "def generate_square_subsequent_mask(sz):\n",
        "    mask = (torch.triu(torch.ones((sz, sz), device=DEVICE)) == 1).transpose(0, 1)\n",
        "    mask = mask.float().masked_fill(mask == 0, float('-inf')).masked_fill(mask == 1, float(0.0))\n",
        "    return mask\n",
        "\n",
        "\n",
        "def create_mask(src, tgt):\n",
        "    src_seq_len = src.shape[0]\n",
        "    tgt_seq_len = tgt.shape[0]\n",
        "\n",
        "    tgt_mask = generate_square_subsequent_mask(tgt_seq_len)\n",
        "    src_mask = torch.zeros((src_seq_len, src_seq_len),device=DEVICE).type(torch.bool)\n",
        "\n",
        "    src_padding_mask = (src == PAD_IDX).transpose(0, 1)\n",
        "    tgt_padding_mask = (tgt == PAD_IDX).transpose(0, 1)\n",
        "    return src_mask, tgt_mask, src_padding_mask, tgt_padding_mask"
      ],
      "execution_count": 26,
      "outputs": []
    },
    {
      "cell_type": "code",
      "metadata": {
        "id": "I5h4jALGj8Zw"
      },
      "source": [
        "from torch.nn.utils.rnn import pad_sequence\n",
        "\n",
        "def sequential_transforms(*transforms):\n",
        "    def func(txt_input):\n",
        "        for transform in transforms:\n",
        "            txt_input = transform(txt_input)\n",
        "        return txt_input\n",
        "    return func\n",
        "\n",
        "def tensor_transform(token_ids):\n",
        "    return torch.cat((torch.tensor([START_TOKEN]),\n",
        "                      torch.tensor(token_ids),\n",
        "                      torch.tensor([END_TOKEN])))\n",
        "\n",
        "text_transform = {}\n",
        "text_transform = sequential_transforms(tokenizer.encode,\n",
        "                                       tensor_transform)\n",
        "\n",
        "\n",
        "\n",
        "def collate_fn(batch):\n",
        "    src_batch, tgt_batch = [], []\n",
        "    for src_sample, tgt_sample in batch:\n",
        "        src_batch.append(text_transform(src_sample.rstrip(\"\\n\")))\n",
        "        tgt_batch.append(text_transform(tgt_sample.rstrip(\"\\n\")))\n",
        "\n",
        "    src_batch = pad_sequence(src_batch, padding_value=PAD_IDX)\n",
        "    tgt_batch = pad_sequence(tgt_batch, padding_value=PAD_IDX)\n",
        "    return src_batch, tgt_batch"
      ],
      "execution_count": 34,
      "outputs": []
    },
    {
      "cell_type": "markdown",
      "metadata": {
        "id": "PpnXEpFkRYGr"
      },
      "source": [
        "make model"
      ]
    },
    {
      "cell_type": "code",
      "metadata": {
        "id": "BRZIwgkihKNq"
      },
      "source": [
        "class PositionalEncoding(nn.Module):\n",
        "    def __init__(self,\n",
        "                 emb_size: int,\n",
        "                 dropout: float,\n",
        "                 maxlen: int = 5000):\n",
        "        super(PositionalEncoding, self).__init__()\n",
        "        den = torch.exp(- torch.arange(0, emb_size, 2)* math.log(10000) / emb_size)\n",
        "        pos = torch.arange(0, maxlen).reshape(maxlen, 1)\n",
        "        pos_embedding = torch.zeros((maxlen, emb_size))\n",
        "        pos_embedding[:, 0::2] = torch.sin(pos * den)\n",
        "        pos_embedding[:, 1::2] = torch.cos(pos * den)\n",
        "        pos_embedding = pos_embedding.unsqueeze(-2)\n",
        "\n",
        "        self.dropout = nn.Dropout(dropout)\n",
        "        self.register_buffer('pos_embedding', pos_embedding)\n",
        "\n",
        "    def forward(self, token_embedding: Tensor):\n",
        "        return self.dropout(token_embedding + self.pos_embedding[:token_embedding.size(0), :])\n",
        "\n",
        "class TokenEmbedding(nn.Module):\n",
        "    def __init__(self, vocab_size: int, emb_size):\n",
        "        super(TokenEmbedding, self).__init__()\n",
        "        self.embedding = nn.Embedding(vocab_size, emb_size)\n",
        "        self.emb_size = emb_size\n",
        "\n",
        "    def forward(self, tokens: Tensor):\n",
        "        return self.embedding(tokens.long()) * math.sqrt(self.emb_size)\n",
        "\n",
        "class Seq2SeqTransformer(nn.Module):\n",
        "    def __init__(self,\n",
        "                 num_encoder_layers: int,\n",
        "                 num_decoder_layers: int,\n",
        "                 emb_size: int,\n",
        "                 nhead: int,\n",
        "                 src_vocab_size: int,\n",
        "                 tgt_vocab_size: int,\n",
        "                 dim_feedforward: int = 512,\n",
        "                 dropout: float = 0.1):\n",
        "        super(Seq2SeqTransformer, self).__init__()\n",
        "        self.transformer = Transformer(d_model=emb_size,\n",
        "                                       nhead=nhead,\n",
        "                                       num_encoder_layers=num_encoder_layers,\n",
        "                                       num_decoder_layers=num_decoder_layers,\n",
        "                                       dim_feedforward=dim_feedforward,\n",
        "                                       dropout=dropout)\n",
        "        self.generator = nn.Linear(emb_size, tgt_vocab_size)\n",
        "        self.src_tok_emb = TokenEmbedding(src_vocab_size, emb_size)\n",
        "        self.tgt_tok_emb = TokenEmbedding(tgt_vocab_size, emb_size)\n",
        "        self.positional_encoding = PositionalEncoding(\n",
        "            emb_size, dropout=dropout)\n",
        "\n",
        "    def forward(self,\n",
        "                src: Tensor,\n",
        "                trg: Tensor,\n",
        "                src_mask: Tensor,\n",
        "                tgt_mask: Tensor,\n",
        "                src_padding_mask: Tensor,\n",
        "                tgt_padding_mask: Tensor,\n",
        "                memory_key_padding_mask: Tensor):\n",
        "        src_emb = self.positional_encoding(self.src_tok_emb(src))\n",
        "        tgt_emb = self.positional_encoding(self.tgt_tok_emb(trg))\n",
        "        outs = self.transformer(src_emb, tgt_emb, src_mask, tgt_mask, None,\n",
        "                                src_padding_mask, tgt_padding_mask, memory_key_padding_mask)\n",
        "        return self.generator(outs)\n",
        "\n",
        "    def encode(self, src: Tensor, src_mask: Tensor):\n",
        "        return self.transformer.encoder(self.positional_encoding(\n",
        "                            self.src_tok_emb(src)), src_mask)\n",
        "\n",
        "    def decode(self, tgt: Tensor, memory: Tensor, tgt_mask: Tensor):\n",
        "        return self.transformer.decoder(self.positional_encoding(\n",
        "                          self.tgt_tok_emb(tgt)), memory,\n",
        "                          tgt_mask)"
      ],
      "execution_count": 29,
      "outputs": []
    },
    {
      "cell_type": "markdown",
      "metadata": {
        "id": "ia3SZyIsmTSr"
      },
      "source": [
        "파라미터 설정 및 모델 train"
      ]
    },
    {
      "cell_type": "code",
      "metadata": {
        "id": "Y00BT17BrJq7"
      },
      "source": [
        " def customize_LR(epoch,d_model,warmup_steps):\n",
        "    epoch, warmup_steps = torch.Tensor([epoch]),torch.Tensor([warmup_steps])\n",
        "    arg1 = torch.rsqrt(epoch)\n",
        "    arg2 = epoch * (warmup_steps**-1.5)\n",
        "    return d_model * torch.minimum(arg1, arg2).item()"
      ],
      "execution_count": 30,
      "outputs": []
    },
    {
      "cell_type": "code",
      "metadata": {
        "colab": {
          "base_uri": "https://localhost:8080/"
        },
        "id": "1igrhp81YRIr",
        "outputId": "75076159-a4a2-4e8c-f458-bc5776358d8a"
      },
      "source": [
        "type(torch.Tensor([1]).item())"
      ],
      "execution_count": 31,
      "outputs": [
        {
          "output_type": "execute_result",
          "data": {
            "text/plain": [
              "float"
            ]
          },
          "metadata": {},
          "execution_count": 31
        }
      ]
    },
    {
      "cell_type": "code",
      "metadata": {
        "id": "ErgdPrxsn7ob"
      },
      "source": [
        "from torch.utils.data import DataLoader\n",
        "SRC_VOCAB_SIZE = VOCAB_SIZE\n",
        "TGT_VOCAB_SIZE = VOCAB_SIZE\n",
        "EMB_SIZE = 512\n",
        "NHEAD = 8\n",
        "FFN_HID_DIM = 512\n",
        "BATCH_SIZE = 128\n",
        "NUM_ENCODER_LAYERS = 3\n",
        "NUM_DECODER_LAYERS = 3\n",
        "\n",
        "\n",
        "transformer = Seq2SeqTransformer(NUM_ENCODER_LAYERS, NUM_DECODER_LAYERS, EMB_SIZE,\n",
        "                                 NHEAD, SRC_VOCAB_SIZE, TGT_VOCAB_SIZE, FFN_HID_DIM)\n",
        "\n",
        "for p in transformer.parameters():\n",
        "    if p.dim() > 1:\n",
        "        nn.init.xavier_uniform_(p)\n",
        "\n",
        "transformer = transformer.to(DEVICE)\n",
        "\n",
        "loss_fn = torch.nn.CrossEntropyLoss(ignore_index=PAD_IDX)\n",
        "\n",
        "optimizer = torch.optim.Adam(transformer.parameters(), lr=0.0001, betas=(0.9, 0.98), eps=1e-9)\n",
        "lambda1 = lambda epoch: customize_LR(epoch,d_model=512,warmup_steps=4000)\n",
        "#scheduler = torch.optim.lr_scheduler.LambdaLR(optimizer, lr_lambda=lambda1)\n",
        "scheduler = torch.optim.lr_scheduler.ExponentialLR(optimizer, gamma=0.9)"
      ],
      "execution_count": 52,
      "outputs": []
    },
    {
      "cell_type": "code",
      "metadata": {
        "id": "HWDesYaTv28z"
      },
      "source": [
        "def train_epoch(model, optimizer):\n",
        "    model.train()\n",
        "    losses = 0\n",
        "    train_dataloader = DataLoader(my_data, batch_size=BATCH_SIZE, collate_fn=collate_fn)\n",
        "\n",
        "    for src, tgt in train_dataloader:\n",
        "        src = src.to(DEVICE)\n",
        "        tgt = tgt.to(DEVICE)\n",
        "\n",
        "        tgt_input = tgt[:-1, :]\n",
        "\n",
        "        src_mask, tgt_mask, src_padding_mask, tgt_padding_mask = create_mask(src, tgt_input)\n",
        "\n",
        "        logits = model(src, tgt_input, src_mask, tgt_mask,src_padding_mask, tgt_padding_mask, src_padding_mask)\n",
        "\n",
        "        optimizer.zero_grad()\n",
        "\n",
        "        tgt_out = tgt[1:, :]\n",
        "        loss = loss_fn(logits.reshape(-1, logits.shape[-1]), tgt_out.reshape(-1))\n",
        "        loss.backward()\n",
        "\n",
        "        optimizer.step()\n",
        "        losses += loss.item()\n",
        "\n",
        "    return losses / len(train_dataloader)\n",
        "\n",
        "\n",
        "def evaluate(model):\n",
        "    model.eval()\n",
        "    losses = 0\n",
        "\n",
        "    val_dataloader = DataLoader(my_data, batch_size=BATCH_SIZE, collate_fn=collate_fn)\n",
        "\n",
        "    for src, tgt in val_dataloader:\n",
        "        src = src.to(DEVICE)\n",
        "        tgt = tgt.to(DEVICE)\n",
        "\n",
        "        tgt_input = tgt[:-1, :]\n",
        "\n",
        "        src_mask, tgt_mask, src_padding_mask, tgt_padding_mask = create_mask(src, tgt_input)\n",
        "\n",
        "        logits = model(src, tgt_input, src_mask, tgt_mask,src_padding_mask, tgt_padding_mask, src_padding_mask)\n",
        "\n",
        "        tgt_out = tgt[1:, :]\n",
        "        loss = loss_fn(logits.reshape(-1, logits.shape[-1]), tgt_out.reshape(-1))\n",
        "        losses += loss.item()\n",
        "\n",
        "    return losses / len(val_dataloader)"
      ],
      "execution_count": 37,
      "outputs": []
    },
    {
      "cell_type": "code",
      "metadata": {
        "id": "oDOL7k0xCekB",
        "colab": {
          "base_uri": "https://localhost:8080/"
        },
        "outputId": "5a73ca12-74a7-4d7d-9c88-496fbe016aa7"
      },
      "source": [
        "from timeit import default_timer as timer\n",
        "NUM_EPOCHS = 100\n",
        "\n",
        "for epoch in range(1, NUM_EPOCHS+1):\n",
        "    start_time = timer()\n",
        "    train_loss = train_epoch(transformer, optimizer)\n",
        "    scheduler.step()\n",
        "    end_time = timer()\n",
        "    val_loss = evaluate(transformer)\n",
        "    print((f\"Epoch: {epoch}, Train loss: {train_loss:.3f}, Val loss: {val_loss:.3f}, \"f\"Epoch time = {(end_time - start_time):.3f}s\"))"
      ],
      "execution_count": 53,
      "outputs": [
        {
          "output_type": "stream",
          "name": "stdout",
          "text": [
            "Epoch: 1, Train loss: 7.421, Val loss: 6.825, Epoch time = 3.898s\n",
            "Epoch: 2, Train loss: 6.661, Val loss: 6.415, Epoch time = 3.834s\n",
            "Epoch: 3, Train loss: 6.350, Val loss: 6.201, Epoch time = 3.845s\n",
            "Epoch: 4, Train loss: 6.139, Val loss: 6.037, Epoch time = 3.824s\n",
            "Epoch: 5, Train loss: 5.973, Val loss: 5.887, Epoch time = 3.801s\n",
            "Epoch: 6, Train loss: 5.830, Val loss: 5.763, Epoch time = 3.829s\n",
            "Epoch: 7, Train loss: 5.689, Val loss: 5.614, Epoch time = 3.858s\n",
            "Epoch: 8, Train loss: 5.568, Val loss: 5.494, Epoch time = 3.853s\n",
            "Epoch: 9, Train loss: 5.463, Val loss: 5.373, Epoch time = 3.807s\n",
            "Epoch: 10, Train loss: 5.373, Val loss: 5.272, Epoch time = 3.855s\n",
            "Epoch: 11, Train loss: 5.290, Val loss: 5.199, Epoch time = 3.847s\n",
            "Epoch: 12, Train loss: 5.221, Val loss: 5.097, Epoch time = 3.862s\n",
            "Epoch: 13, Train loss: 5.160, Val loss: 5.015, Epoch time = 3.897s\n",
            "Epoch: 14, Train loss: 5.098, Val loss: 4.941, Epoch time = 3.876s\n",
            "Epoch: 15, Train loss: 5.045, Val loss: 4.891, Epoch time = 3.882s\n",
            "Epoch: 16, Train loss: 5.002, Val loss: 4.843, Epoch time = 3.825s\n",
            "Epoch: 17, Train loss: 4.965, Val loss: 4.809, Epoch time = 3.816s\n",
            "Epoch: 18, Train loss: 4.932, Val loss: 4.759, Epoch time = 3.808s\n",
            "Epoch: 19, Train loss: 4.895, Val loss: 4.720, Epoch time = 3.870s\n",
            "Epoch: 20, Train loss: 4.867, Val loss: 4.689, Epoch time = 3.821s\n",
            "Epoch: 21, Train loss: 4.845, Val loss: 4.652, Epoch time = 3.868s\n",
            "Epoch: 22, Train loss: 4.827, Val loss: 4.619, Epoch time = 3.850s\n",
            "Epoch: 23, Train loss: 4.807, Val loss: 4.588, Epoch time = 3.869s\n",
            "Epoch: 24, Train loss: 4.793, Val loss: 4.553, Epoch time = 3.877s\n",
            "Epoch: 25, Train loss: 4.779, Val loss: 4.527, Epoch time = 3.854s\n",
            "Epoch: 26, Train loss: 4.764, Val loss: 4.494, Epoch time = 3.826s\n",
            "Epoch: 27, Train loss: 4.750, Val loss: 4.469, Epoch time = 3.857s\n",
            "Epoch: 28, Train loss: 4.737, Val loss: 4.445, Epoch time = 3.840s\n",
            "Epoch: 29, Train loss: 4.726, Val loss: 4.417, Epoch time = 3.841s\n",
            "Epoch: 30, Train loss: 4.713, Val loss: 4.391, Epoch time = 3.845s\n",
            "Epoch: 31, Train loss: 4.703, Val loss: 4.370, Epoch time = 3.832s\n",
            "Epoch: 32, Train loss: 4.690, Val loss: 4.350, Epoch time = 3.853s\n",
            "Epoch: 33, Train loss: 4.682, Val loss: 4.336, Epoch time = 3.831s\n",
            "Epoch: 34, Train loss: 4.671, Val loss: 4.324, Epoch time = 3.844s\n",
            "Epoch: 35, Train loss: 4.663, Val loss: 4.313, Epoch time = 3.874s\n",
            "Epoch: 36, Train loss: 4.656, Val loss: 4.305, Epoch time = 3.899s\n",
            "Epoch: 37, Train loss: 4.645, Val loss: 4.296, Epoch time = 3.878s\n",
            "Epoch: 38, Train loss: 4.641, Val loss: 4.289, Epoch time = 3.863s\n",
            "Epoch: 39, Train loss: 4.634, Val loss: 4.282, Epoch time = 3.815s\n",
            "Epoch: 40, Train loss: 4.629, Val loss: 4.275, Epoch time = 3.824s\n",
            "Epoch: 41, Train loss: 4.622, Val loss: 4.270, Epoch time = 3.795s\n",
            "Epoch: 42, Train loss: 4.617, Val loss: 4.265, Epoch time = 3.885s\n",
            "Epoch: 43, Train loss: 4.614, Val loss: 4.260, Epoch time = 3.852s\n",
            "Epoch: 44, Train loss: 4.608, Val loss: 4.255, Epoch time = 3.849s\n",
            "Epoch: 45, Train loss: 4.606, Val loss: 4.253, Epoch time = 3.818s\n",
            "Epoch: 46, Train loss: 4.605, Val loss: 4.250, Epoch time = 3.831s\n",
            "Epoch: 47, Train loss: 4.601, Val loss: 4.247, Epoch time = 3.916s\n",
            "Epoch: 48, Train loss: 4.598, Val loss: 4.244, Epoch time = 3.871s\n",
            "Epoch: 49, Train loss: 4.594, Val loss: 4.242, Epoch time = 3.845s\n",
            "Epoch: 50, Train loss: 4.594, Val loss: 4.240, Epoch time = 3.840s\n",
            "Epoch: 51, Train loss: 4.592, Val loss: 4.238, Epoch time = 3.875s\n",
            "Epoch: 52, Train loss: 4.589, Val loss: 4.237, Epoch time = 3.806s\n",
            "Epoch: 53, Train loss: 4.588, Val loss: 4.235, Epoch time = 3.839s\n",
            "Epoch: 54, Train loss: 4.588, Val loss: 4.234, Epoch time = 3.856s\n",
            "Epoch: 55, Train loss: 4.585, Val loss: 4.233, Epoch time = 3.820s\n",
            "Epoch: 56, Train loss: 4.582, Val loss: 4.232, Epoch time = 3.837s\n",
            "Epoch: 57, Train loss: 4.581, Val loss: 4.231, Epoch time = 3.814s\n",
            "Epoch: 58, Train loss: 4.581, Val loss: 4.230, Epoch time = 3.809s\n",
            "Epoch: 59, Train loss: 4.580, Val loss: 4.230, Epoch time = 3.838s\n",
            "Epoch: 60, Train loss: 4.578, Val loss: 4.229, Epoch time = 3.854s\n",
            "Epoch: 61, Train loss: 4.579, Val loss: 4.228, Epoch time = 3.837s\n",
            "Epoch: 62, Train loss: 4.578, Val loss: 4.228, Epoch time = 3.854s\n",
            "Epoch: 63, Train loss: 4.579, Val loss: 4.228, Epoch time = 3.827s\n",
            "Epoch: 64, Train loss: 4.575, Val loss: 4.227, Epoch time = 3.875s\n",
            "Epoch: 65, Train loss: 4.577, Val loss: 4.227, Epoch time = 3.828s\n",
            "Epoch: 66, Train loss: 4.574, Val loss: 4.226, Epoch time = 3.922s\n",
            "Epoch: 67, Train loss: 4.575, Val loss: 4.226, Epoch time = 3.910s\n",
            "Epoch: 68, Train loss: 4.577, Val loss: 4.226, Epoch time = 3.860s\n",
            "Epoch: 69, Train loss: 4.575, Val loss: 4.226, Epoch time = 3.830s\n",
            "Epoch: 70, Train loss: 4.576, Val loss: 4.225, Epoch time = 3.849s\n",
            "Epoch: 71, Train loss: 4.574, Val loss: 4.225, Epoch time = 3.834s\n",
            "Epoch: 72, Train loss: 4.572, Val loss: 4.225, Epoch time = 3.841s\n",
            "Epoch: 73, Train loss: 4.575, Val loss: 4.225, Epoch time = 3.875s\n",
            "Epoch: 74, Train loss: 4.573, Val loss: 4.225, Epoch time = 3.840s\n",
            "Epoch: 75, Train loss: 4.574, Val loss: 4.225, Epoch time = 3.842s\n",
            "Epoch: 76, Train loss: 4.575, Val loss: 4.225, Epoch time = 3.862s\n",
            "Epoch: 77, Train loss: 4.575, Val loss: 4.224, Epoch time = 3.866s\n",
            "Epoch: 78, Train loss: 4.572, Val loss: 4.224, Epoch time = 3.854s\n",
            "Epoch: 79, Train loss: 4.571, Val loss: 4.224, Epoch time = 3.886s\n",
            "Epoch: 80, Train loss: 4.572, Val loss: 4.224, Epoch time = 3.858s\n",
            "Epoch: 81, Train loss: 4.573, Val loss: 4.224, Epoch time = 3.822s\n",
            "Epoch: 82, Train loss: 4.574, Val loss: 4.224, Epoch time = 3.830s\n",
            "Epoch: 83, Train loss: 4.572, Val loss: 4.224, Epoch time = 3.876s\n",
            "Epoch: 84, Train loss: 4.571, Val loss: 4.224, Epoch time = 3.833s\n",
            "Epoch: 85, Train loss: 4.573, Val loss: 4.224, Epoch time = 3.874s\n",
            "Epoch: 86, Train loss: 4.571, Val loss: 4.224, Epoch time = 3.838s\n",
            "Epoch: 87, Train loss: 4.574, Val loss: 4.224, Epoch time = 3.854s\n",
            "Epoch: 88, Train loss: 4.574, Val loss: 4.224, Epoch time = 3.849s\n",
            "Epoch: 89, Train loss: 4.574, Val loss: 4.224, Epoch time = 3.873s\n",
            "Epoch: 90, Train loss: 4.572, Val loss: 4.224, Epoch time = 3.862s\n",
            "Epoch: 91, Train loss: 4.575, Val loss: 4.224, Epoch time = 3.853s\n",
            "Epoch: 92, Train loss: 4.572, Val loss: 4.224, Epoch time = 3.828s\n",
            "Epoch: 93, Train loss: 4.574, Val loss: 4.224, Epoch time = 3.814s\n",
            "Epoch: 94, Train loss: 4.573, Val loss: 4.224, Epoch time = 3.835s\n",
            "Epoch: 95, Train loss: 4.573, Val loss: 4.224, Epoch time = 3.831s\n",
            "Epoch: 96, Train loss: 4.572, Val loss: 4.224, Epoch time = 3.815s\n",
            "Epoch: 97, Train loss: 4.573, Val loss: 4.224, Epoch time = 3.797s\n",
            "Epoch: 98, Train loss: 4.571, Val loss: 4.224, Epoch time = 3.844s\n",
            "Epoch: 99, Train loss: 4.571, Val loss: 4.224, Epoch time = 3.837s\n",
            "Epoch: 100, Train loss: 4.571, Val loss: 4.224, Epoch time = 3.841s\n"
          ]
        }
      ]
    },
    {
      "cell_type": "code",
      "metadata": {
        "id": "yji-4_rC9hWc"
      },
      "source": [
        ""
      ],
      "execution_count": null,
      "outputs": []
    },
    {
      "cell_type": "code",
      "metadata": {
        "id": "od5ksuRuv3RD"
      },
      "source": [
        "def greedy_decode(model, src, src_mask, max_len, start_symbol):\n",
        "    src = src.to(DEVICE)\n",
        "    src_mask = src_mask.to(DEVICE)\n",
        "\n",
        "    memory = model.encode(src, src_mask)\n",
        "    ys = torch.ones(1, 1).fill_(start_symbol).type(torch.long).to(DEVICE)\n",
        "    for i in range(max_len-1):\n",
        "        memory = memory.to(DEVICE)\n",
        "        tgt_mask = (generate_square_subsequent_mask(ys.size(0))\n",
        "                    .type(torch.bool)).to(DEVICE)\n",
        "        out = model.decode(ys, memory, tgt_mask)\n",
        "        out = out.transpose(0, 1)\n",
        "        prob = model.generator(out[:, -1])\n",
        "        _, next_word = torch.max(prob, dim=1)\n",
        "        next_word = next_word.item()\n",
        "\n",
        "        ys = torch.cat([ys,\n",
        "                        torch.ones(1, 1).type_as(src.data).fill_(next_word)], dim=0)\n",
        "        if next_word == END_TOKEN:\n",
        "            break\n",
        "    return ys\n",
        "\n",
        "\n",
        "def translate(model: torch.nn.Module, src_sentence: str):\n",
        "    model.eval()\n",
        "    src = text_transform(src_sentence).view(-1, 1)\n",
        "    num_tokens = src.shape[0]\n",
        "    src_mask = (torch.zeros(num_tokens, num_tokens)).type(torch.bool)\n",
        "    tgt_tokens = greedy_decode(\n",
        "        model,  src, src_mask, max_len=num_tokens + 10, start_symbol=START_TOKEN).flatten()\n",
        "    predicted_sentence = tokenizer.decode([i for i in tgt_tokens if i < tokenizer.vocab_size])\n",
        "    return predicted_sentence"
      ],
      "execution_count": 103,
      "outputs": []
    },
    {
      "cell_type": "code",
      "metadata": {
        "id": "Kvyb5Dqd7IAm",
        "colab": {
          "base_uri": "https://localhost:8080/",
          "height": 108
        },
        "outputId": "f38a6d90-07f1-472b-806c-2d07a7104f7b"
      },
      "source": [
        "translate(transformer,'이 정도면 만족')"
      ],
      "execution_count": 98,
      "outputs": [
        {
          "output_type": "stream",
          "name": "stdout",
          "text": [
            "tensor([123], device='cuda:0')\n",
            "tensor([3830], device='cuda:0')\n",
            "tensor([642], device='cuda:0')\n",
            "tensor([8476], device='cuda:0')\n"
          ]
        },
        {
          "output_type": "execute_result",
          "data": {
            "application/vnd.google.colaboratory.intrinsic+json": {
              "type": "string"
            },
            "text/plain": [
              "'저도 해보고 싶네요'"
            ]
          },
          "metadata": {},
          "execution_count": 98
        }
      ]
    },
    {
      "cell_type": "code",
      "metadata": {
        "id": "ZbpRylCX7IGf",
        "colab": {
          "base_uri": "https://localhost:8080/",
          "height": 35
        },
        "outputId": "af1599fc-dac9-4b25-8be8-0da5ae74d2fc"
      },
      "source": [
        "translate(transformer,'테스트')"
      ],
      "execution_count": 57,
      "outputs": [
        {
          "output_type": "execute_result",
          "data": {
            "application/vnd.google.colaboratory.intrinsic+json": {
              "type": "string"
            },
            "text/plain": [
              "'저도 잘 될 수 있어요'"
            ]
          },
          "metadata": {},
          "execution_count": 57
        }
      ]
    },
    {
      "cell_type": "code",
      "metadata": {
        "id": "2dOugZnU7IIQ",
        "colab": {
          "base_uri": "https://localhost:8080/",
          "height": 35
        },
        "outputId": "a205543f-6ed9-40cc-ae43-a168df8adc18"
      },
      "source": [
        "translate(transformer,'배고파')"
      ],
      "execution_count": 58,
      "outputs": [
        {
          "output_type": "execute_result",
          "data": {
            "application/vnd.google.colaboratory.intrinsic+json": {
              "type": "string"
            },
            "text/plain": [
              "'많이 드세요'"
            ]
          },
          "metadata": {},
          "execution_count": 58
        }
      ]
    },
    {
      "cell_type": "code",
      "metadata": {
        "colab": {
          "base_uri": "https://localhost:8080/",
          "height": 35
        },
        "id": "h-PF2XK1wNBV",
        "outputId": "444fe6bd-e6e9-4b97-9fa5-bd94d8d40de6"
      },
      "source": [
        "translate(transformer,'힘들다')"
      ],
      "execution_count": 59,
      "outputs": [
        {
          "output_type": "execute_result",
          "data": {
            "application/vnd.google.colaboratory.intrinsic+json": {
              "type": "string"
            },
            "text/plain": [
              "'잘 될 수 있을 수도 있어요'"
            ]
          },
          "metadata": {},
          "execution_count": 59
        }
      ]
    },
    {
      "cell_type": "code",
      "metadata": {
        "colab": {
          "base_uri": "https://localhost:8080/",
          "height": 35
        },
        "id": "QFWhy271wNDm",
        "outputId": "d0af110b-ddc7-4456-b302-a5315c0ec17a"
      },
      "source": [
        "translate(transformer,'시간초과했네')"
      ],
      "execution_count": 67,
      "outputs": [
        {
          "output_type": "execute_result",
          "data": {
            "application/vnd.google.colaboratory.intrinsic+json": {
              "type": "string"
            },
            "text/plain": [
              "'이제 좀 더 돼요'"
            ]
          },
          "metadata": {},
          "execution_count": 67
        }
      ]
    },
    {
      "cell_type": "code",
      "metadata": {
        "colab": {
          "base_uri": "https://localhost:8080/",
          "height": 35
        },
        "id": "kOf7lNrIwNGb",
        "outputId": "fb085e64-530d-4c72-e17b-b4157fce67d5"
      },
      "source": [
        "translate(transformer,'좋은 사람 만날 수 있을 수도 있어요')"
      ],
      "execution_count": 69,
      "outputs": [
        {
          "output_type": "execute_result",
          "data": {
            "application/vnd.google.colaboratory.intrinsic+json": {
              "type": "string"
            },
            "text/plain": [
              "'저도 좀 더 상황을 지켜보세요'"
            ]
          },
          "metadata": {},
          "execution_count": 69
        }
      ]
    },
    {
      "cell_type": "code",
      "metadata": {
        "colab": {
          "base_uri": "https://localhost:8080/",
          "height": 35
        },
        "id": "fXeWGYhxwsKA",
        "outputId": "5e01551e-0496-4353-d168-bc4b89c469ed"
      },
      "source": [
        "translate(transformer,'같은 문장이 생성된다 그리디서치를 사용해서 그런 걸 수도 있다.')"
      ],
      "execution_count": 72,
      "outputs": [
        {
          "output_type": "execute_result",
          "data": {
            "application/vnd.google.colaboratory.intrinsic+json": {
              "type": "string"
            },
            "text/plain": [
              "'좋은 사람 만날 수 있을 수도 있어요'"
            ]
          },
          "metadata": {},
          "execution_count": 72
        }
      ]
    },
    {
      "cell_type": "code",
      "metadata": {
        "colab": {
          "base_uri": "https://localhost:8080/",
          "height": 35
        },
        "id": "u5dgvFahw_Zu",
        "outputId": "a627c7ad-c256-4825-b0fb-efa54527dad2"
      },
      "source": [
        "translate(transformer,'이제 좀 더 돼요')"
      ],
      "execution_count": 107,
      "outputs": [
        {
          "output_type": "execute_result",
          "data": {
            "application/vnd.google.colaboratory.intrinsic+json": {
              "type": "string"
            },
            "text/plain": [
              "'많이 지쳤나봐요'"
            ]
          },
          "metadata": {},
          "execution_count": 107
        }
      ]
    },
    {
      "cell_type": "code",
      "metadata": {
        "colab": {
          "base_uri": "https://localhost:8080/",
          "height": 35
        },
        "id": "r77CzFLF04bx",
        "outputId": "2ee014bf-1cdd-4f4a-8942-6fdcd10c59be"
      },
      "source": [
        "translate(transformer,'많이 지쳤나봐요')"
      ],
      "execution_count": 108,
      "outputs": [
        {
          "output_type": "execute_result",
          "data": {
            "application/vnd.google.colaboratory.intrinsic+json": {
              "type": "string"
            },
            "text/plain": [
              "'그 사람도 좀 더 많이 드세요'"
            ]
          },
          "metadata": {},
          "execution_count": 108
        }
      ]
    }
  ]
}