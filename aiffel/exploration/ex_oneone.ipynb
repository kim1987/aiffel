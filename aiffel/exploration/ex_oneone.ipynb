{
  "nbformat": 4,
  "nbformat_minor": 0,
  "metadata": {
    "accelerator": "GPU",
    "colab": {
      "name": "ex_oneone.ipynb",
      "provenance": [],
      "collapsed_sections": [],
      "machine_shape": "hm",
      "mount_file_id": "1p64K_hu41Q_oIN0tGf9CR25t7HTR5wVd",
      "authorship_tag": "ABX9TyNzIZUzpQ2txByy5pMaeqzr",
      "include_colab_link": true
    },
    "kernelspec": {
      "display_name": "Python 3",
      "name": "python3"
    },
    "language_info": {
      "name": "python"
    }
  },
  "cells": [
    {
      "cell_type": "markdown",
      "metadata": {
        "id": "view-in-github",
        "colab_type": "text"
      },
      "source": [
        "<a href=\"https://colab.research.google.com/github/kim1987/aiffel/blob/main/aiffel/exploration/ex_oneone.ipynb\" target=\"_parent\"><img src=\"https://colab.research.google.com/assets/colab-badge.svg\" alt=\"Open In Colab\"/></a>"
      ]
    },
    {
      "cell_type": "code",
      "metadata": {
        "id": "FoJ-LMY6UvXG"
      },
      "source": [
        "#!pip install cupy"
      ],
      "execution_count": 1,
      "outputs": []
    },
    {
      "cell_type": "code",
      "metadata": {
        "id": "Hc5r9Ak2s4mQ"
      },
      "source": [
        ""
      ],
      "execution_count": 1,
      "outputs": []
    },
    {
      "cell_type": "code",
      "metadata": {
        "id": "p2-F_w1QWlWU"
      },
      "source": [
        "!cp /content/drive/MyDrive/colabdata/aiffel/ex_oneone/data.tar /content/data.tar\n",
        "!tar xvf data.tar"
      ],
      "execution_count": null,
      "outputs": []
    },
    {
      "cell_type": "code",
      "metadata": {
        "id": "TKK4IcPJOOxe"
      },
      "source": [
        "import os, re\n",
        "import random, math\n",
        "import numpy as np\n",
        "import tensorflow as tf\n",
        "import matplotlib.pyplot as plt\n",
        "import warnings\n",
        "warnings.filterwarnings(action='ignore')"
      ],
      "execution_count": 3,
      "outputs": []
    },
    {
      "cell_type": "code",
      "metadata": {
        "id": "Ili-YklQzJom"
      },
      "source": [
        ""
      ],
      "execution_count": 3,
      "outputs": []
    },
    {
      "cell_type": "code",
      "metadata": {
        "id": "IXePD-oLUu58"
      },
      "source": [
        "AUTOTUNE = tf.data.experimental.AUTOTUNE\n",
        "IMAGE_SIZE = [540, 540]\n",
        "\n",
        "\n",
        "\n",
        "\n",
        "ROOT_PATH = '/content'\n",
        "TRAIN_PATH = ROOT_PATH + '/data/train/*/*'\n",
        "VAL_PATH = ROOT_PATH + '/data/val/*/*'\n",
        "TEST_PATH = ROOT_PATH + '/data/test/*/*'"
      ],
      "execution_count": 4,
      "outputs": []
    },
    {
      "cell_type": "code",
      "metadata": {
        "id": "ujDUCOd6WQmD"
      },
      "source": [
        "BATCH_SIZE = 16\n",
        "EPOCHS = 20"
      ],
      "execution_count": 5,
      "outputs": []
    },
    {
      "cell_type": "code",
      "metadata": {
        "id": "NUKmu7KkWQog"
      },
      "source": [
        "train_filenames = tf.io.gfile.glob(TRAIN_PATH)\n",
        "test_filenames = tf.io.gfile.glob(TEST_PATH)\n",
        "val_filenames = tf.io.gfile.glob(VAL_PATH)"
      ],
      "execution_count": 6,
      "outputs": []
    },
    {
      "cell_type": "code",
      "metadata": {
        "id": "M2WEZ2rvWQt0"
      },
      "source": [
        "filenames = tf.io.gfile.glob(TRAIN_PATH)\n",
        "filenames.extend(tf.io.gfile.glob(VAL_PATH))"
      ],
      "execution_count": 7,
      "outputs": []
    },
    {
      "cell_type": "code",
      "metadata": {
        "id": "pDF_uYxyWQwS"
      },
      "source": [
        "train_size = math.floor(len(filenames)*0.8)\n",
        "random.seed(8)\n",
        "random.shuffle(filenames)\n",
        "train_filenames = filenames[:train_size]\n",
        "val_filenames = filenames[train_size:]"
      ],
      "execution_count": 8,
      "outputs": []
    },
    {
      "cell_type": "code",
      "metadata": {
        "id": "vFVr53TlWQyL"
      },
      "source": [
        "train_list_ds = tf.data.Dataset.from_tensor_slices(train_filenames)\n",
        "val_list_ds = tf.data.Dataset.from_tensor_slices(val_filenames)"
      ],
      "execution_count": 9,
      "outputs": []
    },
    {
      "cell_type": "code",
      "metadata": {
        "id": "ZF7hs9xYWQ0m"
      },
      "source": [
        "def get_label(file_path):\n",
        "    parts = tf.strings.split(file_path, os.path.sep)\n",
        "    return parts[-2] == \"PNEUMONIA\""
      ],
      "execution_count": 10,
      "outputs": []
    },
    {
      "cell_type": "code",
      "metadata": {
        "id": "ziP_BTVwWQ3f"
      },
      "source": [
        "\n",
        "def decode_img(img,resize=True):\n",
        "    img = tf.image.decode_jpeg(img, channels=3)\n",
        "    img = tf.image.convert_image_dtype(img, tf.float32)\n",
        "    if resize == True:\n",
        "      img = tf.image.resize(img, IMAGE_SIZE)\n",
        "    return img\n",
        "\n",
        "def process_path(file_path):\n",
        "    label = get_label(file_path)\n",
        "    img = tf.io.read_file(file_path)\n",
        "    img = decode_img(img)\n",
        "    return img, label"
      ],
      "execution_count": 11,
      "outputs": []
    },
    {
      "cell_type": "code",
      "metadata": {
        "id": "lBfG1s7cou6k"
      },
      "source": [
        ""
      ],
      "execution_count": 11,
      "outputs": []
    },
    {
      "cell_type": "code",
      "metadata": {
        "id": "7POHqC42hHEI"
      },
      "source": [
        "train_ds = train_list_ds.map(process_path, num_parallel_calls=AUTOTUNE)\n",
        "val_ds = val_list_ds.map(process_path, num_parallel_calls=AUTOTUNE)"
      ],
      "execution_count": 12,
      "outputs": []
    },
    {
      "cell_type": "code",
      "metadata": {
        "id": "TyQ74lfppMrK"
      },
      "source": [
        ""
      ],
      "execution_count": 12,
      "outputs": []
    },
    {
      "cell_type": "code",
      "metadata": {
        "id": "1K6Hc4vUhHHV"
      },
      "source": [
        "test_list_ds = tf.data.Dataset.list_files(TEST_PATH)\n",
        "test_ds = test_list_ds.map(process_path, num_parallel_calls=AUTOTUNE)\n",
        "test_ds = test_ds.batch(BATCH_SIZE)"
      ],
      "execution_count": 13,
      "outputs": []
    },
    {
      "cell_type": "code",
      "metadata": {
        "id": "LbQM73R6hHJ_"
      },
      "source": [
        "def prepare_for_training(ds, shuffle_buffer_size=1000):\n",
        "    ds = ds.shuffle(buffer_size=shuffle_buffer_size)\n",
        "    ds = ds.repeat()\n",
        "    ds = ds.batch(BATCH_SIZE)\n",
        "    ds = ds.prefetch(buffer_size=AUTOTUNE)\n",
        "    return ds\n"
      ],
      "execution_count": 14,
      "outputs": []
    },
    {
      "cell_type": "code",
      "metadata": {
        "id": "ZMZI1LLEhHNB"
      },
      "source": [
        "train_ds = prepare_for_training(train_ds)\n",
        "val_ds = prepare_for_training(val_ds)"
      ],
      "execution_count": 15,
      "outputs": []
    },
    {
      "cell_type": "code",
      "metadata": {
        "colab": {
          "base_uri": "https://localhost:8080/",
          "height": 52
        },
        "id": "rolfswNchHPv",
        "outputId": "5bd980bb-320b-4dd0-ac15-98323335f6f2"
      },
      "source": [
        "'''\n",
        "def show_batch(image_batch, label_batch):\n",
        "    plt.figure(figsize=(10,10))\n",
        "    for n in range(BATCH_SIZE):\n",
        "        ax = plt.subplot(5,math.ceil(BATCH_SIZE/5),n+1)\n",
        "        plt.imshow(image_batch[n])\n",
        "        if label_batch[n]:\n",
        "            plt.title(\"PNEUMONIA\")\n",
        "        else:\n",
        "            plt.title(\"NORMAL\")\n",
        "        plt.axis(\"off\")\n",
        "'''"
      ],
      "execution_count": 16,
      "outputs": [
        {
          "output_type": "execute_result",
          "data": {
            "application/vnd.google.colaboratory.intrinsic+json": {
              "type": "string"
            },
            "text/plain": [
              "'\\ndef show_batch(image_batch, label_batch):\\n    plt.figure(figsize=(10,10))\\n    for n in range(BATCH_SIZE):\\n        ax = plt.subplot(5,math.ceil(BATCH_SIZE/5),n+1)\\n        plt.imshow(image_batch[n])\\n        if label_batch[n]:\\n            plt.title(\"PNEUMONIA\")\\n        else:\\n            plt.title(\"NORMAL\")\\n        plt.axis(\"off\")\\n'"
            ]
          },
          "metadata": {},
          "execution_count": 16
        }
      ]
    },
    {
      "cell_type": "code",
      "metadata": {
        "colab": {
          "base_uri": "https://localhost:8080/",
          "height": 34
        },
        "id": "IWrOG5lulrvj",
        "outputId": "ae0dab1a-3a03-42f1-c37b-2846b8b7e8bb"
      },
      "source": [
        "'''\n",
        "image_batch, label_batch = next(iter(train_ds))\n",
        "show_batch(image_batch.numpy(), label_batch.numpy())\n",
        "'''"
      ],
      "execution_count": 17,
      "outputs": [
        {
          "output_type": "execute_result",
          "data": {
            "application/vnd.google.colaboratory.intrinsic+json": {
              "type": "string"
            },
            "text/plain": [
              "'\\nimage_batch, label_batch = next(iter(train_ds))\\nshow_batch(image_batch.numpy(), label_batch.numpy())\\n'"
            ]
          },
          "metadata": {},
          "execution_count": 17
        }
      ]
    },
    {
      "cell_type": "code",
      "metadata": {
        "id": "guRUWz7xlr0k"
      },
      "source": [
        "def conv_block(filters):\n",
        "    block = tf.keras.Sequential([\n",
        "        tf.keras.layers.SeparableConv2D(filters, 3, activation='relu', padding='same'),\n",
        "        tf.keras.layers.SeparableConv2D(filters, 3, activation='relu', padding='same'),\n",
        "        tf.keras.layers.BatchNormalization(),\n",
        "        tf.keras.layers.MaxPool2D()\n",
        "    ])\n",
        "    \n",
        "    return block"
      ],
      "execution_count": 18,
      "outputs": []
    },
    {
      "cell_type": "code",
      "metadata": {
        "id": "qbeKSnz2LfmY"
      },
      "source": [
        "def dense_block(units, dropout_rate):\n",
        "    block = tf.keras.Sequential([\n",
        "        tf.keras.layers.Dense(units, activation='relu'),\n",
        "        tf.keras.layers.BatchNormalization(),\n",
        "        tf.keras.layers.Dropout(dropout_rate)\n",
        "    ])\n",
        "    \n",
        "    return block"
      ],
      "execution_count": 19,
      "outputs": []
    },
    {
      "cell_type": "code",
      "metadata": {
        "id": "CaeUtwBXLfpH"
      },
      "source": [
        "def build_model():\n",
        "    model = tf.keras.Sequential([\n",
        "        tf.keras.Input(shape=(IMAGE_SIZE[0], IMAGE_SIZE[1], 3)),\n",
        "        \n",
        "        tf.keras.layers.Conv2D(32, 10, activation='relu', padding='same'),\n",
        "        tf.keras.layers.Conv2D(32, 10, activation='relu', padding='same'),\n",
        "        tf.keras.layers.BatchNormalization(),\n",
        "        tf.keras.layers.MaxPool2D(),\n",
        "        tf.keras.layers.Conv2D(32, 10, activation='relu', padding='same'),\n",
        "        tf.keras.layers.BatchNormalization(),\n",
        "        tf.keras.layers.MaxPool2D(),\n",
        "        \n",
        "        conv_block(32),\n",
        "        conv_block(64),\n",
        "        \n",
        "        conv_block(128),\n",
        "        tf.keras.layers.Dropout(0.2),\n",
        "        \n",
        "        conv_block(256),\n",
        "        tf.keras.layers.Dropout(0.2),\n",
        "        \n",
        "        tf.keras.layers.Flatten(),\n",
        "        dense_block(256, 0.7),\n",
        "        dense_block(128, 0.5),\n",
        "        dense_block(64, 0.3),\n",
        "        \n",
        "        tf.keras.layers.Dense(1, activation='sigmoid')\n",
        "    ])\n",
        "    \n",
        "    return model"
      ],
      "execution_count": 20,
      "outputs": []
    },
    {
      "cell_type": "code",
      "metadata": {
        "id": "CyxnUT-VMEah"
      },
      "source": [
        "COUNT_NORMAL = len([filename for filename in train_filenames if \"NORMAL\" in filename])\n",
        "COUNT_PNEUMONIA = len([filename for filename in train_filenames if \"PNEUMONIA\" in filename])\n",
        "\n",
        "TRAIN_IMG_COUNT = tf.data.experimental.cardinality(train_list_ds).numpy()\n",
        "VAL_IMG_COUNT = tf.data.experimental.cardinality(val_list_ds).numpy()"
      ],
      "execution_count": 21,
      "outputs": []
    },
    {
      "cell_type": "code",
      "metadata": {
        "id": "-SB8NLBoL5tF"
      },
      "source": [
        "weight_for_0 = (1 / COUNT_NORMAL)*(TRAIN_IMG_COUNT)/2.0\n",
        "weight_for_1 = (1 / COUNT_PNEUMONIA)*(TRAIN_IMG_COUNT)/2.0\n",
        "\n",
        "class_weight = {0: weight_for_0, 1: weight_for_1}"
      ],
      "execution_count": 44,
      "outputs": []
    },
    {
      "cell_type": "code",
      "metadata": {
        "id": "_ozpzLmGcEOQ"
      },
      "source": [
        "EPOCHS = 12\n",
        "BATCH_SIZE = 32"
      ],
      "execution_count": 49,
      "outputs": []
    },
    {
      "cell_type": "code",
      "metadata": {
        "id": "E_x7NI0GL5vx"
      },
      "source": [
        "with tf.device('/device:GPU:0'):\n",
        "    model = build_model()\n",
        "\n",
        "    METRICS = [\n",
        "        'accuracy',\n",
        "        tf.keras.metrics.Precision(name='precision'),\n",
        "        tf.keras.metrics.Recall(name='recall')\n",
        "    ]\n",
        "    \n",
        "    model.compile(\n",
        "        optimizer='adam',\n",
        "        loss='binary_crossentropy',\n",
        "        metrics=METRICS\n",
        "    )\n"
      ],
      "execution_count": 48,
      "outputs": []
    },
    {
      "cell_type": "code",
      "metadata": {
        "colab": {
          "base_uri": "https://localhost:8080/"
        },
        "id": "DUSj-LkFL5xi",
        "outputId": "4c7383ad-e5b1-4d01-fc27-bf602c13d9da"
      },
      "source": [
        "with tf.device('/device:GPU:0'):\n",
        "    history = model.fit(\n",
        "        train_ds,\n",
        "        steps_per_epoch=TRAIN_IMG_COUNT // BATCH_SIZE,\n",
        "        epochs=EPOCHS,\n",
        "        #validation_data=val_ds,\n",
        "        #validation_steps=VAL_IMG_COUNT // BATCH_SIZE,\n",
        "        class_weight=class_weight\n",
        "    )"
      ],
      "execution_count": 50,
      "outputs": [
        {
          "output_type": "stream",
          "name": "stdout",
          "text": [
            "Epoch 1/12\n",
            "130/130 [==============================] - 92s 607ms/step - loss: 0.8208 - accuracy: 0.5063 - precision: 0.7360 - recall: 0.5268\n",
            "Epoch 2/12\n",
            "130/130 [==============================] - 79s 608ms/step - loss: 0.7249 - accuracy: 0.5534 - precision: 0.7514 - recall: 0.5952\n",
            "Epoch 3/12\n",
            "130/130 [==============================] - 79s 610ms/step - loss: 0.7067 - accuracy: 0.5413 - precision: 0.7367 - recall: 0.6033\n",
            "Epoch 4/12\n",
            "130/130 [==============================] - 79s 608ms/step - loss: 0.6998 - accuracy: 0.5418 - precision: 0.7331 - recall: 0.5949\n",
            "Epoch 5/12\n",
            "130/130 [==============================] - 79s 607ms/step - loss: 0.6632 - accuracy: 0.5620 - precision: 0.7514 - recall: 0.6161\n",
            "Epoch 6/12\n",
            "130/130 [==============================] - 79s 606ms/step - loss: 0.6615 - accuracy: 0.5750 - precision: 0.7409 - recall: 0.6574\n",
            "Epoch 7/12\n",
            "130/130 [==============================] - 79s 605ms/step - loss: 0.6443 - accuracy: 0.5962 - precision: 0.7563 - recall: 0.6870\n",
            "Epoch 8/12\n",
            "130/130 [==============================] - 79s 607ms/step - loss: 0.6533 - accuracy: 0.5774 - precision: 0.7354 - recall: 0.6647\n",
            "Epoch 9/12\n",
            "130/130 [==============================] - 79s 606ms/step - loss: 0.6366 - accuracy: 0.5832 - precision: 0.7450 - recall: 0.6727\n",
            "Epoch 10/12\n",
            "130/130 [==============================] - 79s 606ms/step - loss: 0.6403 - accuracy: 0.6096 - precision: 0.7428 - recall: 0.7205\n",
            "Epoch 11/12\n",
            "130/130 [==============================] - 79s 608ms/step - loss: 0.6318 - accuracy: 0.6115 - precision: 0.7487 - recall: 0.7206\n",
            "Epoch 12/12\n",
            "130/130 [==============================] - 79s 606ms/step - loss: 0.6279 - accuracy: 0.6115 - precision: 0.7420 - recall: 0.7344\n"
          ]
        }
      ]
    },
    {
      "cell_type": "code",
      "metadata": {
        "colab": {
          "base_uri": "https://localhost:8080/",
          "height": 241
        },
        "id": "6kA_5rCcL5zz",
        "outputId": "f6498946-d098-490d-b1f8-0c07dbdc14c3"
      },
      "source": [
        "fig, ax = plt.subplots(1, 4, figsize=(20, 3))\n",
        "ax = ax.ravel()\n",
        "\n",
        "for i, met in enumerate(['precision', 'recall', 'accuracy', 'loss']):\n",
        "    ax[i].plot(history.history[met])\n",
        "    #ax[i].plot(history.history['val_' + met])\n",
        "    ax[i].set_title('Model {}'.format(met))\n",
        "    ax[i].set_xlabel('epochs')\n",
        "    ax[i].set_ylabel(met)\n",
        "    #ax[i].legend(['train', 'val'])\n",
        "    ax[i].legend(['train'])"
      ],
      "execution_count": 51,
      "outputs": [
        {
          "output_type": "display_data",
          "data": {
            "image/png": "[encoded data removed]",
            "text/plain": [
              "<Figure size 1440x216 with 4 Axes>"
            ]
          },
          "metadata": {
            "needs_background": "light"
          }
        }
      ]
    },
    {
      "cell_type": "code",
      "metadata": {
        "colab": {
          "base_uri": "https://localhost:8080/"
        },
        "id": "Hp_-BxmsE8Ez",
        "outputId": "e19bc001-a6ef-49da-f442-d9170b94faab"
      },
      "source": [
        "model.summary()"
      ],
      "execution_count": 52,
      "outputs": [
        {
          "output_type": "stream",
          "name": "stdout",
          "text": [
            "Model: \"sequential_39\"\n",
            "_________________________________________________________________\n",
            "Layer (type)                 Output Shape              Param #   \n",
            "=================================================================\n",
            "conv2d_12 (Conv2D)           (None, 540, 540, 32)      9632      \n",
            "_________________________________________________________________\n",
            "conv2d_13 (Conv2D)           (None, 540, 540, 32)      102432    \n",
            "_________________________________________________________________\n",
            "batch_normalization_20 (Batc (None, 540, 540, 32)      128       \n",
            "_________________________________________________________________\n",
            "max_pooling2d_24 (MaxPooling (None, 270, 270, 32)      0         \n",
            "_________________________________________________________________\n",
            "conv2d_14 (Conv2D)           (None, 270, 270, 32)      102432    \n",
            "_________________________________________________________________\n",
            "batch_normalization_21 (Batc (None, 270, 270, 32)      128       \n",
            "_________________________________________________________________\n",
            "max_pooling2d_25 (MaxPooling (None, 135, 135, 32)      0         \n",
            "_________________________________________________________________\n",
            "sequential_32 (Sequential)   (None, 67, 67, 32)        2688      \n",
            "_________________________________________________________________\n",
            "sequential_33 (Sequential)   (None, 33, 33, 64)        7136      \n",
            "_________________________________________________________________\n",
            "sequential_34 (Sequential)   (None, 16, 16, 128)       26560     \n",
            "_________________________________________________________________\n",
            "dropout_20 (Dropout)         (None, 16, 16, 128)       0         \n",
            "_________________________________________________________________\n",
            "sequential_35 (Sequential)   (None, 8, 8, 256)         102272    \n",
            "_________________________________________________________________\n",
            "dropout_21 (Dropout)         (None, 8, 8, 256)         0         \n",
            "_________________________________________________________________\n",
            "flatten_4 (Flatten)          (None, 16384)             0         \n",
            "_________________________________________________________________\n",
            "sequential_36 (Sequential)   (None, 256)               4195584   \n",
            "_________________________________________________________________\n",
            "sequential_37 (Sequential)   (None, 128)               33408     \n",
            "_________________________________________________________________\n",
            "sequential_38 (Sequential)   (None, 64)                8512      \n",
            "_________________________________________________________________\n",
            "dense_19 (Dense)             (None, 1)                 65        \n",
            "=================================================================\n",
            "Total params: 4,590,977\n",
            "Trainable params: 4,589,953\n",
            "Non-trainable params: 1,024\n",
            "_________________________________________________________________\n"
          ]
        }
      ]
    },
    {
      "cell_type": "code",
      "metadata": {
        "id": "Xu6sVrQuL532",
        "colab": {
          "base_uri": "https://localhost:8080/"
        },
        "outputId": "44e007ae-130f-4a6b-f659-1649e55bafe3"
      },
      "source": [
        "loss, accuracy, precision, recall = model.evaluate(test_ds)\n",
        "print(f'Loss: {loss},\\nAccuracy: {accuracy},\\nPrecision: {precision},\\nRecall: {recall}')"
      ],
      "execution_count": 53,
      "outputs": [
        {
          "output_type": "stream",
          "name": "stdout",
          "text": [
            "39/39 [==============================] - 8s 199ms/step - loss: 0.6692 - accuracy: 0.6250 - precision: 0.6250 - recall: 1.0000\n",
            "Loss: 0.6692376136779785,\n",
            "Accuracy: 0.625,\n",
            "Precision: 0.625,\n",
            "Recall: 1.0\n"
          ]
        }
      ]
    },
    {
      "cell_type": "code",
      "metadata": {
        "id": "6zWVagLtoK0L"
      },
      "source": [
        "#model.save('/content/lmsmodel_next')\n",
        "#!cp /content/lmsmodel_next /content/drive/MyDrive/colabdata/aiffel/ex_oneone/lmsmodel_next"
      ],
      "execution_count": null,
      "outputs": []
    },
    {
      "cell_type": "code",
      "metadata": {
        "id": "8va4T6xh69SQ"
      },
      "source": [
        "#model.save('/content/lmsmodel_next_days')\n",
        "#!cp /content/lmsmodel_next_days /content/drive/MyDrive/colabdata/aiffel/ex_oneone/lmsmodel_next_days"
      ],
      "execution_count": null,
      "outputs": []
    },
    {
      "cell_type": "code",
      "metadata": {
        "id": "Z-WVCcZ2sTGZ"
      },
      "source": [
        "#model.save('/content/lmsmodel_nine')\n",
        "#!mkdir /content/drive/MyDrive/colabdata/aiffel/ex_oneone/lmsmodel_nine\n",
        "#!cp /content/lmsmodel_nine /content/drive/MyDrive/colabdata/aiffel/ex_oneone/lmsmodel_nine"
      ],
      "execution_count": null,
      "outputs": []
    },
    {
      "cell_type": "code",
      "metadata": {
        "id": "jK1DLP2ip4i5"
      },
      "source": [
        ""
      ],
      "execution_count": null,
      "outputs": []
    },
    {
      "cell_type": "code",
      "metadata": {
        "colab": {
          "base_uri": "https://localhost:8080/"
        },
        "id": "6v0al-EKsmAN",
        "outputId": "df42b444-620c-47a8-f751-fa51009599ff"
      },
      "source": [
        "with tf.device('/device:GPU:0'):\n",
        "\n",
        "    history = model.fit(\n",
        "        train_ds,\n",
        "        steps_per_epoch=TRAIN_IMG_COUNT // BATCH_SIZE,\n",
        "        epochs=15,\n",
        "        #validation_data=val_ds,\n",
        "        #validation_steps=VAL_IMG_COUNT // BATCH_SIZE,\n",
        "        class_weight=class_weight\n",
        "    )"
      ],
      "execution_count": 56,
      "outputs": [
        {
          "output_type": "stream",
          "name": "stdout",
          "text": [
            "Epoch 1/15\n",
            "130/130 [==============================] - 90s 607ms/step - loss: 0.6150 - accuracy: 0.6933 - precision: 0.7505 - recall: 0.8853\n",
            "Epoch 2/15\n",
            "130/130 [==============================] - 79s 607ms/step - loss: 0.6302 - accuracy: 0.6870 - precision: 0.7330 - recall: 0.9055\n",
            "Epoch 3/15\n",
            "130/130 [==============================] - 79s 606ms/step - loss: 0.6212 - accuracy: 0.7120 - precision: 0.7465 - recall: 0.9261\n",
            "Epoch 4/15\n",
            "130/130 [==============================] - 79s 607ms/step - loss: 0.6208 - accuracy: 0.6904 - precision: 0.7421 - recall: 0.8970\n",
            "Epoch 5/15\n",
            "130/130 [==============================] - 79s 608ms/step - loss: 0.6095 - accuracy: 0.7269 - precision: 0.7593 - recall: 0.9358\n",
            "Epoch 6/15\n",
            "130/130 [==============================] - 79s 608ms/step - loss: 0.6317 - accuracy: 0.6957 - precision: 0.7316 - recall: 0.9217\n",
            "Epoch 7/15\n",
            "130/130 [==============================] - 79s 608ms/step - loss: 0.6189 - accuracy: 0.7029 - precision: 0.7487 - recall: 0.9052\n",
            "Epoch 8/15\n",
            "130/130 [==============================] - 79s 607ms/step - loss: 0.6273 - accuracy: 0.6808 - precision: 0.7362 - recall: 0.8848\n",
            "Epoch 9/15\n",
            "130/130 [==============================] - 79s 610ms/step - loss: 0.6220 - accuracy: 0.7087 - precision: 0.7418 - recall: 0.9327\n",
            "Epoch 10/15\n",
            "130/130 [==============================] - 79s 608ms/step - loss: 0.6190 - accuracy: 0.7144 - precision: 0.7448 - recall: 0.9395\n",
            "Epoch 11/15\n",
            "130/130 [==============================] - 79s 608ms/step - loss: 0.6100 - accuracy: 0.7317 - precision: 0.7535 - recall: 0.9559\n",
            "Epoch 12/15\n",
            "130/130 [==============================] - 79s 607ms/step - loss: 0.6229 - accuracy: 0.7058 - precision: 0.7406 - recall: 0.9287\n",
            "Epoch 13/15\n",
            "130/130 [==============================] - 79s 606ms/step - loss: 0.6174 - accuracy: 0.7135 - precision: 0.7465 - recall: 0.9323\n",
            "Epoch 14/15\n",
            "130/130 [==============================] - 79s 605ms/step - loss: 0.6295 - accuracy: 0.6976 - precision: 0.7341 - recall: 0.9228\n",
            "Epoch 15/15\n",
            "130/130 [==============================] - 79s 609ms/step - loss: 0.5079 - accuracy: 0.7784 - precision: 0.8555 - recall: 0.8495\n"
          ]
        }
      ]
    },
    {
      "cell_type": "code",
      "metadata": {
        "colab": {
          "base_uri": "https://localhost:8080/"
        },
        "id": "1ScGtApusmAT",
        "outputId": "89f7f9ce-212a-4a59-848d-a0e309229f58"
      },
      "source": [
        "loss, accuracy, precision, recall = model.evaluate(test_ds)\n",
        "print(f'Loss: {loss},\\nAccuracy: {accuracy},\\nPrecision: {precision},\\nRecall: {recall}')"
      ],
      "execution_count": 57,
      "outputs": [
        {
          "output_type": "stream",
          "name": "stdout",
          "text": [
            "39/39 [==============================] - 8s 201ms/step - loss: 0.8660 - accuracy: 0.6282 - precision: 0.6278 - recall: 0.9949\n",
            "Loss: 0.8660243153572083,\n",
            "Accuracy: 0.6282051205635071,\n",
            "Precision: 0.6278316974639893,\n",
            "Recall: 0.9948717951774597\n"
          ]
        }
      ]
    },
    {
      "cell_type": "code",
      "metadata": {
        "id": "OMdIcyUEp4nM"
      },
      "source": [
        ""
      ],
      "execution_count": null,
      "outputs": []
    },
    {
      "cell_type": "code",
      "metadata": {
        "colab": {
          "base_uri": "https://localhost:8080/"
        },
        "id": "BSOlyEWTFSK4",
        "outputId": "198fac52-fbd5-4228-c078-54c111fb7c28"
      },
      "source": [
        "with tf.device('/device:GPU:0'):\n",
        "\n",
        "\n",
        "    history = model.fit(\n",
        "        train_ds,\n",
        "        steps_per_epoch=TRAIN_IMG_COUNT // BATCH_SIZE,\n",
        "        epochs=10,\n",
        "        #validation_data=val_ds,\n",
        "        #validation_steps=VAL_IMG_COUNT // BATCH_SIZE,\n",
        "        class_weight=class_weight\n",
        "    )"
      ],
      "execution_count": 58,
      "outputs": [
        {
          "output_type": "stream",
          "name": "stdout",
          "text": [
            "Epoch 1/10\n",
            "130/130 [==============================] - 90s 609ms/step - loss: 0.3439 - accuracy: 0.8361 - precision: 0.9492 - recall: 0.8231\n",
            "Epoch 2/10\n",
            "130/130 [==============================] - 79s 609ms/step - loss: 0.2461 - accuracy: 0.8957 - precision: 0.9677 - recall: 0.8897\n",
            "Epoch 3/10\n",
            "130/130 [==============================] - 79s 607ms/step - loss: 0.2160 - accuracy: 0.9115 - precision: 0.9674 - recall: 0.9129\n",
            "Epoch 4/10\n",
            "130/130 [==============================] - 79s 608ms/step - loss: 0.2032 - accuracy: 0.9125 - precision: 0.9669 - recall: 0.9129\n",
            "Epoch 5/10\n",
            "130/130 [==============================] - 79s 609ms/step - loss: 0.1840 - accuracy: 0.9212 - precision: 0.9761 - recall: 0.9171\n",
            "Epoch 6/10\n",
            "130/130 [==============================] - 79s 607ms/step - loss: 0.1950 - accuracy: 0.9226 - precision: 0.9642 - recall: 0.9297\n",
            "Epoch 7/10\n",
            "130/130 [==============================] - 79s 608ms/step - loss: 0.1918 - accuracy: 0.9212 - precision: 0.9761 - recall: 0.9171\n",
            "Epoch 8/10\n",
            "130/130 [==============================] - 79s 607ms/step - loss: 0.1817 - accuracy: 0.9303 - precision: 0.9800 - recall: 0.9245\n",
            "Epoch 9/10\n",
            "130/130 [==============================] - 79s 608ms/step - loss: 0.1801 - accuracy: 0.9303 - precision: 0.9791 - recall: 0.9273\n",
            "Epoch 10/10\n",
            "130/130 [==============================] - 79s 606ms/step - loss: 0.1504 - accuracy: 0.9404 - precision: 0.9769 - recall: 0.9412\n"
          ]
        }
      ]
    },
    {
      "cell_type": "code",
      "metadata": {
        "colab": {
          "base_uri": "https://localhost:8080/"
        },
        "id": "6BNPiAM6FSK5",
        "outputId": "01ce590a-275f-41ff-941a-0b1a99ca5c2d"
      },
      "source": [
        "loss, accuracy, precision, recall = model.evaluate(test_ds)\n",
        "print(f'Loss: {loss},\\nAccuracy: {accuracy},\\nPrecision: {precision},\\nRecall: {recall}')"
      ],
      "execution_count": 61,
      "outputs": [
        {
          "output_type": "stream",
          "name": "stdout",
          "text": [
            "39/39 [==============================] - 8s 198ms/step - loss: 0.4332 - accuracy: 0.7997 - precision: 0.7978 - recall: 0.9103\n",
            "Loss: 0.43318551778793335,\n",
            "Accuracy: 0.7996794581413269,\n",
            "Precision: 0.7977527976036072,\n",
            "Recall: 0.9102563858032227\n"
          ]
        }
      ]
    },
    {
      "cell_type": "code",
      "metadata": {
        "id": "rQ2fuf7oNU_G"
      },
      "source": [
        "class_weight = {0: weight_for_0, 1: weight_for_1}"
      ],
      "execution_count": 42,
      "outputs": []
    },
    {
      "cell_type": "code",
      "metadata": {
        "colab": {
          "base_uri": "https://localhost:8080/"
        },
        "id": "akA8DGOOGZkZ",
        "outputId": "b26ada16-0d12-43ff-9a27-8bcc9a904d33"
      },
      "source": [
        "with tf.device('/device:GPU:0'):\n",
        "\n",
        "\n",
        "    history = model.fit(\n",
        "        train_ds,\n",
        "        steps_per_epoch=TRAIN_IMG_COUNT // BATCH_SIZE,\n",
        "        epochs=5,\n",
        "        #validation_data=val_ds,\n",
        "        #validation_steps=VAL_IMG_COUNT // BATCH_SIZE,\n",
        "        class_weight=class_weight\n",
        "    )"
      ],
      "execution_count": 62,
      "outputs": [
        {
          "output_type": "stream",
          "name": "stdout",
          "text": [
            "Epoch 1/5\n",
            "130/130 [==============================] - 90s 608ms/step - loss: 0.1463 - accuracy: 0.9341 - precision: 0.9791 - recall: 0.9321\n",
            "Epoch 2/5\n",
            "130/130 [==============================] - 79s 607ms/step - loss: 0.1668 - accuracy: 0.9341 - precision: 0.9717 - recall: 0.9381\n",
            "Epoch 3/5\n",
            "130/130 [==============================] - 79s 610ms/step - loss: 0.1612 - accuracy: 0.9351 - precision: 0.9764 - recall: 0.9354\n",
            "Epoch 4/5\n",
            "130/130 [==============================] - 79s 607ms/step - loss: 0.1445 - accuracy: 0.9438 - precision: 0.9831 - recall: 0.9405\n",
            "Epoch 5/5\n",
            "130/130 [==============================] - 79s 607ms/step - loss: 0.1475 - accuracy: 0.9457 - precision: 0.9812 - recall: 0.9450\n"
          ]
        }
      ]
    },
    {
      "cell_type": "code",
      "metadata": {
        "colab": {
          "base_uri": "https://localhost:8080/"
        },
        "id": "jo7ygKTBGZkZ",
        "outputId": "c5a6f960-3d06-488e-9b11-149dacaeff67"
      },
      "source": [
        "loss, accuracy, precision, recall = model.evaluate(test_ds)\n",
        "print(f'Loss: {loss},\\nAccuracy: {accuracy},\\nPrecision: {precision},\\nRecall: {recall}')\n",
        "#/2.3,2.0 epoch 15, 2.0,2.0 epoch 15,10,5"
      ],
      "execution_count": 64,
      "outputs": [
        {
          "output_type": "stream",
          "name": "stdout",
          "text": [
            "39/39 [==============================] - 8s 202ms/step - loss: 0.3424 - accuracy: 0.8654 - precision: 0.8608 - recall: 0.9359\n",
            "Loss: 0.3423686623573303,\n",
            "Accuracy: 0.8653846383094788,\n",
            "Precision: 0.8608490824699402,\n",
            "Recall: 0.9358974099159241\n"
          ]
        }
      ]
    },
    {
      "cell_type": "code",
      "metadata": {
        "colab": {
          "base_uri": "https://localhost:8080/"
        },
        "id": "vCazVzi1G647",
        "outputId": "87e10e33-8d51-428f-a859-0bff99245dc7"
      },
      "source": [
        "#model.save('/content/lmsmodel_86')\n",
        "#!cp /content/lmsmodel_86 /content/drive/MyDrive/colabdata/aiffel/ex_oneone/lmsmodel_86"
      ],
      "execution_count": 65,
      "outputs": [
        {
          "output_type": "stream",
          "name": "stdout",
          "text": [
            "INFO:tensorflow:Assets written to: /content/lmsmodel_86/assets\n",
            "cp: -r not specified; omitting directory '/content/lmsmodel_86'\n"
          ]
        }
      ]
    },
    {
      "cell_type": "code",
      "metadata": {
        "colab": {
          "base_uri": "https://localhost:8080/"
        },
        "id": "4VAEnzMbG7N5",
        "outputId": "9bc5b8b1-61ef-4924-c62b-1e5456a2d079"
      },
      "source": [
        "with tf.device('/device:GPU:0'):\n",
        "\n",
        "\n",
        "    history = model.fit(\n",
        "        train_ds,\n",
        "        steps_per_epoch=TRAIN_IMG_COUNT // BATCH_SIZE,\n",
        "        epochs=2,\n",
        "        #validation_data=val_ds,\n",
        "        #validation_steps=VAL_IMG_COUNT // BATCH_SIZE,\n",
        "        class_weight=class_weight\n",
        "    )"
      ],
      "execution_count": 69,
      "outputs": [
        {
          "output_type": "stream",
          "name": "stdout",
          "text": [
            "Epoch 1/2\n",
            "130/130 [==============================] - 90s 608ms/step - loss: 0.1463 - accuracy: 0.9346 - precision: 0.9797 - recall: 0.9317\n",
            "Epoch 2/2\n",
            "130/130 [==============================] - 79s 607ms/step - loss: 0.1173 - accuracy: 0.9495 - precision: 0.9864 - recall: 0.9448\n"
          ]
        }
      ]
    },
    {
      "cell_type": "code",
      "metadata": {
        "colab": {
          "base_uri": "https://localhost:8080/"
        },
        "id": "v1GVsF3-G7N6",
        "outputId": "6efc3fdf-4d8a-4677-ec30-2b8e456f2804"
      },
      "source": [
        "loss, accuracy, precision, recall = model.evaluate(test_ds)\n",
        "print(f'Loss: {loss},\\nAccuracy: {accuracy},\\nPrecision: {precision},\\nRecall: {recall}')\n",
        "(epoch 2x2)"
      ],
      "execution_count": 70,
      "outputs": [
        {
          "output_type": "stream",
          "name": "stdout",
          "text": [
            "39/39 [==============================] - 8s 205ms/step - loss: 0.5107 - accuracy: 0.7965 - precision: 0.7625 - recall: 0.9795\n",
            "Loss: 0.5107117295265198,\n",
            "Accuracy: 0.7964743375778198,\n",
            "Precision: 0.7624750733375549,\n",
            "Recall: 0.9794871807098389\n"
          ]
        }
      ]
    },
    {
      "cell_type": "code",
      "metadata": {
        "id": "sBjJZlDEG6-t"
      },
      "source": [
        ""
      ],
      "execution_count": null,
      "outputs": []
    }
  ]
}