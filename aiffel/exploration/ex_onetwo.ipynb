{
  "nbformat": 4,
  "nbformat_minor": 0,
  "metadata": {
    "colab": {
      "name": "ex_onetwo.ipynb",
      "provenance": [],
      "collapsed_sections": [],
      "machine_shape": "hm",
      "mount_file_id": "1QKTHG0B4UPEUQca7PBf-YyLtJ2dTn5Fu",
      "authorship_tag": "ABX9TyMJYioL5MGeXeiP1ePBH+PK",
      "include_colab_link": true
    },
    "kernelspec": {
      "name": "python3",
      "display_name": "Python 3"
    },
    "language_info": {
      "name": "python"
    },
    "accelerator": "GPU"
  },
  "cells": [
    {
      "cell_type": "markdown",
      "metadata": {
        "id": "view-in-github",
        "colab_type": "text"
      },
      "source": [
        "<a href=\"https://colab.research.google.com/github/kim1987/aiffel/blob/main/aiffel/exploration/ex_onetwo.ipynb\" target=\"_parent\"><img src=\"https://colab.research.google.com/assets/colab-badge.svg\" alt=\"Open In Colab\"/></a>"
      ]
    },
    {
      "cell_type": "code",
      "metadata": {
        "id": "BpzrUv11jcsH",
        "colab": {
          "base_uri": "https://localhost:8080/"
        },
        "outputId": "19daa546-d6b5-4b34-9075-678acf4007b0"
      },
      "source": [
        "from google.colab import drive\n",
        "drive.mount('/content/drive')"
      ],
      "execution_count": 43,
      "outputs": [
        {
          "output_type": "stream",
          "name": "stdout",
          "text": [
            "Drive already mounted at /content/drive; to attempt to forcibly remount, call drive.mount(\"/content/drive\", force_remount=True).\n"
          ]
        }
      ]
    },
    {
      "cell_type": "code",
      "metadata": {
        "id": "Ce4Em9b9fwQc"
      },
      "source": [
        "!cp /content/drive/MyDrive/colabdata/aiffel/ex_onetwo/data.tar /content"
      ],
      "execution_count": 44,
      "outputs": []
    },
    {
      "cell_type": "code",
      "metadata": {
        "colab": {
          "base_uri": "https://localhost:8080/"
        },
        "id": "jc1f6MNkjeZZ",
        "outputId": "9259a4d0-e7a0-4fe3-b102-986ba9a96616"
      },
      "source": [
        "!tar xvf data.tar"
      ],
      "execution_count": 45,
      "outputs": [
        {
          "output_type": "stream",
          "name": "stdout",
          "text": [
            "./data/\n",
            "./data/yoochoose-clicks.dat\n",
            "./data/dataset-README.txt\n",
            "./data/ratings.dat\n",
            "./data/users.dat\n",
            "./data/movies.dat\n",
            "./data/README\n",
            "./data/yoochoose-test.dat\n",
            "./data/yoochoose-buys.dat\n"
          ]
        }
      ]
    },
    {
      "cell_type": "code",
      "metadata": {
        "id": "hwrkyukyjed7"
      },
      "source": [
        "import os"
      ],
      "execution_count": 46,
      "outputs": []
    },
    {
      "cell_type": "code",
      "metadata": {
        "id": "Cm-yLniUjeii"
      },
      "source": [
        ""
      ],
      "execution_count": 46,
      "outputs": []
    },
    {
      "cell_type": "code",
      "metadata": {
        "id": "Yg8CEHbmjekr"
      },
      "source": [
        "from pathlib import Path\n",
        "import os\n",
        "\n",
        "import numpy as np\n",
        "import pandas as pd\n",
        "import warnings\n",
        "warnings.filterwarnings('ignore')"
      ],
      "execution_count": 47,
      "outputs": []
    },
    {
      "cell_type": "code",
      "metadata": {
        "id": "AjP9yFy_xKig",
        "colab": {
          "base_uri": "https://localhost:8080/",
          "height": 414
        },
        "outputId": "b75d997c-4840-40e6-9614-e51e034179fb"
      },
      "source": [
        "\n",
        "data_path = '/content/data/'\n",
        "train_path = data_path + 'ratings.dat'\n",
        "\n",
        "def load_data(data_path: Path, nrows=None):\n",
        "    data = pd.read_csv(data_path, sep='::', header=None, usecols=[0, 1, 2, 3], dtype={0: np.int32, 1: np.int32, 2: np.int32}, nrows=nrows)\n",
        "    data.columns = ['UserId', 'ItemId', 'Rating', 'Time']\n",
        "    return data\n",
        "\n",
        "data = load_data(train_path, None)\n",
        "data.sort_values(['UserId', 'Time'], inplace=True)  # data를 id와 시간 순서로 정렬해줍니다.\n",
        "data"
      ],
      "execution_count": 88,
      "outputs": [
        {
          "output_type": "execute_result",
          "data": {
            "text/html": [
              "<div>\n",
              "<style scoped>\n",
              "    .dataframe tbody tr th:only-of-type {\n",
              "        vertical-align: middle;\n",
              "    }\n",
              "\n",
              "    .dataframe tbody tr th {\n",
              "        vertical-align: top;\n",
              "    }\n",
              "\n",
              "    .dataframe thead th {\n",
              "        text-align: right;\n",
              "    }\n",
              "</style>\n",
              "<table border=\"1\" class=\"dataframe\">\n",
              "  <thead>\n",
              "    <tr style=\"text-align: right;\">\n",
              "      <th></th>\n",
              "      <th>UserId</th>\n",
              "      <th>ItemId</th>\n",
              "      <th>Rating</th>\n",
              "      <th>Time</th>\n",
              "    </tr>\n",
              "  </thead>\n",
              "  <tbody>\n",
              "    <tr>\n",
              "      <th>31</th>\n",
              "      <td>1</td>\n",
              "      <td>3186</td>\n",
              "      <td>4</td>\n",
              "      <td>978300019</td>\n",
              "    </tr>\n",
              "    <tr>\n",
              "      <th>22</th>\n",
              "      <td>1</td>\n",
              "      <td>1270</td>\n",
              "      <td>5</td>\n",
              "      <td>978300055</td>\n",
              "    </tr>\n",
              "    <tr>\n",
              "      <th>27</th>\n",
              "      <td>1</td>\n",
              "      <td>1721</td>\n",
              "      <td>4</td>\n",
              "      <td>978300055</td>\n",
              "    </tr>\n",
              "    <tr>\n",
              "      <th>37</th>\n",
              "      <td>1</td>\n",
              "      <td>1022</td>\n",
              "      <td>5</td>\n",
              "      <td>978300055</td>\n",
              "    </tr>\n",
              "    <tr>\n",
              "      <th>24</th>\n",
              "      <td>1</td>\n",
              "      <td>2340</td>\n",
              "      <td>3</td>\n",
              "      <td>978300103</td>\n",
              "    </tr>\n",
              "    <tr>\n",
              "      <th>...</th>\n",
              "      <td>...</td>\n",
              "      <td>...</td>\n",
              "      <td>...</td>\n",
              "      <td>...</td>\n",
              "    </tr>\n",
              "    <tr>\n",
              "      <th>1000019</th>\n",
              "      <td>6040</td>\n",
              "      <td>2917</td>\n",
              "      <td>4</td>\n",
              "      <td>997454429</td>\n",
              "    </tr>\n",
              "    <tr>\n",
              "      <th>999988</th>\n",
              "      <td>6040</td>\n",
              "      <td>1921</td>\n",
              "      <td>4</td>\n",
              "      <td>997454464</td>\n",
              "    </tr>\n",
              "    <tr>\n",
              "      <th>1000172</th>\n",
              "      <td>6040</td>\n",
              "      <td>1784</td>\n",
              "      <td>3</td>\n",
              "      <td>997454464</td>\n",
              "    </tr>\n",
              "    <tr>\n",
              "      <th>1000167</th>\n",
              "      <td>6040</td>\n",
              "      <td>161</td>\n",
              "      <td>3</td>\n",
              "      <td>997454486</td>\n",
              "    </tr>\n",
              "    <tr>\n",
              "      <th>1000042</th>\n",
              "      <td>6040</td>\n",
              "      <td>1221</td>\n",
              "      <td>4</td>\n",
              "      <td>998315055</td>\n",
              "    </tr>\n",
              "  </tbody>\n",
              "</table>\n",
              "<p>1000209 rows × 4 columns</p>\n",
              "</div>"
            ],
            "text/plain": [
              "         UserId  ItemId  Rating       Time\n",
              "31            1    3186       4  978300019\n",
              "22            1    1270       5  978300055\n",
              "27            1    1721       4  978300055\n",
              "37            1    1022       5  978300055\n",
              "24            1    2340       3  978300103\n",
              "...         ...     ...     ...        ...\n",
              "1000019    6040    2917       4  997454429\n",
              "999988     6040    1921       4  997454464\n",
              "1000172    6040    1784       3  997454464\n",
              "1000167    6040     161       3  997454486\n",
              "1000042    6040    1221       4  998315055\n",
              "\n",
              "[1000209 rows x 4 columns]"
            ]
          },
          "metadata": {},
          "execution_count": 88
        }
      ]
    },
    {
      "cell_type": "code",
      "metadata": {
        "colab": {
          "base_uri": "https://localhost:8080/",
          "height": 414
        },
        "id": "ERwxsVh9RC7D",
        "outputId": "4f709602-5474-4b13-e79c-ce11e1c96d65"
      },
      "source": [
        "data['Time'] = data['Time'].apply(pd.Timestamp,unit='s')\n",
        "data"
      ],
      "execution_count": 89,
      "outputs": [
        {
          "output_type": "execute_result",
          "data": {
            "text/html": [
              "<div>\n",
              "<style scoped>\n",
              "    .dataframe tbody tr th:only-of-type {\n",
              "        vertical-align: middle;\n",
              "    }\n",
              "\n",
              "    .dataframe tbody tr th {\n",
              "        vertical-align: top;\n",
              "    }\n",
              "\n",
              "    .dataframe thead th {\n",
              "        text-align: right;\n",
              "    }\n",
              "</style>\n",
              "<table border=\"1\" class=\"dataframe\">\n",
              "  <thead>\n",
              "    <tr style=\"text-align: right;\">\n",
              "      <th></th>\n",
              "      <th>UserId</th>\n",
              "      <th>ItemId</th>\n",
              "      <th>Rating</th>\n",
              "      <th>Time</th>\n",
              "    </tr>\n",
              "  </thead>\n",
              "  <tbody>\n",
              "    <tr>\n",
              "      <th>31</th>\n",
              "      <td>1</td>\n",
              "      <td>3186</td>\n",
              "      <td>4</td>\n",
              "      <td>2000-12-31 22:00:19</td>\n",
              "    </tr>\n",
              "    <tr>\n",
              "      <th>22</th>\n",
              "      <td>1</td>\n",
              "      <td>1270</td>\n",
              "      <td>5</td>\n",
              "      <td>2000-12-31 22:00:55</td>\n",
              "    </tr>\n",
              "    <tr>\n",
              "      <th>27</th>\n",
              "      <td>1</td>\n",
              "      <td>1721</td>\n",
              "      <td>4</td>\n",
              "      <td>2000-12-31 22:00:55</td>\n",
              "    </tr>\n",
              "    <tr>\n",
              "      <th>37</th>\n",
              "      <td>1</td>\n",
              "      <td>1022</td>\n",
              "      <td>5</td>\n",
              "      <td>2000-12-31 22:00:55</td>\n",
              "    </tr>\n",
              "    <tr>\n",
              "      <th>24</th>\n",
              "      <td>1</td>\n",
              "      <td>2340</td>\n",
              "      <td>3</td>\n",
              "      <td>2000-12-31 22:01:43</td>\n",
              "    </tr>\n",
              "    <tr>\n",
              "      <th>...</th>\n",
              "      <td>...</td>\n",
              "      <td>...</td>\n",
              "      <td>...</td>\n",
              "      <td>...</td>\n",
              "    </tr>\n",
              "    <tr>\n",
              "      <th>1000019</th>\n",
              "      <td>6040</td>\n",
              "      <td>2917</td>\n",
              "      <td>4</td>\n",
              "      <td>2001-08-10 14:40:29</td>\n",
              "    </tr>\n",
              "    <tr>\n",
              "      <th>999988</th>\n",
              "      <td>6040</td>\n",
              "      <td>1921</td>\n",
              "      <td>4</td>\n",
              "      <td>2001-08-10 14:41:04</td>\n",
              "    </tr>\n",
              "    <tr>\n",
              "      <th>1000172</th>\n",
              "      <td>6040</td>\n",
              "      <td>1784</td>\n",
              "      <td>3</td>\n",
              "      <td>2001-08-10 14:41:04</td>\n",
              "    </tr>\n",
              "    <tr>\n",
              "      <th>1000167</th>\n",
              "      <td>6040</td>\n",
              "      <td>161</td>\n",
              "      <td>3</td>\n",
              "      <td>2001-08-10 14:41:26</td>\n",
              "    </tr>\n",
              "    <tr>\n",
              "      <th>1000042</th>\n",
              "      <td>6040</td>\n",
              "      <td>1221</td>\n",
              "      <td>4</td>\n",
              "      <td>2001-08-20 13:44:15</td>\n",
              "    </tr>\n",
              "  </tbody>\n",
              "</table>\n",
              "<p>1000209 rows × 4 columns</p>\n",
              "</div>"
            ],
            "text/plain": [
              "         UserId  ItemId  Rating                Time\n",
              "31            1    3186       4 2000-12-31 22:00:19\n",
              "22            1    1270       5 2000-12-31 22:00:55\n",
              "27            1    1721       4 2000-12-31 22:00:55\n",
              "37            1    1022       5 2000-12-31 22:00:55\n",
              "24            1    2340       3 2000-12-31 22:01:43\n",
              "...         ...     ...     ...                 ...\n",
              "1000019    6040    2917       4 2001-08-10 14:40:29\n",
              "999988     6040    1921       4 2001-08-10 14:41:04\n",
              "1000172    6040    1784       3 2001-08-10 14:41:04\n",
              "1000167    6040     161       3 2001-08-10 14:41:26\n",
              "1000042    6040    1221       4 2001-08-20 13:44:15\n",
              "\n",
              "[1000209 rows x 4 columns]"
            ]
          },
          "metadata": {},
          "execution_count": 89
        }
      ]
    },
    {
      "cell_type": "code",
      "metadata": {
        "colab": {
          "base_uri": "https://localhost:8080/"
        },
        "id": "Z2Sjz60_jetx",
        "outputId": "ad35093a-7806-4d81-8be6-b6ad405b6c3d"
      },
      "source": [
        "oldest, latest = data['Time'].min(), data['Time'].max()\n",
        "print(oldest) \n",
        "print(latest)"
      ],
      "execution_count": 90,
      "outputs": [
        {
          "output_type": "stream",
          "name": "stdout",
          "text": [
            "2000-04-25 23:05:32\n",
            "2003-02-28 17:49:50\n"
          ]
        }
      ]
    },
    {
      "cell_type": "code",
      "metadata": {
        "colab": {
          "base_uri": "https://localhost:8080/",
          "height": 414
        },
        "id": "lTUQVcrZjewg",
        "outputId": "fdae7fc6-0217-4569-910d-afb5a1c28fbb"
      },
      "source": [
        "sep_month = latest - pd.Timedelta(days=500)\n",
        "data = data[data['Time']>= sep_month]\n",
        "data"
      ],
      "execution_count": 91,
      "outputs": [
        {
          "output_type": "execute_result",
          "data": {
            "text/html": [
              "<div>\n",
              "<style scoped>\n",
              "    .dataframe tbody tr th:only-of-type {\n",
              "        vertical-align: middle;\n",
              "    }\n",
              "\n",
              "    .dataframe tbody tr th {\n",
              "        vertical-align: top;\n",
              "    }\n",
              "\n",
              "    .dataframe thead th {\n",
              "        text-align: right;\n",
              "    }\n",
              "</style>\n",
              "<table border=\"1\" class=\"dataframe\">\n",
              "  <thead>\n",
              "    <tr style=\"text-align: right;\">\n",
              "      <th></th>\n",
              "      <th>UserId</th>\n",
              "      <th>ItemId</th>\n",
              "      <th>Rating</th>\n",
              "      <th>Time</th>\n",
              "    </tr>\n",
              "  </thead>\n",
              "  <tbody>\n",
              "    <tr>\n",
              "      <th>2503</th>\n",
              "      <td>20</td>\n",
              "      <td>1694</td>\n",
              "      <td>3</td>\n",
              "      <td>2001-12-29 23:37:51</td>\n",
              "    </tr>\n",
              "    <tr>\n",
              "      <th>2512</th>\n",
              "      <td>20</td>\n",
              "      <td>1468</td>\n",
              "      <td>3</td>\n",
              "      <td>2001-12-29 23:37:51</td>\n",
              "    </tr>\n",
              "    <tr>\n",
              "      <th>2513</th>\n",
              "      <td>20</td>\n",
              "      <td>3717</td>\n",
              "      <td>2</td>\n",
              "      <td>2001-12-29 23:37:51</td>\n",
              "    </tr>\n",
              "    <tr>\n",
              "      <th>2517</th>\n",
              "      <td>20</td>\n",
              "      <td>2858</td>\n",
              "      <td>4</td>\n",
              "      <td>2001-12-29 23:37:51</td>\n",
              "    </tr>\n",
              "    <tr>\n",
              "      <th>2504</th>\n",
              "      <td>20</td>\n",
              "      <td>2641</td>\n",
              "      <td>4</td>\n",
              "      <td>2001-12-29 23:38:35</td>\n",
              "    </tr>\n",
              "    <tr>\n",
              "      <th>...</th>\n",
              "      <td>...</td>\n",
              "      <td>...</td>\n",
              "      <td>...</td>\n",
              "      <td>...</td>\n",
              "    </tr>\n",
              "    <tr>\n",
              "      <th>994100</th>\n",
              "      <td>6002</td>\n",
              "      <td>2013</td>\n",
              "      <td>4</td>\n",
              "      <td>2002-02-24 04:24:39</td>\n",
              "    </tr>\n",
              "    <tr>\n",
              "      <th>993890</th>\n",
              "      <td>6002</td>\n",
              "      <td>2520</td>\n",
              "      <td>4</td>\n",
              "      <td>2002-02-24 04:24:40</td>\n",
              "    </tr>\n",
              "    <tr>\n",
              "      <th>994045</th>\n",
              "      <td>6002</td>\n",
              "      <td>1387</td>\n",
              "      <td>5</td>\n",
              "      <td>2002-02-24 04:25:20</td>\n",
              "    </tr>\n",
              "    <tr>\n",
              "      <th>993900</th>\n",
              "      <td>6002</td>\n",
              "      <td>1927</td>\n",
              "      <td>4</td>\n",
              "      <td>2002-02-24 04:25:58</td>\n",
              "    </tr>\n",
              "    <tr>\n",
              "      <th>994050</th>\n",
              "      <td>6002</td>\n",
              "      <td>101</td>\n",
              "      <td>4</td>\n",
              "      <td>2002-02-24 04:26:57</td>\n",
              "    </tr>\n",
              "  </tbody>\n",
              "</table>\n",
              "<p>34823 rows × 4 columns</p>\n",
              "</div>"
            ],
            "text/plain": [
              "        UserId  ItemId  Rating                Time\n",
              "2503        20    1694       3 2001-12-29 23:37:51\n",
              "2512        20    1468       3 2001-12-29 23:37:51\n",
              "2513        20    3717       2 2001-12-29 23:37:51\n",
              "2517        20    2858       4 2001-12-29 23:37:51\n",
              "2504        20    2641       4 2001-12-29 23:38:35\n",
              "...        ...     ...     ...                 ...\n",
              "994100    6002    2013       4 2002-02-24 04:24:39\n",
              "993890    6002    2520       4 2002-02-24 04:24:40\n",
              "994045    6002    1387       5 2002-02-24 04:25:20\n",
              "993900    6002    1927       4 2002-02-24 04:25:58\n",
              "994050    6002     101       4 2002-02-24 04:26:57\n",
              "\n",
              "[34823 rows x 4 columns]"
            ]
          },
          "metadata": {},
          "execution_count": 91
        }
      ]
    },
    {
      "cell_type": "code",
      "metadata": {
        "id": "IfjtSZvXQDbC"
      },
      "source": [
        "data['tdiffer'] = data.groupby('UserId')['Time'].diff().fillna(pd.Timedelta(0))"
      ],
      "execution_count": 93,
      "outputs": []
    },
    {
      "cell_type": "code",
      "metadata": {
        "id": "DBFmiUH1-8oe"
      },
      "source": [
        "seconds = data[data['tdiffer']!=pd.Timedelta(0)]['tdiffer'].iloc[:].apply(lambda x : x.total_seconds()).mean()\n",
        "seconds = pd.Timedelta(seconds=seconds)"
      ],
      "execution_count": 94,
      "outputs": []
    },
    {
      "cell_type": "code",
      "metadata": {
        "id": "S6lIpfIF96iu"
      },
      "source": [
        "data['SessionId']=0\n",
        "max_value = data['UserId'].nunique()*10"
      ],
      "execution_count": 95,
      "outputs": []
    },
    {
      "cell_type": "code",
      "metadata": {
        "id": "yZVGfP7jh8NS"
      },
      "source": [
        ""
      ],
      "execution_count": 54,
      "outputs": []
    },
    {
      "cell_type": "code",
      "metadata": {
        "id": "vLtY_IgM96l4",
        "colab": {
          "base_uri": "https://localhost:8080/"
        },
        "outputId": "0df1080d-b97e-4195-eab1-de04751bae20"
      },
      "source": [
        "from tqdm import tqdm\n",
        "session_number = max_value\n",
        "session_change=0\n",
        "for idx, data_series in tqdm(enumerate(data.iterrows())):\n",
        "  if idx >0:\n",
        "    if data_series[1]['UserId'] != before_user_id:\n",
        "      session_number+=1\n",
        "    elif data_series[1]['tdiffer']>seconds:\n",
        "      session_number+=1\n",
        "  data.iat[idx,5]=session_number\n",
        "  before_user_id=data_series[1]['UserId']"
      ],
      "execution_count": 96,
      "outputs": [
        {
          "output_type": "stream",
          "name": "stderr",
          "text": [
            "34823it [00:07, 4836.89it/s]\n"
          ]
        }
      ]
    },
    {
      "cell_type": "code",
      "metadata": {
        "id": "y5dhtm6p96ov"
      },
      "source": [
        "data\n",
        "data_copy = data.copy()"
      ],
      "execution_count": 97,
      "outputs": []
    },
    {
      "cell_type": "code",
      "metadata": {
        "id": "SP9MBW9c96r7"
      },
      "source": [
        "data = data_copy.copy()"
      ],
      "execution_count": 98,
      "outputs": []
    },
    {
      "cell_type": "code",
      "metadata": {
        "id": "j8O0N5RmnILO"
      },
      "source": [
        "def cleanse_recursive(data: pd.DataFrame, shortest, least_click) -> pd.DataFrame:\n",
        "    while True:\n",
        "        before_len = len(data)\n",
        "        data = cleanse_short_session(data, shortest)\n",
        "        data = cleanse_unpopular_item(data, least_click)\n",
        "        after_len = len(data)\n",
        "        if before_len == after_len:\n",
        "            break\n",
        "    return data\n",
        "\n",
        "\n",
        "def cleanse_short_session(data: pd.DataFrame, shortest):\n",
        "    session_len = data.groupby('SessionId').size()\n",
        "    session_use = session_len[session_len >= shortest].index\n",
        "    data = data[data['SessionId'].isin(session_use)]\n",
        "    return data\n",
        "\n",
        "\n",
        "def cleanse_unpopular_item(data: pd.DataFrame, least_click):\n",
        "    item_popular = data.groupby('ItemId').size()\n",
        "    item_use = item_popular[item_popular >= least_click].index\n",
        "    data = data[data['ItemId'].isin(item_use)]\n",
        "    return data"
      ],
      "execution_count": 99,
      "outputs": []
    },
    {
      "cell_type": "code",
      "metadata": {
        "colab": {
          "base_uri": "https://localhost:8080/",
          "height": 414
        },
        "id": "HgI2gDsznIOD",
        "outputId": "bf305b53-d39c-4713-e4f3-2113e4ddaad6"
      },
      "source": [
        "data = cleanse_recursive(data, shortest=2, least_click=5)\n",
        "data"
      ],
      "execution_count": 100,
      "outputs": [
        {
          "output_type": "execute_result",
          "data": {
            "text/html": [
              "<div>\n",
              "<style scoped>\n",
              "    .dataframe tbody tr th:only-of-type {\n",
              "        vertical-align: middle;\n",
              "    }\n",
              "\n",
              "    .dataframe tbody tr th {\n",
              "        vertical-align: top;\n",
              "    }\n",
              "\n",
              "    .dataframe thead th {\n",
              "        text-align: right;\n",
              "    }\n",
              "</style>\n",
              "<table border=\"1\" class=\"dataframe\">\n",
              "  <thead>\n",
              "    <tr style=\"text-align: right;\">\n",
              "      <th></th>\n",
              "      <th>UserId</th>\n",
              "      <th>ItemId</th>\n",
              "      <th>Rating</th>\n",
              "      <th>Time</th>\n",
              "      <th>tdiffer</th>\n",
              "      <th>SessionId</th>\n",
              "    </tr>\n",
              "  </thead>\n",
              "  <tbody>\n",
              "    <tr>\n",
              "      <th>2503</th>\n",
              "      <td>20</td>\n",
              "      <td>1694</td>\n",
              "      <td>3</td>\n",
              "      <td>2001-12-29 23:37:51</td>\n",
              "      <td>0 days 00:00:00</td>\n",
              "      <td>6640</td>\n",
              "    </tr>\n",
              "    <tr>\n",
              "      <th>2512</th>\n",
              "      <td>20</td>\n",
              "      <td>1468</td>\n",
              "      <td>3</td>\n",
              "      <td>2001-12-29 23:37:51</td>\n",
              "      <td>0 days 00:00:00</td>\n",
              "      <td>6640</td>\n",
              "    </tr>\n",
              "    <tr>\n",
              "      <th>2513</th>\n",
              "      <td>20</td>\n",
              "      <td>3717</td>\n",
              "      <td>2</td>\n",
              "      <td>2001-12-29 23:37:51</td>\n",
              "      <td>0 days 00:00:00</td>\n",
              "      <td>6640</td>\n",
              "    </tr>\n",
              "    <tr>\n",
              "      <th>2517</th>\n",
              "      <td>20</td>\n",
              "      <td>2858</td>\n",
              "      <td>4</td>\n",
              "      <td>2001-12-29 23:37:51</td>\n",
              "      <td>0 days 00:00:00</td>\n",
              "      <td>6640</td>\n",
              "    </tr>\n",
              "    <tr>\n",
              "      <th>2504</th>\n",
              "      <td>20</td>\n",
              "      <td>2641</td>\n",
              "      <td>4</td>\n",
              "      <td>2001-12-29 23:38:35</td>\n",
              "      <td>0 days 00:00:44</td>\n",
              "      <td>6640</td>\n",
              "    </tr>\n",
              "    <tr>\n",
              "      <th>...</th>\n",
              "      <td>...</td>\n",
              "      <td>...</td>\n",
              "      <td>...</td>\n",
              "      <td>...</td>\n",
              "      <td>...</td>\n",
              "      <td>...</td>\n",
              "    </tr>\n",
              "    <tr>\n",
              "      <th>994100</th>\n",
              "      <td>6002</td>\n",
              "      <td>2013</td>\n",
              "      <td>4</td>\n",
              "      <td>2002-02-24 04:24:39</td>\n",
              "      <td>0 days 00:00:26</td>\n",
              "      <td>9920</td>\n",
              "    </tr>\n",
              "    <tr>\n",
              "      <th>993890</th>\n",
              "      <td>6002</td>\n",
              "      <td>2520</td>\n",
              "      <td>4</td>\n",
              "      <td>2002-02-24 04:24:40</td>\n",
              "      <td>0 days 00:00:01</td>\n",
              "      <td>9920</td>\n",
              "    </tr>\n",
              "    <tr>\n",
              "      <th>994045</th>\n",
              "      <td>6002</td>\n",
              "      <td>1387</td>\n",
              "      <td>5</td>\n",
              "      <td>2002-02-24 04:25:20</td>\n",
              "      <td>0 days 00:00:40</td>\n",
              "      <td>9920</td>\n",
              "    </tr>\n",
              "    <tr>\n",
              "      <th>993900</th>\n",
              "      <td>6002</td>\n",
              "      <td>1927</td>\n",
              "      <td>4</td>\n",
              "      <td>2002-02-24 04:25:58</td>\n",
              "      <td>0 days 00:00:38</td>\n",
              "      <td>9920</td>\n",
              "    </tr>\n",
              "    <tr>\n",
              "      <th>994050</th>\n",
              "      <td>6002</td>\n",
              "      <td>101</td>\n",
              "      <td>4</td>\n",
              "      <td>2002-02-24 04:26:57</td>\n",
              "      <td>0 days 00:00:59</td>\n",
              "      <td>9920</td>\n",
              "    </tr>\n",
              "  </tbody>\n",
              "</table>\n",
              "<p>31049 rows × 6 columns</p>\n",
              "</div>"
            ],
            "text/plain": [
              "        UserId  ItemId  Rating                Time         tdiffer  SessionId\n",
              "2503        20    1694       3 2001-12-29 23:37:51 0 days 00:00:00       6640\n",
              "2512        20    1468       3 2001-12-29 23:37:51 0 days 00:00:00       6640\n",
              "2513        20    3717       2 2001-12-29 23:37:51 0 days 00:00:00       6640\n",
              "2517        20    2858       4 2001-12-29 23:37:51 0 days 00:00:00       6640\n",
              "2504        20    2641       4 2001-12-29 23:38:35 0 days 00:00:44       6640\n",
              "...        ...     ...     ...                 ...             ...        ...\n",
              "994100    6002    2013       4 2002-02-24 04:24:39 0 days 00:00:26       9920\n",
              "993890    6002    2520       4 2002-02-24 04:24:40 0 days 00:00:01       9920\n",
              "994045    6002    1387       5 2002-02-24 04:25:20 0 days 00:00:40       9920\n",
              "993900    6002    1927       4 2002-02-24 04:25:58 0 days 00:00:38       9920\n",
              "994050    6002     101       4 2002-02-24 04:26:57 0 days 00:00:59       9920\n",
              "\n",
              "[31049 rows x 6 columns]"
            ]
          },
          "metadata": {},
          "execution_count": 100
        }
      ]
    },
    {
      "cell_type": "code",
      "metadata": {
        "id": "Bq4Mcwz2nIQa"
      },
      "source": [
        "data = data[['SessionId','ItemId','Time']]"
      ],
      "execution_count": 101,
      "outputs": []
    },
    {
      "cell_type": "code",
      "metadata": {
        "id": "OKknb-IknISm"
      },
      "source": [
        "def split_by_date(data: pd.DataFrame, n_days: int):\n",
        "    final_time = data['Time'].max()\n",
        "    session_last_time = data.groupby('SessionId')['Time'].max()\n",
        "    session_in_train = session_last_time[session_last_time < final_time - pd.Timedelta(days=n_days)].index\n",
        "    session_in_test = session_last_time[session_last_time >= final_time - pd.Timedelta(days=n_days)].index\n",
        "\n",
        "    before_date = data[data['SessionId'].isin(session_in_train)]\n",
        "    after_date = data[data['SessionId'].isin(session_in_test)]\n",
        "    after_date = after_date[after_date['ItemId'].isin(before_date['ItemId'])]\n",
        "    return before_date, after_date"
      ],
      "execution_count": 103,
      "outputs": []
    },
    {
      "cell_type": "code",
      "metadata": {
        "id": "qG4vhQsJnIVC"
      },
      "source": [
        "tr, test = split_by_date(data, n_days=60)\n",
        "tr, val = split_by_date(tr, n_days=60)"
      ],
      "execution_count": 105,
      "outputs": []
    },
    {
      "cell_type": "code",
      "metadata": {
        "id": "HIdfgW7enIYC"
      },
      "source": [
        "def stats_info(data: pd.DataFrame, status: str):\n",
        "    print(f'* {status} Set Stats Info\\n'\n",
        "          f'\\t Events: {len(data)}\\n'\n",
        "          f'\\t Sessions: {data[\"SessionId\"].nunique()}\\n'\n",
        "          f'\\t Items: {data[\"ItemId\"].nunique()}\\n'\n",
        "          f'\\t First Time : {data[\"Time\"].min()}\\n'\n",
        "          f'\\t Last Time : {data[\"Time\"].max()}\\n')"
      ],
      "execution_count": 106,
      "outputs": []
    },
    {
      "cell_type": "code",
      "metadata": {
        "colab": {
          "base_uri": "https://localhost:8080/"
        },
        "id": "kPLpvBZUr6Jm",
        "outputId": "bcf4adce-fb1b-44e7-d483-c73ac531882f"
      },
      "source": [
        "stats_info(tr, 'train')\n",
        "stats_info(val, 'valid')\n",
        "stats_info(test, 'test')"
      ],
      "execution_count": 107,
      "outputs": [
        {
          "output_type": "stream",
          "name": "stdout",
          "text": [
            "* train Set Stats Info\n",
            "\t Events: 25185\n",
            "\t Sessions: 1655\n",
            "\t Items: 1942\n",
            "\t First Time : 2001-10-16 17:55:33\n",
            "\t Last Time : 2002-10-29 23:24:51\n",
            "\n",
            "* valid Set Stats Info\n",
            "\t Events: 2797\n",
            "\t Sessions: 178\n",
            "\t Items: 1309\n",
            "\t First Time : 2002-10-14 19:25:37\n",
            "\t Last Time : 2002-12-30 02:26:14\n",
            "\n",
            "* test Set Stats Info\n",
            "\t Events: 3067\n",
            "\t Sessions: 187\n",
            "\t Items: 1358\n",
            "\t First Time : 2002-12-20 03:36:18\n",
            "\t Last Time : 2003-02-28 17:49:50\n",
            "\n"
          ]
        }
      ]
    },
    {
      "cell_type": "code",
      "metadata": {
        "id": "JWB08rtJr6MU"
      },
      "source": [
        "id2idx = {item_id : index for index, item_id in enumerate(tr['ItemId'].unique())}\n",
        "\n",
        "def indexing(df, id2idx):\n",
        "    df['item_idx'] = df['ItemId'].map(lambda x: id2idx.get(x, -1))  # id2idx에 없는 아이템은 모르는 값(-1) 처리 해줍니다.\n",
        "    return df\n",
        "\n",
        "tr = indexing(tr, id2idx)\n",
        "val = indexing(val, id2idx)\n",
        "test = indexing(test, id2idx)"
      ],
      "execution_count": 108,
      "outputs": []
    },
    {
      "cell_type": "code",
      "metadata": {
        "id": "MHcHBqRuMOe5"
      },
      "source": [
        "tr.sort_values(['SessionId', 'Time'], inplace=True)"
      ],
      "execution_count": 109,
      "outputs": []
    },
    {
      "cell_type": "code",
      "metadata": {
        "id": "Obeg2c7-r6S5"
      },
      "source": [
        "save_path = data_path + 'processed'\n",
        "Path(save_path).mkdir(parents=True, exist_ok=True)\n",
        "\n",
        "tr.to_pickle(save_path + 'train.pkl')\n",
        "val.to_pickle(save_path + 'valid.pkl')\n",
        "test.to_pickle(save_path + 'test.pkl')"
      ],
      "execution_count": 110,
      "outputs": []
    },
    {
      "cell_type": "code",
      "metadata": {
        "colab": {
          "base_uri": "https://localhost:8080/",
          "height": 34
        },
        "id": "GCk7KoC62H_7",
        "outputId": "8dce57e5-a4e1-4f5f-eb12-d6caf035a3e0"
      },
      "source": [
        "'''\n",
        "import pickle\n",
        "import pandas as pd\n",
        "\n",
        "tr = pd.read_pickle(save_path / 'train.pkl')\n",
        "val = pd.read_pickle(save_path / 'valid.pkl')\n",
        "test = pd.read_pickle(save_path / 'test.pkl')\n",
        "'''"
      ],
      "execution_count": 68,
      "outputs": [
        {
          "output_type": "execute_result",
          "data": {
            "application/vnd.google.colaboratory.intrinsic+json": {
              "type": "string"
            },
            "text/plain": [
              "\"\\nimport pickle\\nimport pandas as pd\\n\\ntr = pd.read_pickle(save_path / 'train.pkl')\\nval = pd.read_pickle(save_path / 'valid.pkl')\\ntest = pd.read_pickle(save_path / 'test.pkl')\\n\""
            ]
          },
          "metadata": {},
          "execution_count": 68
        }
      ]
    },
    {
      "cell_type": "code",
      "metadata": {
        "id": "adpUUmRJ2H2B"
      },
      "source": [
        ""
      ],
      "execution_count": 68,
      "outputs": []
    },
    {
      "cell_type": "code",
      "metadata": {
        "id": "c9QjpejJr6XL"
      },
      "source": [
        "class SessionDataset:\n",
        "    \"\"\"Credit to yhs-968/pyGRU4REC.\"\"\"\n",
        "\n",
        "    def __init__(self, data):\n",
        "        self.df = data\n",
        "        self.click_offsets = self.get_click_offsets()\n",
        "        self.session_idx = np.arange(self.df['SessionId'].nunique())  # indexing to SessionId\n",
        "\n",
        "    def get_click_offsets(self):\n",
        "        \"\"\"\n",
        "        Return the indexes of the first click of each session IDs,\n",
        "        \"\"\"\n",
        "        offsets = np.zeros(self.df['SessionId'].nunique() + 1, dtype=np.int64)\n",
        "        offsets[1:] = self.df.groupby('SessionId').size().cumsum()\n",
        "        return offsets"
      ],
      "execution_count": 111,
      "outputs": []
    },
    {
      "cell_type": "code",
      "metadata": {
        "id": "ItcJqRler6e3"
      },
      "source": [
        ""
      ],
      "execution_count": 69,
      "outputs": []
    },
    {
      "cell_type": "code",
      "metadata": {
        "colab": {
          "base_uri": "https://localhost:8080/"
        },
        "id": "nfirsax3RTqe",
        "outputId": "df91397e-47ae-4534-a6f9-d0aef6d97c0f"
      },
      "source": [
        "print(len(tr.groupby('SessionId').size().cumsum()))\n",
        "print(tr['SessionId'].nunique())"
      ],
      "execution_count": 112,
      "outputs": [
        {
          "output_type": "stream",
          "name": "stdout",
          "text": [
            "1655\n",
            "1655\n"
          ]
        }
      ]
    },
    {
      "cell_type": "code",
      "metadata": {
        "id": "9UJIZQ_Kr6hK"
      },
      "source": [
        "class SessionDataLoader:\n",
        "    \"\"\"Credit to yhs-968/pyGRU4REC.\"\"\"\n",
        "\n",
        "    def __init__(self, dataset: SessionDataset, batch_size=64):\n",
        "        self.dataset = dataset\n",
        "        self.batch_size = batch_size\n",
        "\n",
        "    def __iter__(self):\n",
        "        \"\"\" Returns the iterator for producing session-parallel training mini-batches.\n",
        "        Yields:\n",
        "            input (B,):  Item indices that will be encoded as one-hot vectors later.\n",
        "            target (B,): a Variable that stores the target item indices\n",
        "            masks: Numpy array indicating the positions of the sessions to be terminated\n",
        "        \"\"\"\n",
        "\n",
        "        start, end, mask, last_session, finished = self.initialize()  # initialize 메소드에서 확인해주세요.\n",
        "        \"\"\"\n",
        "        start : Index Where Session Start\n",
        "        end : Index Where Session End\n",
        "        mask : indicator for the sessions to be terminated\n",
        "        \"\"\"\n",
        "\n",
        "        while not finished:\n",
        "            min_len = (end - start).min() - 1  # Shortest Length Among Sessions\n",
        "            for i in range(min_len):\n",
        "                # Build inputs & targets\n",
        "                inp = self.dataset.df['item_idx'].values[start + i]\n",
        "                target = self.dataset.df['item_idx'].values[start + i + 1]\n",
        "                yield inp, target, mask\n",
        "\n",
        "            start, end, mask, last_session, finished = self.update_status(start, end, min_len, last_session, finished)\n",
        "\n",
        "    def initialize(self):\n",
        "        first_iters = np.arange(self.batch_size)    # 첫 배치에 사용할 세션 Index를 가져옵니다.\n",
        "        last_session = self.batch_size - 1    # 마지막으로 다루고 있는 세션 Index를 저장해둡니다.\n",
        "        start = self.dataset.click_offsets[self.dataset.session_idx[first_iters]]       # data 상에서 session이 시작된 위치를 가져옵니다.\n",
        "        end = self.dataset.click_offsets[self.dataset.session_idx[first_iters] + 1]  # session이 끝난 위치 바로 다음 위치를 가져옵니다.\n",
        "        mask = np.array([])   # session의 모든 아이템을 다 돌은 경우 mask에 추가해줄 것입니다.\n",
        "        finished = False         # data를 전부 돌았는지 기록하기 위한 변수입니다.\n",
        "        return start, end, mask, last_session, finished\n",
        "\n",
        "    def update_status(self, start: np.ndarray, end: np.ndarray, min_len: int, last_session: int, finished: bool):  \n",
        "        # 다음 배치 데이터를 생성하기 위해 상태를 update합니다.\n",
        "        \n",
        "        start += min_len   # __iter__에서 min_len 만큼 for문을 돌았으므로 start를 min_len 만큼 더해줍니다.\n",
        "        mask = np.arange(self.batch_size)[(end - start) == 1]  \n",
        "        # end는 다음 세션이 시작되는 위치인데 start와 한 칸 차이난다는 것은 session이 끝났다는 뜻입니다. mask에 기록해줍니다.\n",
        "\n",
        "        for i, idx in enumerate(mask, start=1):  # mask에 추가된 세션 개수만큼 새로운 세션을 돌것입니다.\n",
        "            new_session = last_session + i  \n",
        "            if new_session > self.dataset.session_idx[-1]:  # 만약 새로운 세션이 마지막 세션 index보다 크다면 모든 학습데이터를 돈 것입니다.\n",
        "                finished = True\n",
        "                break\n",
        "            # update the next starting/ending point\n",
        "            start[idx] = self.dataset.click_offsets[self.dataset.session_idx[new_session]]     # 종료된 세션 대신 새로운 세션의 시작점을 기록합니다.\n",
        "            end[idx] = self.dataset.click_offsets[self.dataset.session_idx[new_session] + 1]\n",
        "\n",
        "        last_session += len(mask)  # 마지막 세션의 위치를 기록해둡니다.\n",
        "        return start, end, mask, last_session, finished"
      ],
      "execution_count": 113,
      "outputs": []
    },
    {
      "cell_type": "code",
      "metadata": {
        "id": "cSzngOqJr6jq"
      },
      "source": [
        "\n"
      ],
      "execution_count": 71,
      "outputs": []
    },
    {
      "cell_type": "code",
      "metadata": {
        "id": "LFgZt4iaxKLz",
        "colab": {
          "base_uri": "https://localhost:8080/"
        },
        "outputId": "742c68f6-7da0-43fb-f840-ecccfbcfe201"
      },
      "source": [
        "len(tr['SessionId'])"
      ],
      "execution_count": 114,
      "outputs": [
        {
          "output_type": "execute_result",
          "data": {
            "text/plain": [
              "25185"
            ]
          },
          "metadata": {},
          "execution_count": 114
        }
      ]
    },
    {
      "cell_type": "code",
      "metadata": {
        "id": "FV1fco6m3Bhu"
      },
      "source": [
        ""
      ],
      "execution_count": 72,
      "outputs": []
    },
    {
      "cell_type": "code",
      "metadata": {
        "id": "OcLNQ8_RxKOY"
      },
      "source": [
        "def mrr_k(pred, truth: int, k: int):\n",
        "    indexing = np.where(pred[:k] == truth)[0]\n",
        "    if len(indexing) > 0:\n",
        "        return 1 / (indexing[0] + 1)\n",
        "    else:\n",
        "        return 0\n",
        "\n",
        "\n",
        "def recall_k(pred, truth: int, k: int) -> int:\n",
        "    answer = truth in pred[:k]\n",
        "    return int(answer)"
      ],
      "execution_count": 115,
      "outputs": []
    },
    {
      "cell_type": "code",
      "metadata": {
        "id": "YKWvJsunxKS8"
      },
      "source": [
        "import numpy as np\n",
        "import tensorflow as tf\n",
        "from tensorflow.keras.layers import Input, Dense, Dropout, GRU\n",
        "from tensorflow.keras.losses import categorical_crossentropy\n",
        "from tensorflow.keras.models import Model\n",
        "from tensorflow.keras.optimizers import Adam\n",
        "from tensorflow.keras.utils import to_categorical\n",
        "from tqdm import tqdm"
      ],
      "execution_count": 116,
      "outputs": []
    },
    {
      "cell_type": "code",
      "metadata": {
        "id": "UPXBwuT9xKXx"
      },
      "source": [
        "def create_model(args):\n",
        "    inputs = Input(batch_shape=(args.batch_size, 1, args.num_items))\n",
        "    gru, _ = GRU(args.hsz, stateful=True, return_state=True, name='GRU')(inputs)\n",
        "    dropout = Dropout(args.drop_rate)(gru)\n",
        "    predictions = Dense(args.num_items, activation='softmax')(dropout)\n",
        "    model = Model(inputs=inputs, outputs=[predictions])\n",
        "    model.compile(loss=categorical_crossentropy, optimizer=Adam(args.lr), metrics=['accuracy'])\n",
        "    model.summary()\n",
        "    return model"
      ],
      "execution_count": 117,
      "outputs": []
    },
    {
      "cell_type": "code",
      "metadata": {
        "id": "PNtN3jkkxKaI"
      },
      "source": [
        "class Args:\n",
        "    def __init__(self, tr, val, test, batch_size, hsz, drop_rate, lr, epochs, k):\n",
        "        self.tr = tr\n",
        "        self.val = val\n",
        "        self.test = test\n",
        "        self.num_items = tr['ItemId'].nunique()\n",
        "        self.num_sessions = tr['SessionId'].nunique()\n",
        "        self.batch_size = batch_size\n",
        "        self.hsz = hsz\n",
        "        self.drop_rate = drop_rate\n",
        "        self.lr = lr\n",
        "        self.epochs = epochs\n",
        "        self.k = k\n",
        "\n",
        "args = Args(tr, val, test, batch_size=32, hsz=50, drop_rate=0.1, lr=0.001, epochs=100, k=21)"
      ],
      "execution_count": 118,
      "outputs": []
    },
    {
      "cell_type": "code",
      "metadata": {
        "id": "xXFt68f-xt4g"
      },
      "source": [
        "# train 셋으로 학습하면서 valid 셋으로 검증합니다.\n",
        "def train_model(model, args):\n",
        "    train_dataset = SessionDataset(args.tr)\n",
        "    train_loader = SessionDataLoader(train_dataset, batch_size=args.batch_size)\n",
        "\n",
        "    for epoch in range(1, args.epochs + 1):\n",
        "        total_step = len(args.tr) - args.tr['SessionId'].nunique()\n",
        "        tr_loader = tqdm(train_loader, total=total_step // args.batch_size, desc='Train', mininterval=1)\n",
        "        for feat, target, mask in tr_loader:\n",
        "            reset_hidden_states(model, mask)  # 종료된 session은 hidden_state를 초기화합니다. 아래 메서드에서 확인해주세요.\n",
        "\n",
        "            input_ohe = to_categorical(feat, num_classes=args.num_items)\n",
        "            input_ohe = np.expand_dims(input_ohe, axis=1)\n",
        "            target_ohe = to_categorical(target, num_classes=args.num_items)\n",
        "\n",
        "            result = model.train_on_batch(input_ohe, target_ohe)\n",
        "            tr_loader.set_postfix(train_loss=result[0], accuracy = result[1])\n",
        "\n",
        "       # val_recall, val_mrr = get_metrics(args.val, model, args, args.k)  # valid set에 대해 검증합니다.\n",
        "\n",
        "        #print(f\"\\t - Recall@{args.k} epoch {epoch}: {val_recall:3f}\")\n",
        "        #print(f\"\\t - MRR@{args.k}    epoch {epoch}: {val_mrr:3f}\\n\")\n",
        "\n",
        "\n",
        "def reset_hidden_states(model, mask):\n",
        "    gru_layer = model.get_layer(name='GRU')  # model에서 gru layer를 가져옵니다.\n",
        "    hidden_states = gru_layer.states[0].numpy()  # gru_layer의 parameter를 가져옵니다.\n",
        "    for elt in mask:  # mask된 인덱스 즉, 종료된 세션의 인덱스를 돌면서\n",
        "        hidden_states[elt, :] = 0  # parameter를 초기화 합니다.\n",
        "    gru_layer.reset_states(states=hidden_states)\n",
        "\n",
        "\n",
        "def get_metrics(data, model, args, k: int):  # valid셋과 test셋을 평가하는 코드입니다. \n",
        "                                             # train과 거의 같지만 mrr, recall을 구하는 라인이 있습니다.\n",
        "    dataset = SessionDataset(data)\n",
        "    loader = SessionDataLoader(dataset, batch_size=args.batch_size)\n",
        "    recall_list, mrr_list = [], []\n",
        "\n",
        "    total_step = len(data) - data['SessionId'].nunique()\n",
        "    for inputs, label, mask in tqdm(loader, total=total_step // args.batch_size, desc='Evaluation', mininterval=1):\n",
        "        reset_hidden_states(model, mask)\n",
        "        input_ohe = to_categorical(inputs, num_classes=args.num_items)\n",
        "        input_ohe = np.expand_dims(input_ohe, axis=1)\n",
        "\n",
        "        pred = model.predict(input_ohe, batch_size=args.batch_size)\n",
        "        pred_arg = tf.argsort(pred, direction='DESCENDING')  # softmax 값이 큰 순서대로 sorting 합니다.\n",
        "\n",
        "        length = len(inputs)\n",
        "        recall_list.extend([recall_k(pred_arg[i], label[i], k) for i in range(length)])\n",
        "        mrr_list.extend([mrr_k(pred_arg[i], label[i], k) for i in range(length)])\n",
        "\n",
        "    recall, mrr = np.mean(recall_list), np.mean(mrr_list)\n",
        "    return recall, mrr"
      ],
      "execution_count": 119,
      "outputs": []
    },
    {
      "cell_type": "code",
      "metadata": {
        "colab": {
          "base_uri": "https://localhost:8080/"
        },
        "id": "QV9az8tMxKcg",
        "outputId": "219041d6-e420-4e0f-d6f9-8b5802d42818"
      },
      "source": [
        "with tf.device(\"/device:GPU:0\"):\n",
        "  #model = create_model(args)\n",
        "  train_model(model, args)\n",
        "\n"
      ],
      "execution_count": 122,
      "outputs": [
        {
          "output_type": "stream",
          "name": "stderr",
          "text": [
            "Train:  95%|█████████▍| 698/735 [00:10<00:00, 66.30it/s, accuracy=0.656, train_loss=1.15]\n",
            "Train:  95%|█████████▍| 698/735 [00:10<00:00, 65.72it/s, accuracy=0.719, train_loss=1.08]\n",
            "Train:  95%|█████████▍| 698/735 [00:10<00:00, 66.93it/s, accuracy=0.625, train_loss=1.46]\n",
            "Train:  95%|█████████▍| 698/735 [00:10<00:00, 66.34it/s, accuracy=0.688, train_loss=1.16]\n",
            "Train:  95%|█████████▍| 698/735 [00:10<00:00, 66.16it/s, accuracy=0.688, train_loss=0.876]\n",
            "Train:  95%|█████████▍| 698/735 [00:10<00:00, 66.12it/s, accuracy=0.688, train_loss=1.05]\n",
            "Train:  95%|█████████▍| 698/735 [00:10<00:00, 65.69it/s, accuracy=0.656, train_loss=0.992]\n",
            "Train:  95%|█████████▍| 698/735 [00:10<00:00, 65.38it/s, accuracy=0.844, train_loss=0.948]\n",
            "Train:  95%|█████████▍| 698/735 [00:10<00:00, 65.77it/s, accuracy=0.719, train_loss=1.08]\n",
            "Train:  95%|█████████▍| 698/735 [00:10<00:00, 66.46it/s, accuracy=0.719, train_loss=0.998]\n",
            "Train:  95%|█████████▍| 698/735 [00:10<00:00, 65.81it/s, accuracy=0.531, train_loss=1.72]\n",
            "Train:  95%|█████████▍| 698/735 [00:10<00:00, 65.62it/s, accuracy=0.719, train_loss=0.875]\n",
            "Train:  95%|█████████▍| 698/735 [00:10<00:00, 66.60it/s, accuracy=0.688, train_loss=1.19]\n",
            "Train:  95%|█████████▍| 698/735 [00:10<00:00, 65.58it/s, accuracy=0.75, train_loss=0.914]\n",
            "Train:  95%|█████████▍| 698/735 [00:10<00:00, 63.93it/s, accuracy=0.656, train_loss=1.2]\n",
            "Train:  95%|█████████▍| 698/735 [00:10<00:00, 64.79it/s, accuracy=0.719, train_loss=1.06]\n",
            "Train:  95%|█████████▍| 698/735 [00:10<00:00, 65.54it/s, accuracy=0.781, train_loss=0.914]\n",
            "Train:  95%|█████████▍| 698/735 [00:10<00:00, 65.81it/s, accuracy=0.75, train_loss=1.03]\n",
            "Train:  95%|█████████▍| 698/735 [00:10<00:00, 65.67it/s, accuracy=0.688, train_loss=1.05]\n",
            "Train:  95%|█████████▍| 698/735 [00:10<00:00, 63.52it/s, accuracy=0.625, train_loss=1.25]\n",
            "Train:  95%|█████████▍| 698/735 [00:10<00:00, 64.15it/s, accuracy=0.656, train_loss=1.29]\n",
            "Train:  95%|█████████▍| 698/735 [00:10<00:00, 64.40it/s, accuracy=0.719, train_loss=1.19]\n",
            "Train:  95%|█████████▍| 698/735 [00:10<00:00, 63.72it/s, accuracy=0.594, train_loss=1.53]\n",
            "Train:  95%|█████████▍| 698/735 [00:10<00:00, 64.61it/s, accuracy=0.75, train_loss=1.05]\n",
            "Train:  95%|█████████▍| 698/735 [00:10<00:00, 65.11it/s, accuracy=0.656, train_loss=1.18]\n",
            "Train:  95%|█████████▍| 698/735 [00:10<00:00, 64.76it/s, accuracy=0.656, train_loss=1.13]\n",
            "Train:  95%|█████████▍| 698/735 [00:10<00:00, 65.77it/s, accuracy=0.656, train_loss=1.17]\n",
            "Train:  95%|█████████▍| 698/735 [00:10<00:00, 64.73it/s, accuracy=0.719, train_loss=0.847]\n",
            "Train:  95%|█████████▍| 698/735 [00:10<00:00, 64.17it/s, accuracy=0.625, train_loss=1.4]\n",
            "Train:  95%|█████████▍| 698/735 [00:10<00:00, 64.55it/s, accuracy=0.656, train_loss=1.22]\n",
            "Train:  95%|█████████▍| 698/735 [00:10<00:00, 64.19it/s, accuracy=0.594, train_loss=1.13]\n",
            "Train:  95%|█████████▍| 698/735 [00:10<00:00, 63.97it/s, accuracy=0.844, train_loss=1.06]\n",
            "Train:  95%|█████████▍| 698/735 [00:10<00:00, 63.81it/s, accuracy=0.594, train_loss=1.31]\n",
            "Train:  95%|█████████▍| 698/735 [00:11<00:00, 63.20it/s, accuracy=0.594, train_loss=1.34]\n",
            "Train:  95%|█████████▍| 698/735 [00:10<00:00, 64.24it/s, accuracy=0.75, train_loss=1.08]\n",
            "Train:  95%|█████████▍| 698/735 [00:10<00:00, 64.82it/s, accuracy=0.688, train_loss=1.13]\n",
            "Train:  95%|█████████▍| 698/735 [00:10<00:00, 64.80it/s, accuracy=0.656, train_loss=1.1]\n",
            "Train:  95%|█████████▍| 698/735 [00:10<00:00, 64.92it/s, accuracy=0.75, train_loss=0.817]\n",
            "Train:  95%|█████████▍| 698/735 [00:10<00:00, 64.60it/s, accuracy=0.688, train_loss=1]\n",
            "Train:  95%|█████████▍| 698/735 [00:10<00:00, 64.17it/s, accuracy=0.75, train_loss=1.09]\n",
            "Train:  95%|█████████▍| 698/735 [00:10<00:00, 64.86it/s, accuracy=0.75, train_loss=0.892]\n",
            "Train:  95%|█████████▍| 698/735 [00:10<00:00, 65.29it/s, accuracy=0.781, train_loss=0.861]\n",
            "Train:  95%|█████████▍| 698/735 [00:10<00:00, 64.47it/s, accuracy=0.688, train_loss=0.979]\n",
            "Train:  95%|█████████▍| 698/735 [00:10<00:00, 64.43it/s, accuracy=0.656, train_loss=1.07]\n",
            "Train:  95%|█████████▍| 698/735 [00:10<00:00, 64.38it/s, accuracy=0.656, train_loss=1.26]\n",
            "Train:  95%|█████████▍| 698/735 [00:10<00:00, 65.15it/s, accuracy=0.719, train_loss=1.07]\n",
            "Train:  95%|█████████▍| 698/735 [00:10<00:00, 65.28it/s, accuracy=0.531, train_loss=1.18]\n",
            "Train:  95%|█████████▍| 698/735 [00:10<00:00, 64.38it/s, accuracy=0.719, train_loss=1.05]\n",
            "Train:  95%|█████████▍| 698/735 [00:10<00:00, 63.47it/s, accuracy=0.562, train_loss=1.15]\n",
            "Train:  95%|█████████▍| 698/735 [00:10<00:00, 63.73it/s, accuracy=0.656, train_loss=1.16]\n",
            "Train:  95%|█████████▍| 698/735 [00:11<00:00, 62.40it/s, accuracy=0.75, train_loss=0.995]\n",
            "Train:  95%|█████████▍| 698/735 [00:10<00:00, 63.71it/s, accuracy=0.656, train_loss=1.27]\n",
            "Train:  95%|█████████▍| 698/735 [00:10<00:00, 64.55it/s, accuracy=0.719, train_loss=0.807]\n",
            "Train:  95%|█████████▍| 698/735 [00:10<00:00, 64.77it/s, accuracy=0.656, train_loss=1.12]\n",
            "Train:  95%|█████████▍| 698/735 [00:10<00:00, 64.19it/s, accuracy=0.844, train_loss=0.73]\n",
            "Train:  95%|█████████▍| 698/735 [00:11<00:00, 63.23it/s, accuracy=0.719, train_loss=1.21]\n",
            "Train:  95%|█████████▍| 698/735 [00:10<00:00, 64.53it/s, accuracy=0.75, train_loss=1.03]\n",
            "Train:  95%|█████████▍| 698/735 [00:10<00:00, 63.70it/s, accuracy=0.625, train_loss=1.17]\n",
            "Train:  95%|█████████▍| 698/735 [00:10<00:00, 64.54it/s, accuracy=0.688, train_loss=0.772]\n",
            "Train:  95%|█████████▍| 698/735 [00:10<00:00, 64.40it/s, accuracy=0.781, train_loss=0.896]\n",
            "Train:  95%|█████████▍| 698/735 [00:10<00:00, 64.40it/s, accuracy=0.781, train_loss=0.926]\n",
            "Train:  95%|█████████▍| 698/735 [00:10<00:00, 64.82it/s, accuracy=0.594, train_loss=1.33]\n",
            "Train:  95%|█████████▍| 698/735 [00:10<00:00, 64.95it/s, accuracy=0.75, train_loss=1.04]\n",
            "Train:  95%|█████████▍| 698/735 [00:10<00:00, 63.74it/s, accuracy=0.781, train_loss=0.809]\n",
            "Train:  95%|█████████▍| 698/735 [00:10<00:00, 63.98it/s, accuracy=0.719, train_loss=0.896]\n",
            "Train:  95%|█████████▍| 698/735 [00:10<00:00, 63.97it/s, accuracy=0.625, train_loss=1.23]\n",
            "Train:  95%|█████████▍| 698/735 [00:10<00:00, 64.00it/s, accuracy=0.625, train_loss=1.02]\n",
            "Train:  95%|█████████▍| 698/735 [00:11<00:00, 63.25it/s, accuracy=0.719, train_loss=1.06]\n",
            "Train:  95%|█████████▍| 698/735 [00:10<00:00, 64.02it/s, accuracy=0.75, train_loss=0.872]\n",
            "Train:  95%|█████████▍| 698/735 [00:11<00:00, 63.23it/s, accuracy=0.719, train_loss=0.93]\n",
            "Train:  95%|█████████▍| 698/735 [00:10<00:00, 63.65it/s, accuracy=0.688, train_loss=0.966]\n",
            "Train:  95%|█████████▍| 698/735 [00:11<00:00, 62.69it/s, accuracy=0.688, train_loss=1.24]\n",
            "Train:  95%|█████████▍| 698/735 [00:10<00:00, 63.52it/s, accuracy=0.594, train_loss=1.11]\n",
            "Train:  95%|█████████▍| 698/735 [00:11<00:00, 63.04it/s, accuracy=0.562, train_loss=1.22]\n",
            "Train:  95%|█████████▍| 698/735 [00:10<00:00, 63.69it/s, accuracy=0.719, train_loss=0.835]\n",
            "Train:  95%|█████████▍| 698/735 [00:10<00:00, 63.59it/s, accuracy=0.688, train_loss=1.17]\n",
            "Train:  95%|█████████▍| 698/735 [00:11<00:00, 62.98it/s, accuracy=0.625, train_loss=1.41]\n",
            "Train:  95%|█████████▍| 698/735 [00:11<00:00, 62.07it/s, accuracy=0.656, train_loss=1.34]\n",
            "Train:  95%|█████████▍| 698/735 [00:11<00:00, 61.73it/s, accuracy=0.688, train_loss=1.03]\n",
            "Train:  95%|█████████▍| 698/735 [00:11<00:00, 61.75it/s, accuracy=0.688, train_loss=1.25]\n",
            "Train:  95%|█████████▍| 698/735 [00:11<00:00, 62.69it/s, accuracy=0.781, train_loss=0.843]\n",
            "Train:  95%|█████████▍| 698/735 [00:11<00:00, 62.97it/s, accuracy=0.781, train_loss=0.812]\n",
            "Train:  95%|█████████▍| 698/735 [00:11<00:00, 63.05it/s, accuracy=0.719, train_loss=0.891]\n",
            "Train:  95%|█████████▍| 698/735 [00:11<00:00, 62.56it/s, accuracy=0.719, train_loss=0.823]\n",
            "Train:  95%|█████████▍| 698/735 [00:11<00:00, 63.43it/s, accuracy=0.656, train_loss=1.27]\n",
            "Train:  95%|█████████▍| 698/735 [00:11<00:00, 62.67it/s, accuracy=0.656, train_loss=1.09]\n",
            "Train:  95%|█████████▍| 698/735 [00:11<00:00, 62.18it/s, accuracy=0.719, train_loss=1.11]\n",
            "Train:  95%|█████████▍| 698/735 [00:11<00:00, 62.48it/s, accuracy=0.781, train_loss=0.908]\n",
            "Train:  95%|█████████▍| 698/735 [00:11<00:00, 62.64it/s, accuracy=0.75, train_loss=1.09]\n",
            "Train:  95%|█████████▍| 698/735 [00:11<00:00, 62.61it/s, accuracy=0.656, train_loss=1.28]\n",
            "Train:  95%|█████████▍| 698/735 [00:11<00:00, 61.65it/s, accuracy=0.656, train_loss=1.11]\n",
            "Train:  95%|█████████▍| 698/735 [00:11<00:00, 63.02it/s, accuracy=0.781, train_loss=0.839]\n",
            "Train:  95%|█████████▍| 698/735 [00:11<00:00, 61.30it/s, accuracy=0.719, train_loss=0.961]\n",
            "Train:  95%|█████████▍| 698/735 [00:11<00:00, 61.99it/s, accuracy=0.688, train_loss=1.02]\n",
            "Train:  95%|█████████▍| 698/735 [00:11<00:00, 62.55it/s, accuracy=0.719, train_loss=1.1]\n",
            "Train:  95%|█████████▍| 698/735 [00:11<00:00, 62.99it/s, accuracy=0.688, train_loss=1.09]\n",
            "Train:  95%|█████████▍| 698/735 [00:11<00:00, 62.81it/s, accuracy=0.688, train_loss=1.36]\n",
            "Train:  95%|█████████▍| 698/735 [00:11<00:00, 62.83it/s, accuracy=0.688, train_loss=0.909]\n",
            "Train:  95%|█████████▍| 698/735 [00:11<00:00, 61.56it/s, accuracy=0.781, train_loss=0.877]\n",
            "Train:  95%|█████████▍| 698/735 [00:11<00:00, 62.38it/s, accuracy=0.719, train_loss=1.18]\n",
            "Train:  95%|█████████▍| 698/735 [00:11<00:00, 62.96it/s, accuracy=0.688, train_loss=1.04]\n",
            "Train:  95%|█████████▍| 698/735 [00:11<00:00, 62.83it/s, accuracy=0.719, train_loss=1.38]\n",
            "Train:  95%|█████████▍| 698/735 [00:11<00:00, 62.48it/s, accuracy=0.781, train_loss=0.807]\n",
            "Train:  95%|█████████▍| 698/735 [00:11<00:00, 62.89it/s, accuracy=0.781, train_loss=0.801]\n",
            "Train:  95%|█████████▍| 698/735 [00:11<00:00, 61.74it/s, accuracy=0.875, train_loss=0.714]\n",
            "Train:  95%|█████████▍| 698/735 [00:11<00:00, 62.54it/s, accuracy=0.719, train_loss=0.701]\n",
            "Train:  95%|█████████▍| 698/735 [00:11<00:00, 61.78it/s, accuracy=0.781, train_loss=0.771]\n",
            "Train:  95%|█████████▍| 698/735 [00:11<00:00, 61.30it/s, accuracy=0.75, train_loss=1.01]\n",
            "Train:  95%|█████████▍| 698/735 [00:11<00:00, 61.75it/s, accuracy=0.688, train_loss=1.22]\n",
            "Train:  95%|█████████▍| 698/735 [00:11<00:00, 62.19it/s, accuracy=0.719, train_loss=1.08]\n",
            "Train:  95%|█████████▍| 698/735 [00:11<00:00, 60.98it/s, accuracy=0.75, train_loss=1.02]\n",
            "Train:  95%|█████████▍| 698/735 [00:11<00:00, 61.00it/s, accuracy=0.656, train_loss=1.05]\n",
            "Train:  95%|█████████▍| 698/735 [00:11<00:00, 61.05it/s, accuracy=0.719, train_loss=0.872]\n",
            "Train:  95%|█████████▍| 698/735 [00:11<00:00, 60.65it/s, accuracy=0.625, train_loss=0.978]\n",
            "Train:  95%|█████████▍| 698/735 [00:11<00:00, 61.35it/s, accuracy=0.656, train_loss=1.07]\n",
            "Train:  95%|█████████▍| 698/735 [00:11<00:00, 61.14it/s, accuracy=0.812, train_loss=0.892]\n",
            "Train:  95%|█████████▍| 698/735 [00:11<00:00, 60.73it/s, accuracy=0.75, train_loss=1.02]\n",
            "Train:  95%|█████████▍| 698/735 [00:11<00:00, 60.94it/s, accuracy=0.781, train_loss=0.851]\n",
            "Train:  95%|█████████▍| 698/735 [00:11<00:00, 62.67it/s, accuracy=0.75, train_loss=0.826]\n",
            "Train:  95%|█████████▍| 698/735 [00:11<00:00, 61.80it/s, accuracy=0.719, train_loss=1.26]\n",
            "Train:  95%|█████████▍| 698/735 [00:11<00:00, 62.20it/s, accuracy=0.688, train_loss=1.14]\n",
            "Train:  95%|█████████▍| 698/735 [00:11<00:00, 59.96it/s, accuracy=0.688, train_loss=0.866]\n",
            "Train:  95%|█████████▍| 698/735 [00:11<00:00, 61.76it/s, accuracy=0.625, train_loss=1.4]\n",
            "Train:  95%|█████████▍| 698/735 [00:11<00:00, 61.48it/s, accuracy=0.781, train_loss=0.784]\n",
            "Train:  95%|█████████▍| 698/735 [00:11<00:00, 60.53it/s, accuracy=0.781, train_loss=0.92]\n",
            "Train:  95%|█████████▍| 698/735 [00:11<00:00, 60.61it/s, accuracy=0.719, train_loss=1.05]\n",
            "Train:  95%|█████████▍| 698/735 [00:11<00:00, 61.38it/s, accuracy=0.719, train_loss=0.822]\n",
            "Train:  95%|█████████▍| 698/735 [00:11<00:00, 62.34it/s, accuracy=0.688, train_loss=0.977]\n",
            "Train:  95%|█████████▍| 698/735 [00:11<00:00, 61.16it/s, accuracy=0.75, train_loss=0.964]\n",
            "Train:  95%|█████████▍| 698/735 [00:11<00:00, 61.39it/s, accuracy=0.656, train_loss=0.887]\n",
            "Train:  95%|█████████▍| 698/735 [00:11<00:00, 62.02it/s, accuracy=0.688, train_loss=0.91]\n",
            "Train:  95%|█████████▍| 698/735 [00:11<00:00, 60.31it/s, accuracy=0.812, train_loss=0.703]\n",
            "Train:  95%|█████████▍| 698/735 [00:11<00:00, 60.17it/s, accuracy=0.688, train_loss=1.11]\n",
            "Train:  95%|█████████▍| 698/735 [00:11<00:00, 61.11it/s, accuracy=0.812, train_loss=0.663]\n",
            "Train:  95%|█████████▍| 698/735 [00:11<00:00, 60.69it/s, accuracy=0.719, train_loss=0.988]\n",
            "Train:  95%|█████████▍| 698/735 [00:11<00:00, 59.71it/s, accuracy=0.75, train_loss=1.09]\n",
            "Train:  95%|█████████▍| 698/735 [00:11<00:00, 60.78it/s, accuracy=0.656, train_loss=1.25]\n",
            "Train:  95%|█████████▍| 698/735 [00:11<00:00, 59.85it/s, accuracy=0.75, train_loss=1.01]\n",
            "Train:  95%|█████████▍| 698/735 [00:11<00:00, 60.86it/s, accuracy=0.75, train_loss=0.826]\n",
            "Train:  95%|█████████▍| 698/735 [00:11<00:00, 60.79it/s, accuracy=0.688, train_loss=0.959]\n",
            "Train:  95%|█████████▍| 698/735 [00:11<00:00, 61.50it/s, accuracy=0.719, train_loss=0.933]\n",
            "Train:  95%|█████████▍| 698/735 [00:11<00:00, 60.42it/s, accuracy=0.688, train_loss=0.975]\n",
            "Train:  95%|█████████▍| 698/735 [00:11<00:00, 60.95it/s, accuracy=0.656, train_loss=0.959]\n",
            "Train:  95%|█████████▍| 698/735 [00:11<00:00, 61.03it/s, accuracy=0.781, train_loss=0.705]\n",
            "Train:  95%|█████████▍| 698/735 [00:11<00:00, 61.04it/s, accuracy=0.688, train_loss=1.05]\n",
            "Train:  95%|█████████▍| 698/735 [00:11<00:00, 60.57it/s, accuracy=0.875, train_loss=0.581]\n",
            "Train:  95%|█████████▍| 698/735 [00:11<00:00, 61.66it/s, accuracy=0.656, train_loss=0.956]\n",
            "Train:  95%|█████████▍| 698/735 [00:11<00:00, 61.22it/s, accuracy=0.719, train_loss=0.955]\n",
            "Train:  95%|█████████▍| 698/735 [00:11<00:00, 60.91it/s, accuracy=0.719, train_loss=0.712]\n",
            "Train:  95%|█████████▍| 698/735 [00:11<00:00, 60.74it/s, accuracy=0.781, train_loss=0.87]\n",
            "Train:  95%|█████████▍| 698/735 [00:11<00:00, 61.43it/s, accuracy=0.625, train_loss=1.11]\n",
            "Train:  95%|█████████▍| 698/735 [00:11<00:00, 61.29it/s, accuracy=0.844, train_loss=0.708]\n",
            "Train:  95%|█████████▍| 698/735 [00:11<00:00, 61.74it/s, accuracy=0.719, train_loss=1.08]\n",
            "Train:  95%|█████████▍| 698/735 [00:11<00:00, 60.67it/s, accuracy=0.75, train_loss=0.764]\n",
            "Train:  95%|█████████▍| 698/735 [00:11<00:00, 60.02it/s, accuracy=0.719, train_loss=1.13]\n",
            "Train:  95%|█████████▍| 698/735 [00:11<00:00, 60.71it/s, accuracy=0.719, train_loss=1.08]\n",
            "Train:  95%|█████████▍| 698/735 [00:11<00:00, 59.42it/s, accuracy=0.719, train_loss=0.943]\n",
            "Train:  95%|█████████▍| 698/735 [00:11<00:00, 60.07it/s, accuracy=0.844, train_loss=0.883]\n",
            "Train:  95%|█████████▍| 698/735 [00:11<00:00, 59.95it/s, accuracy=0.656, train_loss=0.981]\n",
            "Train:  95%|█████████▍| 698/735 [00:11<00:00, 59.87it/s, accuracy=0.781, train_loss=1.06]\n",
            "Train:  95%|█████████▍| 698/735 [00:11<00:00, 59.90it/s, accuracy=0.688, train_loss=1.11]\n",
            "Train:  95%|█████████▍| 698/735 [00:11<00:00, 59.41it/s, accuracy=0.719, train_loss=1.21]\n",
            "Train:  95%|█████████▍| 698/735 [00:11<00:00, 59.25it/s, accuracy=0.656, train_loss=0.967]\n",
            "Train:  95%|█████████▍| 698/735 [00:11<00:00, 60.77it/s, accuracy=0.75, train_loss=0.914]\n",
            "Train:  95%|█████████▍| 698/735 [00:11<00:00, 59.40it/s, accuracy=0.844, train_loss=0.586]\n",
            "Train:  95%|█████████▍| 698/735 [00:11<00:00, 59.74it/s, accuracy=0.688, train_loss=1.12]\n",
            "Train:  95%|█████████▍| 698/735 [00:11<00:00, 59.87it/s, accuracy=0.719, train_loss=0.911]\n",
            "Train:  95%|█████████▍| 698/735 [00:11<00:00, 59.46it/s, accuracy=0.688, train_loss=1.13]\n",
            "Train:  95%|█████████▍| 698/735 [00:11<00:00, 60.51it/s, accuracy=0.719, train_loss=1.06]\n",
            "Train:  95%|█████████▍| 698/735 [00:11<00:00, 60.58it/s, accuracy=0.688, train_loss=1.11]\n",
            "Train:  95%|█████████▍| 698/735 [00:11<00:00, 60.85it/s, accuracy=0.656, train_loss=1.12]\n",
            "Train:  95%|█████████▍| 698/735 [00:11<00:00, 59.87it/s, accuracy=0.75, train_loss=0.853]\n",
            "Train:  95%|█████████▍| 698/735 [00:11<00:00, 59.99it/s, accuracy=0.781, train_loss=0.898]\n",
            "Train:  95%|█████████▍| 698/735 [00:11<00:00, 59.58it/s, accuracy=0.781, train_loss=0.684]\n",
            "Train:  95%|█████████▍| 698/735 [00:11<00:00, 59.30it/s, accuracy=0.625, train_loss=1.18]\n",
            "Train:  95%|█████████▍| 698/735 [00:11<00:00, 60.19it/s, accuracy=0.781, train_loss=0.688]\n",
            "Train:  95%|█████████▍| 698/735 [00:11<00:00, 59.95it/s, accuracy=0.812, train_loss=0.688]\n",
            "Train:  95%|█████████▍| 698/735 [00:11<00:00, 60.24it/s, accuracy=0.719, train_loss=1.12]\n",
            "Train:  95%|█████████▍| 698/735 [00:11<00:00, 59.50it/s, accuracy=0.656, train_loss=0.965]\n",
            "Train:  95%|█████████▍| 698/735 [00:11<00:00, 59.63it/s, accuracy=0.781, train_loss=0.721]\n",
            "Train:  95%|█████████▍| 698/735 [00:11<00:00, 59.99it/s, accuracy=0.781, train_loss=0.996]\n",
            "Train:  95%|█████████▍| 698/735 [00:11<00:00, 59.99it/s, accuracy=0.781, train_loss=0.878]\n",
            "Train:  95%|█████████▍| 698/735 [00:11<00:00, 58.51it/s, accuracy=0.812, train_loss=0.952]\n",
            "Train:  95%|█████████▍| 698/735 [00:11<00:00, 59.09it/s, accuracy=0.75, train_loss=1.01]\n",
            "Train:  95%|█████████▍| 698/735 [00:11<00:00, 59.55it/s, accuracy=0.75, train_loss=0.925]\n",
            "Train:  95%|█████████▍| 698/735 [00:11<00:00, 60.45it/s, accuracy=0.75, train_loss=0.869]\n",
            "Train:  95%|█████████▍| 698/735 [00:11<00:00, 59.30it/s, accuracy=0.719, train_loss=1.01]\n",
            "Train:  95%|█████████▍| 698/735 [00:11<00:00, 59.20it/s, accuracy=0.656, train_loss=1.39]\n",
            "Train:  95%|█████████▍| 698/735 [00:11<00:00, 58.87it/s, accuracy=0.812, train_loss=0.627]\n",
            "Train:  95%|█████████▍| 698/735 [00:11<00:00, 60.02it/s, accuracy=0.781, train_loss=0.842]\n",
            "Train:  95%|█████████▍| 698/735 [00:11<00:00, 59.64it/s, accuracy=0.656, train_loss=0.879]\n",
            "Train:  95%|█████████▍| 698/735 [00:11<00:00, 60.22it/s, accuracy=0.688, train_loss=0.939]\n",
            "Train:  95%|█████████▍| 698/735 [00:11<00:00, 60.92it/s, accuracy=0.812, train_loss=0.69]\n",
            "Train:  95%|█████████▍| 698/735 [00:11<00:00, 59.26it/s, accuracy=0.75, train_loss=1.15]\n",
            "Train:  95%|█████████▍| 698/735 [00:11<00:00, 60.70it/s, accuracy=0.719, train_loss=0.868]\n",
            "Train:  95%|█████████▍| 698/735 [00:11<00:00, 59.67it/s, accuracy=0.781, train_loss=0.789]\n",
            "Train:  95%|█████████▍| 698/735 [00:11<00:00, 59.75it/s, accuracy=0.688, train_loss=1.02]\n",
            "Train:  95%|█████████▍| 698/735 [00:11<00:00, 60.22it/s, accuracy=0.75, train_loss=0.995]\n",
            "Train:  95%|█████████▍| 698/735 [00:11<00:00, 58.81it/s, accuracy=0.75, train_loss=1.01]\n",
            "Train:  95%|█████████▍| 698/735 [00:11<00:00, 60.38it/s, accuracy=0.688, train_loss=1.1]\n"
          ]
        }
      ]
    },
    {
      "cell_type": "code",
      "metadata": {
        "id": "KKQDsLckxKfx",
        "colab": {
          "base_uri": "https://localhost:8080/"
        },
        "outputId": "cabd87ae-cb73-4f02-e6f5-3feb0cc8052c"
      },
      "source": [
        "\n",
        "def test_model(model, args, test):\n",
        "    test_recall, test_mrr = get_metrics(test, model, args, 21)\n",
        "    print(f\"\\t - Recall@{args.k}: {test_recall:3f}\")\n",
        "    print(f\"\\t - MRR@{args.k}: {test_mrr:3f}\\n\")\n",
        "    \n",
        "with tf.device('/device:GPU:0'):\n",
        "  test_model(model, args, test)\n"
      ],
      "execution_count": 123,
      "outputs": [
        {
          "output_type": "stream",
          "name": "stderr",
          "text": [
            "Evaluation:  40%|████      | 36/90 [00:13<00:19,  2.72it/s]"
          ]
        },
        {
          "output_type": "stream",
          "name": "stdout",
          "text": [
            "\t - Recall@21: 0.051215\n",
            "\t - MRR@21: 0.018374\n",
            "\n"
          ]
        },
        {
          "output_type": "stream",
          "name": "stderr",
          "text": [
            "\n"
          ]
        }
      ]
    },
    {
      "cell_type": "code",
      "metadata": {
        "id": "GsctaMaTGHED"
      },
      "source": [
        "'''최동현님 아이디어--------------------------'''"
      ],
      "execution_count": null,
      "outputs": []
    },
    {
      "cell_type": "code",
      "metadata": {
        "id": "ewGfaK92rqKb"
      },
      "source": [
        "'''\n",
        "from multiprocessing import Pool\n",
        "def get_time_differ(UserId):\n",
        "\n",
        "  differs=0\n",
        "  end_idx = 0\n",
        "  for idx,time in enumerate(data[data['UserId']==UserId]['Time'],start=1):\n",
        "    if idx > 1:\n",
        "      differs=time-before_time\n",
        "    else:\n",
        "      before_time=time\n",
        "    end_idx = idx\n",
        "  return differs,end_idx\n",
        "time_differs = Pool(os.cpu_count()).map(get_time_differ,data['UserId'].unique())\n",
        "'''"
      ],
      "execution_count": null,
      "outputs": []
    },
    {
      "cell_type": "code",
      "metadata": {
        "id": "iN4C99vKzsHV"
      },
      "source": [
        "'''\n",
        "from multiprocessing import Pool\n",
        "def get_time_differ(UserId):\n",
        "\n",
        "  differs = data[data['UserId']==UserId]['Time'].iloc[-1]-data[data['UserId']==UserId]['Time'].iloc[0]\n",
        "  end_idx = len(data[data['UserId']==UserId]['Time'])\n",
        "  return differs,end_idx\n",
        "time_differs = Pool(os.cpu_count()).map(get_time_differ,data['UserId'].unique())\n",
        "'''#더 오래걸림 "
      ],
      "execution_count": null,
      "outputs": []
    },
    {
      "cell_type": "code",
      "metadata": {
        "id": "enf1_H3aMPHT"
      },
      "source": [
        "#data['tdiffer'] = data.groupby('UserId')['Time'].diff().fillna(0.0)"
      ],
      "execution_count": null,
      "outputs": []
    },
    {
      "cell_type": "code",
      "metadata": {
        "id": "u0r7xSfnrqNE"
      },
      "source": [
        "'''\n",
        "total_differ = 0\n",
        "total_num = 0\n",
        "for differs, nums in time_differs:\n",
        "  total_differ+=differs\n",
        "  total_num+=nums\n",
        "'''"
      ],
      "execution_count": null,
      "outputs": []
    },
    {
      "cell_type": "code",
      "metadata": {
        "id": "kllGvQBBMRsZ"
      },
      "source": [
        "#avr_time = int(data['tdiffer'].mean())"
      ],
      "execution_count": null,
      "outputs": []
    },
    {
      "cell_type": "code",
      "metadata": {
        "id": "ZQQ5hQbSrqPu"
      },
      "source": [
        "#avr_time = total_differ//total_num"
      ],
      "execution_count": null,
      "outputs": []
    },
    {
      "cell_type": "code",
      "metadata": {
        "id": "uvg377OErqUy"
      },
      "source": [
        "#max_value = len(data)"
      ],
      "execution_count": null,
      "outputs": []
    },
    {
      "cell_type": "code",
      "metadata": {
        "id": "BNRmGGLtrqXx"
      },
      "source": [
        "#avr_time"
      ],
      "execution_count": null,
      "outputs": []
    },
    {
      "cell_type": "code",
      "metadata": {
        "id": "H4uBWF2K1O6t"
      },
      "source": [
        "#max(data.groupby('UserId').size())"
      ],
      "execution_count": null,
      "outputs": []
    },
    {
      "cell_type": "code",
      "metadata": {
        "id": "fbBGDK_S3m70"
      },
      "source": [
        ""
      ],
      "execution_count": null,
      "outputs": []
    },
    {
      "cell_type": "code",
      "metadata": {
        "id": "7XoqikKg1O86"
      },
      "source": [
        "'''\n",
        "def set_session_id(UserId,*,avr_time,siz):\n",
        "\n",
        "  number_session=0\n",
        "  user_session = UserId*siz\n",
        "  for idx, time in enumerate(data[data['UserId']==UserId]['Time']):\n",
        "    data[data['UserId']==UserId][data['Time']==time]['SessionId']=max_value + user_session + number_session\n",
        "    if idx > 0:\n",
        "      if time-before_time >= avr_time:\n",
        "        number_session+=1\n",
        "    before_time = time\n",
        "'''\n",
        "#쓸모없이 김"
      ],
      "execution_count": null,
      "outputs": []
    },
    {
      "cell_type": "code",
      "metadata": {
        "id": "_kwyOWML1PBV"
      },
      "source": [
        "'''\n",
        "from tqdm import tqdm\n",
        "session_number = max_value\n",
        "session_change=0\n",
        "for idx, data_series in tqdm(enumerate(data.iterrows())):\n",
        "  user_id = data_series[1]['UserId']\n",
        "  time = data_series[1]['Time']\n",
        "  if idx >0:\n",
        "    if user_id != before_user_id:\n",
        "      session_number+=1\n",
        "    elif time-before_time>=avr_time:\n",
        "      session_number+=1\n",
        "      session_change+=1\n",
        "  data.iat[idx,4]=session_number\n",
        "  before_user_id=user_id\n",
        "  before_time = time\n",
        "  '''"
      ],
      "execution_count": null,
      "outputs": []
    },
    {
      "cell_type": "code",
      "metadata": {
        "id": "5Cmw82t_HF8g"
      },
      "source": [
        "#print(session_change)  "
      ],
      "execution_count": null,
      "outputs": []
    },
    {
      "cell_type": "code",
      "metadata": {
        "id": "-nGT-8Un1PHv"
      },
      "source": [
        "#data['UserId'].nunique()"
      ],
      "execution_count": null,
      "outputs": []
    },
    {
      "cell_type": "code",
      "metadata": {
        "id": "aBYt4PdH1PKF"
      },
      "source": [
        ""
      ],
      "execution_count": null,
      "outputs": []
    },
    {
      "cell_type": "code",
      "metadata": {
        "id": "3h4TJBNi1PMf"
      },
      "source": [
        ""
      ],
      "execution_count": null,
      "outputs": []
    },
    {
      "cell_type": "code",
      "metadata": {
        "id": "WjVG5p6-1PPH"
      },
      "source": [
        ""
      ],
      "execution_count": null,
      "outputs": []
    },
    {
      "cell_type": "code",
      "metadata": {
        "id": "dUkDdZs5LXBs"
      },
      "source": [
        ""
      ],
      "execution_count": null,
      "outputs": []
    },
    {
      "cell_type": "code",
      "metadata": {
        "id": "0rs2f1fbLXEW"
      },
      "source": [
        ""
      ],
      "execution_count": null,
      "outputs": []
    },
    {
      "cell_type": "code",
      "metadata": {
        "id": "ppumhHpXLXHG"
      },
      "source": [
        ""
      ],
      "execution_count": null,
      "outputs": []
    },
    {
      "cell_type": "code",
      "metadata": {
        "id": "c9PwjoJfLXJP"
      },
      "source": [
        ""
      ],
      "execution_count": null,
      "outputs": []
    },
    {
      "cell_type": "code",
      "metadata": {
        "id": "OZg70-2aLXME"
      },
      "source": [
        ""
      ],
      "execution_count": null,
      "outputs": []
    }
  ]
}